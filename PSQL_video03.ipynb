{
 "cells": [
  {
   "cell_type": "markdown",
   "metadata": {},
   "source": [
    "# `PostgreSQL to Python: Extract  | Seaborn `\n",
    "\n",
    "**<font color=red>Mr Fugu Data Science</font>**\n",
    "\n",
    "# (◕‿◕✿)\n",
    "\n",
    "[Github](https://github.com/MrFuguDataScience) | [Youtube](https://www.youtube.com/channel/UCbni-TDI-Ub8VlGaP8HLTNw/)\n",
    "\n",
    "# Outcome:\n",
    "\n",
    "+ Create a table with (*extract*)\n",
    "+ Bar Plot with Seaborn\n",
    "\n",
    "# Purpose: \n",
    "+ This video will aid in gaining skills creating a table without excel.\n",
    "+ Generate a nested Bar Plot with Seaborn, evaluating sales by month and year"
   ]
  },
  {
   "cell_type": "markdown",
   "metadata": {},
   "source": [
    "<font color=red>To create your `init` file and `config` file go to [my github example](https://github.com/MrFuguDataScience/SendDataFrom-R-Python-to-SQL-PSQL-Mongo/blob/master/HOW%20TO%20SEND%20DATA%20from%20Python%20to%20PSQL.ipynb) this is used for login and hide your credentials.</font>\n",
    "\n",
    "`------------------------------------`"
   ]
  },
  {
   "cell_type": "markdown",
   "metadata": {},
   "source": [
    "If you do not want to create `init` or `config` files: do something similar to this\n",
    "\n",
    "`import psycopg2\n",
    "conn = psycopg2.connect(\"dbname=test user=postgres\") #Connect to an existing database\n",
    "cur = conn.cursor() #Open a cursor to perform database operations`\n",
    "\n",
    "`---------------------------------`"
   ]
  },
  {
   "cell_type": "code",
   "execution_count": 32,
   "metadata": {},
   "outputs": [],
   "source": [
    "import psycopg2             # python->psql connection\n",
    "\n",
    "import pandas as pd         # create dataframes \n",
    "import calendar             # convert int to month\n",
    "import matplotlib.pyplot as plt  # barchar plot\n",
    "import seaborn as sns\n",
    "\n",
    "# Import the 'config' function from the config_user_dta.py file:\n",
    "from config_user_dta import config"
   ]
  },
  {
   "cell_type": "code",
   "execution_count": 33,
   "metadata": {},
   "outputs": [],
   "source": [
    "# Get the config params\n",
    "params_ = config()\n",
    "\n",
    "# Connect to the Postgres_DB:\n",
    "conn = psycopg2.connect(**params_)\n",
    "\n",
    "# Create new_cursor allowing us to write Python to execute PSQL:\n",
    "cur = conn.cursor()\n",
    "\n",
    "conn.autocommit = True  # read documentation understanding when to Use & NOT use (TRUE)"
   ]
  },
  {
   "cell_type": "code",
   "execution_count": 42,
   "metadata": {},
   "outputs": [
    {
     "data": {
      "text/html": [
       "<div>\n",
       "<style scoped>\n",
       "    .dataframe tbody tr th:only-of-type {\n",
       "        vertical-align: middle;\n",
       "    }\n",
       "\n",
       "    .dataframe tbody tr th {\n",
       "        vertical-align: top;\n",
       "    }\n",
       "\n",
       "    .dataframe thead th {\n",
       "        text-align: right;\n",
       "    }\n",
       "</style>\n",
       "<table border=\"1\" class=\"dataframe\">\n",
       "  <thead>\n",
       "    <tr style=\"text-align: right;\">\n",
       "      <th></th>\n",
       "      <th>credit_card</th>\n",
       "      <th>email</th>\n",
       "      <th>first_name</th>\n",
       "      <th>last_name</th>\n",
       "      <th>primary_phone_number</th>\n",
       "    </tr>\n",
       "  </thead>\n",
       "  <tbody>\n",
       "    <tr>\n",
       "      <th>0</th>\n",
       "      <td>5399-3484-4724-7187</td>\n",
       "      <td>gso@qiegan.sqe</td>\n",
       "      <td>Donyell Ann</td>\n",
       "      <td>Ospina</td>\n",
       "      <td>5219459148</td>\n",
       "    </tr>\n",
       "    <tr>\n",
       "      <th>1</th>\n",
       "      <td>1630-5261-6108-7631</td>\n",
       "      <td>xnji@gfruaxqnvm.fha</td>\n",
       "      <td>Bishop</td>\n",
       "      <td>Siyed</td>\n",
       "      <td>4164254716</td>\n",
       "    </tr>\n",
       "    <tr>\n",
       "      <th>2</th>\n",
       "      <td>4435-3866-1076-3595</td>\n",
       "      <td>dvyco@tkzhsop.zxg</td>\n",
       "      <td>Connor</td>\n",
       "      <td>Powers</td>\n",
       "      <td>3627413915</td>\n",
       "    </tr>\n",
       "    <tr>\n",
       "      <th>3</th>\n",
       "      <td>3489-7099-9906-8660</td>\n",
       "      <td>fy@uvfhplatmz.cam</td>\n",
       "      <td>Kylie</td>\n",
       "      <td>Her</td>\n",
       "      <td>3562764561</td>\n",
       "    </tr>\n",
       "    <tr>\n",
       "      <th>4</th>\n",
       "      <td>8631-4500-5666-1510</td>\n",
       "      <td>rztkvliou@dkeinhgysf.deo</td>\n",
       "      <td>Anthony</td>\n",
       "      <td>Vo</td>\n",
       "      <td>7345795348</td>\n",
       "    </tr>\n",
       "  </tbody>\n",
       "</table>\n",
       "</div>"
      ],
      "text/plain": [
       "           credit_card                     email   first_name last_name  \\\n",
       "0  5399-3484-4724-7187            gso@qiegan.sqe  Donyell Ann    Ospina   \n",
       "1  1630-5261-6108-7631       xnji@gfruaxqnvm.fha       Bishop     Siyed   \n",
       "2  4435-3866-1076-3595         dvyco@tkzhsop.zxg       Connor    Powers   \n",
       "3  3489-7099-9906-8660         fy@uvfhplatmz.cam        Kylie       Her   \n",
       "4  8631-4500-5666-1510  rztkvliou@dkeinhgysf.deo      Anthony        Vo   \n",
       "\n",
       "   primary_phone_number  \n",
       "0            5219459148  \n",
       "1            4164254716  \n",
       "2            3627413915  \n",
       "3            3562764561  \n",
       "4            7345795348  "
      ]
     },
     "execution_count": 42,
     "metadata": {},
     "output_type": "execute_result"
    }
   ],
   "source": [
    "fake_ppl=pd.read_csv('noIndx.csv')\n",
    "fake_ppl.head()"
   ]
  },
  {
   "cell_type": "code",
   "execution_count": 35,
   "metadata": {},
   "outputs": [
    {
     "data": {
      "text/html": [
       "<div>\n",
       "<style scoped>\n",
       "    .dataframe tbody tr th:only-of-type {\n",
       "        vertical-align: middle;\n",
       "    }\n",
       "\n",
       "    .dataframe tbody tr th {\n",
       "        vertical-align: top;\n",
       "    }\n",
       "\n",
       "    .dataframe thead th {\n",
       "        text-align: right;\n",
       "    }\n",
       "</style>\n",
       "<table border=\"1\" class=\"dataframe\">\n",
       "  <thead>\n",
       "    <tr style=\"text-align: right;\">\n",
       "      <th></th>\n",
       "      <th>credit_card</th>\n",
       "      <th>cpu</th>\n",
       "      <th>purchase_date</th>\n",
       "    </tr>\n",
       "  </thead>\n",
       "  <tbody>\n",
       "    <tr>\n",
       "      <th>0</th>\n",
       "      <td>5399-3484-4724-7187</td>\n",
       "      <td>Intel Core i1-7554K</td>\n",
       "      <td>2019-10-31</td>\n",
       "    </tr>\n",
       "    <tr>\n",
       "      <th>1</th>\n",
       "      <td>1630-5261-6108-7631</td>\n",
       "      <td>AMD Ryzen 1 5827X</td>\n",
       "      <td>2017-07-16</td>\n",
       "    </tr>\n",
       "    <tr>\n",
       "      <th>2</th>\n",
       "      <td>4435-3866-1076-3595</td>\n",
       "      <td>Intel Core i5-9457K</td>\n",
       "      <td>2019-03-24</td>\n",
       "    </tr>\n",
       "    <tr>\n",
       "      <th>3</th>\n",
       "      <td>3489-7099-9906-8660</td>\n",
       "      <td>AMD Ryzen 4 3401X</td>\n",
       "      <td>2019-06-15</td>\n",
       "    </tr>\n",
       "    <tr>\n",
       "      <th>4</th>\n",
       "      <td>8631-4500-5666-1510</td>\n",
       "      <td>Intel Core i6-7283K</td>\n",
       "      <td>2019-11-11</td>\n",
       "    </tr>\n",
       "  </tbody>\n",
       "</table>\n",
       "</div>"
      ],
      "text/plain": [
       "           credit_card                  cpu purchase_date\n",
       "0  5399-3484-4724-7187  Intel Core i1-7554K    2019-10-31\n",
       "1  1630-5261-6108-7631    AMD Ryzen 1 5827X    2017-07-16\n",
       "2  4435-3866-1076-3595  Intel Core i5-9457K    2019-03-24\n",
       "3  3489-7099-9906-8660    AMD Ryzen 4 3401X    2019-06-15\n",
       "4  8631-4500-5666-1510  Intel Core i6-7283K    2019-11-11"
      ]
     },
     "execution_count": 35,
     "metadata": {},
     "output_type": "execute_result"
    }
   ],
   "source": [
    "# Fake CPU Purchases:\n",
    "\n",
    "pd.read_csv('cpu_purchase.csv').head()"
   ]
  },
  {
   "cell_type": "markdown",
   "metadata": {},
   "source": [
    "# Extract:\n",
    "+ This will take the date information we request (month,year)\n",
    "\n",
    "`----------------------`\n",
    "+ First Look at what our data consists of as a reminder."
   ]
  },
  {
   "cell_type": "code",
   "execution_count": 36,
   "metadata": {},
   "outputs": [
    {
     "data": {
      "text/plain": [
       "[('5399-3484-4724-7187',\n",
       "  'gso@qiegan.sqe',\n",
       "  'Donyell Ann',\n",
       "  'Ospina',\n",
       "  '5219459148',\n",
       "  'Intel Core i1-7554K',\n",
       "  datetime.date(2019, 10, 31)),\n",
       " ('1630-5261-6108-7631',\n",
       "  'xnji@gfruaxqnvm.fha',\n",
       "  'Bishop',\n",
       "  'Siyed',\n",
       "  '4164254716',\n",
       "  'AMD Ryzen 1 5827X',\n",
       "  datetime.date(2017, 7, 16))]"
      ]
     },
     "execution_count": 36,
     "metadata": {},
     "output_type": "execute_result"
    }
   ],
   "source": [
    "sql_=\"SELECT * FROM  ppl_cpu_purchases LIMIT 2\"\n",
    "cur.execute(sql_)\n",
    "cur.fetchall()"
   ]
  },
  {
   "cell_type": "markdown",
   "metadata": {},
   "source": [
    "# Ex.) `Find the Orders By frequency relative to Month and Year: (QUERY)`\n",
    "\n",
    "+ Then plot your results.\n",
    "\n",
    "`sq=\"SELECT extract(year from purchase_date) as year, \n",
    "extract(month from purchase_date) as month, count(*)\n",
    "FROM staging_fake_cpu_purchases GROUP BY year, month\"\n",
    "`"
   ]
  },
  {
   "cell_type": "code",
   "execution_count": 37,
   "metadata": {},
   "outputs": [
    {
     "data": {
      "text/html": [
       "<div>\n",
       "<style scoped>\n",
       "    .dataframe tbody tr th:only-of-type {\n",
       "        vertical-align: middle;\n",
       "    }\n",
       "\n",
       "    .dataframe tbody tr th {\n",
       "        vertical-align: top;\n",
       "    }\n",
       "\n",
       "    .dataframe thead th {\n",
       "        text-align: right;\n",
       "    }\n",
       "</style>\n",
       "<table border=\"1\" class=\"dataframe\">\n",
       "  <thead>\n",
       "    <tr style=\"text-align: right;\">\n",
       "      <th></th>\n",
       "      <th>year</th>\n",
       "      <th>month</th>\n",
       "      <th>qty</th>\n",
       "    </tr>\n",
       "  </thead>\n",
       "  <tbody>\n",
       "    <tr>\n",
       "      <th>0</th>\n",
       "      <td>2018.0</td>\n",
       "      <td>10.0</td>\n",
       "      <td>158</td>\n",
       "    </tr>\n",
       "    <tr>\n",
       "      <th>1</th>\n",
       "      <td>2019.0</td>\n",
       "      <td>1.0</td>\n",
       "      <td>154</td>\n",
       "    </tr>\n",
       "    <tr>\n",
       "      <th>2</th>\n",
       "      <td>2018.0</td>\n",
       "      <td>2.0</td>\n",
       "      <td>171</td>\n",
       "    </tr>\n",
       "    <tr>\n",
       "      <th>3</th>\n",
       "      <td>2017.0</td>\n",
       "      <td>12.0</td>\n",
       "      <td>163</td>\n",
       "    </tr>\n",
       "    <tr>\n",
       "      <th>4</th>\n",
       "      <td>2018.0</td>\n",
       "      <td>6.0</td>\n",
       "      <td>151</td>\n",
       "    </tr>\n",
       "  </tbody>\n",
       "</table>\n",
       "</div>"
      ],
      "text/plain": [
       "     year  month  qty\n",
       "0  2018.0   10.0  158\n",
       "1  2019.0    1.0  154\n",
       "2  2018.0    2.0  171\n",
       "3  2017.0   12.0  163\n",
       "4  2018.0    6.0  151"
      ]
     },
     "execution_count": 37,
     "metadata": {},
     "output_type": "execute_result"
    }
   ],
   "source": [
    "sq=\"SELECT extract(year from purchase_date) as year, extract(month from purchase_date) as month, count(*) FROM staging_fake_cpu_purchases GROUP BY year, month\"\n",
    "cur.execute(sq)\n",
    "\n",
    "sales_by_month_year=pd.DataFrame(cur.fetchall(),columns=['year','month','qty'])\n",
    "sales_by_month_year.head()\n",
    "\n",
    "\n"
   ]
  },
  {
   "cell_type": "code",
   "execution_count": 38,
   "metadata": {},
   "outputs": [
    {
     "data": {
      "text/html": [
       "<div>\n",
       "<style scoped>\n",
       "    .dataframe tbody tr th:only-of-type {\n",
       "        vertical-align: middle;\n",
       "    }\n",
       "\n",
       "    .dataframe tbody tr th {\n",
       "        vertical-align: top;\n",
       "    }\n",
       "\n",
       "    .dataframe thead th {\n",
       "        text-align: right;\n",
       "    }\n",
       "</style>\n",
       "<table border=\"1\" class=\"dataframe\">\n",
       "  <thead>\n",
       "    <tr style=\"text-align: right;\">\n",
       "      <th></th>\n",
       "      <th>year</th>\n",
       "      <th>month</th>\n",
       "      <th>qty</th>\n",
       "    </tr>\n",
       "  </thead>\n",
       "  <tbody>\n",
       "    <tr>\n",
       "      <th>23</th>\n",
       "      <td>2018.0</td>\n",
       "      <td>1.0</td>\n",
       "      <td>147</td>\n",
       "    </tr>\n",
       "    <tr>\n",
       "      <th>1</th>\n",
       "      <td>2019.0</td>\n",
       "      <td>1.0</td>\n",
       "      <td>154</td>\n",
       "    </tr>\n",
       "    <tr>\n",
       "      <th>15</th>\n",
       "      <td>2020.0</td>\n",
       "      <td>1.0</td>\n",
       "      <td>139</td>\n",
       "    </tr>\n",
       "    <tr>\n",
       "      <th>2</th>\n",
       "      <td>2018.0</td>\n",
       "      <td>2.0</td>\n",
       "      <td>171</td>\n",
       "    </tr>\n",
       "    <tr>\n",
       "      <th>7</th>\n",
       "      <td>2019.0</td>\n",
       "      <td>2.0</td>\n",
       "      <td>148</td>\n",
       "    </tr>\n",
       "  </tbody>\n",
       "</table>\n",
       "</div>"
      ],
      "text/plain": [
       "      year  month  qty\n",
       "23  2018.0    1.0  147\n",
       "1   2019.0    1.0  154\n",
       "15  2020.0    1.0  139\n",
       "2   2018.0    2.0  171\n",
       "7   2019.0    2.0  148"
      ]
     },
     "execution_count": 38,
     "metadata": {},
     "output_type": "execute_result"
    }
   ],
   "source": [
    "# Order By Month then Year: Need for Plot Legend to Make sense!\n",
    "sales_by_month_year=sales_by_month_year.sort_values(by=['month','year'])\n",
    "sales_by_month_year.head()"
   ]
  },
  {
   "cell_type": "code",
   "execution_count": 39,
   "metadata": {},
   "outputs": [
    {
     "data": {
      "text/html": [
       "<div>\n",
       "<style scoped>\n",
       "    .dataframe tbody tr th:only-of-type {\n",
       "        vertical-align: middle;\n",
       "    }\n",
       "\n",
       "    .dataframe tbody tr th {\n",
       "        vertical-align: top;\n",
       "    }\n",
       "\n",
       "    .dataframe thead th {\n",
       "        text-align: right;\n",
       "    }\n",
       "</style>\n",
       "<table border=\"1\" class=\"dataframe\">\n",
       "  <thead>\n",
       "    <tr style=\"text-align: right;\">\n",
       "      <th></th>\n",
       "      <th>year</th>\n",
       "      <th>month</th>\n",
       "      <th>qty</th>\n",
       "      <th>Month_Abrev</th>\n",
       "    </tr>\n",
       "  </thead>\n",
       "  <tbody>\n",
       "    <tr>\n",
       "      <th>23</th>\n",
       "      <td>2018</td>\n",
       "      <td>1</td>\n",
       "      <td>147</td>\n",
       "      <td>Jan</td>\n",
       "    </tr>\n",
       "    <tr>\n",
       "      <th>1</th>\n",
       "      <td>2019</td>\n",
       "      <td>1</td>\n",
       "      <td>154</td>\n",
       "      <td>Jan</td>\n",
       "    </tr>\n",
       "    <tr>\n",
       "      <th>15</th>\n",
       "      <td>2020</td>\n",
       "      <td>1</td>\n",
       "      <td>139</td>\n",
       "      <td>Jan</td>\n",
       "    </tr>\n",
       "    <tr>\n",
       "      <th>2</th>\n",
       "      <td>2018</td>\n",
       "      <td>2</td>\n",
       "      <td>171</td>\n",
       "      <td>Feb</td>\n",
       "    </tr>\n",
       "    <tr>\n",
       "      <th>7</th>\n",
       "      <td>2019</td>\n",
       "      <td>2</td>\n",
       "      <td>148</td>\n",
       "      <td>Feb</td>\n",
       "    </tr>\n",
       "  </tbody>\n",
       "</table>\n",
       "</div>"
      ],
      "text/plain": [
       "    year  month  qty Month_Abrev\n",
       "23  2018      1  147         Jan\n",
       "1   2019      1  154         Jan\n",
       "15  2020      1  139         Jan\n",
       "2   2018      2  171         Feb\n",
       "7   2019      2  148         Feb"
      ]
     },
     "execution_count": 39,
     "metadata": {},
     "output_type": "execute_result"
    }
   ],
   "source": [
    "# import calendar\n",
    "sales_by_MonthYear=sales_by_month_year.astype(int) # change type from float -> int\n",
    "\n",
    "# Convert Digit (int) -> Month\n",
    "l=[]\n",
    "for i in sales_by_MonthYear['month']:\n",
    "    l.append(calendar.month_abbr[i])\n",
    "\n",
    "sales_by_MonthYear['Month_Abrev']=l\n",
    "sales_by_MonthYear.head()\n",
    "\n"
   ]
  },
  {
   "cell_type": "markdown",
   "metadata": {},
   "source": [
    "# Nested Bar Plot (*Seaborn*):\n",
    "+ Find Count by Month and Year of CPU Sales"
   ]
  },
  {
   "cell_type": "code",
   "execution_count": 45,
   "metadata": {},
   "outputs": [
    {
     "data": {
      "image/png": "[encoded data removed]",
      "text/plain": [
       "<Figure size 1468.8x597.6 with 1 Axes>"
      ]
     },
     "metadata": {
      "needs_background": "light"
     },
     "output_type": "display_data"
    }
   ],
   "source": [
    "fig_dims = (20.4, 8.3)\n",
    "fig, ax = plt.subplots(figsize=fig_dims)\n",
    "b=sns.barplot(x=\"year\", y=\"qty\", hue=\"Month_Abrev\", data=sales_by_MonthYear)\n",
    "plt.legend(loc='upper right',fontsize='15')\n",
    "b.set_xlabel(\"Year\",fontsize=24)\n",
    "b.set_ylabel(\"QTY\",fontsize=22)\n",
    "b.tick_params(labelsize=20) # Increase (2018,2019...) size\n",
    "\n",
    "plt.savefig('Barplot_sales.png')"
   ]
  },
  {
   "cell_type": "markdown",
   "metadata": {},
   "source": [
    "`sq=\"\n",
    "CREATE TEMPORARY TABLE month_count(month INT);\n",
    "SELECT extract(year from purchase_date) as year, extract(month from purchase_date) as month, count(*) FROM staging_fake_cpu_purchases GROUP BY year, month\n",
    ", 'SELECT * FROM month_count') AS (year int,\n",
    "jan int, feb int, mar int, apr int, may int, jun int, jul int, aug int, sep int, oct int, nov int, dec int\n",
    ") ORDER BY YEAR\"`"
   ]
  },
  {
   "cell_type": "code",
   "execution_count": 41,
   "metadata": {},
   "outputs": [],
   "source": [
    "# sql=\"SELECT * FROM crosstab('SELECT extract(year from purchase_date) as year, extract(month from purchase_date) as month, count(*) FROM staging_fake_cpu_purchases GROUP BY year, month','SELECT * FROM staging_fake_cpu_purchases''SELECT * FROM staging_fake_cpu_purchases') AS (year int, Jan int, Feb int, Mar int, Apr int, May int,Jun int, Jul int, Aug int, Sep int, Oct int, Nov int, Dec int) ORDER BY YEAR; \"\n",
    "\n",
    "# cur.execute(sql)\n",
    "# cur.fetchall(sql)\n",
    "\n",
    "\n",
    "# #         'SELECT * FROM month_count'"
   ]
  },
  {
   "cell_type": "code",
   "execution_count": null,
   "metadata": {},
   "outputs": [],
   "source": []
  },
  {
   "cell_type": "code",
   "execution_count": null,
   "metadata": {},
   "outputs": [],
   "source": []
  },
  {
   "cell_type": "markdown",
   "metadata": {},
   "source": [
    "# Citations:\n",
    "\n",
    "# ◔̯◔\n",
    "\n",
    "https://www.enterprisedb.com/postgres-tutorials/how-run-hierarchical-queries-oracle-and-postgresql\n",
    "\n",
    "https://www.dezyre.com/recipes/generate-grouped-bar-plot-in-python\n",
    "\n",
    "https://stackoverflow.com/questions/36220829/fine-control-over-the-font-size-in-seaborn-plots-for-academic-papers\n",
    "\n",
    "https://dba.stackexchange.com/questions/84305/function-extract-from-date-returns-double-precision-value"
   ]
  }
 ],
 "metadata": {
  "kernelspec": {
   "display_name": "Python 3",
   "language": "python",
   "name": "python3"
  },
  "language_info": {
   "codemirror_mode": {
    "name": "ipython",
    "version": 3
   },
   "file_extension": ".py",
   "mimetype": "text/x-python",
   "name": "python",
   "nbconvert_exporter": "python",
   "pygments_lexer": "ipython3",
   "version": "3.7.3"
  }
 },
 "nbformat": 4,
 "nbformat_minor": 4
}
