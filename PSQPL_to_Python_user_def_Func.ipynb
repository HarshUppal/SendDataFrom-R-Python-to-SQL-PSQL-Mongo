{
 "cells": [
  {
   "cell_type": "markdown",
   "metadata": {},
   "source": [
    "# PSQL to Python `User Defined Functions`: `TRIGGERS`\n",
    "\n",
    "**<font color=red> Mr Fugu Data Science</font>**\n",
    "\n",
    "# (◕‿◕✿)\n",
    "\n",
    "[Github](https://github.com/MrFuguDataScience) | [Youtube](https://www.youtube.com/channel/UCbni-TDI-Ub8VlGaP8HLTNw/)\n",
    "\n",
    "# Purpose & Outcome:\n",
    "\n",
    "+ Create a new table, to store our trigger information\n",
    "    + Create a Function to interface between table of interest and store changed data that will go into new table.\n",
    "\n",
    "+ `CREATE A TRIGGER` and explain what it is and how to use\n",
    "\n",
    "\n"
   ]
  },
  {
   "cell_type": "markdown",
   "metadata": {},
   "source": [
    "# Install Psycopg2:\n",
    "\n",
    "`python -m pip install psycopg2`\n",
    "\n",
    "if this doesn't work, try changing `pip to pip3` depending on what version of Python you are using\n",
    "\n",
    "if that doesn't work either try to do: `conda install -c anaconda psycopg2`"
   ]
  },
  {
   "cell_type": "code",
   "execution_count": 108,
   "metadata": {},
   "outputs": [],
   "source": [
    "import psycopg2             # python->psql connection\n",
    "import psycopg2.extras\n",
    "\n",
    "import pandas as pd   \n",
    "\n",
    "\n",
    "# Import the 'config' function from the config_user_dta.py file:\n",
    "from config_user_dta import config"
   ]
  },
  {
   "cell_type": "markdown",
   "metadata": {},
   "source": [
    "# `Triggers`: *This came up on a Job Interview Test*  \n",
    "\n",
    "# 😟 `this was my face`\n",
    "( *I had 1 minute to figure it out* )\n",
    "\n",
    "+ What is a `Trigger`? : think of a function the user creates that will be associated or 'bound' to a specific table in your current database.\n",
    "    + It will automatically be used when a specific event occurs, that you define.\n",
    "        + An event: consists of (`Insert, Update, Delete, Truncate`) for example. And can be used either `Before, After, or Instead of` one of these events occuring. \n",
    "\n",
    "`-------------------------------`\n",
    "\n",
    "+ Two Types `(Row level,Statement level)`\n",
    " + The difference, `Row` wise is done on a per row basis and when it is executed. \n",
    "\n",
    "`__________________________________________________`\n",
    "\n",
    "+ **When can** `User Defined Functions AKA Stored Procedures` **be used**?\n",
    " + This is a case by case situation.\n",
    "     If you have a scenario where you are frequently calling thousands of rows frequently this can save you time. \n",
    "     \n",
    "+ Consider if you need to make several trips to the database making multiple queries. This can be handled in a function defined by the user all at once. \n",
    "\n",
    "+ `Data Warehousing`: uses these techniques to reference data from a tables such as a summary is an example. \n",
    "\n",
    "\n",
    "**General Layout**:\n",
    "\n",
    "`CREATE TRIGGER name_of_trigger\n",
    "{BEFORE | AFTER | INSTEAD OF} {event [OR ...]}\n",
    "   ON table_name\n",
    "   [FOR [EACH] {ROW | STATEMENT}]\n",
    "       EXECUTE PROCEDURE trigger_function\n",
    "`\n",
    "\n",
    "\n",
    "[Details of Triggers](https://www.tutorialspoint.com/postgresql/postgresql_triggers.htm)"
   ]
  },
  {
   "cell_type": "code",
   "execution_count": 2,
   "metadata": {},
   "outputs": [],
   "source": [
    "# Establish a connection to the database by creating a cursor object\n",
    "\n",
    "# Get the config params\n",
    "params_ = config()\n",
    "\n",
    "# Connect to the Postgres_DB:\n",
    "conn = psycopg2.connect(**params_)\n",
    "\n",
    "# Create new_cursor allowing us to write Python to execute PSQL:\n",
    "cur = conn.cursor()\n",
    "\n",
    "conn.autocommit = True  # read documentation understanding when to Use & NOT use (TRUE)\n"
   ]
  },
  {
   "cell_type": "markdown",
   "metadata": {},
   "source": [
    "# Create a table used for our `Trigger`:"
   ]
  },
  {
   "cell_type": "code",
   "execution_count": 99,
   "metadata": {},
   "outputs": [],
   "source": [
    "# CREATE TABLE FOR PSQL: cpu_sales_update (used to log updated sales)\n",
    "\n",
    "def create_staging_table(cursor):\n",
    "    cursor.execute(\"\"\"\n",
    "        DROP TABLE IF EXISTS cpu_sales_update;\n",
    "        CREATE UNLOGGED TABLE cpu_sales_update (\n",
    "            changed_on TIMESTAMP(6) NOT NULL,\n",
    "            credit_card         TEXT NOT NULL,\n",
    "            email               TEXT NOT NULL,\n",
    "            first_name          TEXT NOT NULL,\n",
    "            last_name           TEXT NOT NULL,\n",
    "            primary_phone       TEXT NOT NULL,\n",
    "            cpu                 TEXT NOT NULL,\n",
    "            purchase_date       DATE NOT NULL\n",
    "        );\"\"\")\n",
    "    \n"
   ]
  },
  {
   "cell_type": "code",
   "execution_count": 100,
   "metadata": {},
   "outputs": [],
   "source": [
    "with conn.cursor() as cursor:\n",
    "    create_staging_table(cursor)\n"
   ]
  },
  {
   "cell_type": "markdown",
   "metadata": {},
   "source": [
    "# Create Function to Log Updated Sales\n",
    "\n",
    "+ such as changed cpu,credit info\n"
   ]
  },
  {
   "cell_type": "code",
   "execution_count": 72,
   "metadata": {},
   "outputs": [],
   "source": [
    "def create_log_func(cursor):\n",
    "    cursor.execute(\"\"\"\n",
    "    CREATE OR REPLACE FUNCTION log_sales_data()\n",
    "    RETURNS TRIGGER AS $cpu_sales_update$\n",
    "        BEGIN\n",
    "            --\n",
    "            -- Create a new row in cpu_sales_update, for operation performed on \n",
    "            -- 'ppl_cpu_purchases'. (TG_OP) is used to designate what operation is\n",
    "            -- performed and triggers your 'TRIGGER'\n",
    "\n",
    "            IF (TG_OP = 'DELETE') THEN \n",
    "                INSERT INTO cpu_sales_update SELECT now(), OLD.*;\n",
    "                RETURN OLD;\n",
    "\n",
    "            ELSEIF (TG_OP = 'UPDATE') THEN\n",
    "                INSERT INTO cpu_sales_update SELECT now(),NEW.*;\n",
    "                RETURN NEW;\n",
    "\n",
    "            ELSIF (TG_OP = 'INSERT') THEN\n",
    "                INSERT INTO cpu_sales_update SELECT now(),NEW.*;\n",
    "\n",
    "            END IF;\n",
    "            RETURN NULL; -- result is ignored since this is an AFTER trigger\n",
    "        \n",
    "        END;    \n",
    "    $cpu_sales_update$ LANGUAGE plpgsql;\"\"\")"
   ]
  },
  {
   "cell_type": "code",
   "execution_count": 73,
   "metadata": {},
   "outputs": [],
   "source": [
    "# Send Over for Function which will store trigger information\n",
    "with conn.cursor() as cursor:\n",
    "    create_log_func(cursor)\n"
   ]
  },
  {
   "cell_type": "code",
   "execution_count": 74,
   "metadata": {},
   "outputs": [],
   "source": [
    "# Trigger Creation: which will start (AFTER) the event!\n",
    "\n",
    "def trigger_cpu_sales(cursor):\n",
    "    cursor.execute(\"\"\"\n",
    "    CREATE TRIGGER cpu_sales_update_trigger\n",
    "    AFTER INSERT OR UPDATE OR DELETE ON ppl_cpu_purchases\n",
    "    FOR EACH ROW EXECUTE PROCEDURE log_sales_data();\n",
    "    \"\"\")\n"
   ]
  },
  {
   "cell_type": "code",
   "execution_count": 75,
   "metadata": {},
   "outputs": [
    {
     "ename": "DuplicateObject",
     "evalue": "trigger \"cpu_sales_update_trigger\" for relation \"ppl_cpu_purchases\" already exists\n",
     "output_type": "error",
     "traceback": [
      "\u001b[0;31m---------------------------------------------------------------------------\u001b[0m",
      "\u001b[0;31mDuplicateObject\u001b[0m                           Traceback (most recent call last)",
      "\u001b[0;32m<ipython-input-75-7f0ea5200110>\u001b[0m in \u001b[0;36m<module>\u001b[0;34m\u001b[0m\n\u001b[1;32m      1\u001b[0m \u001b[0;32mwith\u001b[0m \u001b[0mconn\u001b[0m\u001b[0;34m.\u001b[0m\u001b[0mcursor\u001b[0m\u001b[0;34m(\u001b[0m\u001b[0;34m)\u001b[0m \u001b[0;32mas\u001b[0m \u001b[0mcursor\u001b[0m\u001b[0;34m:\u001b[0m\u001b[0;34m\u001b[0m\u001b[0;34m\u001b[0m\u001b[0m\n\u001b[0;32m----> 2\u001b[0;31m     \u001b[0mtrigger_cpu_sales\u001b[0m\u001b[0;34m(\u001b[0m\u001b[0mcursor\u001b[0m\u001b[0;34m)\u001b[0m\u001b[0;34m\u001b[0m\u001b[0;34m\u001b[0m\u001b[0m\n\u001b[0m",
      "\u001b[0;32m<ipython-input-74-7a4747b204f1>\u001b[0m in \u001b[0;36mtrigger_cpu_sales\u001b[0;34m(cursor)\u001b[0m\n\u001b[1;32m      4\u001b[0m     \u001b[0mAFTER\u001b[0m \u001b[0mINSERT\u001b[0m \u001b[0mOR\u001b[0m \u001b[0mUPDATE\u001b[0m \u001b[0mOR\u001b[0m \u001b[0mDELETE\u001b[0m \u001b[0mON\u001b[0m \u001b[0mppl_cpu_purchases\u001b[0m\u001b[0;34m\u001b[0m\u001b[0;34m\u001b[0m\u001b[0m\n\u001b[1;32m      5\u001b[0m     \u001b[0mFOR\u001b[0m \u001b[0mEACH\u001b[0m \u001b[0mROW\u001b[0m \u001b[0mEXECUTE\u001b[0m \u001b[0mPROCEDURE\u001b[0m \u001b[0mlog_sales_data\u001b[0m\u001b[0;34m(\u001b[0m\u001b[0;34m)\u001b[0m\u001b[0;34m;\u001b[0m\u001b[0;34m\u001b[0m\u001b[0;34m\u001b[0m\u001b[0m\n\u001b[0;32m----> 6\u001b[0;31m     \"\"\")\n\u001b[0m",
      "\u001b[0;31mDuplicateObject\u001b[0m: trigger \"cpu_sales_update_trigger\" for relation \"ppl_cpu_purchases\" already exists\n"
     ]
    }
   ],
   "source": [
    "# Send Trigger to PSQL:\n",
    "\n",
    "with conn.cursor() as cursor:\n",
    "    trigger_cpu_sales(cursor)"
   ]
  },
  {
   "cell_type": "code",
   "execution_count": 64,
   "metadata": {},
   "outputs": [
    {
     "data": {
      "text/plain": [
       "[(18454,\n",
       "  16586,\n",
       "  'cpu_sales_update_trigger',\n",
       "  18418,\n",
       "  29,\n",
       "  'O',\n",
       "  False,\n",
       "  0,\n",
       "  0,\n",
       "  0,\n",
       "  False,\n",
       "  False,\n",
       "  0,\n",
       "  '',\n",
       "  <memory at 0x11869cc48>,\n",
       "  None,\n",
       "  None,\n",
       "  None)]"
      ]
     },
     "execution_count": 64,
     "metadata": {},
     "output_type": "execute_result"
    }
   ],
   "source": [
    "# All Triggers in Current DB:\n",
    "\n",
    "cur.execute('SELECT * FROM pg_trigger;')\n",
    "cur.fetchall()"
   ]
  },
  {
   "cell_type": "code",
   "execution_count": 65,
   "metadata": {},
   "outputs": [
    {
     "data": {
      "text/plain": [
       "[('cpu_sales_update_trigger',)]"
      ]
     },
     "execution_count": 65,
     "metadata": {},
     "output_type": "execute_result"
    }
   ],
   "source": [
    "# Find What Triggers are on a specific Table:\n",
    "\n",
    "cur.execute(\"SELECT tgname FROM pg_trigger, \\\n",
    "pg_class WHERE tgrelid=pg_class.oid AND relname='ppl_cpu_purchases';\")\n",
    "\n",
    "cur.fetchall()"
   ]
  },
  {
   "cell_type": "code",
   "execution_count": 105,
   "metadata": {},
   "outputs": [
    {
     "data": {
      "text/plain": [
       "[]"
      ]
     },
     "execution_count": 105,
     "metadata": {},
     "output_type": "execute_result"
    }
   ],
   "source": [
    "cur.execute(\"SELECT tgname FROM pg_trigger, \\\n",
    "pg_class WHERE tgrelid=pg_class.oid AND relname='fake_r_users';\")\n",
    "\n",
    "cur.fetchall()"
   ]
  },
  {
   "cell_type": "code",
   "execution_count": 107,
   "metadata": {},
   "outputs": [],
   "source": [
    "# Drop Trigger, I first dropped the table with it that I created.\n",
    "\n",
    "\n",
    "# cur.execute(\"DROP TRIGGER IF EXISTS cpu_sales_update ON ppl_cpu_purchases;\")\n",
    "# cur.execute(\"DROP TABLE IF EXISTS cpu_sales_update;\")"
   ]
  },
  {
   "cell_type": "code",
   "execution_count": 76,
   "metadata": {},
   "outputs": [],
   "source": [
    "# Do an Insert and make sure Trigger works:\n",
    "\n",
    "cur.execute(\"INSERT INTO ppl_cpu_purchases (credit_card,email,first_name,last_name, \\\n",
    "primary_phone,cpu,purchase_date) VALUES ('9999-9999-9999-9999','MrFugu@gmail.com', \\\n",
    "'MrFugu','DataScience','1111111111', 'Intel Core i9-9999K','2020-05-05')\")\n"
   ]
  },
  {
   "cell_type": "code",
   "execution_count": 91,
   "metadata": {},
   "outputs": [
    {
     "data": {
      "text/plain": [
       "[(datetime.datetime(2020, 6, 16, 17, 51, 46, 698363),\n",
       "  '9999-9999-9999-9999',\n",
       "  'MrFugu@gmail.com',\n",
       "  'MrFugu',\n",
       "  'DataScience',\n",
       "  '1111111111',\n",
       "  'Intel Core i9-9999K',\n",
       "  datetime.date(2020, 5, 5))]"
      ]
     },
     "execution_count": 91,
     "metadata": {},
     "output_type": "execute_result"
    }
   ],
   "source": [
    "cur.execute('SELECT * FROM cpu_sales_update')\n",
    "cur.fetchall()"
   ]
  },
  {
   "cell_type": "code",
   "execution_count": 101,
   "metadata": {},
   "outputs": [],
   "source": [
    "cur.execute(\"UPDATE ppl_cpu_purchases SET first_name= 'MrFuguYay' \\\n",
    "WHERE first_name='MrFugu'\")"
   ]
  },
  {
   "cell_type": "code",
   "execution_count": 102,
   "metadata": {},
   "outputs": [
    {
     "data": {
      "text/plain": [
       "[(datetime.datetime(2020, 6, 16, 18, 27, 20, 610811),\n",
       "  '9999-9999-9999-9999',\n",
       "  'MrFugu@gmail.com',\n",
       "  'MrFuguYay',\n",
       "  'DataScience',\n",
       "  '1111111111',\n",
       "  'Intel Core i9-9999K',\n",
       "  datetime.date(2020, 5, 5))]"
      ]
     },
     "execution_count": 102,
     "metadata": {},
     "output_type": "execute_result"
    }
   ],
   "source": [
    "cur.execute('SELECT * FROM cpu_sales_update')\n",
    "cur.fetchall()"
   ]
  },
  {
   "cell_type": "markdown",
   "metadata": {},
   "source": [
    "# Citations & Useful Help:\n",
    "\n",
    "# ◔̯◔\n",
    "\n",
    "https://www.postgresqltutorial.com/creating-first-trigger-postgresql/\n",
    "\n",
    "https://www.postgresqltutorial.com/postgresql-stored-procedures/\n",
    "\n",
    "https://www.tutorialspoint.com/postgresql/postgresql_functions.htm\n",
    "\n",
    "https://www.tutorialspoint.com/postgresql/postgresql_triggers.htm\n",
    "\n",
    "https://www.postgresql.org/docs/9.2/plpgsql-trigger.html\n",
    "\n",
    "https://www.postgresqltutorial.com/plpgsql-function-overloading/\n",
    "\n",
    "https://www.postgresql.org/docs/9.5/trigger-example.html (Written in C)\n",
    "\n",
    "https://medium.com/simform-engineering/what-when-and-how-of-database-triggers-using-postgresql-f4464bd969d4\n",
    "\n",
    "https://pynative.com/python-execute-postgresql-stored-procedure-and-function/\n",
    "\n",
    "https://www.codementor.io/@engineerapart/getting-started-with-postgresql-on-mac-osx-are8jcopb\n",
    "\n",
    "https://w3resource.com/PostgreSQL/postgresql-triggers.php\n"
   ]
  }
 ],
 "metadata": {
  "kernelspec": {
   "display_name": "Python 3",
   "language": "python",
   "name": "python3"
  },
  "language_info": {
   "codemirror_mode": {
    "name": "ipython",
    "version": 3
   },
   "file_extension": ".py",
   "mimetype": "text/x-python",
   "name": "python",
   "nbconvert_exporter": "python",
   "pygments_lexer": "ipython3",
   "version": "3.7.3"
  }
 },
 "nbformat": 4,
 "nbformat_minor": 4
}
