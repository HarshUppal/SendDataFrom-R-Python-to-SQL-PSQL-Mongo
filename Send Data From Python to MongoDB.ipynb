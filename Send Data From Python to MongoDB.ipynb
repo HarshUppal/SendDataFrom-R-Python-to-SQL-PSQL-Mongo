{
 "cells": [
  {
   "cell_type": "markdown",
   "metadata": {},
   "source": [
    "# HOW TUTORIAL: `Using Pymongo: Sending Data From Python to MongoDB`\n",
    "\n",
    "`with Mr Fugu Data Science`\n",
    "\n",
    "# (◕‿◕✿)\n",
    "\n",
    "`Check Me Out On`: [Github](https://github.com/MrFuguDataScience) | [Youtube](https://www.youtube.com/channel/UCbni-TDI-Ub8VlGaP8HLTNw?view_as=subscriber)\n",
    "\n",
    "\n",
    "`______________________________________________________________________________`\n",
    "\n",
    "# Purpose & Outcome:\n",
    "\n",
    "+ `Send Dataframe` from Python to MongoDB\n",
    "    + `Send .CSV()` from Python to MongoDB\n",
    "\n",
    "+ `Query Data`\n",
    "    + `Send Data from Mongo to Python`\n",
    "    \n",
    " `_______________________________________________________________________________`"
   ]
  },
  {
   "cell_type": "markdown",
   "metadata": {},
   "source": [
    "# MongoDB:\n",
    "\n",
    "+ if you need to download visit: [official site](https://docs.mongodb.com/manual/installation/)\n",
    "\n",
    "    + If you used `Homebrew`on `Mac`: I did:\n",
    "        * `brew install mongodb-community`  (`as of Easter 2020`)\n",
    "        * After download:\n",
    "            * `sudo mkdir -p /data/db`\n",
    "            * `whoami` take the answer to this and put below after `chown`\n",
    "            * `sudo chown -Rv your_answer_here /data/db`\n",
    "    + in the terminal do `mongod`\n",
    "        * *open a separate terminal* type: `mongo`\n",
    "        \n",
    "    **Now, this will be done if you want to turn on service each time, otherwise follow the prompt after you download `mongo` to decide if you want to have it start when you turn on your computer.** "
   ]
  },
  {
   "cell_type": "markdown",
   "metadata": {},
   "source": [
    "# `Install Pymongo` resources:\n",
    "\n",
    "[anaconda version](https://anaconda.org/anaconda/pymongo) | [official site](https://pypi.org/project/pymongo/)\n",
    "\n",
    "\n",
    "`-----------------------------------------------------------`"
   ]
  },
  {
   "cell_type": "markdown",
   "metadata": {},
   "source": [
    "# Basic Idea of MongoDB: easy to use and powerfull\n",
    "\n",
    "+ `MongoDB` is a `Document` database:\n",
    "    + There is `No Schema`\n",
    "    + `Documents` are stored in the `Binary form of JSON`: *BSON* \n",
    "        + Each stored document, is assigned a `unique id: _id`\n",
    "    \n",
    "+ `Collections`: can be thought of as (*Tables*)\n",
    "    * You also, have `No Support of Server-Side Joins` like\n",
    "    \n"
   ]
  },
  {
   "cell_type": "markdown",
   "metadata": {},
   "source": [
    "This Exercise we will not be using a config file or creating users: these are great and very useful tasks with links providing examples and explanation.\n",
    "\n",
    "[Create Config/YAML file](https://docs.mongodb.com/manual/reference/configuration-options/#configuration-options) | [Create Users](https://docs.mongodb.com/manual/reference/method/db.createUser/)"
   ]
  },
  {
   "cell_type": "code",
   "execution_count": 1,
   "metadata": {},
   "outputs": [],
   "source": [
    "import pymongo as pym      # Interface with Python <--> MongoDB \n",
    "import pandas as pd        # Create Dataframe\n",
    "import os                  # find files on system\n",
    "import csv                 \n",
    "import json                # convert file to json format"
   ]
  },
  {
   "cell_type": "code",
   "execution_count": 2,
   "metadata": {},
   "outputs": [],
   "source": [
    "# Find a file outside your directory:\n",
    "\n",
    "def os_any_dir_search(file):\n",
    "    u=[]\n",
    "    for p,n,f in os.walk(os.getcwd()):\n",
    "        \n",
    "        for a in f:\n",
    "            a = str(a)\n",
    "            if a.endswith(file): # can be (.csv) or a file like I did and search \n",
    "#                 print(a)\n",
    "#                 print(p)\n",
    "                t=pd.read_csv(p+'/'+file)\n",
    "                u.append(p+'/'+a)\n",
    "    return t,u\n",
    "\n"
   ]
  },
  {
   "cell_type": "code",
   "execution_count": 11,
   "metadata": {},
   "outputs": [
    {
     "data": {
      "text/html": [
       "<div>\n",
       "<style scoped>\n",
       "    .dataframe tbody tr th:only-of-type {\n",
       "        vertical-align: middle;\n",
       "    }\n",
       "\n",
       "    .dataframe tbody tr th {\n",
       "        vertical-align: top;\n",
       "    }\n",
       "\n",
       "    .dataframe thead th {\n",
       "        text-align: right;\n",
       "    }\n",
       "</style>\n",
       "<table border=\"1\" class=\"dataframe\">\n",
       "  <thead>\n",
       "    <tr style=\"text-align: right;\">\n",
       "      <th></th>\n",
       "      <th>credit_card</th>\n",
       "      <th>email</th>\n",
       "      <th>first_name</th>\n",
       "      <th>last_name</th>\n",
       "      <th>primary_phone_number</th>\n",
       "    </tr>\n",
       "  </thead>\n",
       "  <tbody>\n",
       "    <tr>\n",
       "      <th>0</th>\n",
       "      <td>5399-3484-4724-7187</td>\n",
       "      <td>gso@qiegan.sqe</td>\n",
       "      <td>Donyell Ann</td>\n",
       "      <td>Ospina</td>\n",
       "      <td>5219459148</td>\n",
       "    </tr>\n",
       "    <tr>\n",
       "      <th>1</th>\n",
       "      <td>1630-5261-6108-7631</td>\n",
       "      <td>xnji@gfruaxqnvm.fha</td>\n",
       "      <td>Bishop</td>\n",
       "      <td>Siyed</td>\n",
       "      <td>4164254716</td>\n",
       "    </tr>\n",
       "    <tr>\n",
       "      <th>2</th>\n",
       "      <td>4435-3866-1076-3595</td>\n",
       "      <td>dvyco@tkzhsop.zxg</td>\n",
       "      <td>Connor</td>\n",
       "      <td>Powers</td>\n",
       "      <td>3627413915</td>\n",
       "    </tr>\n",
       "    <tr>\n",
       "      <th>3</th>\n",
       "      <td>3489-7099-9906-8660</td>\n",
       "      <td>fy@uvfhplatmz.cam</td>\n",
       "      <td>Kylie</td>\n",
       "      <td>Her</td>\n",
       "      <td>3562764561</td>\n",
       "    </tr>\n",
       "    <tr>\n",
       "      <th>4</th>\n",
       "      <td>8631-4500-5666-1510</td>\n",
       "      <td>rztkvliou@dkeinhgysf.deo</td>\n",
       "      <td>Anthony</td>\n",
       "      <td>Vo</td>\n",
       "      <td>7345795348</td>\n",
       "    </tr>\n",
       "  </tbody>\n",
       "</table>\n",
       "</div>"
      ],
      "text/plain": [
       "           credit_card                     email   first_name last_name  \\\n",
       "0  5399-3484-4724-7187            gso@qiegan.sqe  Donyell Ann    Ospina   \n",
       "1  1630-5261-6108-7631       xnji@gfruaxqnvm.fha       Bishop     Siyed   \n",
       "2  4435-3866-1076-3595         dvyco@tkzhsop.zxg       Connor    Powers   \n",
       "3  3489-7099-9906-8660         fy@uvfhplatmz.cam        Kylie       Her   \n",
       "4  8631-4500-5666-1510  rztkvliou@dkeinhgysf.deo      Anthony        Vo   \n",
       "\n",
       "   primary_phone_number  \n",
       "0            5219459148  \n",
       "1            4164254716  \n",
       "2            3627413915  \n",
       "3            3562764561  \n",
       "4            7345795348  "
      ]
     },
     "execution_count": 11,
     "metadata": {},
     "output_type": "execute_result"
    }
   ],
   "source": [
    "fake_users = os_any_dir_search('fake_users_R.csv')[0]\n",
    "fake_users=fake_users.iloc[:,1:]\n",
    "fake_users.head()"
   ]
  },
  {
   "cell_type": "code",
   "execution_count": 5,
   "metadata": {},
   "outputs": [],
   "source": [
    "fake_users.to_csv('fake_users_R_fixed.csv')"
   ]
  },
  {
   "cell_type": "code",
   "execution_count": 8,
   "metadata": {},
   "outputs": [],
   "source": [
    "# Create Dict() to send to MongoDB\n",
    "fake_users_dict = fake_users.to_dict('records')\n",
    "# fake_users_dict[:2]"
   ]
  },
  {
   "cell_type": "code",
   "execution_count": 7,
   "metadata": {},
   "outputs": [],
   "source": [
    "# Making a Connection to MongoClient\n",
    "client = pym.MongoClient('mongodb://localhost:27017/')\n",
    "\n",
    "# CREATING A DATABASE:\n",
    "db = client[\"fake_users\"]\n",
    "\n",
    "# CREATING A COLLECTION (*AKA* TABLE):\n",
    "user_info_table= db[\"user_info\"]\n"
   ]
  },
  {
   "cell_type": "markdown",
   "metadata": {},
   "source": [
    "# SEND DATAFRAME From Python to MongoDB:"
   ]
  },
  {
   "cell_type": "code",
   "execution_count": 9,
   "metadata": {},
   "outputs": [
    {
     "data": {
      "text/plain": [
       "<pymongo.results.InsertManyResult at 0x12203bcc8>"
      ]
     },
     "execution_count": 9,
     "metadata": {},
     "output_type": "execute_result"
    }
   ],
   "source": [
    "user_info_table.insert_many(fake_users_dict)"
   ]
  },
  {
   "cell_type": "markdown",
   "metadata": {},
   "source": [
    "# Send .CSV()  From Python to MongoDB:"
   ]
  },
  {
   "cell_type": "code",
   "execution_count": 13,
   "metadata": {},
   "outputs": [],
   "source": [
    "# Fetching the Absolute Path of desired file\n",
    "csv_file_path=os_any_dir_search('fake_users_R_fixed.csv')[1]\n",
    "\n",
    "# Converting this list as a string\n",
    "csv_file_path_str =\"\".join(csv_file_path)\n",
    "\n",
    "# reading the csv to pandas\n",
    "data = pd.read_csv(csv_file_path_str)\n",
    "\n",
    "# open .csv()\n",
    "csvfile = open(csv_file_path_str, 'r')\n",
    "\n",
    "# convert .csv() and read as dict()\n",
    "reader = csv.DictReader( csvfile )\n",
    "# naming columns\n",
    "header=['credit_card','email','first_name','last_name','primary_phone_number']\n",
    "\n",
    "# iterate through and send file as a dict() to MongoDB:\n",
    "for each in reader:\n",
    "    row={}\n",
    "    for field in header:\n",
    "        row[field]=each[field]\n",
    "\n",
    "    db.user_info_table.insert_one(row)\n"
   ]
  },
  {
   "cell_type": "code",
   "execution_count": 17,
   "metadata": {},
   "outputs": [],
   "source": [
    "# csv_file_path\n",
    "# csv_file_path_str\n",
    "# data\n",
    "# # csvfile\n",
    "# # csv.DictReader( csvfile )"
   ]
  },
  {
   "cell_type": "code",
   "execution_count": null,
   "metadata": {},
   "outputs": [],
   "source": []
  },
  {
   "cell_type": "markdown",
   "metadata": {},
   "source": [
    "# QUERIES:\n"
   ]
  },
  {
   "cell_type": "code",
   "execution_count": 19,
   "metadata": {},
   "outputs": [
    {
     "name": "stdout",
     "output_type": "stream",
     "text": [
      "{'_id': ObjectId('5e93e51600663b3fdd6ac51e'), 'credit_card': '1758-6471-8929-2781', 'email': 'ruft@ip.drj', 'first_name': 'Alex', 'last_name': 'Acosta', 'primary_phone_number': '8728626214'}\n",
      "{'_id': ObjectId('5e93e51700663b3fdd6acb57'), 'credit_card': '7184-4588-2626-7620', 'email': 'rthdxfeic@rgml.gje', 'first_name': 'Alex', 'last_name': 'Guzman', 'primary_phone_number': '5678277128'}\n",
      "{'_id': ObjectId('5e93e51700663b3fdd6acb8b'), 'credit_card': '4543-3438-1308-3700', 'email': 'b@il.zdo', 'first_name': 'Alex', 'last_name': 'el-Lone', 'primary_phone_number': '8798126912'}\n",
      "{'_id': ObjectId('5e93e51700663b3fdd6acbb5'), 'credit_card': '1105-9106-9980-7701', 'email': 'e@irjs.gdp', 'first_name': 'Alex', 'last_name': 'Gossen', 'primary_phone_number': '1492498643'}\n",
      "{'_id': ObjectId('5e93e51700663b3fdd6acd4f'), 'credit_card': '4629-9989-7938-7139', 'email': 'gbkpnjdywr@ydztb.imv', 'first_name': 'Alex', 'last_name': 'Sinnett', 'primary_phone_number': '9539782639'}\n",
      "{'_id': ObjectId('5e93e51800663b3fdd6acea2'), 'credit_card': '7599-3521-8773-5340', 'email': 'lvyzixb@oa.kma', 'first_name': 'Alex', 'last_name': 'al-Jalali', 'primary_phone_number': '4715396348'}\n",
      "{'_id': ObjectId('5e93e51800663b3fdd6ad09a'), 'credit_card': '6790-8988-6196-4004', 'email': 'cu@qkwi.ehf', 'first_name': 'Alex', 'last_name': 'al-Hammad', 'primary_phone_number': '6729359245'}\n",
      "{'_id': ObjectId('5e93e51900663b3fdd6ad964'), 'credit_card': '4883-4897-2609-5300', 'email': 'bfpelsmy@fdybsirq.gry', 'first_name': 'Alex', 'last_name': 'Cronin', 'primary_phone_number': '6527825271'}\n"
     ]
    }
   ],
   "source": [
    "myquery = ({\"first_name\": \"Alex\"})\n",
    "\n",
    "mydoc = db.user_info_table.find(myquery)\n",
    "\n",
    "for x in mydoc:\n",
    "    print(x)\n"
   ]
  },
  {
   "cell_type": "markdown",
   "metadata": {},
   "source": [
    "# Export From MongoDB to Python"
   ]
  },
  {
   "cell_type": "code",
   "execution_count": 22,
   "metadata": {},
   "outputs": [
    {
     "data": {
      "text/html": [
       "<div>\n",
       "<style scoped>\n",
       "    .dataframe tbody tr th:only-of-type {\n",
       "        vertical-align: middle;\n",
       "    }\n",
       "\n",
       "    .dataframe tbody tr th {\n",
       "        vertical-align: top;\n",
       "    }\n",
       "\n",
       "    .dataframe thead th {\n",
       "        text-align: right;\n",
       "    }\n",
       "</style>\n",
       "<table border=\"1\" class=\"dataframe\">\n",
       "  <thead>\n",
       "    <tr style=\"text-align: right;\">\n",
       "      <th></th>\n",
       "      <th>credit_card</th>\n",
       "      <th>email</th>\n",
       "      <th>first_name</th>\n",
       "      <th>last_name</th>\n",
       "      <th>primary_phone_number</th>\n",
       "    </tr>\n",
       "  </thead>\n",
       "  <tbody>\n",
       "    <tr>\n",
       "      <th>0</th>\n",
       "      <td>5399-3484-4724-7187</td>\n",
       "      <td>gso@qiegan.sqe</td>\n",
       "      <td>Donyell Ann</td>\n",
       "      <td>Ospina</td>\n",
       "      <td>5219459148</td>\n",
       "    </tr>\n",
       "    <tr>\n",
       "      <th>1</th>\n",
       "      <td>1630-5261-6108-7631</td>\n",
       "      <td>xnji@gfruaxqnvm.fha</td>\n",
       "      <td>Bishop</td>\n",
       "      <td>Siyed</td>\n",
       "      <td>4164254716</td>\n",
       "    </tr>\n",
       "    <tr>\n",
       "      <th>2</th>\n",
       "      <td>4435-3866-1076-3595</td>\n",
       "      <td>dvyco@tkzhsop.zxg</td>\n",
       "      <td>Connor</td>\n",
       "      <td>Powers</td>\n",
       "      <td>3627413915</td>\n",
       "    </tr>\n",
       "    <tr>\n",
       "      <th>3</th>\n",
       "      <td>3489-7099-9906-8660</td>\n",
       "      <td>fy@uvfhplatmz.cam</td>\n",
       "      <td>Kylie</td>\n",
       "      <td>Her</td>\n",
       "      <td>3562764561</td>\n",
       "    </tr>\n",
       "    <tr>\n",
       "      <th>4</th>\n",
       "      <td>8631-4500-5666-1510</td>\n",
       "      <td>rztkvliou@dkeinhgysf.deo</td>\n",
       "      <td>Anthony</td>\n",
       "      <td>Vo</td>\n",
       "      <td>7345795348</td>\n",
       "    </tr>\n",
       "  </tbody>\n",
       "</table>\n",
       "</div>"
      ],
      "text/plain": [
       "           credit_card                     email   first_name last_name  \\\n",
       "0  5399-3484-4724-7187            gso@qiegan.sqe  Donyell Ann    Ospina   \n",
       "1  1630-5261-6108-7631       xnji@gfruaxqnvm.fha       Bishop     Siyed   \n",
       "2  4435-3866-1076-3595         dvyco@tkzhsop.zxg       Connor    Powers   \n",
       "3  3489-7099-9906-8660         fy@uvfhplatmz.cam        Kylie       Her   \n",
       "4  8631-4500-5666-1510  rztkvliou@dkeinhgysf.deo      Anthony        Vo   \n",
       "\n",
       "  primary_phone_number  \n",
       "0           5219459148  \n",
       "1           4164254716  \n",
       "2           3627413915  \n",
       "3           3562764561  \n",
       "4           7345795348  "
      ]
     },
     "execution_count": 22,
     "metadata": {},
     "output_type": "execute_result"
    }
   ],
   "source": [
    "# Importing the whole thing back again! \n",
    "\n",
    "data_from_db = db.user_info_table.find({},{'_id':0})\n",
    "pd.DataFrame.from_dict(data_from_db).head()"
   ]
  },
  {
   "cell_type": "code",
   "execution_count": 23,
   "metadata": {},
   "outputs": [
    {
     "data": {
      "text/html": [
       "<div>\n",
       "<style scoped>\n",
       "    .dataframe tbody tr th:only-of-type {\n",
       "        vertical-align: middle;\n",
       "    }\n",
       "\n",
       "    .dataframe tbody tr th {\n",
       "        vertical-align: top;\n",
       "    }\n",
       "\n",
       "    .dataframe thead th {\n",
       "        text-align: right;\n",
       "    }\n",
       "</style>\n",
       "<table border=\"1\" class=\"dataframe\">\n",
       "  <thead>\n",
       "    <tr style=\"text-align: right;\">\n",
       "      <th></th>\n",
       "      <th>credit_card</th>\n",
       "      <th>email</th>\n",
       "      <th>first_name</th>\n",
       "      <th>last_name</th>\n",
       "      <th>primary_phone_number</th>\n",
       "    </tr>\n",
       "  </thead>\n",
       "  <tbody>\n",
       "    <tr>\n",
       "      <th>0</th>\n",
       "      <td>1758-6471-8929-2781</td>\n",
       "      <td>ruft@ip.drj</td>\n",
       "      <td>Alex</td>\n",
       "      <td>Acosta</td>\n",
       "      <td>8728626214</td>\n",
       "    </tr>\n",
       "    <tr>\n",
       "      <th>1</th>\n",
       "      <td>7184-4588-2626-7620</td>\n",
       "      <td>rthdxfeic@rgml.gje</td>\n",
       "      <td>Alex</td>\n",
       "      <td>Guzman</td>\n",
       "      <td>5678277128</td>\n",
       "    </tr>\n",
       "    <tr>\n",
       "      <th>2</th>\n",
       "      <td>4543-3438-1308-3700</td>\n",
       "      <td>b@il.zdo</td>\n",
       "      <td>Alex</td>\n",
       "      <td>el-Lone</td>\n",
       "      <td>8798126912</td>\n",
       "    </tr>\n",
       "    <tr>\n",
       "      <th>3</th>\n",
       "      <td>1105-9106-9980-7701</td>\n",
       "      <td>e@irjs.gdp</td>\n",
       "      <td>Alex</td>\n",
       "      <td>Gossen</td>\n",
       "      <td>1492498643</td>\n",
       "    </tr>\n",
       "    <tr>\n",
       "      <th>4</th>\n",
       "      <td>4629-9989-7938-7139</td>\n",
       "      <td>gbkpnjdywr@ydztb.imv</td>\n",
       "      <td>Alex</td>\n",
       "      <td>Sinnett</td>\n",
       "      <td>9539782639</td>\n",
       "    </tr>\n",
       "    <tr>\n",
       "      <th>5</th>\n",
       "      <td>7599-3521-8773-5340</td>\n",
       "      <td>lvyzixb@oa.kma</td>\n",
       "      <td>Alex</td>\n",
       "      <td>al-Jalali</td>\n",
       "      <td>4715396348</td>\n",
       "    </tr>\n",
       "    <tr>\n",
       "      <th>6</th>\n",
       "      <td>6790-8988-6196-4004</td>\n",
       "      <td>cu@qkwi.ehf</td>\n",
       "      <td>Alex</td>\n",
       "      <td>al-Hammad</td>\n",
       "      <td>6729359245</td>\n",
       "    </tr>\n",
       "    <tr>\n",
       "      <th>7</th>\n",
       "      <td>4883-4897-2609-5300</td>\n",
       "      <td>bfpelsmy@fdybsirq.gry</td>\n",
       "      <td>Alex</td>\n",
       "      <td>Cronin</td>\n",
       "      <td>6527825271</td>\n",
       "    </tr>\n",
       "  </tbody>\n",
       "</table>\n",
       "</div>"
      ],
      "text/plain": [
       "           credit_card                  email first_name  last_name  \\\n",
       "0  1758-6471-8929-2781            ruft@ip.drj       Alex     Acosta   \n",
       "1  7184-4588-2626-7620     rthdxfeic@rgml.gje       Alex     Guzman   \n",
       "2  4543-3438-1308-3700               b@il.zdo       Alex    el-Lone   \n",
       "3  1105-9106-9980-7701             e@irjs.gdp       Alex     Gossen   \n",
       "4  4629-9989-7938-7139   gbkpnjdywr@ydztb.imv       Alex    Sinnett   \n",
       "5  7599-3521-8773-5340         lvyzixb@oa.kma       Alex  al-Jalali   \n",
       "6  6790-8988-6196-4004            cu@qkwi.ehf       Alex  al-Hammad   \n",
       "7  4883-4897-2609-5300  bfpelsmy@fdybsirq.gry       Alex     Cronin   \n",
       "\n",
       "  primary_phone_number  \n",
       "0           8728626214  \n",
       "1           5678277128  \n",
       "2           8798126912  \n",
       "3           1492498643  \n",
       "4           9539782639  \n",
       "5           4715396348  \n",
       "6           6729359245  \n",
       "7           6527825271  "
      ]
     },
     "execution_count": 23,
     "metadata": {},
     "output_type": "execute_result"
    }
   ],
   "source": [
    "# Query by FIRST_NAME = Alex, and Export from MongoDB to Python:\n",
    "\n",
    "data_from_db_ = db.user_info_table.find({'first_name':'Alex'},{'_id':0})\n",
    "first_name_alex=list(data_from_db_)\n",
    "pd.DataFrame.from_dict(first_name_alex)"
   ]
  },
  {
   "cell_type": "markdown",
   "metadata": {},
   "source": [
    "# Last NOTE: You can dump a csv file from Mongo and then Import to Python also!\n",
    "\n",
    "feel free to check out this example:\n",
    "[example](https://stackoverflow.com/questions/40245873/export-data-to-csv-from-mongodb-by-using-python)"
   ]
  },
  {
   "cell_type": "markdown",
   "metadata": {},
   "source": [
    "# Citations:  \n",
    "\n",
    "# ♥‿♥\n",
    "\n",
    "https://docs.mongodb.com/manual/reference/configuration-options/ (config file)\n",
    "\n",
    "https://api.mongodb.com/python/current/tutorial.html\n",
    "\n",
    "https://www.datasciencelearner.com/insert-pandas-dataframe-into-mongodb/\n",
    "\n",
    "https://docs.mongodb.com/manual/reference/configuration-options/#configuration-options\n",
    "\n",
    "https://w3schoolsrus.github.io/python/python_mongodb_insert.html\n",
    "\n",
    "https://gist.github.com/mprajwala/849b5909f5b881c8ce6a (csv to mongo from python)\n",
    "\n",
    "https://www.youtube.com/watch?v=RNH0ODaZNE8 (CSV and credentials)\n",
    "\n",
    "https://gist.github.com/katychuang/10439243 (partial but not complete Mac Uninstall MongoDB)\n",
    "\n",
    "https://gist.github.com/mprajwala/849b5909f5b881c8ce6a (csv mongo import help)\n",
    "\n",
    "https://pandas.pydata.org/pandas-docs/stable/reference/api/pandas.DataFrame.to_json.html\n",
    "\n",
    "https://github.com/mongodb/homebrew-brew"
   ]
  },
  {
   "cell_type": "code",
   "execution_count": null,
   "metadata": {},
   "outputs": [],
   "source": []
  }
 ],
 "metadata": {
  "kernelspec": {
   "display_name": "Python 3",
   "language": "python",
   "name": "python3"
  },
  "language_info": {
   "codemirror_mode": {
    "name": "ipython",
    "version": 3
   },
   "file_extension": ".py",
   "mimetype": "text/x-python",
   "name": "python",
   "nbconvert_exporter": "python",
   "pygments_lexer": "ipython3",
   "version": "3.7.3"
  }
 },
 "nbformat": 4,
 "nbformat_minor": 4
}
