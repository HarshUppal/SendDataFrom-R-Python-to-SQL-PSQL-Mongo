{
 "cells": [
  {
   "cell_type": "markdown",
   "metadata": {},
   "source": [
    "# `Postgresql Tips & Tricks:`\n",
    "\n",
    "# <font color=red>Mr Fugu Data Science</font>\n",
    "\n",
    "# (◕‿◕✿)\n",
    "\n",
    "# Purpose & Outcome:\n",
    "\n",
    "+ Psycopg2 goodies\n",
    "+ Coalesce\n",
    "+ find NA, NULL, empty strings\n",
    "+ Duplicate Rows\n",
    "+ Lag/Lead\n",
    "+ Pandas Query sql\n",
    "+ Timing query\n",
    "+ Outliers\n",
    "\n",
    "+ **Outcome**: cool skill building for your tool belt! and bragging\n",
    "\n",
    "# Next Video: R-studio or Starting Machine Learning 🤯 😳"
   ]
  },
  {
   "cell_type": "code",
   "execution_count": 1,
   "metadata": {},
   "outputs": [],
   "source": [
    "import pandas as pd\n",
    "import psycopg2\n",
    "from psycopg2 import sql,extras\n",
    "\n",
    "# Import the 'config' function from the config_user_dta.py file:\n",
    "from config_user_dta import config  # call my user credentials"
   ]
  },
  {
   "cell_type": "markdown",
   "metadata": {},
   "source": [
    "\n",
    "`---------------------------------`\n",
    "\n",
    "If you do not want to create init or config files: do something similar to this\n",
    "\n",
    "**`import psycopg2\n",
    "conn = psycopg2.connect(\"dbname=test user=postgres\") # Connect to an existing database\n",
    "cur = conn.cursor() #Open a cursor to perform database operations`**"
   ]
  },
  {
   "cell_type": "code",
   "execution_count": 2,
   "metadata": {},
   "outputs": [],
   "source": [
    "# Establish a connection to the database by creating a cursor object\n",
    "\n",
    "# Get the config params\n",
    "params_ = config()\n",
    "\n",
    "# Connect to the Postgres_DB:\n",
    "conn = psycopg2.connect(**params_)\n",
    "\n",
    "# Create new_cursor allowing us to write Python to execute PSQL:\n",
    "cur = conn.cursor()\n",
    "\n",
    "conn.autocommit = True  # read documentation understanding when to Use & NOT use (TRUE)"
   ]
  },
  {
   "cell_type": "markdown",
   "metadata": {},
   "source": [
    "# `Misc. Goodies for Psycopg2` 🤠\n",
    "\n",
    "\n",
    "**`-----------------------------------------`**"
   ]
  },
  {
   "cell_type": "markdown",
   "metadata": {},
   "source": [
    "# `psycopg2.extras.DictCursor:`\n",
    "\n",
    "+ retreive attributes in the a fashion similar to Python dictionaries\n",
    "\n"
   ]
  },
  {
   "cell_type": "code",
   "execution_count": 3,
   "metadata": {},
   "outputs": [
    {
     "data": {
      "text/html": [
       "<div>\n",
       "<style scoped>\n",
       "    .dataframe tbody tr th:only-of-type {\n",
       "        vertical-align: middle;\n",
       "    }\n",
       "\n",
       "    .dataframe tbody tr th {\n",
       "        vertical-align: top;\n",
       "    }\n",
       "\n",
       "    .dataframe thead th {\n",
       "        text-align: right;\n",
       "    }\n",
       "</style>\n",
       "<table border=\"1\" class=\"dataframe\">\n",
       "  <thead>\n",
       "    <tr style=\"text-align: right;\">\n",
       "      <th></th>\n",
       "      <th>publish_date</th>\n",
       "      <th>vin</th>\n",
       "      <th>make</th>\n",
       "      <th>model</th>\n",
       "      <th>model_year</th>\n",
       "    </tr>\n",
       "  </thead>\n",
       "  <tbody>\n",
       "    <tr>\n",
       "      <th>0</th>\n",
       "      <td>2020-08-28</td>\n",
       "      <td>102280487</td>\n",
       "      <td>Kia</td>\n",
       "      <td>Soul</td>\n",
       "      <td>2019</td>\n",
       "    </tr>\n",
       "    <tr>\n",
       "      <th>1</th>\n",
       "      <td>2020-08-28</td>\n",
       "      <td>102298407</td>\n",
       "      <td>Chevrolet</td>\n",
       "      <td>Malibu</td>\n",
       "      <td>2017</td>\n",
       "    </tr>\n",
       "    <tr>\n",
       "      <th>2</th>\n",
       "      <td>2020-08-28</td>\n",
       "      <td>102633593</td>\n",
       "      <td>Ford</td>\n",
       "      <td>Fusion</td>\n",
       "      <td>2017</td>\n",
       "    </tr>\n",
       "  </tbody>\n",
       "</table>\n",
       "</div>"
      ],
      "text/plain": [
       "  publish_date        vin       make   model  model_year\n",
       "0   2020-08-28  102280487        Kia    Soul        2019\n",
       "1   2020-08-28  102298407  Chevrolet  Malibu        2017\n",
       "2   2020-08-28  102633593       Ford  Fusion        2017"
      ]
     },
     "execution_count": 3,
     "metadata": {},
     "output_type": "execute_result"
    }
   ],
   "source": [
    "# usually I don't have anything inside this!\n",
    "dict_cur = conn.cursor(cursor_factory=psycopg2.extras.DictCursor)\n",
    "\n",
    "dict_cur.execute(\"SELECT * FROM car_dealer_02;\")\n",
    "\n",
    "dd=dict_cur.fetchall() # save our query result variable\n",
    "\n",
    "col_nms=[]\n",
    "for i in dict_cur.description:\n",
    "    col_nms.append(i[0]) # append list of column names for DF\n",
    "\n",
    "pd.DataFrame(dd,columns=col_nms)"
   ]
  },
  {
   "cell_type": "code",
   "execution_count": 4,
   "metadata": {},
   "outputs": [
    {
     "name": "stdout",
     "output_type": "stream",
     "text": [
      "printing Vin:  102280487\n",
      "printing Vin:  102298407\n",
      "printing Vin:  102633593\n",
      "-------------\n",
      "printing row 02:  [datetime.date(2020, 8, 28), 102633593, 'Ford', 'Fusion', 2017]\n"
     ]
    }
   ],
   "source": [
    "# What else can we do?\n",
    "\n",
    "# if you know the key you want to get\n",
    "for i in dd: \n",
    "    print('printing Vin: ',i['vin'])\n",
    "\n",
    "# calling rows:\n",
    "print('-------------')\n",
    "print('printing row 02: ',dd[2])"
   ]
  },
  {
   "cell_type": "code",
   "execution_count": 5,
   "metadata": {},
   "outputs": [],
   "source": [
    "# can't access, like above! uncomment and see\n",
    "\n",
    "# cur.execute('select * from car_dealer_02')\n",
    "# d_=cur.fetchall()\n",
    "# for i in d_:\n",
    "#     print(i['vin']) # get an error!"
   ]
  },
  {
   "cell_type": "markdown",
   "metadata": {},
   "source": [
    "# `psycopg2.extras.NamedTupleCursor:`\n",
    "\n",
    "+ well you guessed it: makes us some tuples "
   ]
  },
  {
   "cell_type": "code",
   "execution_count": 6,
   "metadata": {},
   "outputs": [
    {
     "name": "stdout",
     "output_type": "stream",
     "text": [
      "By index (row=0):  Record(vin='102280487', idx=0, model_number_list=\"['B2522']\")\n",
      "----------------\n",
      "Or by dot notation for (row=0) return entry for vin: 102280487\n"
     ]
    }
   ],
   "source": [
    "named_tup_cur = conn.cursor(cursor_factory=psycopg2.extras.NamedTupleCursor)\n",
    "named_tup_cur.execute(\"select * from car_dealer_01\")\n",
    "\n",
    "# returns a psycopg2.extras.Record stored in a list of Named Tuples NOT regular tuples\n",
    "nn=named_tup_cur.fetchall()\n",
    "\n",
    "# get our trusty old column names: yee haw\n",
    "named_tup_cur.description\n",
    "\n",
    "# to fetch from Named Tuples: use either index or dot notation by name:\n",
    "\n",
    "print('By index (row=0): ',nn[0])\n",
    "print('----------------')\n",
    "print('Or by dot notation for (row=0) return entry for vin:', nn[0].vin)"
   ]
  },
  {
   "cell_type": "code",
   "execution_count": 7,
   "metadata": {},
   "outputs": [
    {
     "data": {
      "text/html": [
       "<div>\n",
       "<style scoped>\n",
       "    .dataframe tbody tr th:only-of-type {\n",
       "        vertical-align: middle;\n",
       "    }\n",
       "\n",
       "    .dataframe tbody tr th {\n",
       "        vertical-align: top;\n",
       "    }\n",
       "\n",
       "    .dataframe thead th {\n",
       "        text-align: right;\n",
       "    }\n",
       "</style>\n",
       "<table border=\"1\" class=\"dataframe\">\n",
       "  <thead>\n",
       "    <tr style=\"text-align: right;\">\n",
       "      <th></th>\n",
       "      <th>vin</th>\n",
       "      <th>idx</th>\n",
       "      <th>model_number_list</th>\n",
       "    </tr>\n",
       "  </thead>\n",
       "  <tbody>\n",
       "    <tr>\n",
       "      <th>0</th>\n",
       "      <td>102280487</td>\n",
       "      <td>0</td>\n",
       "      <td>['B2522']</td>\n",
       "    </tr>\n",
       "    <tr>\n",
       "      <th>1</th>\n",
       "      <td>102280487</td>\n",
       "      <td>0</td>\n",
       "      <td>['B2522']</td>\n",
       "    </tr>\n",
       "    <tr>\n",
       "      <th>2</th>\n",
       "      <td>102298407</td>\n",
       "      <td>1</td>\n",
       "      <td>['1ZD69']</td>\n",
       "    </tr>\n",
       "    <tr>\n",
       "      <th>3</th>\n",
       "      <td>102298407</td>\n",
       "      <td>1</td>\n",
       "      <td>['1ZD69']</td>\n",
       "    </tr>\n",
       "    <tr>\n",
       "      <th>4</th>\n",
       "      <td>102298407</td>\n",
       "      <td>1</td>\n",
       "      <td>['1ZD69']</td>\n",
       "    </tr>\n",
       "  </tbody>\n",
       "</table>\n",
       "</div>"
      ],
      "text/plain": [
       "         vin  idx model_number_list\n",
       "0  102280487    0         ['B2522']\n",
       "1  102280487    0         ['B2522']\n",
       "2  102298407    1         ['1ZD69']\n",
       "3  102298407    1         ['1ZD69']\n",
       "4  102298407    1         ['1ZD69']"
      ]
     },
     "execution_count": 7,
     "metadata": {},
     "output_type": "execute_result"
    }
   ],
   "source": [
    "# We can directly take this for a Dataframe by the way: yay\n",
    "pd.DataFrame(nn).head()"
   ]
  },
  {
   "cell_type": "code",
   "execution_count": 8,
   "metadata": {},
   "outputs": [],
   "source": [
    "def create_staging_table(cursor):\n",
    "    cursor.execute(\"\"\"\n",
    "        DROP TABLE IF EXISTS null_table_ex;\n",
    "        CREATE UNLOGGED TABLE null_table_ex (\n",
    "            first_name         varchar(30),\n",
    "            bank_balance       int,\n",
    "            personal_info      text\n",
    "            \n",
    "        );\"\"\")\n",
    "    \n",
    "# Send the Schema to PSQL\n",
    "\n",
    "with conn.cursor() as cursor:\n",
    "    create_staging_table(cursor)"
   ]
  },
  {
   "cell_type": "code",
   "execution_count": 9,
   "metadata": {},
   "outputs": [],
   "source": [
    "q_=\"\"\"\n",
    "insert into null_table_ex values\n",
    "('john',10,'something interesting'),\n",
    "('sue',200,'unknown'),\n",
    "('larry',NULL,'average place'),\n",
    "('queen troll',NULL,'trollville')\n",
    "\"\"\"\n",
    "cur.execute(q_)"
   ]
  },
  {
   "cell_type": "code",
   "execution_count": 10,
   "metadata": {},
   "outputs": [
    {
     "data": {
      "text/plain": [
       "[('john', 10, 'something interesting'),\n",
       " ('sue', 200, 'unknown'),\n",
       " ('larry', None, 'average place'),\n",
       " ('queen troll', None, 'trollville')]"
      ]
     },
     "execution_count": 10,
     "metadata": {},
     "output_type": "execute_result"
    }
   ],
   "source": [
    "cur.execute('select * from null_table_ex')\n",
    "cur.fetchall()"
   ]
  },
  {
   "cell_type": "markdown",
   "metadata": {},
   "source": [
    "# `Coalesce:` returns first argument that is not Null\n",
    "\n",
    "+ you can take advantage of this by recoding null values to whatever filler word you want, like `fillna()` in python  "
   ]
  },
  {
   "cell_type": "code",
   "execution_count": 11,
   "metadata": {},
   "outputs": [
    {
     "data": {
      "text/html": [
       "<div>\n",
       "<style scoped>\n",
       "    .dataframe tbody tr th:only-of-type {\n",
       "        vertical-align: middle;\n",
       "    }\n",
       "\n",
       "    .dataframe tbody tr th {\n",
       "        vertical-align: top;\n",
       "    }\n",
       "\n",
       "    .dataframe thead th {\n",
       "        text-align: right;\n",
       "    }\n",
       "</style>\n",
       "<table border=\"1\" class=\"dataframe\">\n",
       "  <thead>\n",
       "    <tr style=\"text-align: right;\">\n",
       "      <th></th>\n",
       "      <th>first_name</th>\n",
       "      <th>bank_balance</th>\n",
       "      <th>personal_info</th>\n",
       "      <th>recoded_null_val</th>\n",
       "    </tr>\n",
       "  </thead>\n",
       "  <tbody>\n",
       "    <tr>\n",
       "      <th>0</th>\n",
       "      <td>john</td>\n",
       "      <td>10.0</td>\n",
       "      <td>something interesting</td>\n",
       "      <td>10</td>\n",
       "    </tr>\n",
       "    <tr>\n",
       "      <th>1</th>\n",
       "      <td>sue</td>\n",
       "      <td>200.0</td>\n",
       "      <td>unknown</td>\n",
       "      <td>200</td>\n",
       "    </tr>\n",
       "    <tr>\n",
       "      <th>2</th>\n",
       "      <td>larry</td>\n",
       "      <td>NaN</td>\n",
       "      <td>average place</td>\n",
       "      <td>-1</td>\n",
       "    </tr>\n",
       "    <tr>\n",
       "      <th>3</th>\n",
       "      <td>queen troll</td>\n",
       "      <td>NaN</td>\n",
       "      <td>trollville</td>\n",
       "      <td>-1</td>\n",
       "    </tr>\n",
       "  </tbody>\n",
       "</table>\n",
       "</div>"
      ],
      "text/plain": [
       "    first_name  bank_balance          personal_info  recoded_null_val\n",
       "0         john          10.0  something interesting                10\n",
       "1          sue         200.0                unknown               200\n",
       "2        larry           NaN          average place                -1\n",
       "3  queen troll           NaN             trollville                -1"
      ]
     },
     "execution_count": 11,
     "metadata": {},
     "output_type": "execute_result"
    }
   ],
   "source": [
    "coalesce_=\"\"\"\n",
    "SELECT \n",
    "    *,\n",
    "    COALESCE(bank_balance, -1) AS RECODED_NULL_VAL\n",
    "FROM  \n",
    "  null_table_ex    \n",
    "\"\"\"\n",
    "cur.execute(coalesce_)\n",
    "coale_cols=[]\n",
    "for i in cur.description:\n",
    "    coale_cols.append(i[0])\n",
    "\n",
    "pd.DataFrame(cur.fetchall(),columns=coale_cols)\n",
    "\n",
    "# side note watch the datatype, the column of bank_balance gives \n",
    "# me issues if I don't pay attn"
   ]
  },
  {
   "cell_type": "markdown",
   "metadata": {},
   "source": [
    "# `Prints off: Nulls rows`"
   ]
  },
  {
   "cell_type": "code",
   "execution_count": 12,
   "metadata": {},
   "outputs": [
    {
     "data": {
      "text/plain": [
       "[('larry', None, 'average place'), ('queen troll', None, 'trollville')]"
      ]
     },
     "execution_count": 12,
     "metadata": {},
     "output_type": "execute_result"
    }
   ],
   "source": [
    "\n",
    "cur.execute(\"\"\"\n",
    "SELECT t.*\n",
    "FROM null_table_ex as t\n",
    "\n",
    "-- If nulls are present, these will not be equal\n",
    "\n",
    "WHERE to_jsonb(t) != jsonb_strip_nulls(to_jsonb(t))\n",
    "\"\"\")\n",
    "cur.fetchall()\n",
    "\n",
    "# not my code, got from stackoverflow, citation at bottom"
   ]
  },
  {
   "cell_type": "markdown",
   "metadata": {},
   "source": [
    "# `Check if you have an empty string or Null:`  Case When\n",
    "\n",
    "+ you are unable to use `coalesce` for this circumstance... Sad face, but wait super-heroes let's use **`case when`** and keep the *mega trolls* at bay.\n",
    "    + think of `Case When` as a conditional that keeps going until it finds a true value\n",
    "\n",
    "\n",
    "`SIDE Note:`\n",
    "\n",
    "**In the terminal**: `\\pset`\n",
    "\n",
    "ex.) `\\pset null (null)` then run your query and it should fill with `(null)`\n",
    "\n",
    "check this link for cool tricks/tips in command line\n",
    "\n",
    "https://pgdash.io/blog/postgres-psql-tips-tricks.html"
   ]
  },
  {
   "cell_type": "code",
   "execution_count": 13,
   "metadata": {},
   "outputs": [],
   "source": [
    "def fun_table_creation(table:str,col_01:str,col_02:str,col_03:str,col_04:str):\n",
    "    with conn.cursor() as cursor:\n",
    "        stmnt=sql.SQL(\"\"\"\n",
    "        DROP TABLE IF EXISTS {table};\n",
    "        CREATE UNLOGGED TABLE {table} (\n",
    "            {col_01}        varchar(30),\n",
    "            {col_02}        int,\n",
    "            {col_03}        text,\n",
    "            {col_04}        varchar(12)\n",
    "        \n",
    "        );\"\"\").format(table=sql.Identifier(table),col_01=sql.Identifier(col_01),\n",
    "col_02=sql.Identifier(col_02),col_03=sql.Identifier(col_03),col_04=sql.Identifier(col_04))\n",
    "        result= cur.execute(stmnt)\n",
    "        \n",
    "#     result = cur.fetchall() # this can't be used when created the table\n",
    "    return result\n",
    "    \n",
    "fun_table_creation('table_null_empty_str','first_name','bank_balance',\n",
    "                  'personal_info','phone_number')"
   ]
  },
  {
   "cell_type": "markdown",
   "metadata": {},
   "source": [
    "# `Check Our Table and Schema:`"
   ]
  },
  {
   "cell_type": "code",
   "execution_count": 14,
   "metadata": {},
   "outputs": [
    {
     "data": {
      "text/plain": [
       "[('table_null_empty_str', 'first_name', 'character varying'),\n",
       " ('table_null_empty_str', 'bank_balance', 'integer'),\n",
       " ('table_null_empty_str', 'personal_info', 'text'),\n",
       " ('table_null_empty_str', 'phone_number', 'character varying')]"
      ]
     },
     "execution_count": 14,
     "metadata": {},
     "output_type": "execute_result"
    }
   ],
   "source": [
    "ss=\"\"\"\n",
    "SELECT table_name, \n",
    "column_name, \n",
    "data_type \n",
    "FROM information_schema.columns \n",
    "WHERE table_name={table_name} ;\n",
    "\"\"\"\n",
    "\n",
    "# we are using: literal because the table_name will call our table and we need str repr.\n",
    "o=sql.SQL(ss).format(table_name=sql.Literal('table_null_empty_str'))\n",
    "cur.execute(o)\n",
    "cur.fetchall()"
   ]
  },
  {
   "cell_type": "markdown",
   "metadata": {},
   "source": [
    "# `Insert into table: empty strings, null etc`\n",
    "\n"
   ]
  },
  {
   "cell_type": "code",
   "execution_count": 15,
   "metadata": {},
   "outputs": [],
   "source": [
    "cur.execute(\"insert into table_null_empty_str values\\\n",
    "('George',NULL,'vagabond',''),\\\n",
    "('Spencer',20,'saturn','9999999999'),\\\n",
    "('August',100,'who knows','1111111111'),\\\n",
    "('Victor',NULL,'NA','')\\\n",
    "\")\n"
   ]
  },
  {
   "cell_type": "code",
   "execution_count": 16,
   "metadata": {},
   "outputs": [
    {
     "data": {
      "text/plain": [
       "[('George', None, 'vagabond', ''),\n",
       " ('Spencer', 20, 'saturn', '9999999999'),\n",
       " ('August', 100, 'who knows', '1111111111'),\n",
       " ('Victor', None, 'NA', '')]"
      ]
     },
     "execution_count": 16,
     "metadata": {},
     "output_type": "execute_result"
    }
   ],
   "source": [
    "cur.execute(\"select * from table_null_empty_str\")\n",
    "cur.fetchall()"
   ]
  },
  {
   "cell_type": "markdown",
   "metadata": {},
   "source": [
    "# Find the empty strings, null and NA values:"
   ]
  },
  {
   "cell_type": "code",
   "execution_count": 17,
   "metadata": {},
   "outputs": [
    {
     "data": {
      "text/html": [
       "<div>\n",
       "<style scoped>\n",
       "    .dataframe tbody tr th:only-of-type {\n",
       "        vertical-align: middle;\n",
       "    }\n",
       "\n",
       "    .dataframe tbody tr th {\n",
       "        vertical-align: top;\n",
       "    }\n",
       "\n",
       "    .dataframe thead th {\n",
       "        text-align: right;\n",
       "    }\n",
       "</style>\n",
       "<table border=\"1\" class=\"dataframe\">\n",
       "  <thead>\n",
       "    <tr style=\"text-align: right;\">\n",
       "      <th></th>\n",
       "      <th>first_name</th>\n",
       "      <th>bank_balance</th>\n",
       "      <th>personal_info</th>\n",
       "      <th>phone_number</th>\n",
       "      <th>recoded_null_val_bank_balance</th>\n",
       "      <th>casewhen_empty_str_phone</th>\n",
       "      <th>casewhen_na_str_personal_info</th>\n",
       "    </tr>\n",
       "  </thead>\n",
       "  <tbody>\n",
       "    <tr>\n",
       "      <th>0</th>\n",
       "      <td>George</td>\n",
       "      <td>NaN</td>\n",
       "      <td>vagabond</td>\n",
       "      <td></td>\n",
       "      <td>-1</td>\n",
       "      <td>EMPTY_MISSING</td>\n",
       "      <td>None</td>\n",
       "    </tr>\n",
       "    <tr>\n",
       "      <th>1</th>\n",
       "      <td>Spencer</td>\n",
       "      <td>20.0</td>\n",
       "      <td>saturn</td>\n",
       "      <td>9999999999</td>\n",
       "      <td>20</td>\n",
       "      <td>None</td>\n",
       "      <td>None</td>\n",
       "    </tr>\n",
       "    <tr>\n",
       "      <th>2</th>\n",
       "      <td>August</td>\n",
       "      <td>100.0</td>\n",
       "      <td>who knows</td>\n",
       "      <td>1111111111</td>\n",
       "      <td>100</td>\n",
       "      <td>None</td>\n",
       "      <td>None</td>\n",
       "    </tr>\n",
       "    <tr>\n",
       "      <th>3</th>\n",
       "      <td>Victor</td>\n",
       "      <td>NaN</td>\n",
       "      <td>NA</td>\n",
       "      <td></td>\n",
       "      <td>-1</td>\n",
       "      <td>EMPTY_MISSING</td>\n",
       "      <td>NA_MISSING</td>\n",
       "    </tr>\n",
       "  </tbody>\n",
       "</table>\n",
       "</div>"
      ],
      "text/plain": [
       "  first_name  bank_balance personal_info phone_number  \\\n",
       "0     George           NaN      vagabond                \n",
       "1    Spencer          20.0        saturn   9999999999   \n",
       "2     August         100.0     who knows   1111111111   \n",
       "3     Victor           NaN            NA                \n",
       "\n",
       "   recoded_null_val_bank_balance casewhen_empty_str_phone  \\\n",
       "0                             -1            EMPTY_MISSING   \n",
       "1                             20                     None   \n",
       "2                            100                     None   \n",
       "3                             -1            EMPTY_MISSING   \n",
       "\n",
       "  casewhen_na_str_personal_info  \n",
       "0                          None  \n",
       "1                          None  \n",
       "2                          None  \n",
       "3                    NA_MISSING  "
      ]
     },
     "execution_count": 17,
     "metadata": {},
     "output_type": "execute_result"
    }
   ],
   "source": [
    "check_emptyStr_=\"\"\"\n",
    "SELECT \n",
    " *,\n",
    "COALESCE(bank_balance, -1) AS RECODED_NULL_VAL_Bank_balance, \n",
    "-- same as befor with bank_balance\n",
    "\n",
    "CASE WHEN phone_number = '' THEN 'EMPTY_MISSING' END AS CASEWHEN_EMPTY_STR_Phone, \n",
    "-- check if phone_num col has empty strings and replace with empty_missing str\n",
    "\n",
    "CASE WHEN personal_info = 'NA' THEN 'NA_MISSING' END AS CASEWHEN_NA_STR_Personal_Info\n",
    "--same as above checks but with personal_info col, where NA is a string NA\n",
    "\n",
    "FROM \n",
    "   table_null_empty_str\n",
    "\"\"\"\n",
    "\n",
    "cur.execute(check_emptyStr_)\n",
    "co_=[]\n",
    "for i in cur.description:\n",
    "    co_.append(i[0])\n",
    "    \n",
    "    \n",
    "pd.DataFrame(cur.fetchall(),columns=co_)"
   ]
  },
  {
   "cell_type": "markdown",
   "metadata": {},
   "source": [
    "# `Find Duplicate Rows: `"
   ]
  },
  {
   "cell_type": "code",
   "execution_count": 18,
   "metadata": {},
   "outputs": [
    {
     "name": "stdout",
     "output_type": "stream",
     "text": [
      "Duplicate Value:  [('(9999-9999-9999-9999,MrFugu@gmail.com,MrFuguYay,DataScience,1111111111,\"Intel Core i9-9999K\",2020-05-05)', 2)]\n",
      "--------------\n",
      "Verify Duplicate:  [('9999-9999-9999-9999', 'MrFugu@gmail.com', 'MrFuguYay', 'DataScience', '1111111111', 'Intel Core i9-9999K', datetime.date(2020, 5, 5)), ('9999-9999-9999-9999', 'MrFugu@gmail.com', 'MrFuguYay', 'DataScience', '1111111111', 'Intel Core i9-9999K', datetime.date(2020, 5, 5))]\n"
     ]
    }
   ],
   "source": [
    "\n",
    "cur.execute(\"\"\"SELECT (ppl_cpu_purchases.*)::text, count(*)\n",
    "FROM ppl_cpu_purchases\n",
    "GROUP BY ppl_cpu_purchases.*\n",
    "HAVING count(*) > 1\"\"\")\n",
    "\n",
    "print('Duplicate Value: ',cur.fetchall())\n",
    "\n",
    "print('--------------')\n",
    "\n",
    "# verify\n",
    "cur.execute(\"\"\"select * from ppl_cpu_purchases where last_name='DataScience' \"\"\")\n",
    "print('Verify Duplicate: ',cur.fetchall())"
   ]
  },
  {
   "cell_type": "markdown",
   "metadata": {},
   "source": [
    "# `Lag( ) and Lead( )`: allowing you to move forward or backward\n",
    "\n",
    "+ nonaggregate window function (perform operations by row) and return it  versus an aggregate function that returns a single row\n",
    "\n",
    "+ You can use these if you are searching through dates for instance. \n",
    "\n",
    "# `Ex. )` \n",
    "\n",
    "+ What if I wanted to find a column relating to a particular cpu version and when it was last sold\n",
    "\n",
    "*Also, better than doing self-join*: https://cloud.google.com/bigquery/docs/best-practices-performance-patterns"
   ]
  },
  {
   "cell_type": "code",
   "execution_count": 19,
   "metadata": {},
   "outputs": [
    {
     "data": {
      "text/html": [
       "<div>\n",
       "<style scoped>\n",
       "    .dataframe tbody tr th:only-of-type {\n",
       "        vertical-align: middle;\n",
       "    }\n",
       "\n",
       "    .dataframe tbody tr th {\n",
       "        vertical-align: top;\n",
       "    }\n",
       "\n",
       "    .dataframe thead th {\n",
       "        text-align: right;\n",
       "    }\n",
       "</style>\n",
       "<table border=\"1\" class=\"dataframe\">\n",
       "  <thead>\n",
       "    <tr style=\"text-align: right;\">\n",
       "      <th></th>\n",
       "      <th>first_name</th>\n",
       "      <th>last_name</th>\n",
       "      <th>purchase_date</th>\n",
       "      <th>cpu</th>\n",
       "      <th>lag_date_col</th>\n",
       "    </tr>\n",
       "  </thead>\n",
       "  <tbody>\n",
       "    <tr>\n",
       "      <th>0</th>\n",
       "      <td>Ebany</td>\n",
       "      <td>Rivera</td>\n",
       "      <td>2017-07-10</td>\n",
       "      <td>AMD Ryzen 1 1113X</td>\n",
       "      <td>None</td>\n",
       "    </tr>\n",
       "    <tr>\n",
       "      <th>1</th>\n",
       "      <td>Terri</td>\n",
       "      <td>Fadlelmola</td>\n",
       "      <td>2018-08-10</td>\n",
       "      <td>AMD Ryzen 1 1113X</td>\n",
       "      <td>2017-07-10</td>\n",
       "    </tr>\n",
       "    <tr>\n",
       "      <th>2</th>\n",
       "      <td>Austin</td>\n",
       "      <td>al-Abdo</td>\n",
       "      <td>2018-08-28</td>\n",
       "      <td>AMD Ryzen 1 1140X</td>\n",
       "      <td>None</td>\n",
       "    </tr>\n",
       "    <tr>\n",
       "      <th>3</th>\n",
       "      <td>Brooke</td>\n",
       "      <td>Ly</td>\n",
       "      <td>2017-12-25</td>\n",
       "      <td>AMD Ryzen 1 1147X</td>\n",
       "      <td>None</td>\n",
       "    </tr>\n",
       "    <tr>\n",
       "      <th>4</th>\n",
       "      <td>David</td>\n",
       "      <td>el-Rabbani</td>\n",
       "      <td>2018-06-27</td>\n",
       "      <td>AMD Ryzen 1 1157X</td>\n",
       "      <td>None</td>\n",
       "    </tr>\n",
       "    <tr>\n",
       "      <th>5</th>\n",
       "      <td>Rashaa</td>\n",
       "      <td>Redwood</td>\n",
       "      <td>2017-12-31</td>\n",
       "      <td>AMD Ryzen 1 1183X</td>\n",
       "      <td>None</td>\n",
       "    </tr>\n",
       "    <tr>\n",
       "      <th>6</th>\n",
       "      <td>Mario</td>\n",
       "      <td>el-Kazmi</td>\n",
       "      <td>2018-02-27</td>\n",
       "      <td>AMD Ryzen 1 1208X</td>\n",
       "      <td>None</td>\n",
       "    </tr>\n",
       "    <tr>\n",
       "      <th>7</th>\n",
       "      <td>Leshai</td>\n",
       "      <td>Green</td>\n",
       "      <td>2017-10-22</td>\n",
       "      <td>AMD Ryzen 1 1215X</td>\n",
       "      <td>None</td>\n",
       "    </tr>\n",
       "    <tr>\n",
       "      <th>8</th>\n",
       "      <td>Justin</td>\n",
       "      <td>Becerra</td>\n",
       "      <td>2018-03-06</td>\n",
       "      <td>AMD Ryzen 1 1288X</td>\n",
       "      <td>None</td>\n",
       "    </tr>\n",
       "    <tr>\n",
       "      <th>9</th>\n",
       "      <td>Shaahira</td>\n",
       "      <td>Le</td>\n",
       "      <td>2018-07-18</td>\n",
       "      <td>AMD Ryzen 1 1383X</td>\n",
       "      <td>None</td>\n",
       "    </tr>\n",
       "  </tbody>\n",
       "</table>\n",
       "</div>"
      ],
      "text/plain": [
       "  first_name   last_name purchase_date                cpu lag_date_col\n",
       "0      Ebany      Rivera    2017-07-10  AMD Ryzen 1 1113X         None\n",
       "1      Terri  Fadlelmola    2018-08-10  AMD Ryzen 1 1113X   2017-07-10\n",
       "2     Austin     al-Abdo    2018-08-28  AMD Ryzen 1 1140X         None\n",
       "3     Brooke          Ly    2017-12-25  AMD Ryzen 1 1147X         None\n",
       "4      David  el-Rabbani    2018-06-27  AMD Ryzen 1 1157X         None\n",
       "5     Rashaa     Redwood    2017-12-31  AMD Ryzen 1 1183X         None\n",
       "6      Mario    el-Kazmi    2018-02-27  AMD Ryzen 1 1208X         None\n",
       "7     Leshai       Green    2017-10-22  AMD Ryzen 1 1215X         None\n",
       "8     Justin     Becerra    2018-03-06  AMD Ryzen 1 1288X         None\n",
       "9   Shaahira          Le    2018-07-18  AMD Ryzen 1 1383X         None"
      ]
     },
     "execution_count": 19,
     "metadata": {},
     "output_type": "execute_result"
    }
   ],
   "source": [
    "# Lag: \n",
    "\n",
    "lag_v=\"\"\"\n",
    "SELECT first_name, last_name, purchase_date, cpu, \n",
    "lag(purchase_date) OVER (\n",
    "PARTITION BY cpu\n",
    "ORDER BY purchase_date) lag_date_col\n",
    "FROM ppl_cpu_purchases\"\"\"\n",
    "# cur.execute('select * from ppl_cpu_purchases limit 2')\n",
    "cur.execute(lag_v)\n",
    "lag_cols=[]\n",
    "for i in cur.description:\n",
    "    lag_cols.append(i[0])\n",
    "pd.DataFrame(cur.fetchall(),columns=lag_cols).head(10)\n",
    "# cur.mogrify(u)"
   ]
  },
  {
   "cell_type": "markdown",
   "metadata": {},
   "source": [
    " **Avoiding the use of a self join will aid in performance for big queries and the potential of duplicating output. Using a window function will assist in your row dependent relationships**\n",
    " \n",
    "`-------------------------------`"
   ]
  },
  {
   "cell_type": "markdown",
   "metadata": {},
   "source": [
    "# Sql query with python:\n",
    "\n",
    "we can directly use pandas here:\n",
    "\n",
    "`query=\"Some sql query\"\n",
    "pd.read_sql(query,connection)\n",
    "`\n",
    "\n",
    "but there is a problem here; if we need to do constant updates to these data we have to think about this. Also, if the query is returning a lot of data we would like to instead consider bringing the data into python. "
   ]
  },
  {
   "cell_type": "code",
   "execution_count": 20,
   "metadata": {},
   "outputs": [
    {
     "data": {
      "text/html": [
       "<div>\n",
       "<style scoped>\n",
       "    .dataframe tbody tr th:only-of-type {\n",
       "        vertical-align: middle;\n",
       "    }\n",
       "\n",
       "    .dataframe tbody tr th {\n",
       "        vertical-align: top;\n",
       "    }\n",
       "\n",
       "    .dataframe thead th {\n",
       "        text-align: right;\n",
       "    }\n",
       "</style>\n",
       "<table border=\"1\" class=\"dataframe\">\n",
       "  <thead>\n",
       "    <tr style=\"text-align: right;\">\n",
       "      <th></th>\n",
       "      <th>vin</th>\n",
       "      <th>idx</th>\n",
       "      <th>model_number_list</th>\n",
       "    </tr>\n",
       "  </thead>\n",
       "  <tbody>\n",
       "    <tr>\n",
       "      <th>0</th>\n",
       "      <td>102280487</td>\n",
       "      <td>0</td>\n",
       "      <td>['B2522']</td>\n",
       "    </tr>\n",
       "    <tr>\n",
       "      <th>1</th>\n",
       "      <td>102280487</td>\n",
       "      <td>0</td>\n",
       "      <td>['B2522']</td>\n",
       "    </tr>\n",
       "    <tr>\n",
       "      <th>2</th>\n",
       "      <td>102298407</td>\n",
       "      <td>1</td>\n",
       "      <td>['1ZD69']</td>\n",
       "    </tr>\n",
       "    <tr>\n",
       "      <th>3</th>\n",
       "      <td>102298407</td>\n",
       "      <td>1</td>\n",
       "      <td>['1ZD69']</td>\n",
       "    </tr>\n",
       "    <tr>\n",
       "      <th>4</th>\n",
       "      <td>102298407</td>\n",
       "      <td>1</td>\n",
       "      <td>['1ZD69']</td>\n",
       "    </tr>\n",
       "    <tr>\n",
       "      <th>5</th>\n",
       "      <td>102298407</td>\n",
       "      <td>1</td>\n",
       "      <td>['1ZD69']</td>\n",
       "    </tr>\n",
       "  </tbody>\n",
       "</table>\n",
       "</div>"
      ],
      "text/plain": [
       "         vin  idx model_number_list\n",
       "0  102280487    0         ['B2522']\n",
       "1  102280487    0         ['B2522']\n",
       "2  102298407    1         ['1ZD69']\n",
       "3  102298407    1         ['1ZD69']\n",
       "4  102298407    1         ['1ZD69']\n",
       "5  102298407    1         ['1ZD69']"
      ]
     },
     "execution_count": 20,
     "metadata": {},
     "output_type": "execute_result"
    }
   ],
   "source": [
    "query=\"\"\"select * from car_dealer_01\"\"\"\n",
    "pd.read_sql(query,conn).head(6)\n",
    "\n",
    "# Don't use this if there are frequent updates to your data or have large files. Then c\n",
    "# consider writing a function or usual query protocol with your connection"
   ]
  },
  {
   "cell_type": "markdown",
   "metadata": {},
   "source": [
    "`------------------------------`\n",
    "\n",
    "\n",
    "# `Timing our queries:`\n",
    "\n",
    "`--------------------------`\n",
    "\n",
    "**using the terminal you have**: `\\timing`\n",
    "\n",
    "which can be used like this:\n",
    "\n",
    "**`my terminal_name# \\timing\n",
    "my_terminal_name# select * from some_table;\n",
    "`**\n",
    "\n",
    "`you will get a printout: But, what if I am using python?`\n",
    "\n",
    "`---------------------------`\n",
    "\n",
    "**`explain analyze`** can help\n",
    "\n",
    "we can have a query like this:\n",
    "\n",
    "**`explain analyze select * from some_table`**\n",
    "\n",
    "you will get some data printed out:\n",
    "\n",
    "`QUERY PLAN`\n",
    "\n",
    "`------------------------------------------------------`\n",
    "\n",
    "**`Seq Scan on ppl_cpu_purchases  (cost=0.00..143.26 rows=5826 width=85) (actual \n",
    " time=0.019..1.413 rows=5828 loops=1)\n",
    " Planning Time: 0.058 ms\n",
    " Execution Time: 1.904 ms`**"
   ]
  },
  {
   "cell_type": "markdown",
   "metadata": {},
   "source": [
    "`-------------------------------`\n",
    "\n",
    "# `Find Outliers: ` (without) using self-join\n",
    "\n",
    "+ For instance we are trying to find the max/min value for each row based on a particular ID value."
   ]
  },
  {
   "cell_type": "markdown",
   "metadata": {},
   "source": [
    "\n",
    "\"\"\"SELECT *\n",
    "FROM \n",
    "(\n",
    "  SELECT \n",
    "    DAT.*, \n",
    "    CASE WHEN (NUM_VAR = MAX(NUM_VAR) OVER (PARTITION BY ID_VAR)) THEN 'Y' ELSE 'N' END AS MAX_NUM_IND\n",
    "  FROM \n",
    "    CURRENT_TABLE     DAT\n",
    ") DAT2\n",
    "WHERE MAX_NUM_IND = 'Y'\"\"\"\n",
    "\n",
    "`Not my code`"
   ]
  },
  {
   "cell_type": "markdown",
   "metadata": {},
   "source": [
    "# <font color=red>LIKE</font>, Share &\n",
    "\n",
    "# <font color=red>SUB</font>scribe"
   ]
  },
  {
   "cell_type": "markdown",
   "metadata": {},
   "source": [
    "# Citaitons & Help:\n",
    "\n",
    "# ◔̯◔\n",
    "\n",
    "`Misc. psycopg2 goodies`:\n",
    "\n",
    "https://www.psycopg.org/docs/extras.html?highlight=loggingconnection\n",
    "\n",
    "https://stackoverflow.com/questions/6739355/dictcursor-doesnt-seem-to-work-under-psycopg2\n",
    "\n",
    "https://stackoverflow.com/questions/49020718/get-a-list-of-column-names-from-a-psycopg2-cursor-executing-stored-proc\n",
    "\n",
    "`Coalesce & Nulls`\n",
    "\n",
    "https://stackoverflow.com/questions/59458925/postgres-get-all-columns-that-have-no-null-values\n",
    "\n",
    "https://stackoverflow.com/questions/31034847/how-to-find-all-rows-with-a-null-value-in-any-column-using-postgresql\n",
    "\n",
    "https://towardsdatascience.com/6-sql-tricks-every-data-scientist-should-know-f84be499aea5\n",
    "\n",
    "https://docs.yugabyte.com/latest/api/ysql/datatypes/type_json/functions-operators/jsonb-strip-nulls/ (jsonb not null functions)\n",
    "\n",
    "https://www.postgresql.org/docs/9.5/functions-json.html (json functions)\n",
    "\n",
    "`Stats`\n",
    "\n",
    "\n",
    "https://www.postgresql.org/docs/9.6/monitoring-stats.html\n",
    "\n",
    "https://gist.github.com/anvk/475c22cbca1edc5ce94546c871460fdd\n",
    "\n",
    "`Tricks`\n",
    "\n",
    "https://towardsdatascience.com/6-sql-tricks-every-data-scientist-should-know-f84be499aea5\n",
    "\n",
    "https://pgdash.io/blog/postgres-psql-tips-tricks.html\n",
    "\n",
    "https://www.linkedin.com/pulse/advanced-sql-queries-tips-tricks-arash-atarzadeh/\n",
    "\n",
    "https://medium.com/better-programming/4-sql-tips-for-data-scientist-and-data-engineers-56c41487752f\n",
    "\n",
    "https://www.mysqltutorial.org/mysql-window-functions/mysql-lag-function/ (lag/lead)\n",
    "\n",
    "https://www.oracletutorial.com/oracle-analytic-functions/oracle-lead/    (lag/lead)\n",
    "\n",
    "https://stackoverflow.com/questions/28156795/how-to-find-duplicate-records-in-postgresql (dups)"
   ]
  }
 ],
 "metadata": {
  "kernelspec": {
   "display_name": "Python 3",
   "language": "python",
   "name": "python3"
  },
  "language_info": {
   "codemirror_mode": {
    "name": "ipython",
    "version": 3
   },
   "file_extension": ".py",
   "mimetype": "text/x-python",
   "name": "python",
   "nbconvert_exporter": "python",
   "pygments_lexer": "ipython3",
   "version": "3.7.3"
  }
 },
 "nbformat": 4,
 "nbformat_minor": 4
}
