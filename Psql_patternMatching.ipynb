{
 "cells": [
  {
   "cell_type": "markdown",
   "metadata": {},
   "source": [
    "# Psql Type Casting with Python (psycopg2)\n",
    "\n",
    "# <font color=red>Mr Fugu Data Science</font>\n",
    "\n",
    "# (◕‿◕✿)\n",
    "\n",
    "\n",
    "# Purpose & Outcome:\n",
    "\n",
    "+ This is a toolset type of day, you will learn some new tools/skills which WILL come up in your future!\n",
    "\n",
    "+ Use psycopg2: printing table, columns and schema vs `\\d` because it won't directly work\n",
    "+ Change column datatype\n",
    "+ Query to find column names for dataframe, instead of hardcoding them in\n",
    "+ Pattern matching, fuzzy match, levenshtein distance"
   ]
  },
  {
   "cell_type": "code",
   "execution_count": 1,
   "metadata": {},
   "outputs": [],
   "source": [
    "import pandas as pd\n",
    "import psycopg2\n",
    "from psycopg2 import sql # format sql queries with params\n",
    "\n",
    "# Import the 'config' function from the config_user_dta.py file:\n",
    "from config_user_dta import config  # call my user credentials"
   ]
  },
  {
   "cell_type": "markdown",
   "metadata": {},
   "source": [
    "`---------------------------------`\n",
    "\n",
    "If you do not want to create init or config files: do something similar to this\n",
    "\n",
    "**`import psycopg2\n",
    "conn = psycopg2.connect(\"dbname=test user=postgres\") # Connect to an existing database\n",
    "cur = conn.cursor() #Open a cursor to perform database operations`**"
   ]
  },
  {
   "cell_type": "code",
   "execution_count": 2,
   "metadata": {},
   "outputs": [],
   "source": [
    "# Establish a connection to the database by creating a cursor object\n",
    "\n",
    "# Get the config params\n",
    "params_ = config()\n",
    "\n",
    "# Connect to the Postgres_DB:\n",
    "conn = psycopg2.connect(**params_)\n",
    "\n",
    "# Create new_cursor allowing us to write Python to execute PSQL:\n",
    "cur = conn.cursor()\n",
    "\n",
    "conn.autocommit = True  # read documentation understanding when to Use & NOT use (TRUE)\n",
    "\n",
    "# psycopg2.extras.register_hstore(conn)"
   ]
  },
  {
   "cell_type": "code",
   "execution_count": 109,
   "metadata": {},
   "outputs": [
    {
     "data": {
      "text/html": [
       "<div>\n",
       "<style scoped>\n",
       "    .dataframe tbody tr th:only-of-type {\n",
       "        vertical-align: middle;\n",
       "    }\n",
       "\n",
       "    .dataframe tbody tr th {\n",
       "        vertical-align: top;\n",
       "    }\n",
       "\n",
       "    .dataframe thead th {\n",
       "        text-align: right;\n",
       "    }\n",
       "</style>\n",
       "<table border=\"1\" class=\"dataframe\">\n",
       "  <thead>\n",
       "    <tr style=\"text-align: right;\">\n",
       "      <th></th>\n",
       "      <th>publish_date</th>\n",
       "      <th>vin</th>\n",
       "      <th>make</th>\n",
       "      <th>model</th>\n",
       "      <th>model_year</th>\n",
       "    </tr>\n",
       "  </thead>\n",
       "  <tbody>\n",
       "    <tr>\n",
       "      <th>0</th>\n",
       "      <td>8/28/2020</td>\n",
       "      <td>102280487</td>\n",
       "      <td>Kia</td>\n",
       "      <td>Soul</td>\n",
       "      <td>2019</td>\n",
       "    </tr>\n",
       "    <tr>\n",
       "      <th>1</th>\n",
       "      <td>8/28/2020</td>\n",
       "      <td>102298407</td>\n",
       "      <td>Chevrolet</td>\n",
       "      <td>Malibu</td>\n",
       "      <td>2017</td>\n",
       "    </tr>\n",
       "    <tr>\n",
       "      <th>2</th>\n",
       "      <td>8/28/2020</td>\n",
       "      <td>102633593</td>\n",
       "      <td>Ford</td>\n",
       "      <td>Fusion</td>\n",
       "      <td>2017</td>\n",
       "    </tr>\n",
       "  </tbody>\n",
       "</table>\n",
       "</div>"
      ],
      "text/plain": [
       "  publish_date        vin       make   model  model_year\n",
       "0    8/28/2020  102280487        Kia    Soul        2019\n",
       "1    8/28/2020  102298407  Chevrolet  Malibu        2017\n",
       "2    8/28/2020  102633593       Ford  Fusion        2017"
      ]
     },
     "execution_count": 109,
     "metadata": {},
     "output_type": "execute_result"
    }
   ],
   "source": [
    "# our files:\n",
    "\n",
    "car_dlr_one=pd.read_csv('cardealer_add_deduct_list.csv')\n",
    "\n",
    "car_dlr_two=pd.read_csv('car_dealer_firstpart.csv')\n",
    "\n",
    "car_dlr_one.head()\n",
    "car_dlr_two.columns\n"
   ]
  },
  {
   "cell_type": "code",
   "execution_count": null,
   "metadata": {},
   "outputs": [],
   "source": [
    "# For future endeavor: figure out how to create a table dynamically"
   ]
  },
  {
   "cell_type": "code",
   "execution_count": null,
   "metadata": {},
   "outputs": [],
   "source": [
    "# convert_dtypes=[]\n",
    "# for i in car_dlr_one.iteritems():\n",
    "#     if i[1].dtype=='object':\n",
    "#         convert_dtypes.append([i[0],'text'])\n",
    "\n",
    "#     elif re.findall(r'\\b(int).+',str(i[1])):\n",
    "#         convert_dtypes.append([i[0],         \n",
    "#                                re.findall(r'\\b(int).+',str(i[1]))[0]])\n",
    "        \n",
    "# for i in convert_dtypes:\n",
    "#     print(i)\n",
    "# #     find_dta('prac',i[0],i[1])\n",
    "# # for i in convert_dtypes:\n",
    "# # convert_dtypes"
   ]
  },
  {
   "cell_type": "code",
   "execution_count": null,
   "metadata": {},
   "outputs": [],
   "source": [
    "# This is annoying to create like this every time I want to figure out a dynamic way in \n",
    "# the future! Avoid hard coding etc...."
   ]
  },
  {
   "cell_type": "code",
   "execution_count": 94,
   "metadata": {},
   "outputs": [],
   "source": [
    "def create_staging_table(cursor):\n",
    "    cursor.execute(\"\"\"\n",
    "        DROP TABLE IF EXISTS car_dealer_01;\n",
    "        CREATE UNLOGGED TABLE car_dealer_01 (\n",
    "            vin                varchar(30),\n",
    "            idx                int,\n",
    "            model_number_list  text\n",
    "            \n",
    "        );\"\"\")\n",
    "    \n",
    "# Send the Schema to PSQL\n",
    "\n",
    "with conn.cursor() as cursor:\n",
    "    create_staging_table(cursor)"
   ]
  },
  {
   "cell_type": "code",
   "execution_count": 153,
   "metadata": {},
   "outputs": [],
   "source": [
    "def create_staging_table(cursor):\n",
    "    cursor.execute(\"\"\"\n",
    "        DROP TABLE IF EXISTS car_dealer_02;\n",
    "        CREATE UNLOGGED TABLE car_dealer_02 (\n",
    "            publish_date       date,\n",
    "            vin                varchar(30),\n",
    "            make               varchar(30),\n",
    "            model              varchar(30),               \n",
    "            model_year         int \n",
    "        );\"\"\")\n",
    "    \n",
    "# Send the Schema to PSQL\n",
    "with conn.cursor() as cursor:\n",
    "    create_staging_table(cursor)"
   ]
  },
  {
   "cell_type": "markdown",
   "metadata": {},
   "source": [
    "# Find Table Schema:"
   ]
  },
  {
   "cell_type": "code",
   "execution_count": 154,
   "metadata": {},
   "outputs": [
    {
     "data": {
      "text/plain": [
       "[('car_dealer_02', 'publish_date', 'date'),\n",
       " ('car_dealer_02', 'vin', 'character varying'),\n",
       " ('car_dealer_02', 'make', 'character varying'),\n",
       " ('car_dealer_02', 'model', 'character varying'),\n",
       " ('car_dealer_02', 'model_year', 'integer')]"
      ]
     },
     "execution_count": 154,
     "metadata": {},
     "output_type": "execute_result"
    }
   ],
   "source": [
    "ss=\"\"\"\n",
    "SELECT table_name, \n",
    "column_name, \n",
    "data_type \n",
    "FROM information_schema.columns \n",
    "WHERE table_name={table_name} ;\n",
    "\"\"\"\n",
    "\n",
    "# we are using: literal because the table_name will call our table and we need str repr.\n",
    "o=sql.SQL(ss).format(table_name=sql.Literal('car_dealer_02'))\n",
    "cur.execute(o)\n",
    "cur.fetchall()"
   ]
  },
  {
   "cell_type": "code",
   "execution_count": 74,
   "metadata": {},
   "outputs": [
    {
     "data": {
      "text/plain": [
       "array([[0, 102280487, \"['B2522']\"],\n",
       "       [0, 102280487, \"['B2522']\"],\n",
       "       [1, 102298407, \"['1ZD69']\"],\n",
       "       [1, 102298407, \"['1ZD69']\"],\n",
       "       [1, 102298407, \"['1ZD69']\"],\n",
       "       [1, 102298407, \"['1ZD69']\"],\n",
       "       [2, 102633593, \"['P0H']\"],\n",
       "       [2, 102633593, \"['P0H']\"],\n",
       "       [2, 102633593, \"['P0H']\"],\n",
       "       [2, 102633593, \"['P0H']\"],\n",
       "       [2, 102633593, \"['P0H']\"],\n",
       "       [2, 102633593, \"['P0H']\"]], dtype=object)"
      ]
     },
     "execution_count": 74,
     "metadata": {},
     "output_type": "execute_result"
    }
   ],
   "source": [
    "# insert data into table:\n",
    "car_dlr_subset_01=car_dlr_one.loc[:,['idx','vin','model_number_list']]\n",
    "car_dlr_subset_01.values"
   ]
  },
  {
   "cell_type": "markdown",
   "metadata": {},
   "source": [
    "# Send Dataframe:"
   ]
  },
  {
   "cell_type": "code",
   "execution_count": 102,
   "metadata": {},
   "outputs": [],
   "source": [
    "from psycopg2 import extras\n",
    "\n",
    "\n",
    "def fcn(df,table,cur):\n",
    "#     df=addr_df_\n",
    "#     table='staging_fake_ppl02'\n",
    "    # df is the dataframe\n",
    "    if len(df) > 0:\n",
    "        df_columns = list(df)\n",
    "        # create (col1,col2,...)\n",
    "        columns = \",\".join(df_columns)\n",
    "\n",
    "        # create VALUES('%s', '%s\",...) one '%s' per column\n",
    "        values = \"VALUES({})\".format(\",\".join([\"%s\" for _ in df_columns])) \n",
    "\n",
    "        #create INSERT INTO table (columns) VALUES('%s',...)\n",
    "        insert_stmt = \"INSERT INTO {} ({}) {}\".format(table,columns,values)\n",
    "        cur.execute(\"truncate \" + table + \";\")  #avoiding uploading duplicate data!\n",
    "        cur = conn.cursor()\n",
    "        psycopg2.extras.execute_batch(cur, insert_stmt, df.values)\n",
    "    conn.commit()"
   ]
  },
  {
   "cell_type": "code",
   "execution_count": 114,
   "metadata": {},
   "outputs": [
    {
     "data": {
      "text/plain": [
       "[('102280487', 0, \"['B2522']\"),\n",
       " ('102280487', 0, \"['B2522']\"),\n",
       " ('102298407', 1, \"['1ZD69']\"),\n",
       " ('102298407', 1, \"['1ZD69']\")]"
      ]
     },
     "execution_count": 114,
     "metadata": {},
     "output_type": "execute_result"
    }
   ],
   "source": [
    "# car_dlr_subset_01\n",
    "# fcn(car_dlr_subset_01,'car_dealer_01',cur)\n",
    "\n",
    "cur.execute(\"select * from car_dealer_01 limit 4\")\n",
    "cur.fetchall()"
   ]
  },
  {
   "cell_type": "code",
   "execution_count": 171,
   "metadata": {},
   "outputs": [
    {
     "data": {
      "text/plain": [
       "[(datetime.date(2020, 8, 28), 102280487, 'Kia', 'Soul', 2019),\n",
       " (datetime.date(2020, 8, 28), 102298407, 'Chevrolet', 'Malibu', 2017),\n",
       " (datetime.date(2020, 8, 28), 102633593, 'Ford', 'Fusion', 2017)]"
      ]
     },
     "execution_count": 171,
     "metadata": {},
     "output_type": "execute_result"
    }
   ],
   "source": [
    "car_dlr_subset02=car_dlr_two.loc[:,['publish_date','vin','make','model','model_year']]\n",
    "\n",
    "fcn(car_dlr_subset02,'car_dealer_02',cur)\n",
    "\n",
    "cur.execute(\"select * from car_dealer_02 limit 4\")\n",
    "cur.fetchall()\n"
   ]
  },
  {
   "cell_type": "markdown",
   "metadata": {},
   "source": [
    "# `Convert Column data-type:`\n",
    "\n",
    "+ convert the `Vin` column form `varchar to integer`"
   ]
  },
  {
   "cell_type": "code",
   "execution_count": 174,
   "metadata": {},
   "outputs": [],
   "source": [
    "\n",
    "ww=\"\"\"\n",
    "ALTER TABLE car_dealer_02 ALTER COLUMN\n",
    "vin TYPE integer \n",
    "USING (vin::integer);\n",
    "\"\"\"\n",
    "cur.execute(ww)"
   ]
  },
  {
   "cell_type": "code",
   "execution_count": 175,
   "metadata": {},
   "outputs": [
    {
     "data": {
      "text/plain": [
       "[('car_dealer_02', 'publish_date', 'date'),\n",
       " ('car_dealer_02', 'vin', 'integer'),\n",
       " ('car_dealer_02', 'make', 'character varying'),\n",
       " ('car_dealer_02', 'model', 'character varying'),\n",
       " ('car_dealer_02', 'model_year', 'integer')]"
      ]
     },
     "execution_count": 175,
     "metadata": {},
     "output_type": "execute_result"
    }
   ],
   "source": [
    "ss=\"\"\"\n",
    "SELECT table_name, \n",
    "column_name, \n",
    "data_type \n",
    "FROM information_schema.columns \n",
    "WHERE table_name={table_name} ;\n",
    "\"\"\"\n",
    "\n",
    "# we are using: literal because the table_name will call our table and we need str repr.\n",
    "o=sql.SQL(ss).format(table_name=sql.Literal('car_dealer_02'))\n",
    "cur.execute(o)\n",
    "cur.fetchall()"
   ]
  },
  {
   "cell_type": "markdown",
   "metadata": {},
   "source": [
    "# `Mogrify:`\n",
    "\n",
    "If you end up having frequent queries as a daily routine: but, can't trace back from your server what code may be giving you issues then `mogrify` can come to the rescue for debugging. "
   ]
  },
  {
   "cell_type": "code",
   "execution_count": 178,
   "metadata": {},
   "outputs": [
    {
     "name": "stdout",
     "output_type": "stream",
     "text": [
      "b\"\\nSELECT table_name, \\ncolumn_name, \\ndata_type \\nFROM information_schema.columns \\nWHERE table_name='car_dealer_02' ;\\n\"\n",
      "-------------------\n",
      "b'\\nALTER TABLE car_dealer_02 ALTER COLUMN\\nvin TYPE integer \\nUSING (vin::integer);\\n'\n"
     ]
    }
   ],
   "source": [
    "# good for error checking or how exactly psql are interpreting what you input\n",
    "print(cur.mogrify(o))\n",
    "print('-------------------')\n",
    "print(cur.mogrify(ww))"
   ]
  },
  {
   "cell_type": "markdown",
   "metadata": {},
   "source": [
    "# This can be beneficial for your workflow for instance: \n",
    "\n",
    "+ Because, you can incorporate this after your query and before you use the cursor.execute( )\n",
    "\n",
    "+ cursor.execute( ) is preventing you from seeing what query was actually sent if you had a problem during the way.\n",
    "\n",
    "Such as \n",
    "\n",
    "`sql_=\"\"\"select * from my_table where ....;\"\"\"\n",
    "some_name=cursor.mogrify(sql_)\n",
    "cur.execute(some_name)`"
   ]
  },
  {
   "cell_type": "markdown",
   "metadata": {},
   "source": [
    "# Fuzzy Match:"
   ]
  },
  {
   "cell_type": "markdown",
   "metadata": {},
   "source": [
    "`-------------------------`\n",
    "\n",
    "# `Trigram:`\n",
    "\n",
    "+ This extension `pg_trgm` will allow some fuzzy string matching"
   ]
  },
  {
   "cell_type": "markdown",
   "metadata": {},
   "source": [
    "# **`Ex 1. )`**  Find a person but you don't remember the name, only that it is close to `Aldo`\n",
    "\n",
    "+ Consider if you had an idea but, frankly couldn't remember the name. It happens to us all and this will help you in a pinch.\n",
    "\n",
    "`You are going over a specific column to find them`"
   ]
  },
  {
   "cell_type": "code",
   "execution_count": 190,
   "metadata": {},
   "outputs": [
    {
     "data": {
      "text/plain": [
       "[('3118-3897-1674-7996', 'ajfeqi@iufeb.efk', 'Alfredo', 'Munoz', '5244214267'),\n",
       " ('9997-7751-7665-6525', 'hfl@bnkxsvp.ufq', 'Ali', 'Borrego', '2493418317'),\n",
       " ('1806-2704-9336-8126', 'swimxj@pjboqc.fow', 'Ali', 'Kouns', '4218255468'),\n",
       " ('2117-2588-7985-4527', 'dxbmswr@o.mlb', 'Alec', 'Johnson', '4259785921'),\n",
       " ('1758-6471-8929-2781', 'ruft@ip.drj', 'Alex', 'Acosta', '8728626214')]"
      ]
     },
     "execution_count": 190,
     "metadata": {},
     "output_type": "execute_result"
    }
   ],
   "source": [
    "\n",
    "f='''\n",
    "CREATE EXTENSION pg_trgm;\n",
    "SELECT \n",
    "*\n",
    "FROM staging_fake_ppl\n",
    "ORDER BY SIMILARITY(first_name,'Aldo') DESC\n",
    "LIMIT 5;\n",
    "\n",
    "'''\n",
    "cur.execute(f)\n",
    "cur.fetchall()\n",
    "\n",
    "# cur.execute('''Drop extension pg_trgm ''')\n",
    "\n",
    "\n",
    "# There is a great deal of function with this please read the link below!\n",
    "\n",
    "# https://www.postgresql.org/docs/current/pgtrgm.html (examples)"
   ]
  },
  {
   "cell_type": "markdown",
   "metadata": {},
   "source": [
    "# **`Ex. 2 )`** Let's assume you needed some confidence\n",
    "\n",
    "+ `this is from 0-1, the lower the number; the less specific you want!`\n",
    "\n",
    "*default is 0.3*"
   ]
  },
  {
   "cell_type": "code",
   "execution_count": 197,
   "metadata": {},
   "outputs": [
    {
     "data": {
      "text/plain": [
       "[('9538-4639-5634-2281', 'cvjkmi@t.cko', 'Cailinanne', 'Borja', '2968327286'),\n",
       " ('2285-2386-1324-5043', 'idv@pqdvscle.owa', 'Gunnar', 'Borda', '2595211562'),\n",
       " ('2731-8907-1044-6831', 'dstcjoaxw@uer.yef', 'Eric', 'Borom', '5864561645')]"
      ]
     },
     "execution_count": 197,
     "metadata": {},
     "output_type": "execute_result"
    }
   ],
   "source": [
    "conf_str='''\n",
    "SELECT\n",
    "*\n",
    "FROM staging_fake_ppl\n",
    "WHERE SIMILARITY(last_name,'Bor') > 0.4 ;\n",
    "\n",
    "'''\n",
    "cur.execute(conf_str)\n",
    "cur.fetchall()"
   ]
  },
  {
   "cell_type": "markdown",
   "metadata": {},
   "source": [
    "# `Phonetic Spelling`:\n",
    "\n",
    "+ Using the **`fuzzystrmatch`** extension will convert your string into four letter codes to search for codes that match. An example: `flour and flower` are the same code.\n",
    "\n",
    "+ `Side NOTE`: NON-English names will have issues with finding matches\n",
    "\n",
    "# `Ex. )`"
   ]
  },
  {
   "cell_type": "code",
   "execution_count": 207,
   "metadata": {},
   "outputs": [
    {
     "data": {
      "text/plain": [
       "[('3388-9288-1720-9622', 'ysbe@ldajvymbqu.nga', 'Diana', 'Song', '6212544297'),\n",
       " ('6496-8623-1961-2916',\n",
       "  'ktoey@vkqwexc.lbh',\n",
       "  'Diana',\n",
       "  'Olvedo Enriquez',\n",
       "  '5234813586'),\n",
       " ('2725-5432-4694-7135', 'ivlm@wbsaim.lnj', 'Don', 'Martinez', '4657397958'),\n",
       " ('1736-4079-2112-1254', 'h@axlkjm.bip', 'Doan', 'Doht', '9416178251'),\n",
       " ('3929-1702-5794-9652', 'kofshc@cquxn.zxn', 'Deion', 'Holm', '4758758462'),\n",
       " ('3970-4084-4226-8551', 'fiw@uhfndrk.ugb', 'Danny', 'John', '2976273517'),\n",
       " ('7592-3801-8837-8387', 'o@bodzfaxin.dtg', 'Deanna', 'Newton', '7311849615'),\n",
       " ('7749-8107-5618-3026', 'ory@vukzhy.tnb', 'Danny', 'el-Zadeh', '6394522678'),\n",
       " ('9134-3311-6532-5063',\n",
       "  'ynfhstlkwi@koayhrmx.kvd',\n",
       "  'Danny',\n",
       "  'Snively',\n",
       "  '3174658291'),\n",
       " ('5067-7345-8241-7248',\n",
       "  'ifshounla@mbkjcvewo.ezt',\n",
       "  'Deeana',\n",
       "  'Crespin',\n",
       "  '6149173275'),\n",
       " ('9202-6310-9015-7438', 'cwxmht@luh.sft', 'Danni', 'Stahl', '9484396785'),\n",
       " ('2762-8722-9883-9155', 'c@rxtzgsemc.mnt', 'Deion', 'Begay', '4921596928'),\n",
       " ('9231-7927-1920-8835', 'mlotjsuy@asy.jou', 'Don', \"O'Leary\", '7567296748'),\n",
       " ('6723-7621-6624-1289', 'wq@imvgrkt.lqn', 'Deanna', 'Norton', '2482866537'),\n",
       " ('8521-1084-7987-1114', 'znki@ickjhb.hoa', 'Doann', 'Harris', '1249783257'),\n",
       " ('1883-6485-1031-9472', 'hivbqcoy@oab.tqs', 'Dayne', 'Lujan', '2157915982'),\n",
       " ('6585-5176-3707-1742', 'ivf@e.lnk', 'Danny', 'el-Rahaim', '8136715294'),\n",
       " ('9748-4413-3091-8704',\n",
       "  'grpifzcyxo@ckr.wgz',\n",
       "  'Dwayne',\n",
       "  'Mirkovic',\n",
       "  '5418919831'),\n",
       " ('4982-4178-1436-2512',\n",
       "  'siak@vnbpxemgj.upz',\n",
       "  'Dana',\n",
       "  'Burrows',\n",
       "  '1451947256'),\n",
       " ('7453-7639-2730-5238', 'ysdl@dbvsygu.xhi', 'Dean', 'Bailey', '6493677629'),\n",
       " ('2204-9798-7824-6987', 'djgo@d.anq', 'Deon', 'Fayne', '5374971924'),\n",
       " ('5783-5073-7137-3802', 'dtpone@pkd.dht', 'Dyon', 'Valdez', '8625724873'),\n",
       " ('8888-5749-6268-6578',\n",
       "  'ibnkwf@xeqocpdaf.cfk',\n",
       "  'Deanna',\n",
       "  'Reeves',\n",
       "  '5496716893'),\n",
       " ('9257-4133-4180-1559', 'o@st.qlm', 'Diana', 'Cooper', '2451961874'),\n",
       " ('4415-3613-9209-8629', 'd@wdubxqj.wnu', 'Dawnee', 'Bell', '7262658462'),\n",
       " ('2949-9047-8614-3987',\n",
       "  'ubplkvmqy@yulwchgpzo.dwa',\n",
       "  'Diana',\n",
       "  'Swain',\n",
       "  '5416728352'),\n",
       " ('5346-1121-9891-9983', 'nglejrdmi@p.cwu', 'Diana', 'Denson', '2458643749'),\n",
       " ('2427-2687-2448-7580',\n",
       "  'vgdksr@rpquvzy.isl',\n",
       "  'Danna',\n",
       "  'Banuelos',\n",
       "  '7539746794'),\n",
       " ('2686-6124-2258-8457', 'xgoj@x.szk', 'Doan', 'Mcelhaney', '4217395693'),\n",
       " ('2287-4320-9747-4519',\n",
       "  'ksbwfzl@lkirfwgby.gry',\n",
       "  'Dana',\n",
       "  'Tidwell',\n",
       "  '7566916584'),\n",
       " ('8949-8499-2385-6993', 'qgfvcpxh@ij.kwf', 'Danny', 'Mosley', '3514618957'),\n",
       " ('9515-1207-2186-9625', 'vsuxgr@ljpe.vsj', 'Dean', 'Martinez', '9763648943'),\n",
       " ('7268-1895-9016-3358', 'wjkydiu@ce.svp', 'Daionah', 'Wilson', '8453487923'),\n",
       " ('5293-4602-5375-6374', 'ajdnh@qwkt.gsp', 'Deanna', 'el-Malek', '9352355684'),\n",
       " ('9387-3205-1073-4022',\n",
       "  'uadvc@ea.bqd',\n",
       "  'Diana',\n",
       "  'Phouansavanh',\n",
       "  '3549232318'),\n",
       " ('6986-8526-2270-6722', 'lcufb@stxu.ctk', 'Danya', 'Vu', '6123986419'),\n",
       " ('5189-5694-8268-7877', 'otn@sp.chm', 'Dena', 'Thomas', '3465686174'),\n",
       " ('8589-3063-1701-4264', 'q@te.rxq', 'Deion', 'Reweti', '7455192894'),\n",
       " ('8498-6247-6538-5878',\n",
       "  'jvowtl@khowards.emg',\n",
       "  'Dianna',\n",
       "  'Escheman',\n",
       "  '3795262193'),\n",
       " ('5790-6241-7514-5057', 'ndrfovqsg@vwbxo.som', 'Deion', 'Finn', '8216492915'),\n",
       " ('8578-8590-2805-7339', 'clbzkyjf@np.nga', 'Diana', 'al-Hai', '9249361532'),\n",
       " ('3768-6351-7486-5822',\n",
       "  'pukhgnal@pgnmcl.ixd',\n",
       "  'Dana',\n",
       "  'Silerio',\n",
       "  '2414254296')]"
      ]
     },
     "execution_count": 207,
     "metadata": {},
     "output_type": "execute_result"
    }
   ],
   "source": [
    "phone_='''\n",
    "CREATE EXTENSION fuzzystrmatch;\n",
    "\n",
    "SELECT\n",
    "*\n",
    "FROM staging_fake_ppl WHERE\n",
    "SOUNDEX(first_name) = SOUNDEX('Dony A');\n",
    "'''\n",
    "cur.execute(phone_)\n",
    "cur.fetchall()\n",
    "\n",
    "# Can Drop the extension if not needed anymore: uncomment below\n",
    "\n",
    "# cur.execute('''drop extension fuzzystrmatch''')"
   ]
  },
  {
   "cell_type": "markdown",
   "metadata": {},
   "source": [
    "# Levenshtein Distance:\n",
    "\n",
    "+ Think of edit distance, between strings at a character level.\n",
    "    + This is measured by deletes, inserts and inserts\n",
    "+ ex.) Convert `long` into `length`\n",
    "   \n",
    "we would have to change the `o` to `e` by 1 insert, then add `t` and `h` that would be a distance of 4."
   ]
  },
  {
   "cell_type": "code",
   "execution_count": 213,
   "metadata": {},
   "outputs": [
    {
     "data": {
      "text/plain": [
       "[('2958-5980-8949-4378', 'lrnyj@ianwzptm.vsy', 'Tony', 'Wu', '3948634793', 3),\n",
       " ('8966-6746-2369-5926', 'ln@xsjv.gsq', 'Rony', 'al-Taha', '5236191587', 3),\n",
       " ('2948-8505-3391-2567',\n",
       "  'qoxdjanvfp@xqekfs.pqi',\n",
       "  'Dondre',\n",
       "  'Jaure',\n",
       "  '9589588163',\n",
       "  3),\n",
       " ('2725-5432-4694-7135',\n",
       "  'ivlm@wbsaim.lnj',\n",
       "  'Don',\n",
       "  'Martinez',\n",
       "  '4657397958',\n",
       "  3),\n",
       " ('9231-7927-1920-8835',\n",
       "  'mlotjsuy@asy.jou',\n",
       "  'Don',\n",
       "  \"O'Leary\",\n",
       "  '7567296748',\n",
       "  3)]"
      ]
     },
     "execution_count": 213,
     "metadata": {},
     "output_type": "execute_result"
    }
   ],
   "source": [
    "levi_='''\n",
    "SELECT\n",
    "*,\n",
    "LEVENSHTEIN(first_name, 'Dony w')\n",
    "FROM staging_fake_ppl\n",
    "ORDER BY LEVENSHTEIN(first_name, 'Dony w') ASC\n",
    "LIMIT 5\n",
    "'''\n",
    "\n",
    "cur.execute(levi_)\n",
    "cur.fetchall()"
   ]
  },
  {
   "cell_type": "markdown",
   "metadata": {},
   "source": [
    "# `Convert String Representation:`"
   ]
  },
  {
   "cell_type": "code",
   "execution_count": 215,
   "metadata": {},
   "outputs": [
    {
     "data": {
      "text/html": [
       "<div>\n",
       "<style scoped>\n",
       "    .dataframe tbody tr th:only-of-type {\n",
       "        vertical-align: middle;\n",
       "    }\n",
       "\n",
       "    .dataframe tbody tr th {\n",
       "        vertical-align: top;\n",
       "    }\n",
       "\n",
       "    .dataframe thead th {\n",
       "        text-align: right;\n",
       "    }\n",
       "</style>\n",
       "<table border=\"1\" class=\"dataframe\">\n",
       "  <thead>\n",
       "    <tr style=\"text-align: right;\">\n",
       "      <th></th>\n",
       "      <th>Orginal_FirstName</th>\n",
       "      <th>Converted</th>\n",
       "    </tr>\n",
       "  </thead>\n",
       "  <tbody>\n",
       "    <tr>\n",
       "      <th>0</th>\n",
       "      <td>Donyell Ann</td>\n",
       "      <td>donyell ann</td>\n",
       "    </tr>\n",
       "    <tr>\n",
       "      <th>1</th>\n",
       "      <td>Bishop</td>\n",
       "      <td>bishop</td>\n",
       "    </tr>\n",
       "    <tr>\n",
       "      <th>2</th>\n",
       "      <td>Connor</td>\n",
       "      <td>connor</td>\n",
       "    </tr>\n",
       "    <tr>\n",
       "      <th>3</th>\n",
       "      <td>Kylie</td>\n",
       "      <td>kylie</td>\n",
       "    </tr>\n",
       "  </tbody>\n",
       "</table>\n",
       "</div>"
      ],
      "text/plain": [
       "  Orginal_FirstName    Converted\n",
       "0       Donyell Ann  donyell ann\n",
       "1            Bishop       bishop\n",
       "2            Connor       connor\n",
       "3             Kylie        kylie"
      ]
     },
     "execution_count": 215,
     "metadata": {},
     "output_type": "execute_result"
    }
   ],
   "source": [
    "# Convert to lowercase()\n",
    "\n",
    "lwrcs='''\n",
    "select first_name,lower(first_name) from staging_fake_ppl limit 4\n",
    "\n",
    "'''\n",
    "\n",
    "cur.execute(lwrcs)\n",
    "pd.DataFrame(cur.fetchall(),columns=['Orginal_FirstName','Converted'])"
   ]
  },
  {
   "cell_type": "markdown",
   "metadata": {},
   "source": [
    "# `Pattern Matching:`\n",
    "\n",
    "`----------------------------------------------`\n",
    "\n",
    "+ If using `regex` look into how this may affect speed\n",
    "\n",
    "\n",
    "# `Ex.1 )`: using `regex` to find first_names that are either starting with J or G"
   ]
  },
  {
   "cell_type": "code",
   "execution_count": 220,
   "metadata": {},
   "outputs": [
    {
     "data": {
      "text/plain": [
       "[('5909-1054-2911-2100',\n",
       "  'nauvojf@tz.mjc',\n",
       "  'Justin',\n",
       "  'al-Yousif',\n",
       "  '9214512756'),\n",
       " ('5027-1684-3271-9573',\n",
       "  'esculkhwaj@lgime.kpd',\n",
       "  'Justin',\n",
       "  'Vigil',\n",
       "  '4639124827'),\n",
       " ('4266-4647-9544-7225', 'bkzy@ozixylp.ixt', 'Jade', 'el-Qadir', '4121832691'),\n",
       " ('5737-9277-9259-1227',\n",
       "  'vpzcje@jhtnqoaire.uag',\n",
       "  'Juan',\n",
       "  'Afuang',\n",
       "  '8574182659'),\n",
       " ('6447-6210-9155-9438',\n",
       "  'lwysbtujna@tsrzhyjm.wyp',\n",
       "  'Joshua',\n",
       "  'Brown',\n",
       "  '3571528429')]"
      ]
     },
     "execution_count": 220,
     "metadata": {},
     "output_type": "execute_result"
    }
   ],
   "source": [
    "reg_mx='''\n",
    "select * from staging_fake_ppl where first_name ~'^(J|G).*'\n",
    "limit 5\n",
    "'''\n",
    "cur.execute(reg_mx)\n",
    "cur.fetchall()"
   ]
  },
  {
   "cell_type": "markdown",
   "metadata": {},
   "source": [
    "# `Ex 1A. )` Other Regex example\n",
    "\n",
    "find vin numbers that match `102` and convert it to text"
   ]
  },
  {
   "cell_type": "code",
   "execution_count": 236,
   "metadata": {},
   "outputs": [
    {
     "data": {
      "text/plain": [
       "[(datetime.date(2020, 8, 28), 102280487, 'Kia', 'Soul', 2019),\n",
       " (datetime.date(2020, 8, 28), 102298407, 'Chevrolet', 'Malibu', 2017),\n",
       " (datetime.date(2020, 8, 28), 102633593, 'Ford', 'Fusion', 2017)]"
      ]
     },
     "execution_count": 236,
     "metadata": {},
     "output_type": "execute_result"
    }
   ],
   "source": [
    "reg_mx01='''\n",
    "select * from car_dealer_02 where \n",
    "CAST(vin AS TEXT) LIKE '102%'\n",
    "\n",
    "'''\n",
    "cur.execute(reg_mx01)\n",
    "cur.fetchall()"
   ]
  },
  {
   "cell_type": "markdown",
   "metadata": {},
   "source": [
    "# `Ex.2 ):` Using LIKE/ILIKE \n",
    "\n",
    "+ This allows you to search for something that you have a clue but not exactly with either case or case-insensitive\n",
    "\n",
    "+ `%` operator will match zero or more occurences\n",
    "+ `_` the underscore will match single characters"
   ]
  },
  {
   "cell_type": "code",
   "execution_count": 223,
   "metadata": {},
   "outputs": [
    {
     "data": {
      "text/plain": [
       "[('1270-8146-6857-9420',\n",
       "  'pdw@uwarlpyvgj.unh',\n",
       "  'Umaima',\n",
       "  'Begay',\n",
       "  '5129433167'),\n",
       " ('6192-4667-4124-8778',\n",
       "  'woefqdgtmv@pqmxzscfg.svu',\n",
       "  'Theophilus',\n",
       "  'Begay',\n",
       "  '6286151359'),\n",
       " ('7927-4545-1401-6815', 'hqvixtof@nj.ntf', 'Jordyn', 'Begaye', '1258755914'),\n",
       " ('2762-8722-9883-9155', 'c@rxtzgsemc.mnt', 'Deion', 'Begay', '4921596928'),\n",
       " ('8324-4327-8557-6815',\n",
       "  'tjerqvzb@fqlbmdh.zbu',\n",
       "  'Munjid',\n",
       "  'Begay',\n",
       "  '5197293945'),\n",
       " ('6840-3083-3722-6802', 'ldmvn@wfriybh.hvm', 'Lauren', 'Begay', '5965799654'),\n",
       " ('9484-4433-3524-3530',\n",
       "  'qkvjhybgod@igqnlwt.bxu',\n",
       "  'Keisha',\n",
       "  'Begaye',\n",
       "  '6797265431'),\n",
       " ('7767-6352-2840-2471', 'layb@vasnk.obs', 'Gabriella', 'Begay', '7939216827'),\n",
       " ('2325-6986-1990-7780',\n",
       "  'qhdlknupjg@fy.xgd',\n",
       "  'Sarah',\n",
       "  'Begay-Watson',\n",
       "  '9634151524'),\n",
       " ('8972-6928-5770-7435',\n",
       "  'ijgtoa@mxjazrtgdw.jzs',\n",
       "  'Juan',\n",
       "  'Begay',\n",
       "  '9347197248'),\n",
       " ('6171-5824-2335-6706', 'ryai@ngr.kbf', 'Ahlaam', 'Begay', '2831655962')]"
      ]
     },
     "execution_count": 223,
     "metadata": {},
     "output_type": "execute_result"
    }
   ],
   "source": [
    "lk_='''\n",
    "select * from staging_fake_ppl where last_name like 'Bega%'\n",
    "\n",
    "'''\n",
    "cur.execute(lk_)\n",
    "cur.fetchall()"
   ]
  },
  {
   "cell_type": "markdown",
   "metadata": {},
   "source": [
    "# `Ex.2 )` Using the underscore\n",
    "\n",
    "+ This will match anything that has `ega` and any letters in from of it will the use of `_`"
   ]
  },
  {
   "cell_type": "code",
   "execution_count": 228,
   "metadata": {},
   "outputs": [
    {
     "data": {
      "text/html": [
       "<div>\n",
       "<style scoped>\n",
       "    .dataframe tbody tr th:only-of-type {\n",
       "        vertical-align: middle;\n",
       "    }\n",
       "\n",
       "    .dataframe tbody tr th {\n",
       "        vertical-align: top;\n",
       "    }\n",
       "\n",
       "    .dataframe thead th {\n",
       "        text-align: right;\n",
       "    }\n",
       "</style>\n",
       "<table border=\"1\" class=\"dataframe\">\n",
       "  <thead>\n",
       "    <tr style=\"text-align: right;\">\n",
       "      <th></th>\n",
       "      <th>credit_card</th>\n",
       "      <th>email</th>\n",
       "      <th>first_name</th>\n",
       "      <th>last_name</th>\n",
       "      <th>primary_phone</th>\n",
       "    </tr>\n",
       "  </thead>\n",
       "  <tbody>\n",
       "    <tr>\n",
       "      <th>0</th>\n",
       "      <td>1270-8146-6857-9420</td>\n",
       "      <td>pdw@uwarlpyvgj.unh</td>\n",
       "      <td>Umaima</td>\n",
       "      <td>Begay</td>\n",
       "      <td>5129433167</td>\n",
       "    </tr>\n",
       "    <tr>\n",
       "      <th>1</th>\n",
       "      <td>8233-3553-7350-4143</td>\n",
       "      <td>aqucnfhz@vtef.vcu</td>\n",
       "      <td>Santee</td>\n",
       "      <td>Vega</td>\n",
       "      <td>4362355976</td>\n",
       "    </tr>\n",
       "    <tr>\n",
       "      <th>2</th>\n",
       "      <td>6192-4667-4124-8778</td>\n",
       "      <td>woefqdgtmv@pqmxzscfg.svu</td>\n",
       "      <td>Theophilus</td>\n",
       "      <td>Begay</td>\n",
       "      <td>6286151359</td>\n",
       "    </tr>\n",
       "    <tr>\n",
       "      <th>3</th>\n",
       "      <td>7927-4545-1401-6815</td>\n",
       "      <td>hqvixtof@nj.ntf</td>\n",
       "      <td>Jordyn</td>\n",
       "      <td>Begaye</td>\n",
       "      <td>1258755914</td>\n",
       "    </tr>\n",
       "    <tr>\n",
       "      <th>4</th>\n",
       "      <td>2762-8722-9883-9155</td>\n",
       "      <td>c@rxtzgsemc.mnt</td>\n",
       "      <td>Deion</td>\n",
       "      <td>Begay</td>\n",
       "      <td>4921596928</td>\n",
       "    </tr>\n",
       "  </tbody>\n",
       "</table>\n",
       "</div>"
      ],
      "text/plain": [
       "           credit_card                     email  first_name last_name  \\\n",
       "0  1270-8146-6857-9420        pdw@uwarlpyvgj.unh      Umaima     Begay   \n",
       "1  8233-3553-7350-4143         aqucnfhz@vtef.vcu      Santee      Vega   \n",
       "2  6192-4667-4124-8778  woefqdgtmv@pqmxzscfg.svu  Theophilus     Begay   \n",
       "3  7927-4545-1401-6815           hqvixtof@nj.ntf      Jordyn    Begaye   \n",
       "4  2762-8722-9883-9155           c@rxtzgsemc.mnt       Deion     Begay   \n",
       "\n",
       "  primary_phone  \n",
       "0    5129433167  \n",
       "1    4362355976  \n",
       "2    6286151359  \n",
       "3    1258755914  \n",
       "4    4921596928  "
      ]
     },
     "execution_count": 228,
     "metadata": {},
     "output_type": "execute_result"
    }
   ],
   "source": [
    "lk_='''\n",
    "select * from staging_fake_ppl where last_name like '_ega%'\n",
    "\n",
    "'''\n",
    "cur.execute(lk_)\n",
    "df_=cur.fetchall()\n",
    "             \n",
    "# Get the Column Names:\n",
    "cur.execute(\"Select * FROM staging_fake_ppl LIMIT 0\")\n",
    "colnames = [desc[0] for desc in cur.description]\n",
    "\n",
    "pd.DataFrame(df_,columns=colnames).head()"
   ]
  },
  {
   "cell_type": "markdown",
   "metadata": {},
   "source": [
    "# <font color=red>Like</font>, Share &\n",
    "\n",
    "# <font color=red>SUB</font>scribe"
   ]
  },
  {
   "cell_type": "markdown",
   "metadata": {},
   "source": [
    "# Citations & Help:\n",
    "\n",
    "\n",
    "# <font size=7>◔̯◔</font>\n",
    "\n",
    "\n",
    "\n",
    "`psql shorcuts`\n",
    "\n",
    "https://www.postgresqltutorial.com/psql-commands/\n",
    "\n",
    "\n",
    "`Casting`\n",
    "\n",
    "https://www.postgresqltutorial.com/postgresql-cast/\n",
    "\n",
    "https://stackoverflow.com/questions/56260366/insert-into-table-with-type-casting-and-condition-in-insert-statement\n",
    "\n",
    "https://joshuaotwell.com/copy-and-cast-bulk-uploads-in-postgresql/\n",
    "\n",
    "`Mogrify`\n",
    "\n",
    "https://www.compose.com/articles/formatted-sql-in-python-with-psycopgs-mogrify/\n",
    "\n",
    "`Pattern Matching`\n",
    "\n",
    "https://www.postgresql.org/docs/9.3/functions-matching.html\n",
    "\n",
    "\n",
    "`Fuzzy Match`\n",
    "\n",
    "https://www.freecodecamp.org/news/fuzzy-string-matching-with-postgresql/\n",
    "\n",
    "\n",
    "`Function for schema columns convert df`\n",
    "\n",
    "https://www.regular-expressions.info/wordboundaries.html\n",
    "\n",
    "https://www.postgresql.org/docs/9.5/datatype.html\n",
    "\n",
    "http://www.postgis.us/presentations/PGOpen2018_data_loading.pdf\n",
    "\n",
    "https://www.geeksforgeeks.org/python-ways-to-print-list-without-quotes/\n",
    "\n",
    "`psycopg2.sql stuff for future`\n",
    "\n",
    "http://devdoc.net/python/psycopg2-doc-2.7.3.2/sql.html\n",
    "\n",
    "https://stackoverflow.com/questions/56529928/psycopg2-how-to-dynamically-create-tables-insert-values-into-postgresql-db-fr\n",
    "\n",
    "https://stackoverflow.com/questions/54714576/format-create-table-query-with-list-of-identifiers\n",
    "\n",
    "https://www.postgresql-archive.org/Creating-dynamically-typed-tables-using-psycopg2-s-built-in-formatting-td6090126.html\n",
    "\n",
    "`misc`\n",
    "\n",
    "https://stackoverflow.com/questions/10252247/how-do-i-get-a-list-of-column-names-from-a-psycopg2-cursor"
   ]
  }
 ],
 "metadata": {
  "kernelspec": {
   "display_name": "Python 3",
   "language": "python",
   "name": "python3"
  },
  "language_info": {
   "codemirror_mode": {
    "name": "ipython",
    "version": 3
   },
   "file_extension": ".py",
   "mimetype": "text/x-python",
   "name": "python",
   "nbconvert_exporter": "python",
   "pygments_lexer": "ipython3",
   "version": "3.7.3"
  }
 },
 "nbformat": 4,
 "nbformat_minor": 4
}
