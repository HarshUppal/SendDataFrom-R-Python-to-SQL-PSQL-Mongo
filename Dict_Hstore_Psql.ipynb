{
 "cells": [
  {
   "cell_type": "markdown",
   "metadata": {},
   "source": [
    "# `Psycopg2 Dict_Hstore` : Take semi-structured data and use it within postgresql \n",
    "\n",
    "# <font color=red>Mr Fugu Data Science</font>\n",
    "\n",
    "\n",
    "# (◕‿◕✿)\n",
    "\n",
    "# Purpose & Outcome:\n",
    "\n",
    "+ Create a new way of formating data into dictionaries [or sets] using Postgresql\n",
    "    + Query the new formatted data\n",
    "    \n",
    "    \n",
    "`------------------------`\n",
    "\n",
    "\n",
    "**Starting DATA**: \n",
    "\n",
    "| Employer      \t| Year_begin \t| Year_end \t| Dictionary                                                                 \t|\n",
    "|---------------\t|------------\t|----------\t|----------------------------------------------------------------------------\t|\n",
    "| Mr Han        \t| 1977       \t| 2019     \t| {\"first_name\":\"Chewie\", \"last_name\":\"Wookie\",\"occupation\":\"thrill seeker\"} \t|\n",
    "| Self employed \t| 1983       \t| 1985     \t| {\"first_name\":\"Ewok\",\"last_name\":\"Endor\",   \"occupation\":\"forest dweller\"} \t|\n",
    "| self          \t| 1999       \t| 2011     \t| {\"first_name\":\"Harry\",\"last_name\":\"P\", \"occupation\":\"magic\"}               \t|\n",
    "\n",
    "\n",
    "**End Result PSQL**: Notice the `=>` this will be used to query against!\n",
    "\n",
    "| id \t| Employer      \t| Year_begin \t| Year_end \t|        H_store                                                     \t|\n",
    "|----\t|---------------\t|------------\t|----------\t|-------------------------------------------------------------------------------\t|\n",
    "| 1  \t| Mr Han        \t| 1977       \t| 2019     \t| \"last_name\"=>\"Wookie\", \"first_name\"=>\"Chewie\",  \"occupation\"=>\"thrill seeker\" \t|\n",
    "| 2  \t| Self employed \t| 1983       \t| 1985     \t| \"last_name\"=>\"Endor\", \"first_name\"=>\"Ewok\",  \"occupation\"=>\"forest dweller\"   \t|\n",
    "| 3  \t| self          \t| 1999       \t| 2011     \t| \"last_name\"=>\"P\", \"first_name\"=>\"Harry\",  \"occupation\"=>\"magic\"               \t|"
   ]
  },
  {
   "cell_type": "markdown",
   "metadata": {},
   "source": [
    "# What is a practical use for `Hstore` anyway?\n",
    "\n",
    "+ Assume that you had a bunch of key value pairs that you wanted to store in one column, instead of tracking down all of your data in either different columns or tables. \n",
    "    + You can update, insert, track everything related to these data, create triggers etc. You're free to do as you want and have all the data stored in one location. \n",
    "    + Query operations are also available: only with a shift in syntax\n",
    "+ Postgresql documentation also suggests that in circumstances of semi-structured data or rarely used data can also benefit from using `Hstore`.\n",
    "\n",
    "**Also, Only one key is stored: if you have duplicates will not be saved and there is no way to know which one will be saved.** In the case that you have mapping of multiple mappings to the same key; this will not be useful. \n",
    "    \n",
    "    \n",
    "+ `Upside`: Don't have to predefine keys\n",
    "    + stores, as a single column of your key:value pairs as a string\n",
    "    + good for semi/unstructured data, that normally isn't psql\n",
    "    + different types of indexing: such as GiN, GiST\n",
    "+ `Downsides`:\n",
    "    + No nesting of data\n",
    "    + stored as a string, so datatypes are now limited.\n",
    "    \n",
    "`If you are interested in Hstore vs JSON vs JSONB`:\n",
    "https://www.citusdata.com/blog/2016/07/14/choosing-nosql-hstore-json-jsonb/\n",
    "\n",
    "`------------------------------`\n",
    "\n",
    "To use it we need to import: `from psycopg2.extras import register_hstore `\n",
    "\n"
   ]
  },
  {
   "cell_type": "code",
   "execution_count": 1,
   "metadata": {},
   "outputs": [],
   "source": [
    "from psycopg2.extras import register_hstore # create dictionaries\n",
    "import psycopg2  # make connection to/from python-psql\n",
    "import pandas as pd # DF stuff\n",
    "\n",
    "# Import the 'config' function from the config_user_dta.py file:\n",
    "from config_user_dta import config  # call my user credentials"
   ]
  },
  {
   "cell_type": "markdown",
   "metadata": {},
   "source": [
    "`If you do not want to create init or config files: do something similar to this`\n",
    "\n",
    "**`import psycopg2\n",
    "conn = psycopg2.connect(\"dbname=test user=postgres\") # Connect to an existing database\n",
    "cur = conn.cursor() #Open a cursor to perform database operations`**"
   ]
  },
  {
   "cell_type": "code",
   "execution_count": 2,
   "metadata": {},
   "outputs": [],
   "source": [
    "# Establish a connection to the database by creating a cursor object\n",
    "\n",
    "# Get the config params\n",
    "params_ = config()\n",
    "\n",
    "# Connect to the Postgres_DB:\n",
    "conn = psycopg2.connect(**params_)\n",
    "\n",
    "# Create new_cursor allowing us to write Python to execute PSQL:\n",
    "cur = conn.cursor()\n",
    "\n",
    "conn.autocommit = True  # read documentation understanding when to Use & NOT use (TRUE)\n",
    "\n",
    "# psycopg2.extras.register_hstore(conn)"
   ]
  },
  {
   "cell_type": "code",
   "execution_count": 3,
   "metadata": {},
   "outputs": [],
   "source": [
    "# Data:\n",
    "\n",
    "names_occup = [(\"Mr Han\",1977,2019,{\"first_name\":\"Chewie\",\n",
    "\"last_name\":\"Wookie\",\"occupation\":\"thrill seeker\"},),\n",
    "(\"self_empl\",1983,1985,{\"first_name\":\"Ewok\",\"last_name\":\"Endor\",\n",
    "                        \"occupation\":\"forest dweller\"},),\n",
    "(\"self\",1999,2011,{\"first_name\":\"Harry\",\"last_name\":\"P\",\"occupation\":\"magic\"},)]\n"
   ]
  },
  {
   "cell_type": "markdown",
   "metadata": {},
   "source": [
    "# Hstore:\n",
    "\n",
    "+ In order to use *Hstore* we have to use/install the extension which is used in this function below"
   ]
  },
  {
   "cell_type": "code",
   "execution_count": 7,
   "metadata": {},
   "outputs": [],
   "source": [
    "# Create a Table to store data: (you have to establish the extension to use hstore)\n",
    "\n",
    "def create_staging_table(cursor):\n",
    "    cursor.execute(\"\"\"\n",
    "        CREATE EXTENSION hstore;\n",
    "        DROP TABLE IF EXISTS h_dct_prac;\n",
    "        CREATE UNLOGGED TABLE  h_dct_prac (\n",
    "        ID serial NOT NULL PRIMARY KEY,\n",
    "      employer text, yr_begin INT, \n",
    "      yr_end INT, fun_col_info hstore);\"\"\")"
   ]
  },
  {
   "cell_type": "code",
   "execution_count": 8,
   "metadata": {},
   "outputs": [],
   "source": [
    "# Send the Schema to PSQL\n",
    "\n",
    "with conn.cursor() as cursor:\n",
    "    create_staging_table(cursor)"
   ]
  },
  {
   "cell_type": "markdown",
   "metadata": {},
   "source": [
    "# Convert Formatting to use with Postgresql `[H_store]`"
   ]
  },
  {
   "cell_type": "markdown",
   "metadata": {},
   "source": [
    "# INSERT: `One`\n",
    "\n",
    "+ Pay ATTENTION: to the string formatting, it is highly important"
   ]
  },
  {
   "cell_type": "code",
   "execution_count": 11,
   "metadata": {},
   "outputs": [],
   "source": [
    "# Only Insert entry:\n",
    "\n",
    "sql_=\"\"\"\n",
    "INSERT INTO h_dct_prac (employer,yr_begin,yr_end,fun_col_info) VALUES (%s,%s,%s,%s)\n",
    "\"\"\"\n",
    "\n",
    "nemo=['everyone',\n",
    "  1677,\n",
    "  2020,\n",
    "  '\"first_name\"=>\"Santa\",\"last_name\"=>\"Clause\",\"occupation\"=>\"gift giver\"']\n",
    "cur.execute(sql_, nemo)"
   ]
  },
  {
   "cell_type": "code",
   "execution_count": 12,
   "metadata": {
    "scrolled": false
   },
   "outputs": [
    {
     "data": {
      "text/plain": [
       "[(1,\n",
       "  'everyone',\n",
       "  1677,\n",
       "  2020,\n",
       "  '\"last_name\"=>\"Clause\", \"first_name\"=>\"Santa\", \"occupation\"=>\"gift giver\"')]"
      ]
     },
     "execution_count": 12,
     "metadata": {},
     "output_type": "execute_result"
    }
   ],
   "source": [
    "sq=\"\"\"select * from h_dct_prac\"\"\"\n",
    "cur.execute(sq)\n",
    "cur.fetchall()"
   ]
  },
  {
   "cell_type": "markdown",
   "metadata": {},
   "source": [
    " # Insert: `MANY`\n",
    " \n",
    " + You have to do some trick string formatting and it will work! \n",
    " + There is NO where else online that has done this, believe me."
   ]
  },
  {
   "cell_type": "code",
   "execution_count": 16,
   "metadata": {},
   "outputs": [
    {
     "data": {
      "text/plain": [
       "['self_empl',\n",
       " 1983,\n",
       " 1985,\n",
       " '\"first_name\"=>\"Ewok\",\"last_name\"=>\"Endor\",\"occupation\"=>\"forest dweller\"']"
      ]
     },
     "execution_count": 16,
     "metadata": {},
     "output_type": "execute_result"
    }
   ],
   "source": [
    "'''\n",
    " First we need to do some tricky strick manipulation to achieve formatting that h_store\n",
    " will use.\n",
    " \n",
    " ['\"=>\"'.join(tups) for tups in i[3].items() ]\n",
    " \n",
    " This list comprehension will format so \n",
    " your strings will have 'key\"=>\"value' but we will need one more double qout one each \n",
    " side of key and value to be correct:  '\"key\"=>\"value\"' \n",
    " \n",
    " That is done with the second loop and list comprehension:\n",
    " \n",
    " ['\"'+item + '\"' for item in i[3]]\n",
    " \n",
    " \n",
    "'''\n",
    "\n",
    "r_p=[] # stores first part format: [employer,yr_begin,yr_end,str_partial_format]\n",
    "final_format=[]\n",
    "\n",
    "for i in names_occup:\n",
    "    first_format_step=['\"=>\"'.join(tups) for tups in i[3].items() ]\n",
    "    r_p.append([i[0],i[1],i[2],first_format_step])\n",
    "\n",
    "\n",
    "# finishing formatting of the hstore: attributes \n",
    "\n",
    "for i in r_p:\n",
    "#     print(i[3])\n",
    "    g=['\"'+item + '\"' for item in i[3]] # finish formating: \n",
    "    \n",
    "    gg=','.join(g) # separating strings by comma\n",
    "    \n",
    "    final_format.append([i[0],i[1],i[2],gg])\n",
    "final_format[1]"
   ]
  },
  {
   "cell_type": "code",
   "execution_count": 14,
   "metadata": {},
   "outputs": [],
   "source": [
    "sql_=\"\"\"\n",
    "INSERT INTO h_dct_prac (employer,yr_begin,yr_end,fun_col_info) VALUES (%s,%s,%s,%s)\n",
    "\"\"\"\n",
    "\n",
    "for i in final_format:\n",
    "#     print(i)\n",
    "    emp, yr_b,yr_e,hstore=i\n",
    "    cur.execute(sql_, [emp, yr_b, yr_e, hstore])\n",
    "#     cur.execute(sql_,i)"
   ]
  },
  {
   "cell_type": "code",
   "execution_count": 33,
   "metadata": {},
   "outputs": [
    {
     "data": {
      "text/plain": [
       "[(2,\n",
       "  'Mr Han',\n",
       "  1977,\n",
       "  2019,\n",
       "  '\"last_name\"=>\"Wookie\", \"first_name\"=>\"Chewie\", \"occupation\"=>\"thrill seeker\"'),\n",
       " (3,\n",
       "  'self_empl',\n",
       "  1983,\n",
       "  1985,\n",
       "  '\"last_name\"=>\"Endor\", \"first_name\"=>\"Ewok\", \"occupation\"=>\"forest dweller\"'),\n",
       " (4,\n",
       "  'self',\n",
       "  1999,\n",
       "  2011,\n",
       "  '\"last_name\"=>\"P\", \"first_name\"=>\"Harry\", \"occupation\"=>\"magic\"'),\n",
       " (1,\n",
       "  'everyone',\n",
       "  1677,\n",
       "  2020,\n",
       "  '\"last_name\"=>\"Clause\", \"first_name\"=>\"Mr_Santa\", \"occupation\"=>\"gift giver\"')]"
      ]
     },
     "execution_count": 33,
     "metadata": {},
     "output_type": "execute_result"
    }
   ],
   "source": [
    "sql=\"\"\"\n",
    "select * from h_dct_prac\n",
    "\"\"\"\n",
    "cur.execute(sql)\n",
    "cur.fetchall()"
   ]
  },
  {
   "cell_type": "markdown",
   "metadata": {},
   "source": [
    "# UPDATE: existing key-value pair"
   ]
  },
  {
   "cell_type": "code",
   "execution_count": 35,
   "metadata": {},
   "outputs": [],
   "source": [
    "sq_santa=\"\"\"\n",
    "UPDATE h_dct_prac SET fun_col_info = fun_col_info || \n",
    "'\"first_name\"=>\"Mr_Santa\"' \n",
    "WHERE id = 1;  \n",
    "\"\"\"\n",
    "\n",
    "cur.execute(sq_santa)"
   ]
  },
  {
   "cell_type": "code",
   "execution_count": 36,
   "metadata": {},
   "outputs": [
    {
     "data": {
      "text/plain": [
       "[(2,\n",
       "  'Mr Han',\n",
       "  1977,\n",
       "  2019,\n",
       "  '\"last_name\"=>\"Wookie\", \"first_name\"=>\"Chewie\", \"occupation\"=>\"thrill seeker\"'),\n",
       " (3,\n",
       "  'self_empl',\n",
       "  1983,\n",
       "  1985,\n",
       "  '\"last_name\"=>\"Endor\", \"first_name\"=>\"Ewok\", \"occupation\"=>\"forest dweller\"'),\n",
       " (4,\n",
       "  'self',\n",
       "  1999,\n",
       "  2011,\n",
       "  '\"last_name\"=>\"P\", \"first_name\"=>\"Harry\", \"occupation\"=>\"magic\"'),\n",
       " (1,\n",
       "  'everyone',\n",
       "  1677,\n",
       "  2020,\n",
       "  '\"last_name\"=>\"Clause\", \"first_name\"=>\"Mr_Santa\", \"occupation\"=>\"gift giver\"')]"
      ]
     },
     "execution_count": 36,
     "metadata": {},
     "output_type": "execute_result"
    }
   ],
   "source": [
    "cur.execute('''select * from h_dct_prac''')\n",
    "cur.fetchall()"
   ]
  },
  {
   "cell_type": "markdown",
   "metadata": {},
   "source": [
    "# Query:\n",
    "\n",
    "+ Specific Key\n",
    "+ h_store column\n",
    "+ WHERE clause\n",
    "+ Look for a key-value pair\n",
    "+ multiple keys at once\n",
    "+ Return either all keys or values from a column"
   ]
  },
  {
   "cell_type": "code",
   "execution_count": 17,
   "metadata": {},
   "outputs": [
    {
     "data": {
      "text/plain": [
       "[('Santa',), ('Chewie',), ('Ewok',), ('Harry',)]"
      ]
     },
     "execution_count": 17,
     "metadata": {},
     "output_type": "execute_result"
    }
   ],
   "source": [
    "# Select specific key:\n",
    "\n",
    "s='''\n",
    "SELECT\n",
    "fun_col_info -> 'first_name' AS f_n\n",
    "FROM\n",
    "h_dct_prac;\n",
    "'''\n",
    "cur.execute(s)\n",
    "cur.fetchall()"
   ]
  },
  {
   "cell_type": "code",
   "execution_count": 18,
   "metadata": {},
   "outputs": [
    {
     "data": {
      "text/plain": [
       "[('\"last_name\"=>\"Clause\", \"first_name\"=>\"Santa\", \"occupation\"=>\"gift giver\"',),\n",
       " ('\"last_name\"=>\"Wookie\", \"first_name\"=>\"Chewie\", \"occupation\"=>\"thrill seeker\"',),\n",
       " ('\"last_name\"=>\"Endor\", \"first_name\"=>\"Ewok\", \"occupation\"=>\"forest dweller\"',),\n",
       " ('\"last_name\"=>\"P\", \"first_name\"=>\"Harry\", \"occupation\"=>\"magic\"',)]"
      ]
     },
     "execution_count": 18,
     "metadata": {},
     "output_type": "execute_result"
    }
   ],
   "source": [
    "# h_store column:\n",
    "\n",
    "s_='''\n",
    "SELECT\n",
    "fun_col_info\n",
    "FROM\n",
    "h_dct_prac;\n",
    "'''\n",
    "cur.execute(s_)\n",
    "cur.fetchall()"
   ]
  },
  {
   "cell_type": "code",
   "execution_count": 19,
   "metadata": {},
   "outputs": [
    {
     "data": {
      "text/plain": [
       "[(2011, 'Harry', 'P')]"
      ]
     },
     "execution_count": 19,
     "metadata": {},
     "output_type": "execute_result"
    }
   ],
   "source": [
    "# Where clause:\n",
    "\n",
    "seq='''\n",
    "SELECT\n",
    "yr_end,  fun_col_info -> 'first_name' AS f_n,fun_col_info ->'last_name' as l_n\n",
    "FROM\n",
    "h_dct_prac\n",
    "WHERE\n",
    "fun_col_info -> 'occupation' = 'magic';\n",
    "'''\n",
    "cur.execute(seq)\n",
    "cur.fetchall()"
   ]
  },
  {
   "cell_type": "code",
   "execution_count": 28,
   "metadata": {},
   "outputs": [
    {
     "data": {
      "text/plain": [
       "[('Mr Han',)]"
      ]
     },
     "execution_count": 28,
     "metadata": {},
     "output_type": "execute_result"
    }
   ],
   "source": [
    "# Look for a key-value pair with this (@>) operator\n",
    "\n",
    "s_kv='''\n",
    "SELECT\n",
    "employer\n",
    "FROM\n",
    "h_dct_prac\n",
    "WHERE\n",
    "fun_col_info @> '\"last_name\"=>\"Wookie\"' :: hstore;\n",
    "'''\n",
    "cur.execute(s_kv)\n",
    "cur.fetchall()"
   ]
  },
  {
   "cell_type": "code",
   "execution_count": 20,
   "metadata": {},
   "outputs": [
    {
     "data": {
      "text/plain": [
       "[(1,\n",
       "  'everyone',\n",
       "  1677,\n",
       "  2020,\n",
       "  '\"last_name\"=>\"Clause\", \"first_name\"=>\"Santa\", \"occupation\"=>\"gift giver\"'),\n",
       " (2,\n",
       "  'Mr Han',\n",
       "  1977,\n",
       "  2019,\n",
       "  '\"last_name\"=>\"Wookie\", \"first_name\"=>\"Chewie\", \"occupation\"=>\"thrill seeker\"'),\n",
       " (3,\n",
       "  'self_empl',\n",
       "  1983,\n",
       "  1985,\n",
       "  '\"last_name\"=>\"Endor\", \"first_name\"=>\"Ewok\", \"occupation\"=>\"forest dweller\"'),\n",
       " (4,\n",
       "  'self',\n",
       "  1999,\n",
       "  2011,\n",
       "  '\"last_name\"=>\"P\", \"first_name\"=>\"Harry\", \"occupation\"=>\"magic\"')]"
      ]
     },
     "execution_count": 20,
     "metadata": {},
     "output_type": "execute_result"
    }
   ],
   "source": [
    "# has a key? : \n",
    "\n",
    "cur.execute( \"select * from h_dct_prac where fun_col_info ? %s;\",('first_name', ))\n",
    "cur.fetchall()"
   ]
  },
  {
   "cell_type": "code",
   "execution_count": 26,
   "metadata": {},
   "outputs": [
    {
     "data": {
      "text/plain": [
       "[(['last_name', 'first_name', 'occupation'],),\n",
       " (['last_name', 'first_name', 'occupation'],),\n",
       " (['last_name', 'first_name', 'occupation'],),\n",
       " (['last_name', 'first_name', 'occupation'],)]"
      ]
     },
     "execution_count": 26,
     "metadata": {},
     "output_type": "execute_result"
    }
   ],
   "source": [
    "# All keys:\n",
    "\n",
    "s='''\n",
    "SELECT\n",
    "akeys (fun_col_info)\n",
    "FROM\n",
    "h_dct_prac;\n",
    "'''\n",
    "cur.execute(s)\n",
    "cur.fetchall()"
   ]
  },
  {
   "cell_type": "code",
   "execution_count": 27,
   "metadata": {},
   "outputs": [
    {
     "data": {
      "text/plain": [
       "[('last_name',),\n",
       " ('first_name',),\n",
       " ('occupation',),\n",
       " ('last_name',),\n",
       " ('first_name',),\n",
       " ('occupation',),\n",
       " ('last_name',),\n",
       " ('first_name',),\n",
       " ('occupation',),\n",
       " ('last_name',),\n",
       " ('first_name',),\n",
       " ('occupation',)]"
      ]
     },
     "execution_count": 27,
     "metadata": {},
     "output_type": "execute_result"
    }
   ],
   "source": [
    "# Return all keys as a set:\n",
    "\n",
    "s='''\n",
    "SELECT\n",
    "skeys (fun_col_info)\n",
    "FROM\n",
    "h_dct_prac;\n",
    "'''\n",
    "cur.execute(s)\n",
    "cur.fetchall()"
   ]
  },
  {
   "cell_type": "code",
   "execution_count": 23,
   "metadata": {},
   "outputs": [
    {
     "data": {
      "text/plain": [
       "[(['Clause', 'Santa', 'gift giver'],),\n",
       " (['Wookie', 'Chewie', 'thrill seeker'],),\n",
       " (['Endor', 'Ewok', 'forest dweller'],),\n",
       " (['P', 'Harry', 'magic'],)]"
      ]
     },
     "execution_count": 23,
     "metadata": {},
     "output_type": "execute_result"
    }
   ],
   "source": [
    "# All values:\n",
    "s_v='''\n",
    "SELECT\n",
    "avals (fun_col_info)\n",
    "FROM\n",
    "h_dct_prac;\n",
    "'''\n",
    "cur.execute(s_v)\n",
    "cur.fetchall()"
   ]
  },
  {
   "cell_type": "markdown",
   "metadata": {},
   "source": [
    "# Convert to JSON:"
   ]
  },
  {
   "cell_type": "code",
   "execution_count": 21,
   "metadata": {},
   "outputs": [
    {
     "data": {
      "text/plain": [
       "[('everyone',\n",
       "  {'last_name': 'Clause', 'first_name': 'Santa', 'occupation': 'gift giver'}),\n",
       " ('Mr Han',\n",
       "  {'last_name': 'Wookie',\n",
       "   'first_name': 'Chewie',\n",
       "   'occupation': 'thrill seeker'}),\n",
       " ('self_empl',\n",
       "  {'last_name': 'Endor',\n",
       "   'first_name': 'Ewok',\n",
       "   'occupation': 'forest dweller'}),\n",
       " ('self', {'last_name': 'P', 'first_name': 'Harry', 'occupation': 'magic'})]"
      ]
     },
     "execution_count": 21,
     "metadata": {},
     "output_type": "execute_result"
    }
   ],
   "source": [
    "yay='''\n",
    "SELECT\n",
    "  employer,\n",
    "  hstore_to_json(fun_col_info) json\n",
    "FROM\n",
    "  h_dct_prac ;\n",
    "'''\n",
    "\n",
    "cur.execute(yay)\n",
    "cur.fetchall()"
   ]
  },
  {
   "cell_type": "markdown",
   "metadata": {},
   "source": [
    "# <font color=red>LIKE</font>, Share &\n",
    "\n",
    "# <font color=red>SUB</font>scribe"
   ]
  },
  {
   "cell_type": "markdown",
   "metadata": {},
   "source": [
    "# Citations & Help:\n",
    "\n",
    "# ◔̯◔\n",
    "\n",
    "https://silo.tips/download/advanced-access-to-postgresql-from-python-with-psycopg2\n",
    "    \n",
    "https://www.postgresqltutorial.com/postgresql-hstore/\n",
    "\n",
    "https://www.postgresql.org/docs/9.1/hstore.html\n",
    "\n",
    "https://fladriss.wordpress.com/2013/07/25/python-and-postgres-hstores/\n",
    "\n",
    "https://www.ibm.com/cloud/blog/an-introduction-to-postgresqls-hstore\n",
    "\n",
    "https://www.citusdata.com/blog/2016/07/14/choosing-nosql-hstore-json-jsonb/\n",
    "\n",
    "https://www.geeksforgeeks.org/python-join-tuple-elements-in-a-list/"
   ]
  }
 ],
 "metadata": {
  "kernelspec": {
   "display_name": "Python 3",
   "language": "python",
   "name": "python3"
  },
  "language_info": {
   "codemirror_mode": {
    "name": "ipython",
    "version": 3
   },
   "file_extension": ".py",
   "mimetype": "text/x-python",
   "name": "python",
   "nbconvert_exporter": "python",
   "pygments_lexer": "ipython3",
   "version": "3.7.3"
  }
 },
 "nbformat": 4,
 "nbformat_minor": 4
}
