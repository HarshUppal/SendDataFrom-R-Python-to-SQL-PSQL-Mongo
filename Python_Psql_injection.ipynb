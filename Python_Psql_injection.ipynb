{
 "cells": [
  {
   "cell_type": "markdown",
   "metadata": {},
   "source": [
    "# `Psycopg2` : *sql injection*\n",
    "\n",
    "# <font color=red>Mr Fugu Data Science</font>\n",
    "\n",
    "# (◕‿◕✿)\n",
    "\n",
    "# Purpose & Outcome:\n",
    "\n",
    "+ GO over some things you DO NOT want to do\n",
    "\n",
    "+ Show how to remedy `1st order sql injection only`\n",
    "\n",
    "`I am NOT a cybersecurity person NOR am I a DB Admin` This is to give you ideas and insight of things that can occur.\n",
    "\n",
    "# `Next Video: MySQL/PSQL casting`"
   ]
  },
  {
   "cell_type": "code",
   "execution_count": 6,
   "metadata": {},
   "outputs": [],
   "source": [
    "import pandas as pd\n",
    "import psycopg2 # make connection and interface\n",
    "\n",
    "# Import the 'config' function from the config_user_dta.py file:\n",
    "from config_user_dta import config  # call my user credentials"
   ]
  },
  {
   "cell_type": "markdown",
   "metadata": {},
   "source": [
    "`---------------------------------`\n",
    "\n",
    "**If you do not want to create init or config files: do something similar to this**\n",
    "\n",
    "`import psycopg2\n",
    "conn = psycopg2.connect(\"dbname=test user=postgres\") # Connect to an existing database\n",
    "cur = conn.cursor() #Open a cursor to perform database operations`\n",
    "\n",
    "[If you want the old file to create config/Ini files etc](https://github.com/MrFuguDataScience/SendDataFrom-R-Python-to-SQL-PSQL-Mongo/blob/master/HOW%20TO%20SEND%20DATA%20from%20Python%20to%20PSQL.ipynb)"
   ]
  },
  {
   "cell_type": "code",
   "execution_count": 7,
   "metadata": {},
   "outputs": [],
   "source": [
    "# Establish a connection to the database by creating a cursor object\n",
    "\n",
    "# Get the config params\n",
    "params_ = config()\n",
    "\n",
    "# Connect to the Postgres_DB:\n",
    "conn = psycopg2.connect(**params_)\n",
    "\n",
    "# Create new_cursor allowing us to write Python to execute PSQL:\n",
    "cur = conn.cursor()\n",
    "\n",
    "conn.autocommit = True  # read documentation understanding when to Use & NOT use (TRUE)\n",
    "\n",
    "# psycopg2.extras.register_hstore(conn)"
   ]
  },
  {
   "cell_type": "markdown",
   "metadata": {},
   "source": [
    "# String representation: *`PROBLEMS`*\n",
    "\n",
    "`SQL and Python Representations` of data are not exactly the same.\n",
    "\n",
    "+ For example **single qoutes** for a string.\n",
    "    * In `SQL` is is used as a string literal delimiter and if used inside a string will neeed to be escaped.\n",
    "    * In `Python` this is not a problem and doesn't matter.\n",
    "    \n",
    "While this can seem like a subtle distinction it can have consequences in SQL.\n",
    "\n",
    "`Assume that you have something you got online from a website or a file that you are entering for some database.` This string of data could have something hidden which would cause great issues for you if it came from a malicious person. Something you should be aware of is a `SQL injection`.\n",
    "\n",
    "`------------------------`\n",
    "\n",
    "**<font color=red> For example</font>**: you are looking at a non-profit site that deals with donating money to certain groups or chrarities or people who knows. This is what the site looks like when you click a button and see donations page and then you will see their current campaigns to donate money.\n",
    "\n",
    "**`https://some_nonprofit.org/donations?group=current_campaigns`**\n",
    "\n",
    "Now, lets say that they have this webpage may have a query behind the scenes that looks like this:\n",
    "\n",
    "**`SELECT * FROM donations WHERE group ='current_campaigns' AND current=1;`**\n",
    "\n",
    "This query will then:\n",
    "\n",
    "+ select everything from the dontations and find current campaigns that are available (current=1)\n",
    "\n",
    "What if now we start manipulating this webpage since it is not very secure by chance?\n",
    "\n",
    "**`https://some_nonprofit.org/donations?group='current_campaigns'`** **<font color=red size=4>--</font>**\n",
    "\n",
    "The little innocuous piece you see in red will have some horrible effects if this is not a secure website. Let's see what is going on...\n",
    "\n",
    "**`SELECT * FROM donations WHERE group ='current_campaigns'`** **<font color=red>'--</font>** **`AND current=1;`**\n",
    "\n",
    "\n",
    "+ The SQL query interprets this as a comment; therefore anything occuring after it will be considered a comment. So the `AND current=1` referencing the current campaigns available are ignored and everything can be made visible 😳. \n",
    "\n",
    "\n",
    "<font size=6>☠️</font> **<font color=red>Pirate Party Time</font>**\n",
    "\n",
    "**Well, if you are a pirate searching for information why stop here?**\n",
    "\n",
    "`________________________`\n",
    "\n",
    "**`SELECT * FROM donations WHERE group ='current_campaigns'`** **<font color=red>'--</font>** **`AND current=1;`**\n",
    "\n",
    "\n",
    "Now you have effectively, gave yourself accesss to things you didn't know existed. Freeing up more data to view or take advantage of. \n",
    "\n",
    "`How about another step toward being a true pirate:` don't mind if I do...\n",
    "\n",
    "\n",
    "\n",
    "**`SELECT * FROM donations WHERE group ='current_campaigns'`** <font color=red size=3>+ OR 1=1--'</font> **`AND current=1;`**\n",
    "\n",
    "The kicker: this query always evaluates to `TRUE` oops... Now, the data is free to view. \n",
    "\n",
    "`---------------------------`\n",
    "\n",
    "\n",
    "https://www.psycopg.org/docs/usage.html\n",
    "\n",
    "https://en.wikipedia.org/wiki/SQL_injection"
   ]
  },
  {
   "cell_type": "markdown",
   "metadata": {},
   "source": [
    "# <font color=red>DO NOT</font> `DO THIS IN PRACTICE: YOU WILL HAVE REAL PROBLEMS!!!!` \n",
    "\n",
    "<font size=6>☠️ ☠️ ☠️ ☠️</font>"
   ]
  },
  {
   "cell_type": "markdown",
   "metadata": {},
   "source": [
    "# `Python with PSQL` (psycopg2): two other examples\n",
    "\n",
    "`_____________________________________`\n",
    "\n",
    "\n",
    "# **Ex. ) 1** `String Parameter Interpolation`\n",
    "\n",
    "`**********************************`"
   ]
  },
  {
   "cell_type": "markdown",
   "metadata": {},
   "source": [
    "\n",
    "\n",
    "`sql = \"INSERT INTO user_info (names) VALUES` <font color=red>('%s')</font> `;\"` <font size=6>☠️</font> **Pirate Party Time**\n",
    "\n",
    "`input_dta=('johnny_wants_toGetHacked')` # and this line could be anything harmful!\n",
    "\n",
    "`cur.execute(sql` <font color=red>%</font> `input_dta)`\n",
    "\n",
    "This input statement can get a whole bunch of bad stuff put here because you don't have anyway to prevent malicious attacks. Let's see what we can do here:\n",
    "\n",
    "\n",
    "`input_dta=\"'; update user_info set admin = 'true' where names = 'hacker'; select true; --\"`\n",
    "\n",
    "*I mean why not, we are given the ability to put whatever we want. I guess we can update some user and give them admin privileges for later.*\n",
    "\n",
    "\n",
    "**Why did this happen? I mean that little old** *`'%s'`* seems so insignificant... \n",
    "\n",
    "Basically you are letting yourself have a hey day for bad people because you have that single qoute `''` in the sql statement which is interpreted as your query. Because of this you can input not so good things if you understand the underlying structure of these tables 😱.\n",
    "\n",
    "But, there's something else: the string parameter interpolation at the end:\n",
    "\n",
    "`cur.execute(sql % input_dta)` our little % is NOT good news either. \n",
    "\n",
    "\n",
    "`Looks like somebody is getting fired soon.`\n",
    "\n",
    "\n",
    "**Now the good news psycopg2** can interpret/automatically convert Python objects to/from SQL literals.\n",
    "\n",
    "`What?`\n",
    "\n",
    "`Well you don't need to pass the ('%s') but instead %s` which is a step in the right direction and you would end up with \n",
    "\n",
    "`cur.execute(sql,input_dta)` as well. But, we are not out of the woods yet!"
   ]
  },
  {
   "cell_type": "markdown",
   "metadata": {},
   "source": [
    "# **Ex. 2)** `String Concatenation`\n",
    "\n",
    "`**************************************`\n",
    "\n",
    "`query = \"SELECT * FROM user_info WHERE group = '\"+ input + \"'\";`\n",
    "\n",
    "`result_ = cursor.execute(query)`\n",
    "\n",
    "`cursor.fetchall()`\n",
    "\n",
    "<font color=red>Oh No, Not Again</font> another issue!\n",
    "\n",
    "This is because we have the same issue of benig able to re-write the query based on this string concatination. \n",
    "\n",
    "\n",
    "# But wait: *I need to tell you something, that good old* <font color=red>where clause</font>  *is another one of our potential problems too*."
   ]
  },
  {
   "cell_type": "markdown",
   "metadata": {},
   "source": [
    "# How can we deal with this?\n",
    "\n",
    "`Well a good thing would be to start with parameterized queries!`\n",
    "\n",
    "**Hmm, what is that?**\n",
    "\n",
    "Let's look at some examples to get an idea"
   ]
  },
  {
   "cell_type": "markdown",
   "metadata": {},
   "source": [
    "# Start thinking about this: \n",
    "\n",
    "+ Anytime there is `user input` there is a chance of creating a vulnerability!\n",
    "    + You will need checks and validation steps to help curb this problem."
   ]
  },
  {
   "cell_type": "markdown",
   "metadata": {},
   "source": [
    "# `Today's problem`:\n",
    "\n",
    "`I have a website that stores Car Dealer information: such as that from the last video. And we have a login page, but we are not entirely sure how to format the webpage and make the site secure because we are newbies and naive.`\n",
    "\n",
    "*Let's pretend to be a `Pirate named Brown Eye Jerry` like a guy from graduate school I knew. A real <font size=3>💩</font> and he is going to enter our website from the backdoor as all pirates do and exploit my website.*"
   ]
  },
  {
   "cell_type": "code",
   "execution_count": 8,
   "metadata": {},
   "outputs": [],
   "source": [
    "# CREATE TABLE FOR PSQL: staging_fake_ppl\n",
    "\n",
    "def create_staging_table(cursor):\n",
    "    cursor.execute(\"\"\"\n",
    "        DROP TABLE IF EXISTS staging_website_users;\n",
    "        CREATE UNLOGGED TABLE staging_website_users (\n",
    "            user_          varchar(30),\n",
    "            DB_Admin       Boolean\n",
    "        );\"\"\")"
   ]
  },
  {
   "cell_type": "code",
   "execution_count": 9,
   "metadata": {},
   "outputs": [],
   "source": [
    "# Send the Schema to PSQL\n",
    "\n",
    "with conn.cursor() as cursor:\n",
    "    create_staging_table(cursor)"
   ]
  },
  {
   "cell_type": "code",
   "execution_count": 15,
   "metadata": {},
   "outputs": [],
   "source": [
    "# Insert some fake data:\n",
    "\n",
    "sql_=\"\"\"INSERT INTO staging_website_users (user_,DB_Admin) VALUES ('Alf',True),\n",
    "('Monty',False),('humpty_dumpty',False),('yaya123',False);\"\"\"\n",
    "cur.execute(sql_)"
   ]
  },
  {
   "cell_type": "code",
   "execution_count": 16,
   "metadata": {},
   "outputs": [
    {
     "data": {
      "text/plain": [
       "[('Alf', True), ('Monty', False), ('humpty_dumpty', False), ('yaya123', False)]"
      ]
     },
     "execution_count": 16,
     "metadata": {},
     "output_type": "execute_result"
    }
   ],
   "source": [
    "# verify\n",
    "cur.execute(\"select * from staging_website_users\")\n",
    "cur.fetchall()"
   ]
  },
  {
   "cell_type": "markdown",
   "metadata": {},
   "source": [
    " `--------------------------`\n",
    " \n",
    " \n",
    " \n",
    " <font size=7>☠️ Pirate Party Time</font> \n",
    " \n",
    " \n",
    " pretend you have this next function to check users trying to enter your system and it is not secure. Leaving our little pirates and trolls to have a fun time"
   ]
  },
  {
   "cell_type": "code",
   "execution_count": 19,
   "metadata": {},
   "outputs": [],
   "source": [
    "# BAD EXAMPLE. DON'T DO THIS! \n",
    "def is_admin(username: str):\n",
    "    with conn.cursor() as cursor:\n",
    "        cur.execute(\"\"\"\n",
    "            SELECT\n",
    "                DB_admin\n",
    "            FROM\n",
    "                staging_website_users\n",
    "            WHERE\n",
    "                user_ = '%s'          \n",
    "                                    \n",
    "        \"\"\" % username)               #  this line % and '' in line above: NO NO NO\n",
    "        result = cur.fetchone()\n",
    "\n",
    "    if result is None:\n",
    "        # User does not exist\n",
    "        return False\n",
    "\n",
    "    admin, = result\n",
    "    return admin\n",
    "\n",
    "# https://realpython.com/prevent-python-sql-injection/ (This Function from here)"
   ]
  },
  {
   "cell_type": "code",
   "execution_count": 24,
   "metadata": {},
   "outputs": [
    {
     "name": "stdout",
     "output_type": "stream",
     "text": [
      "True\n",
      "False\n",
      "Pirate entered your DB: True\n"
     ]
    }
   ],
   "source": [
    "# Check who is an DB_Admin:\n",
    "print(is_admin('Alf'))\n",
    "print(is_admin('yay123'))"
   ]
  },
  {
   "cell_type": "markdown",
   "metadata": {},
   "source": [
    "# `Exploit` our DB:"
   ]
  },
  {
   "cell_type": "code",
   "execution_count": 31,
   "metadata": {},
   "outputs": [
    {
     "name": "stdout",
     "output_type": "stream",
     "text": [
      "Pirate entered your DB: True\n"
     ]
    }
   ],
   "source": [
    "\n",
    "print('Pirate entered your DB:',is_admin(\"'; select true; --\"))"
   ]
  },
  {
   "cell_type": "code",
   "execution_count": 26,
   "metadata": {},
   "outputs": [
    {
     "name": "stdout",
     "output_type": "stream",
     "text": [
      "select DB_Admin from staging_website_users where user) = ''; select true; --'\n"
     ]
    }
   ],
   "source": [
    "# Print the actual query:\n",
    "print(\"select DB_Admin from staging_website_users where user) \\\n",
    "= '%s'\" % \"'; select true; --\")"
   ]
  },
  {
   "cell_type": "markdown",
   "metadata": {},
   "source": [
    "# What just happened?\n",
    "\n",
    "+ You would assume the argument you want is a specific user_, but what you are getting instead is: \n",
    "\n",
    "`1.)` a query terminated by a semicolon\n",
    "\n",
    "`2.)` a `select true` statement that is true (always)\n",
    "\n",
    "`3.)` then a comment `--` which will take care of anything after it like a password because it is now ignored.\n",
    "\n",
    "**`This would be very bad if someone wanted to delete everything, store something for later etc. Because you could create a way to just enter later if you wanted for do everything now.`**"
   ]
  },
  {
   "cell_type": "markdown",
   "metadata": {},
   "source": [
    "# Updated  function:\n",
    "\n",
    "+ This time we do not have single qoutes or the string interpolation"
   ]
  },
  {
   "cell_type": "code",
   "execution_count": 29,
   "metadata": {},
   "outputs": [],
   "source": [
    "def is_admin_updated(username: str):\n",
    "    with conn.cursor() as cursor:\n",
    "        cur.execute(\"\"\"\n",
    "            SELECT\n",
    "                DB_admin\n",
    "            FROM\n",
    "                staging_website_users\n",
    "            WHERE\n",
    "                user_ = %(username)s\n",
    "                                    \n",
    "        \"\"\", {\n",
    "            'username': username\n",
    "        })\n",
    "        result = cur.fetchone()\n",
    "    if result is None:\n",
    "        # User does not exist\n",
    "        return False\n",
    "\n",
    "    admin, = result\n",
    "    return admin"
   ]
  },
  {
   "cell_type": "code",
   "execution_count": 30,
   "metadata": {},
   "outputs": [
    {
     "name": "stdout",
     "output_type": "stream",
     "text": [
      "Pirate entered your DB: False\n"
     ]
    }
   ],
   "source": [
    "# updated so pirate don't enter:\n",
    "print('Pirate entered your DB:',is_admin_updated(\"'; select true; --\"))"
   ]
  },
  {
   "cell_type": "markdown",
   "metadata": {},
   "source": [
    "# Things to note here:\n",
    "\n",
    "1.) we created a named parameter which is linked to the `username` \n",
    "\n",
    "2.) no more nasty single qoutes `''`\n"
   ]
  },
  {
   "cell_type": "markdown",
   "metadata": {},
   "source": [
    "# <font color=red>Don't Do</font>: *bold portions*"
   ]
  },
  {
   "cell_type": "markdown",
   "metadata": {},
   "source": [
    "+ `\"SELECT DB_Admin FROM staging_website_users WHERE user_ =` **'\" + username + '**\n",
    "\n",
    "+ `\"SELECT DB_Admin FROM staging_website_users WHERE user_ =`  **'%s'  % username**\n",
    "\n",
    "+ `\"SELECT DB_Admin FROM staging_website_users WHERE user_ =` **{ }'\".format(username)**\n",
    "\n",
    "+ `f\"SELECT DB_Admin FROM staging_website_users WHERE user_ =` **'{username}'\"**"
   ]
  },
  {
   "cell_type": "markdown",
   "metadata": {},
   "source": [
    "# Try to Do:"
   ]
  },
  {
   "cell_type": "markdown",
   "metadata": {},
   "source": [
    "+ `%s\", (username, )`\n",
    "\n",
    "+ `%(username)s\", {'username': username}`"
   ]
  },
  {
   "cell_type": "markdown",
   "metadata": {},
   "source": [
    "# When we are doing queries: `psycopg2` has an advantage over the Python API\n",
    "\n",
    "we are able to do `Literals & Identifiers` *versus* Python only carrying out `Literals`\n",
    "\n",
    "**`But what's the difference?`**\n",
    "\n",
    "* *`Literal`*: strings, numerics, dates\n",
    "\n",
    "* *`Identifier`*: tables and columns"
   ]
  },
  {
   "cell_type": "code",
   "execution_count": 149,
   "metadata": {},
   "outputs": [
    {
     "data": {
      "text/html": [
       "<div>\n",
       "<style scoped>\n",
       "    .dataframe tbody tr th:only-of-type {\n",
       "        vertical-align: middle;\n",
       "    }\n",
       "\n",
       "    .dataframe tbody tr th {\n",
       "        vertical-align: top;\n",
       "    }\n",
       "\n",
       "    .dataframe thead th {\n",
       "        text-align: right;\n",
       "    }\n",
       "</style>\n",
       "<table border=\"1\" class=\"dataframe\">\n",
       "  <thead>\n",
       "    <tr style=\"text-align: right;\">\n",
       "      <th></th>\n",
       "      <th>credit_card</th>\n",
       "      <th>email</th>\n",
       "      <th>first_name</th>\n",
       "      <th>last_name</th>\n",
       "      <th>phone_number</th>\n",
       "    </tr>\n",
       "  </thead>\n",
       "  <tbody>\n",
       "    <tr>\n",
       "      <th>0</th>\n",
       "      <td>8631-4500-5666-1510</td>\n",
       "      <td>rztkvliou@dkeinhgysf.deo</td>\n",
       "      <td>Anthony</td>\n",
       "      <td>Vo</td>\n",
       "      <td>7345795348</td>\n",
       "    </tr>\n",
       "    <tr>\n",
       "      <th>1</th>\n",
       "      <td>1280-4584-5250-1133</td>\n",
       "      <td>axthrlcob@kdqvoabtw.nmg</td>\n",
       "      <td>Anthony</td>\n",
       "      <td>Henley</td>\n",
       "      <td>6958349723</td>\n",
       "    </tr>\n",
       "    <tr>\n",
       "      <th>2</th>\n",
       "      <td>6921-1083-1797-8702</td>\n",
       "      <td>xzgefkqlh@nhocyb.qwy</td>\n",
       "      <td>Anthony</td>\n",
       "      <td>Hazelman</td>\n",
       "      <td>9315684987</td>\n",
       "    </tr>\n",
       "    <tr>\n",
       "      <th>3</th>\n",
       "      <td>5725-6056-1230-2423</td>\n",
       "      <td>kj@tr.jdt</td>\n",
       "      <td>Anthony</td>\n",
       "      <td>Garcia</td>\n",
       "      <td>7244972846</td>\n",
       "    </tr>\n",
       "    <tr>\n",
       "      <th>4</th>\n",
       "      <td>8170-8477-1042-3899</td>\n",
       "      <td>rexi@eitlpqv.pce</td>\n",
       "      <td>Anthony</td>\n",
       "      <td>Green</td>\n",
       "      <td>8362748419</td>\n",
       "    </tr>\n",
       "  </tbody>\n",
       "</table>\n",
       "</div>"
      ],
      "text/plain": [
       "           credit_card                     email first_name last_name  \\\n",
       "0  8631-4500-5666-1510  rztkvliou@dkeinhgysf.deo    Anthony        Vo   \n",
       "1  1280-4584-5250-1133   axthrlcob@kdqvoabtw.nmg    Anthony    Henley   \n",
       "2  6921-1083-1797-8702      xzgefkqlh@nhocyb.qwy    Anthony  Hazelman   \n",
       "3  5725-6056-1230-2423                 kj@tr.jdt    Anthony    Garcia   \n",
       "4  8170-8477-1042-3899          rexi@eitlpqv.pce    Anthony     Green   \n",
       "\n",
       "  phone_number  \n",
       "0   7345795348  \n",
       "1   6958349723  \n",
       "2   9315684987  \n",
       "3   7244972846  \n",
       "4   8362748419  "
      ]
     },
     "execution_count": 149,
     "metadata": {},
     "output_type": "execute_result"
    }
   ],
   "source": [
    "from psycopg2 import sql #help safely write sql queries, verify you can't put bad stuff!\n",
    "\n",
    "\n",
    "def find_dta(table_name: str, f_name: str,name:str):\n",
    "    with conn.cursor() as cursor:\n",
    "        state_ment = sql.SQL(\"\"\"\n",
    "            SELECT\n",
    "                *\n",
    "            FROM {table_name}\n",
    "                WHERE {f_name}={name}\n",
    "        \"\"\").format(\n",
    "            table_name = sql.Identifier(table_name),\n",
    "            f_name = sql.Identifier(f_name),\n",
    "            name=sql.Literal(name)\n",
    "        )\n",
    "        cur.execute(state_ment)\n",
    "        result = cur.fetchall()\n",
    "\n",
    "    return result\n",
    "\n",
    "\n",
    "pd.DataFrame(find_dta('staging_fake_ppl','first_name','Anthony'),\n",
    "             columns=['credit_card','email',\n",
    "                        'first_name','last_name','phone_number']).head()\n",
    "\n",
    "\n",
    "# https://www.psycopg.org/docs/sql.html #(please look at)\n",
    "\n",
    "# http://aklaver.org/wordpress/2018/04/21/building-dynamic-sql-using-psycopg2/ #(examples)"
   ]
  },
  {
   "cell_type": "code",
   "execution_count": 147,
   "metadata": {},
   "outputs": [
    {
     "data": {
      "text/html": [
       "<div>\n",
       "<style scoped>\n",
       "    .dataframe tbody tr th:only-of-type {\n",
       "        vertical-align: middle;\n",
       "    }\n",
       "\n",
       "    .dataframe tbody tr th {\n",
       "        vertical-align: top;\n",
       "    }\n",
       "\n",
       "    .dataframe thead th {\n",
       "        text-align: right;\n",
       "    }\n",
       "</style>\n",
       "<table border=\"1\" class=\"dataframe\">\n",
       "  <thead>\n",
       "    <tr style=\"text-align: right;\">\n",
       "      <th></th>\n",
       "      <th>credit_card</th>\n",
       "      <th>email</th>\n",
       "      <th>first_name</th>\n",
       "      <th>last_name</th>\n",
       "      <th>phone_number</th>\n",
       "    </tr>\n",
       "  </thead>\n",
       "  <tbody>\n",
       "    <tr>\n",
       "      <th>0</th>\n",
       "      <td>8631-4500-5666-1510</td>\n",
       "      <td>rztkvliou@dkeinhgysf.deo</td>\n",
       "      <td>Anthony</td>\n",
       "      <td>Vo</td>\n",
       "      <td>7345795348</td>\n",
       "    </tr>\n",
       "    <tr>\n",
       "      <th>1</th>\n",
       "      <td>1280-4584-5250-1133</td>\n",
       "      <td>axthrlcob@kdqvoabtw.nmg</td>\n",
       "      <td>Anthony</td>\n",
       "      <td>Henley</td>\n",
       "      <td>6958349723</td>\n",
       "    </tr>\n",
       "    <tr>\n",
       "      <th>2</th>\n",
       "      <td>6921-1083-1797-8702</td>\n",
       "      <td>xzgefkqlh@nhocyb.qwy</td>\n",
       "      <td>Anthony</td>\n",
       "      <td>Hazelman</td>\n",
       "      <td>9315684987</td>\n",
       "    </tr>\n",
       "    <tr>\n",
       "      <th>3</th>\n",
       "      <td>5725-6056-1230-2423</td>\n",
       "      <td>kj@tr.jdt</td>\n",
       "      <td>Anthony</td>\n",
       "      <td>Garcia</td>\n",
       "      <td>7244972846</td>\n",
       "    </tr>\n",
       "    <tr>\n",
       "      <th>4</th>\n",
       "      <td>8170-8477-1042-3899</td>\n",
       "      <td>rexi@eitlpqv.pce</td>\n",
       "      <td>Anthony</td>\n",
       "      <td>Green</td>\n",
       "      <td>8362748419</td>\n",
       "    </tr>\n",
       "  </tbody>\n",
       "</table>\n",
       "</div>"
      ],
      "text/plain": [
       "           credit_card                     email first_name last_name  \\\n",
       "0  8631-4500-5666-1510  rztkvliou@dkeinhgysf.deo    Anthony        Vo   \n",
       "1  1280-4584-5250-1133   axthrlcob@kdqvoabtw.nmg    Anthony    Henley   \n",
       "2  6921-1083-1797-8702      xzgefkqlh@nhocyb.qwy    Anthony  Hazelman   \n",
       "3  5725-6056-1230-2423                 kj@tr.jdt    Anthony    Garcia   \n",
       "4  8170-8477-1042-3899          rexi@eitlpqv.pce    Anthony     Green   \n",
       "\n",
       "  phone_number  \n",
       "0   7345795348  \n",
       "1   6958349723  \n",
       "2   9315684987  \n",
       "3   7244972846  \n",
       "4   8362748419  "
      ]
     },
     "execution_count": 147,
     "metadata": {},
     "output_type": "execute_result"
    }
   ],
   "source": [
    "# same thing almost:\n",
    "\n",
    "query = sql.SQL(\"select * from {table} where {column_ofInterest} = %s\").format(\n",
    "    table=sql.Identifier('staging_fake_ppl'),\n",
    "    column_ofInterest=sql.Identifier('first_name'))\n",
    "\n",
    "cur.execute(query,('Anthony',))\n",
    "\n",
    "pd.DataFrame(cur.fetchall(),columns=['credit_card','email',\n",
    "                        'first_name','last_name','phone_number']).head()"
   ]
  },
  {
   "cell_type": "markdown",
   "metadata": {},
   "source": [
    "# Other Notable SQL Injections:\n",
    "\n",
    "go here for an idea: https://portswigger.net/web-security/sql-injection \n",
    "\n",
    "and good old: mr Google"
   ]
  },
  {
   "cell_type": "markdown",
   "metadata": {},
   "source": [
    "# <font color=red>Like</font>, Share &\n",
    "\n",
    "# <font color=red>SUB</font>scribe"
   ]
  },
  {
   "cell_type": "markdown",
   "metadata": {},
   "source": [
    "# Citations & Help: \n",
    "\n",
    "# <font size=7>◔̯◔</font>\n",
    "\n",
    "https://www.postgresqltutorial.com/psql-commands/ (sql shortcuts)\n",
    "\n",
    "`SQL Attacks`:\n",
    "\n",
    "https://www.veracode.com/security/sql-injection\n",
    "\n",
    "https://portswigger.net/web-security/sql-injection\n",
    "\n",
    "https://realpython.com/prevent-python-sql-injection/\n",
    "\n",
    "https://www.hacksplaining.com/prevention/sql-injection\n",
    "\n",
    "https://security.berkeley.edu/education-awareness/best-practices-how-tos/system-application-security/how-protect-against-sql\n",
    "\n",
    "https://tools.cisco.com/security/center/resources/sql_injection\n",
    "\n",
    "https://bobby-tables.com/python"
   ]
  }
 ],
 "metadata": {
  "kernelspec": {
   "display_name": "Python 3",
   "language": "python",
   "name": "python3"
  },
  "language_info": {
   "codemirror_mode": {
    "name": "ipython",
    "version": 3
   },
   "file_extension": ".py",
   "mimetype": "text/x-python",
   "name": "python",
   "nbconvert_exporter": "python",
   "pygments_lexer": "ipython3",
   "version": "3.7.3"
  }
 },
 "nbformat": 4,
 "nbformat_minor": 4
}
