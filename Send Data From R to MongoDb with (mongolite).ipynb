{
 "cells": [
  {
   "cell_type": "markdown",
   "metadata": {},
   "source": [
    "# Send Data From R to MongoDb with mongolite\n",
    "`Mr Fugu Data Science`\n",
    "\n",
    "____________________________\n",
    "\n",
    "# (◕‿◕✿)\n",
    "\n",
    "[Github](https://github.com/MrFuguDataScience) | [Youtube](https://www.youtube.com/channel/UCbni-TDI-Ub8VlGaP8HLTNw?view_as=subscriber)\n",
    "\n",
    "# Outcome & Purpose:\n",
    "\n",
    "+ `Send Dataframes and .CSV() files to Mongo from R`\n",
    "    + `Run Queries`\n",
    "        + `Send data from Mongo to R`\n",
    "  \n",
    "[official mongolite manual](https://jeroen.github.io/mongolite/)"
   ]
  },
  {
   "cell_type": "code",
   "execution_count": null,
   "metadata": {},
   "outputs": [],
   "source": [
    "# install.packages('mongolite')\n",
    "# install.packages('rjson')"
   ]
  },
  {
   "cell_type": "code",
   "execution_count": 45,
   "metadata": {},
   "outputs": [],
   "source": [
    "# \n",
    "library(knitr)     # help run code\n",
    "library(markdown)  # create markdown files i.e. pdf\n",
    "library(dplyr)\n",
    "library(mongolite) # Create connection/Interface R<-> Mongodb\n",
    "library(jsonlite)  # send files to Mongo"
   ]
  },
  {
   "cell_type": "code",
   "execution_count": 48,
   "metadata": {},
   "outputs": [],
   "source": [
    "# This will not work for me, not sure why!\n",
    "\n",
    "# mongo('mongodb:://localhost',db='fake_users',collection = 'user_info')"
   ]
  },
  {
   "cell_type": "code",
   "execution_count": 50,
   "metadata": {},
   "outputs": [],
   "source": [
    "# Create Connection: 'localhost'\n",
    "mng_conn<-mongo(collection = 'user_info',db='fake_users')"
   ]
  },
  {
   "cell_type": "markdown",
   "metadata": {},
   "source": [
    "# Queries: `From Mongo to R`"
   ]
  },
  {
   "cell_type": "code",
   "execution_count": 52,
   "metadata": {},
   "outputs": [
    {
     "name": "stdout",
     "output_type": "stream",
     "text": [
      "Rows: 5,826\n",
      "Columns: 5\n",
      "$ credit_card          \u001b[3m\u001b[38;5;246m<chr>\u001b[39m\u001b[23m \"5399-3484-4724-7187\", \"1630-5261-6108-7631\", \"4…\n",
      "$ email                \u001b[3m\u001b[38;5;246m<chr>\u001b[39m\u001b[23m \"gso@qiegan.sqe\", \"xnji@gfruaxqnvm.fha\", \"dvyco@…\n",
      "$ first_name           \u001b[3m\u001b[38;5;246m<chr>\u001b[39m\u001b[23m \"Donyell Ann\", \"Bishop\", \"Connor\", \"Kylie\", \"Ant…\n",
      "$ last_name            \u001b[3m\u001b[38;5;246m<chr>\u001b[39m\u001b[23m \"Ospina\", \"Siyed\", \"Powers\", \"Her\", \"Vo\", \"Mares…\n",
      "$ primary_phone_number \u001b[3m\u001b[38;5;246m<dbl>\u001b[39m\u001b[23m 5219459148, 4164254716, 3627413915, 3562764561, …\n"
     ]
    },
    {
     "data": {
      "text/html": [
       "<table>\n",
       "<caption>A data.frame: 6 × 5</caption>\n",
       "<thead>\n",
       "\t<tr><th></th><th scope=col>credit_card</th><th scope=col>email</th><th scope=col>first_name</th><th scope=col>last_name</th><th scope=col>primary_phone_number</th></tr>\n",
       "\t<tr><th></th><th scope=col>&lt;chr&gt;</th><th scope=col>&lt;chr&gt;</th><th scope=col>&lt;chr&gt;</th><th scope=col>&lt;chr&gt;</th><th scope=col>&lt;dbl&gt;</th></tr>\n",
       "</thead>\n",
       "<tbody>\n",
       "\t<tr><th scope=row>1</th><td>5399-3484-4724-7187</td><td>gso@qiegan.sqe          </td><td>Donyell Ann</td><td>Ospina</td><td>5219459148</td></tr>\n",
       "\t<tr><th scope=row>2</th><td>1630-5261-6108-7631</td><td>xnji@gfruaxqnvm.fha     </td><td>Bishop     </td><td>Siyed </td><td>4164254716</td></tr>\n",
       "\t<tr><th scope=row>3</th><td>4435-3866-1076-3595</td><td>dvyco@tkzhsop.zxg       </td><td>Connor     </td><td>Powers</td><td>3627413915</td></tr>\n",
       "\t<tr><th scope=row>4</th><td>3489-7099-9906-8660</td><td>fy@uvfhplatmz.cam       </td><td>Kylie      </td><td>Her   </td><td>3562764561</td></tr>\n",
       "\t<tr><th scope=row>5</th><td>8631-4500-5666-1510</td><td>rztkvliou@dkeinhgysf.deo</td><td>Anthony    </td><td>Vo    </td><td>7345795348</td></tr>\n",
       "\t<tr><th scope=row>6</th><td>1459-9918-1722-7369</td><td>jofmezlbp@iw.evx        </td><td>Mutammam   </td><td>Mares </td><td>3247247289</td></tr>\n",
       "</tbody>\n",
       "</table>\n"
      ],
      "text/latex": [
       "A data.frame: 6 × 5\n",
       "\\begin{tabular}{r|lllll}\n",
       "  & credit\\_card & email & first\\_name & last\\_name & primary\\_phone\\_number\\\\\n",
       "  & <chr> & <chr> & <chr> & <chr> & <dbl>\\\\\n",
       "\\hline\n",
       "\t1 & 5399-3484-4724-7187 & gso@qiegan.sqe           & Donyell Ann & Ospina & 5219459148\\\\\n",
       "\t2 & 1630-5261-6108-7631 & xnji@gfruaxqnvm.fha      & Bishop      & Siyed  & 4164254716\\\\\n",
       "\t3 & 4435-3866-1076-3595 & dvyco@tkzhsop.zxg        & Connor      & Powers & 3627413915\\\\\n",
       "\t4 & 3489-7099-9906-8660 & fy@uvfhplatmz.cam        & Kylie       & Her    & 3562764561\\\\\n",
       "\t5 & 8631-4500-5666-1510 & rztkvliou@dkeinhgysf.deo & Anthony     & Vo     & 7345795348\\\\\n",
       "\t6 & 1459-9918-1722-7369 & jofmezlbp@iw.evx         & Mutammam    & Mares  & 3247247289\\\\\n",
       "\\end{tabular}\n"
      ],
      "text/markdown": [
       "\n",
       "A data.frame: 6 × 5\n",
       "\n",
       "| <!--/--> | credit_card &lt;chr&gt; | email &lt;chr&gt; | first_name &lt;chr&gt; | last_name &lt;chr&gt; | primary_phone_number &lt;dbl&gt; |\n",
       "|---|---|---|---|---|---|\n",
       "| 1 | 5399-3484-4724-7187 | gso@qiegan.sqe           | Donyell Ann | Ospina | 5219459148 |\n",
       "| 2 | 1630-5261-6108-7631 | xnji@gfruaxqnvm.fha      | Bishop      | Siyed  | 4164254716 |\n",
       "| 3 | 4435-3866-1076-3595 | dvyco@tkzhsop.zxg        | Connor      | Powers | 3627413915 |\n",
       "| 4 | 3489-7099-9906-8660 | fy@uvfhplatmz.cam        | Kylie       | Her    | 3562764561 |\n",
       "| 5 | 8631-4500-5666-1510 | rztkvliou@dkeinhgysf.deo | Anthony     | Vo     | 7345795348 |\n",
       "| 6 | 1459-9918-1722-7369 | jofmezlbp@iw.evx         | Mutammam    | Mares  | 3247247289 |\n",
       "\n"
      ],
      "text/plain": [
       "  credit_card         email                    first_name  last_name\n",
       "1 5399-3484-4724-7187 gso@qiegan.sqe           Donyell Ann Ospina   \n",
       "2 1630-5261-6108-7631 xnji@gfruaxqnvm.fha      Bishop      Siyed    \n",
       "3 4435-3866-1076-3595 dvyco@tkzhsop.zxg        Connor      Powers   \n",
       "4 3489-7099-9906-8660 fy@uvfhplatmz.cam        Kylie       Her      \n",
       "5 8631-4500-5666-1510 rztkvliou@dkeinhgysf.deo Anthony     Vo       \n",
       "6 1459-9918-1722-7369 jofmezlbp@iw.evx         Mutammam    Mares    \n",
       "  primary_phone_number\n",
       "1 5219459148          \n",
       "2 4164254716          \n",
       "3 3627413915          \n",
       "4 3562764561          \n",
       "5 7345795348          \n",
       "6 3247247289          "
      ]
     },
     "metadata": {},
     "output_type": "display_data"
    }
   ],
   "source": [
    "\n",
    "# find all rows:\n",
    "n<-mng_conn$find('{}')\n",
    "\n",
    "# get a glimpse (idea)\n",
    "dplyr::glimpse(n)\n",
    "\n",
    "\n",
    "head(n)\n",
    "# n"
   ]
  },
  {
   "cell_type": "code",
   "execution_count": 54,
   "metadata": {},
   "outputs": [
    {
     "data": {
      "text/html": [
       "5826"
      ],
      "text/latex": [
       "5826"
      ],
      "text/markdown": [
       "5826"
      ],
      "text/plain": [
       "[1] 5826"
      ]
     },
     "metadata": {},
     "output_type": "display_data"
    },
    {
     "data": {
      "text/html": [
       "<table>\n",
       "<caption>A data.frame: 1 × 5</caption>\n",
       "<thead>\n",
       "\t<tr><th></th><th scope=col>credit_card</th><th scope=col>email</th><th scope=col>first_name</th><th scope=col>last_name</th><th scope=col>primary_phone_number</th></tr>\n",
       "\t<tr><th></th><th scope=col>&lt;chr&gt;</th><th scope=col>&lt;chr&gt;</th><th scope=col>&lt;chr&gt;</th><th scope=col>&lt;chr&gt;</th><th scope=col>&lt;dbl&gt;</th></tr>\n",
       "</thead>\n",
       "<tbody>\n",
       "\t<tr><th scope=row>1</th><td>1630-5261-6108-7631</td><td>xnji@gfruaxqnvm.fha</td><td>Bishop</td><td>Siyed</td><td>4164254716</td></tr>\n",
       "</tbody>\n",
       "</table>\n"
      ],
      "text/latex": [
       "A data.frame: 1 × 5\n",
       "\\begin{tabular}{r|lllll}\n",
       "  & credit\\_card & email & first\\_name & last\\_name & primary\\_phone\\_number\\\\\n",
       "  & <chr> & <chr> & <chr> & <chr> & <dbl>\\\\\n",
       "\\hline\n",
       "\t1 & 1630-5261-6108-7631 & xnji@gfruaxqnvm.fha & Bishop & Siyed & 4164254716\\\\\n",
       "\\end{tabular}\n"
      ],
      "text/markdown": [
       "\n",
       "A data.frame: 1 × 5\n",
       "\n",
       "| <!--/--> | credit_card &lt;chr&gt; | email &lt;chr&gt; | first_name &lt;chr&gt; | last_name &lt;chr&gt; | primary_phone_number &lt;dbl&gt; |\n",
       "|---|---|---|---|---|---|\n",
       "| 1 | 1630-5261-6108-7631 | xnji@gfruaxqnvm.fha | Bishop | Siyed | 4164254716 |\n",
       "\n"
      ],
      "text/plain": [
       "  credit_card         email               first_name last_name\n",
       "1 1630-5261-6108-7631 xnji@gfruaxqnvm.fha Bishop     Siyed    \n",
       "  primary_phone_number\n",
       "1 4164254716          "
      ]
     },
     "metadata": {},
     "output_type": "display_data"
    }
   ],
   "source": [
    "#Count all rows\n",
    "mng_conn$count()\n",
    "\n",
    "# query anyone named \"Alex\"\n",
    "specific_name<-mng_conn$find('{\"first_name\":\"Bishop\"}')\n",
    "specific_name"
   ]
  },
  {
   "cell_type": "markdown",
   "metadata": {},
   "source": [
    "# Send Data `From Mongodb` to R:"
   ]
  },
  {
   "cell_type": "code",
   "execution_count": 55,
   "metadata": {},
   "outputs": [],
   "source": [
    "# nv<-jsonlite::fromJSON('user_dump.json')\n",
    "\n",
    "# # data.frame(nv)\n",
    "# nv\n",
    "\n",
    "# json_data <- fromJSON('user_dump.json', nullValue = NA)\n",
    "# asFrame <- do.call(\"rbind.fill\", lapply(json_data, as.data.frame))\n",
    "\n",
    "\n",
    "require(RJSONIO)  \n",
    "\n",
    "json_file <- fromJSON(\"user_dump.json\")\n",
    "\n",
    "\n",
    "# read_json(\"user_dump.json\", simplifyVector = TRUE)"
   ]
  },
  {
   "cell_type": "markdown",
   "metadata": {},
   "source": [
    "# Take a dumped json file from Mongo & `Import to R`"
   ]
  },
  {
   "cell_type": "markdown",
   "metadata": {},
   "source": [
    "require(RJSONIO)  \n",
    "\n",
    "json_file <- fromJSON(\"user_dump.json\")"
   ]
  },
  {
   "cell_type": "code",
   "execution_count": 56,
   "metadata": {},
   "outputs": [
    {
     "data": {
      "text/html": [
       "<table>\n",
       "<caption>A data.frame: 6 × 6</caption>\n",
       "<thead>\n",
       "\t<tr><th></th><th scope=col>_id</th><th scope=col>credit_card</th><th scope=col>email</th><th scope=col>first_name</th><th scope=col>last_name</th><th scope=col>primary_phone_number</th></tr>\n",
       "\t<tr><th></th><th scope=col>&lt;named list&gt;</th><th scope=col>&lt;named list&gt;</th><th scope=col>&lt;named list&gt;</th><th scope=col>&lt;named list&gt;</th><th scope=col>&lt;named list&gt;</th><th scope=col>&lt;named list&gt;</th></tr>\n",
       "</thead>\n",
       "<tbody>\n",
       "\t<tr><th scope=row>1</th><td>5e94c2cba908db03dd29db4c</td><td>5399-3484-4724-7187</td><td>gso@qiegan.sqe</td><td>Donyell Ann</td><td>Ospina</td><td>5219459148</td></tr>\n",
       "\t<tr><th scope=row>2</th><td>5e94c2cba908db03dd29db4d</td><td>1630-5261-6108-7631</td><td>xnji@gfruaxqnvm.fha</td><td>Bishop</td><td>Siyed</td><td>4164254716</td></tr>\n",
       "\t<tr><th scope=row>3</th><td>5e94c2cba908db03dd29db4e</td><td>4435-3866-1076-3595</td><td>dvyco@tkzhsop.zxg</td><td>Connor</td><td>Powers</td><td>3627413915</td></tr>\n",
       "\t<tr><th scope=row>4</th><td>5e94c2cba908db03dd29db4f</td><td>3489-7099-9906-8660</td><td>fy@uvfhplatmz.cam</td><td>Kylie</td><td>Her</td><td>3562764561</td></tr>\n",
       "\t<tr><th scope=row>5</th><td>5e94c2cba908db03dd29db50</td><td>8631-4500-5666-1510</td><td>rztkvliou@dkeinhgysf.deo</td><td>Anthony</td><td>Vo</td><td>7345795348</td></tr>\n",
       "\t<tr><th scope=row>6</th><td>5e94c2cba908db03dd29db51</td><td>1459-9918-1722-7369</td><td>jofmezlbp@iw.evx</td><td>Mutammam</td><td>Mares</td><td>3247247289</td></tr>\n",
       "</tbody>\n",
       "</table>\n"
      ],
      "text/latex": [
       "A data.frame: 6 × 6\n",
       "\\begin{tabular}{r|llllll}\n",
       "  & \\_id & credit\\_card & email & first\\_name & last\\_name & primary\\_phone\\_number\\\\\n",
       "  & <named list> & <named list> & <named list> & <named list> & <named list> & <named list>\\\\\n",
       "\\hline\n",
       "\t1 & 5e94c2cba908db03dd29db4c & 5399-3484-4724-7187 & gso@qiegan.sqe & Donyell Ann & Ospina & 5219459148\\\\\n",
       "\t2 & 5e94c2cba908db03dd29db4d & 1630-5261-6108-7631 & xnji@gfruaxqnvm.fha & Bishop & Siyed & 4164254716\\\\\n",
       "\t3 & 5e94c2cba908db03dd29db4e & 4435-3866-1076-3595 & dvyco@tkzhsop.zxg & Connor & Powers & 3627413915\\\\\n",
       "\t4 & 5e94c2cba908db03dd29db4f & 3489-7099-9906-8660 & fy@uvfhplatmz.cam & Kylie & Her & 3562764561\\\\\n",
       "\t5 & 5e94c2cba908db03dd29db50 & 8631-4500-5666-1510 & rztkvliou@dkeinhgysf.deo & Anthony & Vo & 7345795348\\\\\n",
       "\t6 & 5e94c2cba908db03dd29db51 & 1459-9918-1722-7369 & jofmezlbp@iw.evx & Mutammam & Mares & 3247247289\\\\\n",
       "\\end{tabular}\n"
      ],
      "text/markdown": [
       "\n",
       "A data.frame: 6 × 6\n",
       "\n",
       "| <!--/--> | _id &lt;named list&gt; | credit_card &lt;named list&gt; | email &lt;named list&gt; | first_name &lt;named list&gt; | last_name &lt;named list&gt; | primary_phone_number &lt;named list&gt; |\n",
       "|---|---|---|---|---|---|---|\n",
       "| 1 | 5e94c2cba908db03dd29db4c | 5399-3484-4724-7187 | gso@qiegan.sqe | Donyell Ann | Ospina | 5219459148 |\n",
       "| 2 | 5e94c2cba908db03dd29db4d | 1630-5261-6108-7631 | xnji@gfruaxqnvm.fha | Bishop | Siyed | 4164254716 |\n",
       "| 3 | 5e94c2cba908db03dd29db4e | 4435-3866-1076-3595 | dvyco@tkzhsop.zxg | Connor | Powers | 3627413915 |\n",
       "| 4 | 5e94c2cba908db03dd29db4f | 3489-7099-9906-8660 | fy@uvfhplatmz.cam | Kylie | Her | 3562764561 |\n",
       "| 5 | 5e94c2cba908db03dd29db50 | 8631-4500-5666-1510 | rztkvliou@dkeinhgysf.deo | Anthony | Vo | 7345795348 |\n",
       "| 6 | 5e94c2cba908db03dd29db51 | 1459-9918-1722-7369 | jofmezlbp@iw.evx | Mutammam | Mares | 3247247289 |\n",
       "\n"
      ],
      "text/plain": [
       "  _id                      credit_card         email                   \n",
       "1 5e94c2cba908db03dd29db4c 5399-3484-4724-7187 gso@qiegan.sqe          \n",
       "2 5e94c2cba908db03dd29db4d 1630-5261-6108-7631 xnji@gfruaxqnvm.fha     \n",
       "3 5e94c2cba908db03dd29db4e 4435-3866-1076-3595 dvyco@tkzhsop.zxg       \n",
       "4 5e94c2cba908db03dd29db4f 3489-7099-9906-8660 fy@uvfhplatmz.cam       \n",
       "5 5e94c2cba908db03dd29db50 8631-4500-5666-1510 rztkvliou@dkeinhgysf.deo\n",
       "6 5e94c2cba908db03dd29db51 1459-9918-1722-7369 jofmezlbp@iw.evx        \n",
       "  first_name  last_name primary_phone_number\n",
       "1 Donyell Ann Ospina    5219459148          \n",
       "2 Bishop      Siyed     4164254716          \n",
       "3 Connor      Powers    3627413915          \n",
       "4 Kylie       Her       3562764561          \n",
       "5 Anthony     Vo        7345795348          \n",
       "6 Mutammam    Mares     3247247289          "
      ]
     },
     "metadata": {},
     "output_type": "display_data"
    }
   ],
   "source": [
    "\n",
    "# str_replace_all(json_file,\"\\\"_id[^,]*,\\\\s*\" , \"\")\n",
    "\n",
    "Lines <- readLines(\"user_dump.json\") \n",
    "json_df <- as.data.frame(t(sapply(Lines, fromJSON)),row.names = F)\n",
    "head(json_df)"
   ]
  },
  {
   "cell_type": "code",
   "execution_count": 57,
   "metadata": {},
   "outputs": [
    {
     "data": {
      "text/html": [
       "0"
      ],
      "text/latex": [
       "0"
      ],
      "text/markdown": [
       "0"
      ],
      "text/plain": [
       "[1] 0"
      ]
     },
     "metadata": {},
     "output_type": "display_data"
    }
   ],
   "source": [
    "mng_conn$drop()\n",
    "mng_conn$count()"
   ]
  },
  {
   "cell_type": "markdown",
   "metadata": {},
   "source": [
    "# `Send Data.frame` From R to Mongodb"
   ]
  },
  {
   "cell_type": "code",
   "execution_count": 60,
   "metadata": {},
   "outputs": [
    {
     "data": {
      "text/html": [
       "<table>\n",
       "<caption>A data.frame: 6 × 5</caption>\n",
       "<thead>\n",
       "\t<tr><th></th><th scope=col>credit_card</th><th scope=col>email</th><th scope=col>first_name</th><th scope=col>last_name</th><th scope=col>primary_phone_number</th></tr>\n",
       "\t<tr><th></th><th scope=col>&lt;fct&gt;</th><th scope=col>&lt;fct&gt;</th><th scope=col>&lt;fct&gt;</th><th scope=col>&lt;fct&gt;</th><th scope=col>&lt;dbl&gt;</th></tr>\n",
       "</thead>\n",
       "<tbody>\n",
       "\t<tr><th scope=row>1</th><td>5399-3484-4724-7187</td><td>gso@qiegan.sqe          </td><td>Donyell Ann</td><td>Ospina</td><td>5219459148</td></tr>\n",
       "\t<tr><th scope=row>2</th><td>1630-5261-6108-7631</td><td>xnji@gfruaxqnvm.fha     </td><td>Bishop     </td><td>Siyed </td><td>4164254716</td></tr>\n",
       "\t<tr><th scope=row>3</th><td>4435-3866-1076-3595</td><td>dvyco@tkzhsop.zxg       </td><td>Connor     </td><td>Powers</td><td>3627413915</td></tr>\n",
       "\t<tr><th scope=row>4</th><td>3489-7099-9906-8660</td><td>fy@uvfhplatmz.cam       </td><td>Kylie      </td><td>Her   </td><td>3562764561</td></tr>\n",
       "\t<tr><th scope=row>5</th><td>8631-4500-5666-1510</td><td>rztkvliou@dkeinhgysf.deo</td><td>Anthony    </td><td>Vo    </td><td>7345795348</td></tr>\n",
       "\t<tr><th scope=row>6</th><td>1459-9918-1722-7369</td><td>jofmezlbp@iw.evx        </td><td>Mutammam   </td><td>Mares </td><td>3247247289</td></tr>\n",
       "</tbody>\n",
       "</table>\n"
      ],
      "text/latex": [
       "A data.frame: 6 × 5\n",
       "\\begin{tabular}{r|lllll}\n",
       "  & credit\\_card & email & first\\_name & last\\_name & primary\\_phone\\_number\\\\\n",
       "  & <fct> & <fct> & <fct> & <fct> & <dbl>\\\\\n",
       "\\hline\n",
       "\t1 & 5399-3484-4724-7187 & gso@qiegan.sqe           & Donyell Ann & Ospina & 5219459148\\\\\n",
       "\t2 & 1630-5261-6108-7631 & xnji@gfruaxqnvm.fha      & Bishop      & Siyed  & 4164254716\\\\\n",
       "\t3 & 4435-3866-1076-3595 & dvyco@tkzhsop.zxg        & Connor      & Powers & 3627413915\\\\\n",
       "\t4 & 3489-7099-9906-8660 & fy@uvfhplatmz.cam        & Kylie       & Her    & 3562764561\\\\\n",
       "\t5 & 8631-4500-5666-1510 & rztkvliou@dkeinhgysf.deo & Anthony     & Vo     & 7345795348\\\\\n",
       "\t6 & 1459-9918-1722-7369 & jofmezlbp@iw.evx         & Mutammam    & Mares  & 3247247289\\\\\n",
       "\\end{tabular}\n"
      ],
      "text/markdown": [
       "\n",
       "A data.frame: 6 × 5\n",
       "\n",
       "| <!--/--> | credit_card &lt;fct&gt; | email &lt;fct&gt; | first_name &lt;fct&gt; | last_name &lt;fct&gt; | primary_phone_number &lt;dbl&gt; |\n",
       "|---|---|---|---|---|---|\n",
       "| 1 | 5399-3484-4724-7187 | gso@qiegan.sqe           | Donyell Ann | Ospina | 5219459148 |\n",
       "| 2 | 1630-5261-6108-7631 | xnji@gfruaxqnvm.fha      | Bishop      | Siyed  | 4164254716 |\n",
       "| 3 | 4435-3866-1076-3595 | dvyco@tkzhsop.zxg        | Connor      | Powers | 3627413915 |\n",
       "| 4 | 3489-7099-9906-8660 | fy@uvfhplatmz.cam        | Kylie       | Her    | 3562764561 |\n",
       "| 5 | 8631-4500-5666-1510 | rztkvliou@dkeinhgysf.deo | Anthony     | Vo     | 7345795348 |\n",
       "| 6 | 1459-9918-1722-7369 | jofmezlbp@iw.evx         | Mutammam    | Mares  | 3247247289 |\n",
       "\n"
      ],
      "text/plain": [
       "  credit_card         email                    first_name  last_name\n",
       "1 5399-3484-4724-7187 gso@qiegan.sqe           Donyell Ann Ospina   \n",
       "2 1630-5261-6108-7631 xnji@gfruaxqnvm.fha      Bishop      Siyed    \n",
       "3 4435-3866-1076-3595 dvyco@tkzhsop.zxg        Connor      Powers   \n",
       "4 3489-7099-9906-8660 fy@uvfhplatmz.cam        Kylie       Her      \n",
       "5 8631-4500-5666-1510 rztkvliou@dkeinhgysf.deo Anthony     Vo       \n",
       "6 1459-9918-1722-7369 jofmezlbp@iw.evx         Mutammam    Mares    \n",
       "  primary_phone_number\n",
       "1 5219459148          \n",
       "2 4164254716          \n",
       "3 3627413915          \n",
       "4 3562764561          \n",
       "5 7345795348          \n",
       "6 3247247289          "
      ]
     },
     "metadata": {},
     "output_type": "display_data"
    }
   ],
   "source": [
    "# read in csv()\n",
    "user_df <- as.data.frame(read.csv('fake_users_R.csv'),header=TRUE,sep=',')[,-1]\n",
    "\n",
    "head(user_df)"
   ]
  },
  {
   "cell_type": "markdown",
   "metadata": {},
   "source": [
    "# Convert `Data.frame` to JSON and `Send to Mongo` from R:"
   ]
  },
  {
   "cell_type": "code",
   "execution_count": 61,
   "metadata": {},
   "outputs": [],
   "source": [
    "x <- jsonlite::toJSON(user_df,collapse='',byrow=TRUE)\n",
    "writeLines(x,sep='\\n','ter.txt')\n",
    "mng_conn$import(file('ter.txt','r'))"
   ]
  },
  {
   "cell_type": "code",
   "execution_count": 69,
   "metadata": {},
   "outputs": [
    {
     "data": {
      "text/html": [
       "5826"
      ],
      "text/latex": [
       "5826"
      ],
      "text/markdown": [
       "5826"
      ],
      "text/plain": [
       "[1] 5826"
      ]
     },
     "metadata": {},
     "output_type": "display_data"
    }
   ],
   "source": [
    "mng_conn$count()\n",
    "# mng_conn$find('{}')"
   ]
  },
  {
   "cell_type": "code",
   "execution_count": 64,
   "metadata": {},
   "outputs": [],
   "source": [
    "# jsonlite::toJSON(user_df,byrow=TRUE,pretty = T)"
   ]
  },
  {
   "cell_type": "markdown",
   "metadata": {},
   "source": [
    "# Send `.csv` to Mongo from R"
   ]
  },
  {
   "cell_type": "markdown",
   "metadata": {},
   "source": [
    "# `Convert .CSV() to JSON` and `send to Mongo from R`:\n"
   ]
  },
  {
   "cell_type": "code",
   "execution_count": 70,
   "metadata": {},
   "outputs": [],
   "source": [
    "write.csv(user_df,'wowzas.csv')"
   ]
  },
  {
   "cell_type": "code",
   "execution_count": 71,
   "metadata": {},
   "outputs": [],
   "source": [
    "# write_json(read.csv(\"wowzas.csv\",sep = ','), \"R_dataframe.json\",)\n",
    "\n",
    "# toJSON('wowzas.csv')\n",
    "\n",
    "wow_csv <- read.csv(\"wowzas.csv\")\n",
    "y<-jsonlite::toJSON(wow_csv,collapse='',byrow=TRUE)\n",
    "writeLines(x,sep='\\n','tert.txt')\n",
    "mng_conn$import(file('tert.txt','r',))"
   ]
  },
  {
   "cell_type": "code",
   "execution_count": 72,
   "metadata": {},
   "outputs": [
    {
     "data": {
      "text/html": [
       "11652"
      ],
      "text/latex": [
       "11652"
      ],
      "text/markdown": [
       "11652"
      ],
      "text/plain": [
       "[1] 11652"
      ]
     },
     "metadata": {},
     "output_type": "display_data"
    }
   ],
   "source": [
    "mng_conn$count()"
   ]
  },
  {
   "cell_type": "code",
   "execution_count": null,
   "metadata": {},
   "outputs": [],
   "source": [
    "# This sends the whole 5826 Rows as 1 DOCUMENT: If you want to send individually:\n",
    "# either iterate, or just do an insert!"
   ]
  },
  {
   "cell_type": "markdown",
   "metadata": {},
   "source": [
    "# Import into Mongo from R:"
   ]
  },
  {
   "cell_type": "code",
   "execution_count": 73,
   "metadata": {},
   "outputs": [
    {
     "data": {
      "text/html": [
       "11653"
      ],
      "text/latex": [
       "11653"
      ],
      "text/markdown": [
       "11653"
      ],
      "text/plain": [
       "[1] 11653"
      ]
     },
     "metadata": {},
     "output_type": "display_data"
    }
   ],
   "source": [
    "# mng_conn$import(file('user_dump.txt','r'))\n",
    "# mng_conn$count()\n",
    "# mng_conn$find('{}')\n",
    "\n",
    "\n",
    "# Lines <- readLines(\"try_json.json\")\n",
    "mng_conn$import(file('R_dataframe.json'),'r')\n",
    "\n",
    "\n",
    "mng_conn$count()"
   ]
  },
  {
   "cell_type": "markdown",
   "metadata": {},
   "source": [
    "# `Insert Data` into MongoDB from R:\n",
    "+ `Sending Data.frame()`"
   ]
  },
  {
   "cell_type": "code",
   "execution_count": 74,
   "metadata": {},
   "outputs": [
    {
     "data": {
      "text/plain": [
       "List of 5\n",
       " $ nInserted  : num 5826\n",
       " $ nMatched   : num 0\n",
       " $ nRemoved   : num 0\n",
       " $ nUpserted  : num 0\n",
       " $ writeErrors: list()"
      ]
     },
     "metadata": {},
     "output_type": "display_data"
    },
    {
     "data": {
      "text/html": [
       "17479"
      ],
      "text/latex": [
       "17479"
      ],
      "text/markdown": [
       "17479"
      ],
      "text/plain": [
       "[1] 17479"
      ]
     },
     "metadata": {},
     "output_type": "display_data"
    }
   ],
   "source": [
    "\n",
    "mng_conn$insert(user_df)\n",
    "# mng_conn$count()\n",
    "# mng_conn$drop()\n",
    "mng_conn$count()"
   ]
  },
  {
   "cell_type": "code",
   "execution_count": null,
   "metadata": {},
   "outputs": [],
   "source": [
    "# write.csv(user_df,'wowzas.csv',row.names=FALSE)"
   ]
  },
  {
   "cell_type": "markdown",
   "metadata": {},
   "source": [
    "# Citations:\n",
    "\n",
    "# ಠ_ಠ\n",
    "\n",
    "https://docs.mongodb.com/manual/core/gridfs/#faq-developers-when-to-use-gridfs\n",
    "\n",
    "https://rstudio-pubs-static.s3.amazonaws.com/544823_1115c38053934765a7a2aa2131dab5f5.html\n",
    "\n",
    "https://jeroen.github.io/mongolite/import-export.html#json\n",
    "\n",
    "https://stackoverflow.com/questions/57136832/key-value-pairs-with-character-data-to-a-dataframe-in-r\n",
    "\n",
    "https://www.travishinkelman.com/posts/reading-writing-json-files-r-racket/\n",
    "\n",
    "https://jeroen.github.io/mongolite/manipulate-data.html#insert"
   ]
  },
  {
   "cell_type": "code",
   "execution_count": null,
   "metadata": {},
   "outputs": [],
   "source": []
  }
 ],
 "metadata": {
  "kernelspec": {
   "display_name": "R",
   "language": "R",
   "name": "ir"
  },
  "language_info": {
   "codemirror_mode": "r",
   "file_extension": ".r",
   "mimetype": "text/x-r-source",
   "name": "R",
   "pygments_lexer": "r",
   "version": "3.4.3"
  }
 },
 "nbformat": 4,
 "nbformat_minor": 4
}
