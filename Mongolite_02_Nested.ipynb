{
 "cells": [
  {
   "cell_type": "markdown",
   "metadata": {},
   "source": [
    "# MongoLite Nested Data: (R to MongoDB)\n",
    "# `Query | Aggregate | Map-Reduce`\n",
    "\n",
    "**Mr Fugu Data Science**\n",
    "\n",
    "# (◕‿◕✿)\n",
    "\n",
    "[youtube](https://www.youtube.com/channel/UCbni-TDI-Ub8VlGaP8HLTNw?view_as=subscriber) | [Github](https://github.com/MrFuguDataScience)\n",
    "\n",
    "\n",
    "# Outcome & Expectations:\n",
    "\n",
    "+ Create `Aggregate` function\n",
    "    + Create Map-Reduce functions\n",
    "        + Describe use cases for both\n",
    "\n",
    "# <font color=red>SUBscribe</font> & TURN ON <font color=red>Notification BELL</font>\n",
    "\n",
    "# <font color=red>LIKE</font> Video "
   ]
  },
  {
   "cell_type": "code",
   "execution_count": 1,
   "metadata": {},
   "outputs": [
    {
     "name": "stderr",
     "output_type": "stream",
     "text": [
      "── \u001b[1mAttaching packages\u001b[22m ─────────────────────────────────────── tidyverse 1.3.0 ──\n",
      "\n",
      "\u001b[32m✔\u001b[39m \u001b[34mggplot2\u001b[39m 3.3.0     \u001b[32m✔\u001b[39m \u001b[34mpurrr  \u001b[39m 0.3.3\n",
      "\u001b[32m✔\u001b[39m \u001b[34mtibble \u001b[39m 3.0.0     \u001b[32m✔\u001b[39m \u001b[34mdplyr  \u001b[39m 0.8.5\n",
      "\u001b[32m✔\u001b[39m \u001b[34mtidyr  \u001b[39m 1.0.2     \u001b[32m✔\u001b[39m \u001b[34mstringr\u001b[39m 1.4.0\n",
      "\u001b[32m✔\u001b[39m \u001b[34mreadr  \u001b[39m 1.3.1     \u001b[32m✔\u001b[39m \u001b[34mforcats\u001b[39m 0.5.0\n",
      "\n",
      "Warning message:\n",
      "“package ‘readr’ was built under R version 3.4.4”\n",
      "Warning message:\n",
      "“package ‘stringr’ was built under R version 3.4.4”\n",
      "── \u001b[1mConflicts\u001b[22m ────────────────────────────────────────── tidyverse_conflicts() ──\n",
      "\u001b[31m✖\u001b[39m \u001b[34mdplyr\u001b[39m::\u001b[32mfilter()\u001b[39m  masks \u001b[34mstats\u001b[39m::filter()\n",
      "\u001b[31m✖\u001b[39m \u001b[34mpurrr\u001b[39m::\u001b[32mflatten()\u001b[39m masks \u001b[34mjsonlite\u001b[39m::flatten()\n",
      "\u001b[31m✖\u001b[39m \u001b[34mdplyr\u001b[39m::\u001b[32mlag()\u001b[39m     masks \u001b[34mstats\u001b[39m::lag()\n",
      "\n"
     ]
    }
   ],
   "source": [
    "# library(jsonlite)  # send files to Mongo\n",
    "library(tidyverse)\n",
    "library(knitr)     # help run code\n",
    "library(markdown)  # create markdown files i.e. pdf\n",
    "library(mongolite) # Create connection/Interface R<-> Mongodb"
   ]
  },
  {
   "cell_type": "markdown",
   "metadata": {},
   "source": [
    "# Our Data: \n",
    "+ First two candidates:\n",
    "\n",
    "`{[{'candidate': {'first_name': 'Margaret',\n",
    "   'last_name': 'Mcdonald',\n",
    "   'skills': ['skLearn', 'Java', 'R', 'SQL', 'Spark', 'C++'],\n",
    "   'state': 'AL',\n",
    "   'specialty': 'Machine Learning',\n",
    "   'experience': 'Mid',\n",
    "   'relocation': 'no'}},\n",
    " {'candidate': {'first_name': 'Michael',\n",
    "   'last_name': 'Carter',\n",
    "   'skills': ['TensorFlow', 'R', 'Spark', 'MongoDB', 'C++', 'SQL'],\n",
    "   'state': 'AR',\n",
    "   'specialty': 'Machine Learning',\n",
    "   'experience': 'Junior',\n",
    "   'relocation': 'yes'}}]`"
   ]
  },
  {
   "cell_type": "code",
   "execution_count": 2,
   "metadata": {},
   "outputs": [],
   "source": [
    "# Create Connection: 'localhost'\n",
    "\n",
    "mng_conn<-mongo(collection = 'recruiter_clients',db='berkeley')\n",
    "\n",
    "#''' Pay attention, you may get an error: `No suitable server`, I got it to work by\n",
    "# opening the terminal and making a mongod connection\n",
    "#'''"
   ]
  },
  {
   "cell_type": "code",
   "execution_count": 53,
   "metadata": {},
   "outputs": [
    {
     "name": "stdout",
     "output_type": "stream",
     "text": [
      "Rows: 500\n",
      "Columns: 7\n",
      "$ first_name \u001b[3m\u001b[38;5;246m<chr>\u001b[39m\u001b[23m \"Margaret\", \"Michael\", \"Brenda\", \"Joseph\", \"Laura\", \"Chery…\n",
      "$ last_name  \u001b[3m\u001b[38;5;246m<chr>\u001b[39m\u001b[23m \"Mcdonald\", \"Carter\", \"Tyler\", \"King\", \"Webb\", \"Ramirez\", …\n",
      "$ skills     \u001b[3m\u001b[38;5;246m<list>\u001b[39m\u001b[23m [<\"skLearn\", \"Java\", \"R\", \"SQL\", \"Spark\", \"C++\">, <\"Tenso…\n",
      "$ state      \u001b[3m\u001b[38;5;246m<chr>\u001b[39m\u001b[23m \"AL\", \"AR\", \"UT\", \"FL\", \"WY\", \"OK\", \"NM\", \"TX\", \"WI\", \"UT\"…\n",
      "$ specialty  \u001b[3m\u001b[38;5;246m<chr>\u001b[39m\u001b[23m \"Database\", \"Data Visualization\", \"Database\", \"Statistics\"…\n",
      "$ experience \u001b[3m\u001b[38;5;246m<chr>\u001b[39m\u001b[23m \"Junior\", \"Junior\", \"Mid\", \"Senior\", \"Junior\", \"Senior\", \"…\n",
      "$ relocation \u001b[3m\u001b[38;5;246m<chr>\u001b[39m\u001b[23m \"no\", \"yes\", \"no\", \"maybe\", \"maybe\", \"no\", \"maybe\", \"yes\",…\n"
     ]
    },
    {
     "data": {
      "text/html": [
       "<table>\n",
       "<caption>A data.frame: 6 × 7</caption>\n",
       "<thead>\n",
       "\t<tr><th></th><th scope=col>first_name</th><th scope=col>last_name</th><th scope=col>skills</th><th scope=col>state</th><th scope=col>specialty</th><th scope=col>experience</th><th scope=col>relocation</th></tr>\n",
       "\t<tr><th></th><th scope=col>&lt;chr&gt;</th><th scope=col>&lt;chr&gt;</th><th scope=col>&lt;list&gt;</th><th scope=col>&lt;chr&gt;</th><th scope=col>&lt;chr&gt;</th><th scope=col>&lt;chr&gt;</th><th scope=col>&lt;chr&gt;</th></tr>\n",
       "</thead>\n",
       "<tbody>\n",
       "\t<tr><th scope=row>1</th><td>Margaret</td><td>Mcdonald</td><td>skLearn, Java   , R      , SQL    , Spark  , C++    </td><td>AL</td><td>Database          </td><td>Junior</td><td>no   </td></tr>\n",
       "\t<tr><th scope=row>2</th><td>Michael </td><td>Carter  </td><td>TensorFlow, R         , Spark     , MongoDB   , C++       , SQL       </td><td>AR</td><td>Data Visualization</td><td>Junior</td><td>yes  </td></tr>\n",
       "\t<tr><th scope=row>3</th><td>Brenda  </td><td>Tyler   </td><td>Spark</td><td>UT</td><td>Database          </td><td>Mid   </td><td>no   </td></tr>\n",
       "\t<tr><th scope=row>4</th><td>Joseph  </td><td>King    </td><td>skLearn   , SQL       , R         , Spark     , Java      , C++       , Python    , TensorFlow</td><td>FL</td><td>Statistics        </td><td>Senior</td><td>maybe</td></tr>\n",
       "\t<tr><th scope=row>5</th><td>Laura   </td><td>Webb    </td><td>TensorFlow, C++       , SQL       , Java      , R         , MongoDB   </td><td>WY</td><td>Machine Learning  </td><td>Junior</td><td>maybe</td></tr>\n",
       "\t<tr><th scope=row>6</th><td>Cheryl  </td><td>Ramirez </td><td>C++       , Python    , R         , Java      , skLearn   , SQL       , MongoDB   , Spark     , TensorFlow</td><td>OK</td><td>Data Visualization</td><td>Senior</td><td>no   </td></tr>\n",
       "</tbody>\n",
       "</table>\n"
      ],
      "text/latex": [
       "A data.frame: 6 × 7\n",
       "\\begin{tabular}{r|lllllll}\n",
       "  & first\\_name & last\\_name & skills & state & specialty & experience & relocation\\\\\n",
       "  & <chr> & <chr> & <list> & <chr> & <chr> & <chr> & <chr>\\\\\n",
       "\\hline\n",
       "\t1 & Margaret & Mcdonald & skLearn, Java   , R      , SQL    , Spark  , C++     & AL & Database           & Junior & no   \\\\\n",
       "\t2 & Michael  & Carter   & TensorFlow, R         , Spark     , MongoDB   , C++       , SQL        & AR & Data Visualization & Junior & yes  \\\\\n",
       "\t3 & Brenda   & Tyler    & Spark & UT & Database           & Mid    & no   \\\\\n",
       "\t4 & Joseph   & King     & skLearn   , SQL       , R         , Spark     , Java      , C++       , Python    , TensorFlow & FL & Statistics         & Senior & maybe\\\\\n",
       "\t5 & Laura    & Webb     & TensorFlow, C++       , SQL       , Java      , R         , MongoDB    & WY & Machine Learning   & Junior & maybe\\\\\n",
       "\t6 & Cheryl   & Ramirez  & C++       , Python    , R         , Java      , skLearn   , SQL       , MongoDB   , Spark     , TensorFlow & OK & Data Visualization & Senior & no   \\\\\n",
       "\\end{tabular}\n"
      ],
      "text/markdown": [
       "\n",
       "A data.frame: 6 × 7\n",
       "\n",
       "| <!--/--> | first_name &lt;chr&gt; | last_name &lt;chr&gt; | skills &lt;list&gt; | state &lt;chr&gt; | specialty &lt;chr&gt; | experience &lt;chr&gt; | relocation &lt;chr&gt; |\n",
       "|---|---|---|---|---|---|---|---|\n",
       "| 1 | Margaret | Mcdonald | skLearn, Java   , R      , SQL    , Spark  , C++     | AL | Database           | Junior | no    |\n",
       "| 2 | Michael  | Carter   | TensorFlow, R         , Spark     , MongoDB   , C++       , SQL        | AR | Data Visualization | Junior | yes   |\n",
       "| 3 | Brenda   | Tyler    | Spark | UT | Database           | Mid    | no    |\n",
       "| 4 | Joseph   | King     | skLearn   , SQL       , R         , Spark     , Java      , C++       , Python    , TensorFlow | FL | Statistics         | Senior | maybe |\n",
       "| 5 | Laura    | Webb     | TensorFlow, C++       , SQL       , Java      , R         , MongoDB    | WY | Machine Learning   | Junior | maybe |\n",
       "| 6 | Cheryl   | Ramirez  | C++       , Python    , R         , Java      , skLearn   , SQL       , MongoDB   , Spark     , TensorFlow | OK | Data Visualization | Senior | no    |\n",
       "\n"
      ],
      "text/plain": [
       "  first_name last_name\n",
       "1 Margaret   Mcdonald \n",
       "2 Michael    Carter   \n",
       "3 Brenda     Tyler    \n",
       "4 Joseph     King     \n",
       "5 Laura      Webb     \n",
       "6 Cheryl     Ramirez  \n",
       "  skills                                                                                                    \n",
       "1 skLearn, Java   , R      , SQL    , Spark  , C++                                                          \n",
       "2 TensorFlow, R         , Spark     , MongoDB   , C++       , SQL                                           \n",
       "3 Spark                                                                                                     \n",
       "4 skLearn   , SQL       , R         , Spark     , Java      , C++       , Python    , TensorFlow            \n",
       "5 TensorFlow, C++       , SQL       , Java      , R         , MongoDB                                       \n",
       "6 C++       , Python    , R         , Java      , skLearn   , SQL       , MongoDB   , Spark     , TensorFlow\n",
       "  state specialty          experience relocation\n",
       "1 AL    Database           Junior     no        \n",
       "2 AR    Data Visualization Junior     yes       \n",
       "3 UT    Database           Mid        no        \n",
       "4 FL    Statistics         Senior     maybe     \n",
       "5 WY    Machine Learning   Junior     maybe     \n",
       "6 OK    Data Visualization Senior     no        "
      ]
     },
     "metadata": {},
     "output_type": "display_data"
    }
   ],
   "source": [
    "# Checkout what our data is today: This is NESTED DATA pay attention!\n",
    "\n",
    "# find all rows:\n",
    "n<-mng_conn$find('{}')\n",
    "\n",
    "# get a glimpse (idea)\n",
    "dplyr::glimpse(n$candidate)\n",
    "\n",
    "head(n$candidate) # Nested data, outer part is candidate\n",
    "# head(n$lastModified)"
   ]
  },
  {
   "cell_type": "code",
   "execution_count": 54,
   "metadata": {},
   "outputs": [
    {
     "data": {
      "text/html": [
       "<table>\n",
       "<caption>A data.frame: 2 × 1</caption>\n",
       "<thead>\n",
       "\t<tr><th></th><th scope=col>_id</th></tr>\n",
       "\t<tr><th></th><th scope=col>&lt;chr&gt;</th></tr>\n",
       "</thead>\n",
       "<tbody>\n",
       "\t<tr><th scope=row>1</th><td>5eb5cc5b47c72ccce7539c1d</td></tr>\n",
       "\t<tr><th scope=row>2</th><td>5eb5cc5b47c72ccce7539d13</td></tr>\n",
       "</tbody>\n",
       "</table>\n"
      ],
      "text/latex": [
       "A data.frame: 2 × 1\n",
       "\\begin{tabular}{r|l}\n",
       "  & \\_id\\\\\n",
       "  & <chr>\\\\\n",
       "\\hline\n",
       "\t1 & 5eb5cc5b47c72ccce7539c1d\\\\\n",
       "\t2 & 5eb5cc5b47c72ccce7539d13\\\\\n",
       "\\end{tabular}\n"
      ],
      "text/markdown": [
       "\n",
       "A data.frame: 2 × 1\n",
       "\n",
       "| <!--/--> | _id &lt;chr&gt; |\n",
       "|---|---|\n",
       "| 1 | 5eb5cc5b47c72ccce7539c1d |\n",
       "| 2 | 5eb5cc5b47c72ccce7539d13 |\n",
       "\n"
      ],
      "text/plain": [
       "  _id                     \n",
       "1 5eb5cc5b47c72ccce7539c1d\n",
       "2 5eb5cc5b47c72ccce7539d13"
      ]
     },
     "metadata": {},
     "output_type": "display_data"
    }
   ],
   "source": [
    "#Weird Output: Hmm?? what do we do?\n",
    "mng_conn$find(query='{\"candidate.first_name\":\"Brenda\"}',\n",
    "                      fields='{\"first_name\":1}')"
   ]
  },
  {
   "cell_type": "code",
   "execution_count": 59,
   "metadata": {},
   "outputs": [
    {
     "data": {
      "text/html": [
       "500"
      ],
      "text/latex": [
       "500"
      ],
      "text/markdown": [
       "500"
      ],
      "text/plain": [
       "[1] 500"
      ]
     },
     "metadata": {},
     "output_type": "display_data"
    },
    {
     "data": {
      "text/html": [
       "<table>\n",
       "<caption>A data.frame: 2 × 7</caption>\n",
       "<thead>\n",
       "\t<tr><th></th><th scope=col>first_name</th><th scope=col>last_name</th><th scope=col>skills</th><th scope=col>state</th><th scope=col>specialty</th><th scope=col>experience</th><th scope=col>relocation</th></tr>\n",
       "\t<tr><th></th><th scope=col>&lt;chr&gt;</th><th scope=col>&lt;chr&gt;</th><th scope=col>&lt;list&gt;</th><th scope=col>&lt;chr&gt;</th><th scope=col>&lt;chr&gt;</th><th scope=col>&lt;chr&gt;</th><th scope=col>&lt;chr&gt;</th></tr>\n",
       "</thead>\n",
       "<tbody>\n",
       "\t<tr><th scope=row>1</th><td>Brenda</td><td>Tyler  </td><td>Spark</td><td>UT</td><td>Database          </td><td>Mid   </td><td>no</td></tr>\n",
       "\t<tr><th scope=row>2</th><td>Brenda</td><td>Kennedy</td><td>TensorFlow</td><td>NM</td><td>Data Visualization</td><td>Senior</td><td>no</td></tr>\n",
       "</tbody>\n",
       "</table>\n"
      ],
      "text/latex": [
       "A data.frame: 2 × 7\n",
       "\\begin{tabular}{r|lllllll}\n",
       "  & first\\_name & last\\_name & skills & state & specialty & experience & relocation\\\\\n",
       "  & <chr> & <chr> & <list> & <chr> & <chr> & <chr> & <chr>\\\\\n",
       "\\hline\n",
       "\t1 & Brenda & Tyler   & Spark & UT & Database           & Mid    & no\\\\\n",
       "\t2 & Brenda & Kennedy & TensorFlow & NM & Data Visualization & Senior & no\\\\\n",
       "\\end{tabular}\n"
      ],
      "text/markdown": [
       "\n",
       "A data.frame: 2 × 7\n",
       "\n",
       "| <!--/--> | first_name &lt;chr&gt; | last_name &lt;chr&gt; | skills &lt;list&gt; | state &lt;chr&gt; | specialty &lt;chr&gt; | experience &lt;chr&gt; | relocation &lt;chr&gt; |\n",
       "|---|---|---|---|---|---|---|---|\n",
       "| 1 | Brenda | Tyler   | Spark | UT | Database           | Mid    | no |\n",
       "| 2 | Brenda | Kennedy | TensorFlow | NM | Data Visualization | Senior | no |\n",
       "\n"
      ],
      "text/plain": [
       "  first_name last_name skills     state specialty          experience\n",
       "1 Brenda     Tyler     Spark      UT    Database           Mid       \n",
       "2 Brenda     Kennedy   TensorFlow NM    Data Visualization Senior    \n",
       "  relocation\n",
       "1 no        \n",
       "2 no        "
      ]
     },
     "metadata": {},
     "output_type": "display_data"
    }
   ],
   "source": [
    "mng_conn$count()\n",
    "\n",
    "brenda<-mng_conn$find('{\"candidate.first_name\":\"Brenda\"}',\n",
    "                      fields='{}')\n",
    "\n",
    "brenda$candidate\n",
    "# brenda$`_id`\n",
    "# What about limiting fields? well let me show you:"
   ]
  },
  {
   "cell_type": "code",
   "execution_count": 6,
   "metadata": {},
   "outputs": [
    {
     "data": {
      "text/html": [
       "<table>\n",
       "<caption>A data.frame: 11 × 7</caption>\n",
       "<thead>\n",
       "\t<tr><th></th><th scope=col>first_name</th><th scope=col>last_name</th><th scope=col>skills</th><th scope=col>state</th><th scope=col>specialty</th><th scope=col>experience</th><th scope=col>relocation</th></tr>\n",
       "\t<tr><th></th><th scope=col>&lt;chr&gt;</th><th scope=col>&lt;chr&gt;</th><th scope=col>&lt;list&gt;</th><th scope=col>&lt;chr&gt;</th><th scope=col>&lt;chr&gt;</th><th scope=col>&lt;chr&gt;</th><th scope=col>&lt;chr&gt;</th></tr>\n",
       "</thead>\n",
       "<tbody>\n",
       "\t<tr><th scope=row>1</th><td>Brenda   </td><td>Tyler  </td><td>Spark</td><td>UT</td><td>Database          </td><td>Mid   </td><td>no   </td></tr>\n",
       "\t<tr><th scope=row>2</th><td>Tiffany  </td><td>Olson  </td><td>Spark</td><td>MO</td><td>Statistics        </td><td>Mid   </td><td>maybe</td></tr>\n",
       "\t<tr><th scope=row>3</th><td>Travis   </td><td>Hawkins</td><td>Spark</td><td>CO</td><td>Statistics        </td><td>Senior</td><td>yes  </td></tr>\n",
       "\t<tr><th scope=row>4</th><td>Jack     </td><td>Chavez </td><td>Spark</td><td>LA</td><td>Data Visualization</td><td>Mid   </td><td>no   </td></tr>\n",
       "\t<tr><th scope=row>5</th><td>Christina</td><td>Wilson </td><td>Spark</td><td>CT</td><td>Database          </td><td>Senior</td><td>yes  </td></tr>\n",
       "\t<tr><th scope=row>6</th><td>Andrew   </td><td>Fleming</td><td>Spark</td><td>CT</td><td>Machine Learning  </td><td>Senior</td><td>maybe</td></tr>\n",
       "\t<tr><th scope=row>7</th><td>David    </td><td>Sanchez</td><td>Spark</td><td>MN</td><td>Statistics        </td><td>Mid   </td><td>yes  </td></tr>\n",
       "\t<tr><th scope=row>8</th><td>Robert   </td><td>Gray   </td><td>Spark</td><td>NE</td><td>Database          </td><td>Mid   </td><td>yes  </td></tr>\n",
       "\t<tr><th scope=row>9</th><td>Felicia  </td><td>Mills  </td><td>Spark</td><td>OH</td><td>Statistics        </td><td>Mid   </td><td>no   </td></tr>\n",
       "\t<tr><th scope=row>10</th><td>Thomas   </td><td>Johnson</td><td>Spark</td><td>HI</td><td>Machine Learning  </td><td>Senior</td><td>maybe</td></tr>\n",
       "\t<tr><th scope=row>11</th><td>Deanna   </td><td>Mason  </td><td>Spark</td><td>ID</td><td>Database          </td><td>Mid   </td><td>no   </td></tr>\n",
       "</tbody>\n",
       "</table>\n"
      ],
      "text/latex": [
       "A data.frame: 11 × 7\n",
       "\\begin{tabular}{r|lllllll}\n",
       "  & first\\_name & last\\_name & skills & state & specialty & experience & relocation\\\\\n",
       "  & <chr> & <chr> & <list> & <chr> & <chr> & <chr> & <chr>\\\\\n",
       "\\hline\n",
       "\t1 & Brenda    & Tyler   & Spark & UT & Database           & Mid    & no   \\\\\n",
       "\t2 & Tiffany   & Olson   & Spark & MO & Statistics         & Mid    & maybe\\\\\n",
       "\t3 & Travis    & Hawkins & Spark & CO & Statistics         & Senior & yes  \\\\\n",
       "\t4 & Jack      & Chavez  & Spark & LA & Data Visualization & Mid    & no   \\\\\n",
       "\t5 & Christina & Wilson  & Spark & CT & Database           & Senior & yes  \\\\\n",
       "\t6 & Andrew    & Fleming & Spark & CT & Machine Learning   & Senior & maybe\\\\\n",
       "\t7 & David     & Sanchez & Spark & MN & Statistics         & Mid    & yes  \\\\\n",
       "\t8 & Robert    & Gray    & Spark & NE & Database           & Mid    & yes  \\\\\n",
       "\t9 & Felicia   & Mills   & Spark & OH & Statistics         & Mid    & no   \\\\\n",
       "\t10 & Thomas    & Johnson & Spark & HI & Machine Learning   & Senior & maybe\\\\\n",
       "\t11 & Deanna    & Mason   & Spark & ID & Database           & Mid    & no   \\\\\n",
       "\\end{tabular}\n"
      ],
      "text/markdown": [
       "\n",
       "A data.frame: 11 × 7\n",
       "\n",
       "| <!--/--> | first_name &lt;chr&gt; | last_name &lt;chr&gt; | skills &lt;list&gt; | state &lt;chr&gt; | specialty &lt;chr&gt; | experience &lt;chr&gt; | relocation &lt;chr&gt; |\n",
       "|---|---|---|---|---|---|---|---|\n",
       "| 1 | Brenda    | Tyler   | Spark | UT | Database           | Mid    | no    |\n",
       "| 2 | Tiffany   | Olson   | Spark | MO | Statistics         | Mid    | maybe |\n",
       "| 3 | Travis    | Hawkins | Spark | CO | Statistics         | Senior | yes   |\n",
       "| 4 | Jack      | Chavez  | Spark | LA | Data Visualization | Mid    | no    |\n",
       "| 5 | Christina | Wilson  | Spark | CT | Database           | Senior | yes   |\n",
       "| 6 | Andrew    | Fleming | Spark | CT | Machine Learning   | Senior | maybe |\n",
       "| 7 | David     | Sanchez | Spark | MN | Statistics         | Mid    | yes   |\n",
       "| 8 | Robert    | Gray    | Spark | NE | Database           | Mid    | yes   |\n",
       "| 9 | Felicia   | Mills   | Spark | OH | Statistics         | Mid    | no    |\n",
       "| 10 | Thomas    | Johnson | Spark | HI | Machine Learning   | Senior | maybe |\n",
       "| 11 | Deanna    | Mason   | Spark | ID | Database           | Mid    | no    |\n",
       "\n"
      ],
      "text/plain": [
       "   first_name last_name skills state specialty          experience relocation\n",
       "1  Brenda     Tyler     Spark  UT    Database           Mid        no        \n",
       "2  Tiffany    Olson     Spark  MO    Statistics         Mid        maybe     \n",
       "3  Travis     Hawkins   Spark  CO    Statistics         Senior     yes       \n",
       "4  Jack       Chavez    Spark  LA    Data Visualization Mid        no        \n",
       "5  Christina  Wilson    Spark  CT    Database           Senior     yes       \n",
       "6  Andrew     Fleming   Spark  CT    Machine Learning   Senior     maybe     \n",
       "7  David      Sanchez   Spark  MN    Statistics         Mid        yes       \n",
       "8  Robert     Gray      Spark  NE    Database           Mid        yes       \n",
       "9  Felicia    Mills     Spark  OH    Statistics         Mid        no        \n",
       "10 Thomas     Johnson   Spark  HI    Machine Learning   Senior     maybe     \n",
       "11 Deanna     Mason     Spark  ID    Database           Mid        no        "
      ]
     },
     "metadata": {},
     "output_type": "display_data"
    }
   ],
   "source": [
    "spark<-mng_conn$find(query='{\"candidate.skills\":[\"Spark\"]}',fields='{}')\n",
    "\n",
    "spark$candidate"
   ]
  },
  {
   "cell_type": "code",
   "execution_count": 7,
   "metadata": {},
   "outputs": [
    {
     "data": {
      "text/html": [
       "<table>\n",
       "<caption>A data.frame: 6 × 7</caption>\n",
       "<thead>\n",
       "\t<tr><th></th><th scope=col>first_name</th><th scope=col>last_name</th><th scope=col>skills</th><th scope=col>state</th><th scope=col>specialty</th><th scope=col>experience</th><th scope=col>relocation</th></tr>\n",
       "\t<tr><th></th><th scope=col>&lt;chr&gt;</th><th scope=col>&lt;chr&gt;</th><th scope=col>&lt;list&gt;</th><th scope=col>&lt;chr&gt;</th><th scope=col>&lt;chr&gt;</th><th scope=col>&lt;chr&gt;</th><th scope=col>&lt;chr&gt;</th></tr>\n",
       "</thead>\n",
       "<tbody>\n",
       "\t<tr><th scope=row>1</th><td>Margaret</td><td>Mcdonald</td><td>skLearn, Java   , R      , SQL    , Spark  , C++    </td><td>AL</td><td>Database          </td><td>Junior</td><td>no   </td></tr>\n",
       "\t<tr><th scope=row>2</th><td>Michael </td><td>Carter  </td><td>TensorFlow, R         , Spark     , MongoDB   , C++       , SQL       </td><td>AR</td><td>Data Visualization</td><td>Junior</td><td>yes  </td></tr>\n",
       "\t<tr><th scope=row>3</th><td>Joseph  </td><td>King    </td><td>skLearn   , SQL       , R         , Spark     , Java      , C++       , Python    , TensorFlow</td><td>FL</td><td>Statistics        </td><td>Senior</td><td>maybe</td></tr>\n",
       "\t<tr><th scope=row>4</th><td>Laura   </td><td>Webb    </td><td>TensorFlow, C++       , SQL       , Java      , R         , MongoDB   </td><td>WY</td><td>Machine Learning  </td><td>Junior</td><td>maybe</td></tr>\n",
       "\t<tr><th scope=row>5</th><td>Cheryl  </td><td>Ramirez </td><td>C++       , Python    , R         , Java      , skLearn   , SQL       , MongoDB   , Spark     , TensorFlow</td><td>OK</td><td>Data Visualization</td><td>Senior</td><td>no   </td></tr>\n",
       "\t<tr><th scope=row>6</th><td>Charles </td><td>Stewart </td><td>MongoDB, C++    , Java   , SQL    , R      , Python , skLearn</td><td>NM</td><td>Machine Learning  </td><td>Mid   </td><td>maybe</td></tr>\n",
       "</tbody>\n",
       "</table>\n"
      ],
      "text/latex": [
       "A data.frame: 6 × 7\n",
       "\\begin{tabular}{r|lllllll}\n",
       "  & first\\_name & last\\_name & skills & state & specialty & experience & relocation\\\\\n",
       "  & <chr> & <chr> & <list> & <chr> & <chr> & <chr> & <chr>\\\\\n",
       "\\hline\n",
       "\t1 & Margaret & Mcdonald & skLearn, Java   , R      , SQL    , Spark  , C++     & AL & Database           & Junior & no   \\\\\n",
       "\t2 & Michael  & Carter   & TensorFlow, R         , Spark     , MongoDB   , C++       , SQL        & AR & Data Visualization & Junior & yes  \\\\\n",
       "\t3 & Joseph   & King     & skLearn   , SQL       , R         , Spark     , Java      , C++       , Python    , TensorFlow & FL & Statistics         & Senior & maybe\\\\\n",
       "\t4 & Laura    & Webb     & TensorFlow, C++       , SQL       , Java      , R         , MongoDB    & WY & Machine Learning   & Junior & maybe\\\\\n",
       "\t5 & Cheryl   & Ramirez  & C++       , Python    , R         , Java      , skLearn   , SQL       , MongoDB   , Spark     , TensorFlow & OK & Data Visualization & Senior & no   \\\\\n",
       "\t6 & Charles  & Stewart  & MongoDB, C++    , Java   , SQL    , R      , Python , skLearn & NM & Machine Learning   & Mid    & maybe\\\\\n",
       "\\end{tabular}\n"
      ],
      "text/markdown": [
       "\n",
       "A data.frame: 6 × 7\n",
       "\n",
       "| <!--/--> | first_name &lt;chr&gt; | last_name &lt;chr&gt; | skills &lt;list&gt; | state &lt;chr&gt; | specialty &lt;chr&gt; | experience &lt;chr&gt; | relocation &lt;chr&gt; |\n",
       "|---|---|---|---|---|---|---|---|\n",
       "| 1 | Margaret | Mcdonald | skLearn, Java   , R      , SQL    , Spark  , C++     | AL | Database           | Junior | no    |\n",
       "| 2 | Michael  | Carter   | TensorFlow, R         , Spark     , MongoDB   , C++       , SQL        | AR | Data Visualization | Junior | yes   |\n",
       "| 3 | Joseph   | King     | skLearn   , SQL       , R         , Spark     , Java      , C++       , Python    , TensorFlow | FL | Statistics         | Senior | maybe |\n",
       "| 4 | Laura    | Webb     | TensorFlow, C++       , SQL       , Java      , R         , MongoDB    | WY | Machine Learning   | Junior | maybe |\n",
       "| 5 | Cheryl   | Ramirez  | C++       , Python    , R         , Java      , skLearn   , SQL       , MongoDB   , Spark     , TensorFlow | OK | Data Visualization | Senior | no    |\n",
       "| 6 | Charles  | Stewart  | MongoDB, C++    , Java   , SQL    , R      , Python , skLearn | NM | Machine Learning   | Mid    | maybe |\n",
       "\n"
      ],
      "text/plain": [
       "  first_name last_name\n",
       "1 Margaret   Mcdonald \n",
       "2 Michael    Carter   \n",
       "3 Joseph     King     \n",
       "4 Laura      Webb     \n",
       "5 Cheryl     Ramirez  \n",
       "6 Charles    Stewart  \n",
       "  skills                                                                                                    \n",
       "1 skLearn, Java   , R      , SQL    , Spark  , C++                                                          \n",
       "2 TensorFlow, R         , Spark     , MongoDB   , C++       , SQL                                           \n",
       "3 skLearn   , SQL       , R         , Spark     , Java      , C++       , Python    , TensorFlow            \n",
       "4 TensorFlow, C++       , SQL       , Java      , R         , MongoDB                                       \n",
       "5 C++       , Python    , R         , Java      , skLearn   , SQL       , MongoDB   , Spark     , TensorFlow\n",
       "6 MongoDB, C++    , Java   , SQL    , R      , Python , skLearn                                             \n",
       "  state specialty          experience relocation\n",
       "1 AL    Database           Junior     no        \n",
       "2 AR    Data Visualization Junior     yes       \n",
       "3 FL    Statistics         Senior     maybe     \n",
       "4 WY    Machine Learning   Junior     maybe     \n",
       "5 OK    Data Visualization Senior     no        \n",
       "6 NM    Machine Learning   Mid        maybe     "
      ]
     },
     "metadata": {},
     "output_type": "display_data"
    }
   ],
   "source": [
    "C<-mng_conn$find(query='{\"candidate.skills\":\"C++\"}',fields='{}')\n",
    "\n",
    "head(C$candidate)"
   ]
  },
  {
   "cell_type": "code",
   "execution_count": 8,
   "metadata": {},
   "outputs": [
    {
     "data": {
      "text/html": [
       "<table>\n",
       "<caption>A data.frame: 1 × 7</caption>\n",
       "<thead>\n",
       "\t<tr><th></th><th scope=col>first_name</th><th scope=col>last_name</th><th scope=col>skills</th><th scope=col>state</th><th scope=col>specialty</th><th scope=col>experience</th><th scope=col>relocation</th></tr>\n",
       "\t<tr><th></th><th scope=col>&lt;chr&gt;</th><th scope=col>&lt;chr&gt;</th><th scope=col>&lt;list&gt;</th><th scope=col>&lt;chr&gt;</th><th scope=col>&lt;chr&gt;</th><th scope=col>&lt;chr&gt;</th><th scope=col>&lt;chr&gt;</th></tr>\n",
       "</thead>\n",
       "<tbody>\n",
       "\t<tr><th scope=row>1</th><td>Brenda</td><td>Tyler</td><td>Spark</td><td>UT</td><td>Database</td><td>Mid</td><td>no</td></tr>\n",
       "</tbody>\n",
       "</table>\n"
      ],
      "text/latex": [
       "A data.frame: 1 × 7\n",
       "\\begin{tabular}{r|lllllll}\n",
       "  & first\\_name & last\\_name & skills & state & specialty & experience & relocation\\\\\n",
       "  & <chr> & <chr> & <list> & <chr> & <chr> & <chr> & <chr>\\\\\n",
       "\\hline\n",
       "\t1 & Brenda & Tyler & Spark & UT & Database & Mid & no\\\\\n",
       "\\end{tabular}\n"
      ],
      "text/markdown": [
       "\n",
       "A data.frame: 1 × 7\n",
       "\n",
       "| <!--/--> | first_name &lt;chr&gt; | last_name &lt;chr&gt; | skills &lt;list&gt; | state &lt;chr&gt; | specialty &lt;chr&gt; | experience &lt;chr&gt; | relocation &lt;chr&gt; |\n",
       "|---|---|---|---|---|---|---|---|\n",
       "| 1 | Brenda | Tyler | Spark | UT | Database | Mid | no |\n",
       "\n"
      ],
      "text/plain": [
       "  first_name last_name skills state specialty experience relocation\n",
       "1 Brenda     Tyler     Spark  UT    Database  Mid        no        "
      ]
     },
     "metadata": {},
     "output_type": "display_data"
    }
   ],
   "source": [
    "ididi<-mng_conn$find(query = '{\"_id\" : {\"$oid\":\"5eb5cc5b47c72ccce7539c1d\"}}',fields='{}')\n",
    "\n",
    "ididi$candidate"
   ]
  },
  {
   "cell_type": "code",
   "execution_count": 9,
   "metadata": {},
   "outputs": [
    {
     "data": {
      "text/html": [
       "<table>\n",
       "<caption>A data.frame: 6 × 7</caption>\n",
       "<thead>\n",
       "\t<tr><th></th><th scope=col>first_name</th><th scope=col>last_name</th><th scope=col>skills</th><th scope=col>state</th><th scope=col>specialty</th><th scope=col>experience</th><th scope=col>relocation</th></tr>\n",
       "\t<tr><th></th><th scope=col>&lt;chr&gt;</th><th scope=col>&lt;chr&gt;</th><th scope=col>&lt;list&gt;</th><th scope=col>&lt;chr&gt;</th><th scope=col>&lt;chr&gt;</th><th scope=col>&lt;chr&gt;</th><th scope=col>&lt;chr&gt;</th></tr>\n",
       "</thead>\n",
       "<tbody>\n",
       "\t<tr><th scope=row>1</th><td>Joseph  </td><td>King   </td><td>skLearn   , SQL       , R         , Spark     , Java      , C++       , Python    , TensorFlow</td><td>FL</td><td>Statistics        </td><td>Senior</td><td>maybe</td></tr>\n",
       "\t<tr><th scope=row>2</th><td>Tammy   </td><td>Miller </td><td>skLearn   , R         , TensorFlow, MongoDB   , C++       , Java      </td><td>FL</td><td>Data Visualization</td><td>Mid   </td><td>maybe</td></tr>\n",
       "\t<tr><th scope=row>3</th><td>Michael </td><td>Carter </td><td>Java, C++ </td><td>FL</td><td>Database          </td><td>Senior</td><td>maybe</td></tr>\n",
       "\t<tr><th scope=row>4</th><td>Sharon  </td><td>Taylor </td><td>MongoDB, R      </td><td>CA</td><td>Data Visualization</td><td>Senior</td><td>no   </td></tr>\n",
       "\t<tr><th scope=row>5</th><td>Gloria  </td><td>Rivera </td><td>R         , SQL       , Java      , MongoDB   , skLearn   , Python    , TensorFlow, Spark     , C++       </td><td>CA</td><td>Statistics        </td><td>Senior</td><td>maybe</td></tr>\n",
       "\t<tr><th scope=row>6</th><td>Jennifer</td><td>Stewart</td><td>Python , Java   , skLearn, R      , Spark  </td><td>CA</td><td>Statistics        </td><td>Senior</td><td>maybe</td></tr>\n",
       "</tbody>\n",
       "</table>\n"
      ],
      "text/latex": [
       "A data.frame: 6 × 7\n",
       "\\begin{tabular}{r|lllllll}\n",
       "  & first\\_name & last\\_name & skills & state & specialty & experience & relocation\\\\\n",
       "  & <chr> & <chr> & <list> & <chr> & <chr> & <chr> & <chr>\\\\\n",
       "\\hline\n",
       "\t1 & Joseph   & King    & skLearn   , SQL       , R         , Spark     , Java      , C++       , Python    , TensorFlow & FL & Statistics         & Senior & maybe\\\\\n",
       "\t2 & Tammy    & Miller  & skLearn   , R         , TensorFlow, MongoDB   , C++       , Java       & FL & Data Visualization & Mid    & maybe\\\\\n",
       "\t3 & Michael  & Carter  & Java, C++  & FL & Database           & Senior & maybe\\\\\n",
       "\t4 & Sharon   & Taylor  & MongoDB, R       & CA & Data Visualization & Senior & no   \\\\\n",
       "\t5 & Gloria   & Rivera  & R         , SQL       , Java      , MongoDB   , skLearn   , Python    , TensorFlow, Spark     , C++        & CA & Statistics         & Senior & maybe\\\\\n",
       "\t6 & Jennifer & Stewart & Python , Java   , skLearn, R      , Spark   & CA & Statistics         & Senior & maybe\\\\\n",
       "\\end{tabular}\n"
      ],
      "text/markdown": [
       "\n",
       "A data.frame: 6 × 7\n",
       "\n",
       "| <!--/--> | first_name &lt;chr&gt; | last_name &lt;chr&gt; | skills &lt;list&gt; | state &lt;chr&gt; | specialty &lt;chr&gt; | experience &lt;chr&gt; | relocation &lt;chr&gt; |\n",
       "|---|---|---|---|---|---|---|---|\n",
       "| 1 | Joseph   | King    | skLearn   , SQL       , R         , Spark     , Java      , C++       , Python    , TensorFlow | FL | Statistics         | Senior | maybe |\n",
       "| 2 | Tammy    | Miller  | skLearn   , R         , TensorFlow, MongoDB   , C++       , Java       | FL | Data Visualization | Mid    | maybe |\n",
       "| 3 | Michael  | Carter  | Java, C++  | FL | Database           | Senior | maybe |\n",
       "| 4 | Sharon   | Taylor  | MongoDB, R       | CA | Data Visualization | Senior | no    |\n",
       "| 5 | Gloria   | Rivera  | R         , SQL       , Java      , MongoDB   , skLearn   , Python    , TensorFlow, Spark     , C++        | CA | Statistics         | Senior | maybe |\n",
       "| 6 | Jennifer | Stewart | Python , Java   , skLearn, R      , Spark   | CA | Statistics         | Senior | maybe |\n",
       "\n"
      ],
      "text/plain": [
       "  first_name last_name\n",
       "1 Joseph     King     \n",
       "2 Tammy      Miller   \n",
       "3 Michael    Carter   \n",
       "4 Sharon     Taylor   \n",
       "5 Gloria     Rivera   \n",
       "6 Jennifer   Stewart  \n",
       "  skills                                                                                                    \n",
       "1 skLearn   , SQL       , R         , Spark     , Java      , C++       , Python    , TensorFlow            \n",
       "2 skLearn   , R         , TensorFlow, MongoDB   , C++       , Java                                          \n",
       "3 Java, C++                                                                                                 \n",
       "4 MongoDB, R                                                                                                \n",
       "5 R         , SQL       , Java      , MongoDB   , skLearn   , Python    , TensorFlow, Spark     , C++       \n",
       "6 Python , Java   , skLearn, R      , Spark                                                                 \n",
       "  state specialty          experience relocation\n",
       "1 FL    Statistics         Senior     maybe     \n",
       "2 FL    Data Visualization Mid        maybe     \n",
       "3 FL    Database           Senior     maybe     \n",
       "4 CA    Data Visualization Senior     no        \n",
       "5 CA    Statistics         Senior     maybe     \n",
       "6 CA    Statistics         Senior     maybe     "
      ]
     },
     "metadata": {},
     "output_type": "display_data"
    }
   ],
   "source": [
    "or_<-mng_conn$find(query='{\"$or\" :[{\"candidate.state\":\"CA\"},{\"candidate.state\":\"FL\"}]}',\n",
    "             fields='{}')\n",
    "\n",
    "head(or_$candidate)\n"
   ]
  },
  {
   "cell_type": "code",
   "execution_count": 10,
   "metadata": {},
   "outputs": [
    {
     "data": {
      "text/html": [
       "<table>\n",
       "<caption>A data.frame: 6 × 7</caption>\n",
       "<thead>\n",
       "\t<tr><th></th><th scope=col>first_name</th><th scope=col>last_name</th><th scope=col>skills</th><th scope=col>state</th><th scope=col>specialty</th><th scope=col>experience</th><th scope=col>relocation</th></tr>\n",
       "\t<tr><th></th><th scope=col>&lt;chr&gt;</th><th scope=col>&lt;chr&gt;</th><th scope=col>&lt;list&gt;</th><th scope=col>&lt;chr&gt;</th><th scope=col>&lt;chr&gt;</th><th scope=col>&lt;chr&gt;</th><th scope=col>&lt;chr&gt;</th></tr>\n",
       "</thead>\n",
       "<tbody>\n",
       "\t<tr><th scope=row>1</th><td>Joseph </td><td>King   </td><td>skLearn   , SQL       , R         , Spark     , Java      , C++       , Python    , TensorFlow</td><td>FL</td><td>Statistics        </td><td>Senior</td><td>maybe</td></tr>\n",
       "\t<tr><th scope=row>2</th><td>Cheryl </td><td>Ramirez</td><td>C++       , Python    , R         , Java      , skLearn   , SQL       , MongoDB   , Spark     , TensorFlow</td><td>OK</td><td>Data Visualization</td><td>Senior</td><td>no   </td></tr>\n",
       "\t<tr><th scope=row>3</th><td>Charles</td><td>Stewart</td><td>MongoDB, C++    , Java   , SQL    , R      , Python , skLearn</td><td>NM</td><td>Machine Learning  </td><td>Mid   </td><td>maybe</td></tr>\n",
       "\t<tr><th scope=row>4</th><td>William</td><td>Lin    </td><td>Python , skLearn, R      </td><td>WI</td><td>Machine Learning  </td><td>Mid   </td><td>maybe</td></tr>\n",
       "\t<tr><th scope=row>5</th><td>Robert </td><td>Rivera </td><td>Java      , skLearn   , Python    , Spark     , TensorFlow, C++       , SQL       </td><td>PA</td><td>Machine Learning  </td><td>Junior</td><td>yes  </td></tr>\n",
       "\t<tr><th scope=row>6</th><td>Mr.    </td><td>James  </td><td>TensorFlow, Java      , MongoDB   , Python    , Spark     , C++       , R         , skLearn   , SQL       </td><td>KY</td><td>Data Visualization</td><td>Senior</td><td>maybe</td></tr>\n",
       "</tbody>\n",
       "</table>\n"
      ],
      "text/latex": [
       "A data.frame: 6 × 7\n",
       "\\begin{tabular}{r|lllllll}\n",
       "  & first\\_name & last\\_name & skills & state & specialty & experience & relocation\\\\\n",
       "  & <chr> & <chr> & <list> & <chr> & <chr> & <chr> & <chr>\\\\\n",
       "\\hline\n",
       "\t1 & Joseph  & King    & skLearn   , SQL       , R         , Spark     , Java      , C++       , Python    , TensorFlow & FL & Statistics         & Senior & maybe\\\\\n",
       "\t2 & Cheryl  & Ramirez & C++       , Python    , R         , Java      , skLearn   , SQL       , MongoDB   , Spark     , TensorFlow & OK & Data Visualization & Senior & no   \\\\\n",
       "\t3 & Charles & Stewart & MongoDB, C++    , Java   , SQL    , R      , Python , skLearn & NM & Machine Learning   & Mid    & maybe\\\\\n",
       "\t4 & William & Lin     & Python , skLearn, R       & WI & Machine Learning   & Mid    & maybe\\\\\n",
       "\t5 & Robert  & Rivera  & Java      , skLearn   , Python    , Spark     , TensorFlow, C++       , SQL        & PA & Machine Learning   & Junior & yes  \\\\\n",
       "\t6 & Mr.     & James   & TensorFlow, Java      , MongoDB   , Python    , Spark     , C++       , R         , skLearn   , SQL        & KY & Data Visualization & Senior & maybe\\\\\n",
       "\\end{tabular}\n"
      ],
      "text/markdown": [
       "\n",
       "A data.frame: 6 × 7\n",
       "\n",
       "| <!--/--> | first_name &lt;chr&gt; | last_name &lt;chr&gt; | skills &lt;list&gt; | state &lt;chr&gt; | specialty &lt;chr&gt; | experience &lt;chr&gt; | relocation &lt;chr&gt; |\n",
       "|---|---|---|---|---|---|---|---|\n",
       "| 1 | Joseph  | King    | skLearn   , SQL       , R         , Spark     , Java      , C++       , Python    , TensorFlow | FL | Statistics         | Senior | maybe |\n",
       "| 2 | Cheryl  | Ramirez | C++       , Python    , R         , Java      , skLearn   , SQL       , MongoDB   , Spark     , TensorFlow | OK | Data Visualization | Senior | no    |\n",
       "| 3 | Charles | Stewart | MongoDB, C++    , Java   , SQL    , R      , Python , skLearn | NM | Machine Learning   | Mid    | maybe |\n",
       "| 4 | William | Lin     | Python , skLearn, R       | WI | Machine Learning   | Mid    | maybe |\n",
       "| 5 | Robert  | Rivera  | Java      , skLearn   , Python    , Spark     , TensorFlow, C++       , SQL        | PA | Machine Learning   | Junior | yes   |\n",
       "| 6 | Mr.     | James   | TensorFlow, Java      , MongoDB   , Python    , Spark     , C++       , R         , skLearn   , SQL        | KY | Data Visualization | Senior | maybe |\n",
       "\n"
      ],
      "text/plain": [
       "  first_name last_name\n",
       "1 Joseph     King     \n",
       "2 Cheryl     Ramirez  \n",
       "3 Charles    Stewart  \n",
       "4 William    Lin      \n",
       "5 Robert     Rivera   \n",
       "6 Mr.        James    \n",
       "  skills                                                                                                    \n",
       "1 skLearn   , SQL       , R         , Spark     , Java      , C++       , Python    , TensorFlow            \n",
       "2 C++       , Python    , R         , Java      , skLearn   , SQL       , MongoDB   , Spark     , TensorFlow\n",
       "3 MongoDB, C++    , Java   , SQL    , R      , Python , skLearn                                             \n",
       "4 Python , skLearn, R                                                                                       \n",
       "5 Java      , skLearn   , Python    , Spark     , TensorFlow, C++       , SQL                               \n",
       "6 TensorFlow, Java      , MongoDB   , Python    , Spark     , C++       , R         , skLearn   , SQL       \n",
       "  state specialty          experience relocation\n",
       "1 FL    Statistics         Senior     maybe     \n",
       "2 OK    Data Visualization Senior     no        \n",
       "3 NM    Machine Learning   Mid        maybe     \n",
       "4 WI    Machine Learning   Mid        maybe     \n",
       "5 PA    Machine Learning   Junior     yes       \n",
       "6 KY    Data Visualization Senior     maybe     "
      ]
     },
     "metadata": {},
     "output_type": "display_data"
    }
   ],
   "source": [
    "all_w_atleast_Python<-mng_conn$find(query='{\"candidate.skills\": {\"$all\":[\"Python\"]}}',\n",
    "                                    fields='{}')\n",
    "head(all_w_atleast_Python$candidate)"
   ]
  },
  {
   "cell_type": "markdown",
   "metadata": {},
   "source": [
    "# Aggregation:\n"
   ]
  },
  {
   "cell_type": "code",
   "execution_count": 33,
   "metadata": {},
   "outputs": [],
   "source": [
    "skills_count<-mng_conn$aggregate('[{\"$project\":{\"candidate.first_name\":1,\n",
    "                        \"candidate.last_name\":1,\n",
    "                        \"numberOfSkills\":{\"$cond\":{\"if\":{\"$isArray\":\"$candidate.skills\"},\n",
    "                        \"then\":{\"$size\":\"$candidate.skills\"},\"else\":\"NA\"}}}}]')\n"
   ]
  },
  {
   "cell_type": "code",
   "execution_count": 34,
   "metadata": {},
   "outputs": [
    {
     "data": {
      "text/html": [
       "<table>\n",
       "<caption>A data.frame: 6 × 3</caption>\n",
       "<thead>\n",
       "\t<tr><th></th><th scope=col>first_name</th><th scope=col>last_name</th><th scope=col>numberOfSkillsCount</th></tr>\n",
       "\t<tr><th></th><th scope=col>&lt;chr&gt;</th><th scope=col>&lt;chr&gt;</th><th scope=col>&lt;int&gt;</th></tr>\n",
       "</thead>\n",
       "<tbody>\n",
       "\t<tr><th scope=row>1</th><td>Margaret</td><td>Mcdonald</td><td>6</td></tr>\n",
       "\t<tr><th scope=row>2</th><td>Michael </td><td>Carter  </td><td>6</td></tr>\n",
       "\t<tr><th scope=row>3</th><td>Brenda  </td><td>Tyler   </td><td>1</td></tr>\n",
       "\t<tr><th scope=row>4</th><td>Joseph  </td><td>King    </td><td>8</td></tr>\n",
       "\t<tr><th scope=row>5</th><td>Laura   </td><td>Webb    </td><td>6</td></tr>\n",
       "\t<tr><th scope=row>6</th><td>Cheryl  </td><td>Ramirez </td><td>9</td></tr>\n",
       "</tbody>\n",
       "</table>\n"
      ],
      "text/latex": [
       "A data.frame: 6 × 3\n",
       "\\begin{tabular}{r|lll}\n",
       "  & first\\_name & last\\_name & numberOfSkillsCount\\\\\n",
       "  & <chr> & <chr> & <int>\\\\\n",
       "\\hline\n",
       "\t1 & Margaret & Mcdonald & 6\\\\\n",
       "\t2 & Michael  & Carter   & 6\\\\\n",
       "\t3 & Brenda   & Tyler    & 1\\\\\n",
       "\t4 & Joseph   & King     & 8\\\\\n",
       "\t5 & Laura    & Webb     & 6\\\\\n",
       "\t6 & Cheryl   & Ramirez  & 9\\\\\n",
       "\\end{tabular}\n"
      ],
      "text/markdown": [
       "\n",
       "A data.frame: 6 × 3\n",
       "\n",
       "| <!--/--> | first_name &lt;chr&gt; | last_name &lt;chr&gt; | numberOfSkillsCount &lt;int&gt; |\n",
       "|---|---|---|---|\n",
       "| 1 | Margaret | Mcdonald | 6 |\n",
       "| 2 | Michael  | Carter   | 6 |\n",
       "| 3 | Brenda   | Tyler    | 1 |\n",
       "| 4 | Joseph   | King     | 8 |\n",
       "| 5 | Laura    | Webb     | 6 |\n",
       "| 6 | Cheryl   | Ramirez  | 9 |\n",
       "\n"
      ],
      "text/plain": [
       "  first_name last_name numberOfSkillsCount\n",
       "1 Margaret   Mcdonald  6                  \n",
       "2 Michael    Carter    6                  \n",
       "3 Brenda     Tyler     1                  \n",
       "4 Joseph     King      8                  \n",
       "5 Laura      Webb      6                  \n",
       "6 Cheryl     Ramirez   9                  "
      ]
     },
     "metadata": {},
     "output_type": "display_data"
    }
   ],
   "source": [
    "#if you type skills_count$, then press tab: you get 3 options(_id,candidate,numberskills)\n",
    "\n",
    "head(cbind(skills_count$candidate,numberOfSkillsCount=skills_count$numberOfSkills))\n",
    "# skills_count$"
   ]
  },
  {
   "cell_type": "code",
   "execution_count": 60,
   "metadata": {},
   "outputs": [
    {
     "data": {
      "text/html": [
       "<table>\n",
       "<caption>A data.frame: 6 × 7</caption>\n",
       "<thead>\n",
       "\t<tr><th></th><th scope=col>first_name</th><th scope=col>last_name</th><th scope=col>skills</th><th scope=col>state</th><th scope=col>specialty</th><th scope=col>experience</th><th scope=col>relocation</th></tr>\n",
       "\t<tr><th></th><th scope=col>&lt;chr&gt;</th><th scope=col>&lt;chr&gt;</th><th scope=col>&lt;list&gt;</th><th scope=col>&lt;chr&gt;</th><th scope=col>&lt;chr&gt;</th><th scope=col>&lt;chr&gt;</th><th scope=col>&lt;chr&gt;</th></tr>\n",
       "</thead>\n",
       "<tbody>\n",
       "\t<tr><th scope=row>1</th><td>Laura  </td><td>Webb   </td><td>TensorFlow, C++       , SQL       , Java      , R         , MongoDB   </td><td>WY</td><td>Machine Learning</td><td>Junior</td><td>maybe</td></tr>\n",
       "\t<tr><th scope=row>2</th><td>Charles</td><td>Stewart</td><td>MongoDB, C++    , Java   , SQL    , R      , Python , skLearn</td><td>NM</td><td>Machine Learning</td><td>Mid   </td><td>maybe</td></tr>\n",
       "\t<tr><th scope=row>3</th><td>William</td><td>Lin    </td><td>Python , skLearn, R      </td><td>WI</td><td>Machine Learning</td><td>Mid   </td><td>maybe</td></tr>\n",
       "\t<tr><th scope=row>4</th><td>Richard</td><td>Woods  </td><td>skLearn, MongoDB</td><td>UT</td><td>Machine Learning</td><td>Senior</td><td>yes  </td></tr>\n",
       "\t<tr><th scope=row>5</th><td>Robert </td><td>Rivera </td><td>Java      , skLearn   , Python    , Spark     , TensorFlow, C++       , SQL       </td><td>PA</td><td>Machine Learning</td><td>Junior</td><td>yes  </td></tr>\n",
       "\t<tr><th scope=row>6</th><td>Tanya  </td><td>Schultz</td><td>SQL       , MongoDB   , R         , C++       , Spark     , TensorFlow</td><td>NV</td><td>Machine Learning</td><td>Senior</td><td>yes  </td></tr>\n",
       "</tbody>\n",
       "</table>\n"
      ],
      "text/latex": [
       "A data.frame: 6 × 7\n",
       "\\begin{tabular}{r|lllllll}\n",
       "  & first\\_name & last\\_name & skills & state & specialty & experience & relocation\\\\\n",
       "  & <chr> & <chr> & <list> & <chr> & <chr> & <chr> & <chr>\\\\\n",
       "\\hline\n",
       "\t1 & Laura   & Webb    & TensorFlow, C++       , SQL       , Java      , R         , MongoDB    & WY & Machine Learning & Junior & maybe\\\\\n",
       "\t2 & Charles & Stewart & MongoDB, C++    , Java   , SQL    , R      , Python , skLearn & NM & Machine Learning & Mid    & maybe\\\\\n",
       "\t3 & William & Lin     & Python , skLearn, R       & WI & Machine Learning & Mid    & maybe\\\\\n",
       "\t4 & Richard & Woods   & skLearn, MongoDB & UT & Machine Learning & Senior & yes  \\\\\n",
       "\t5 & Robert  & Rivera  & Java      , skLearn   , Python    , Spark     , TensorFlow, C++       , SQL        & PA & Machine Learning & Junior & yes  \\\\\n",
       "\t6 & Tanya   & Schultz & SQL       , MongoDB   , R         , C++       , Spark     , TensorFlow & NV & Machine Learning & Senior & yes  \\\\\n",
       "\\end{tabular}\n"
      ],
      "text/markdown": [
       "\n",
       "A data.frame: 6 × 7\n",
       "\n",
       "| <!--/--> | first_name &lt;chr&gt; | last_name &lt;chr&gt; | skills &lt;list&gt; | state &lt;chr&gt; | specialty &lt;chr&gt; | experience &lt;chr&gt; | relocation &lt;chr&gt; |\n",
       "|---|---|---|---|---|---|---|---|\n",
       "| 1 | Laura   | Webb    | TensorFlow, C++       , SQL       , Java      , R         , MongoDB    | WY | Machine Learning | Junior | maybe |\n",
       "| 2 | Charles | Stewart | MongoDB, C++    , Java   , SQL    , R      , Python , skLearn | NM | Machine Learning | Mid    | maybe |\n",
       "| 3 | William | Lin     | Python , skLearn, R       | WI | Machine Learning | Mid    | maybe |\n",
       "| 4 | Richard | Woods   | skLearn, MongoDB | UT | Machine Learning | Senior | yes   |\n",
       "| 5 | Robert  | Rivera  | Java      , skLearn   , Python    , Spark     , TensorFlow, C++       , SQL        | PA | Machine Learning | Junior | yes   |\n",
       "| 6 | Tanya   | Schultz | SQL       , MongoDB   , R         , C++       , Spark     , TensorFlow | NV | Machine Learning | Senior | yes   |\n",
       "\n"
      ],
      "text/plain": [
       "  first_name last_name\n",
       "1 Laura      Webb     \n",
       "2 Charles    Stewart  \n",
       "3 William    Lin      \n",
       "4 Richard    Woods    \n",
       "5 Robert     Rivera   \n",
       "6 Tanya      Schultz  \n",
       "  skills                                                                            \n",
       "1 TensorFlow, C++       , SQL       , Java      , R         , MongoDB               \n",
       "2 MongoDB, C++    , Java   , SQL    , R      , Python , skLearn                     \n",
       "3 Python , skLearn, R                                                               \n",
       "4 skLearn, MongoDB                                                                  \n",
       "5 Java      , skLearn   , Python    , Spark     , TensorFlow, C++       , SQL       \n",
       "6 SQL       , MongoDB   , R         , C++       , Spark     , TensorFlow            \n",
       "  state specialty        experience relocation\n",
       "1 WY    Machine Learning Junior     maybe     \n",
       "2 NM    Machine Learning Mid        maybe     \n",
       "3 WI    Machine Learning Mid        maybe     \n",
       "4 UT    Machine Learning Senior     yes       \n",
       "5 PA    Machine Learning Junior     yes       \n",
       "6 NV    Machine Learning Senior     yes       "
      ]
     },
     "metadata": {},
     "output_type": "display_data"
    }
   ],
   "source": [
    "match_ML<-mng_conn$aggregate('[{ \"$match\":{\"candidate.specialty\": \"Machine Learning\"}}]')\n",
    "\n",
    "head(match_ML$candidate)"
   ]
  },
  {
   "cell_type": "markdown",
   "metadata": {},
   "source": [
    "# Map-Reduce:"
   ]
  },
  {
   "cell_type": "code",
   "execution_count": 46,
   "metadata": {},
   "outputs": [],
   "source": [
    "mpred<-mng_conn$mapreduce(map= 'function(){emit(this.candidate.state,{count:1});}',\n",
    "reduce = 'function(state,val){\n",
    "    var value = {count:0};\n",
    "    for(i=0; i<val.length;i++){\n",
    "    value.count += val[i].count;}\n",
    "    return value;}')\n"
   ]
  },
  {
   "cell_type": "code",
   "execution_count": 45,
   "metadata": {},
   "outputs": [
    {
     "data": {
      "text/html": [
       "<table>\n",
       "<caption>A data.frame: 6 × 2</caption>\n",
       "<thead>\n",
       "\t<tr><th></th><th scope=col>states</th><th scope=col>count</th></tr>\n",
       "\t<tr><th></th><th scope=col>&lt;fct&gt;</th><th scope=col>&lt;dbl&gt;</th></tr>\n",
       "</thead>\n",
       "<tbody>\n",
       "\t<tr><th scope=row>1</th><td>AK</td><td>10</td></tr>\n",
       "\t<tr><th scope=row>2</th><td>AL</td><td>12</td></tr>\n",
       "\t<tr><th scope=row>3</th><td>AR</td><td> 8</td></tr>\n",
       "\t<tr><th scope=row>4</th><td>AZ</td><td> 8</td></tr>\n",
       "\t<tr><th scope=row>5</th><td>CA</td><td>11</td></tr>\n",
       "\t<tr><th scope=row>6</th><td>CO</td><td>10</td></tr>\n",
       "</tbody>\n",
       "</table>\n"
      ],
      "text/latex": [
       "A data.frame: 6 × 2\n",
       "\\begin{tabular}{r|ll}\n",
       "  & states & count\\\\\n",
       "  & <fct> & <dbl>\\\\\n",
       "\\hline\n",
       "\t1 & AK & 10\\\\\n",
       "\t2 & AL & 12\\\\\n",
       "\t3 & AR &  8\\\\\n",
       "\t4 & AZ &  8\\\\\n",
       "\t5 & CA & 11\\\\\n",
       "\t6 & CO & 10\\\\\n",
       "\\end{tabular}\n"
      ],
      "text/markdown": [
       "\n",
       "A data.frame: 6 × 2\n",
       "\n",
       "| <!--/--> | states &lt;fct&gt; | count &lt;dbl&gt; |\n",
       "|---|---|---|\n",
       "| 1 | AK | 10 |\n",
       "| 2 | AL | 12 |\n",
       "| 3 | AR |  8 |\n",
       "| 4 | AZ |  8 |\n",
       "| 5 | CA | 11 |\n",
       "| 6 | CO | 10 |\n",
       "\n"
      ],
      "text/plain": [
       "  states count\n",
       "1 AK     10   \n",
       "2 AL     12   \n",
       "3 AR      8   \n",
       "4 AZ      8   \n",
       "5 CA     11   \n",
       "6 CO     10   "
      ]
     },
     "metadata": {},
     "output_type": "display_data"
    }
   ],
   "source": [
    "head(cbind(states=mpred$`_id`,ppl_per_state=mpred$value))\n"
   ]
  },
  {
   "cell_type": "code",
   "execution_count": 49,
   "metadata": {},
   "outputs": [
    {
     "data": {
      "text/html": [
       "<table>\n",
       "<caption>A data.frame: 9 × 2</caption>\n",
       "<thead>\n",
       "\t<tr><th></th><th scope=col>_id</th><th scope=col>value</th></tr>\n",
       "\t<tr><th></th><th scope=col>&lt;chr&gt;</th><th scope=col>&lt;dbl&gt;</th></tr>\n",
       "</thead>\n",
       "<tbody>\n",
       "\t<tr><th scope=row>1</th><td>C++       </td><td>274</td></tr>\n",
       "\t<tr><th scope=row>2</th><td>Java      </td><td>267</td></tr>\n",
       "\t<tr><th scope=row>3</th><td>MongoDB   </td><td>274</td></tr>\n",
       "\t<tr><th scope=row>4</th><td>Python    </td><td>273</td></tr>\n",
       "\t<tr><th scope=row>5</th><td>R         </td><td>272</td></tr>\n",
       "\t<tr><th scope=row>6</th><td>SQL       </td><td>277</td></tr>\n",
       "\t<tr><th scope=row>7</th><td>Spark     </td><td>285</td></tr>\n",
       "\t<tr><th scope=row>8</th><td>TensorFlow</td><td>280</td></tr>\n",
       "\t<tr><th scope=row>9</th><td>skLearn   </td><td>267</td></tr>\n",
       "</tbody>\n",
       "</table>\n"
      ],
      "text/latex": [
       "A data.frame: 9 × 2\n",
       "\\begin{tabular}{r|ll}\n",
       "  & \\_id & value\\\\\n",
       "  & <chr> & <dbl>\\\\\n",
       "\\hline\n",
       "\t1 & C++        & 274\\\\\n",
       "\t2 & Java       & 267\\\\\n",
       "\t3 & MongoDB    & 274\\\\\n",
       "\t4 & Python     & 273\\\\\n",
       "\t5 & R          & 272\\\\\n",
       "\t6 & SQL        & 277\\\\\n",
       "\t7 & Spark      & 285\\\\\n",
       "\t8 & TensorFlow & 280\\\\\n",
       "\t9 & skLearn    & 267\\\\\n",
       "\\end{tabular}\n"
      ],
      "text/markdown": [
       "\n",
       "A data.frame: 9 × 2\n",
       "\n",
       "| <!--/--> | _id &lt;chr&gt; | value &lt;dbl&gt; |\n",
       "|---|---|---|\n",
       "| 1 | C++        | 274 |\n",
       "| 2 | Java       | 267 |\n",
       "| 3 | MongoDB    | 274 |\n",
       "| 4 | Python     | 273 |\n",
       "| 5 | R          | 272 |\n",
       "| 6 | SQL        | 277 |\n",
       "| 7 | Spark      | 285 |\n",
       "| 8 | TensorFlow | 280 |\n",
       "| 9 | skLearn    | 267 |\n",
       "\n"
      ],
      "text/plain": [
       "  _id        value\n",
       "1 C++        274  \n",
       "2 Java       267  \n",
       "3 MongoDB    274  \n",
       "4 Python     273  \n",
       "5 R          272  \n",
       "6 SQL        277  \n",
       "7 Spark      285  \n",
       "8 TensorFlow 280  \n",
       "9 skLearn    267  "
      ]
     },
     "metadata": {},
     "output_type": "display_data"
    }
   ],
   "source": [
    "\n",
    "mng_conn$mapreduce(map = 'function(){ var skill = this.candidate.skills;\n",
    "for(i in skill){emit(skill[i],1);}}',\n",
    "reduce = 'function(key,vals){var count=0;\n",
    "for(i in vals){count += vals[i];} return count;}')"
   ]
  },
  {
   "cell_type": "markdown",
   "metadata": {},
   "source": [
    "Mongolite Docs: https://cran.r-project.org/web/packages/mongolite/mongolite.pdf\n",
    "\n",
    "https://dsotm-rsa.space/post/2019/04/08/mongodb-via-mongolite-r-aggregations-server-tools-and-gridfs/\n",
    "\n",
    "https://blog.exploratory.io/an-introduction-to-mongodb-query-for-beginners-bd463319aa4c\n",
    "\n",
    "# ◔̯◔"
   ]
  }
 ],
 "metadata": {
  "kernelspec": {
   "display_name": "R",
   "language": "R",
   "name": "ir"
  },
  "language_info": {
   "codemirror_mode": "r",
   "file_extension": ".r",
   "mimetype": "text/x-r-source",
   "name": "R",
   "pygments_lexer": "r",
   "version": "3.4.3"
  }
 },
 "nbformat": 4,
 "nbformat_minor": 4
}
