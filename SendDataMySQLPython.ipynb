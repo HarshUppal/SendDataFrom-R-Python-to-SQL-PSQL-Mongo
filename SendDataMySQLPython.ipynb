{
 "cells": [
  {
   "cell_type": "markdown",
   "metadata": {},
   "source": [
    "# Send Data From Python to MySQL: \n",
    "\n",
    "**<font size=5 color=red>Mr Fugu Data Science</font>**\n",
    "\n",
    "# (◕‿◕✿)\n",
    "\n",
    "[Github](https://github.com/MrFuguDataScience) | [Youtube](https://www.youtube.com/channel/UCbni-TDI-Ub8VlGaP8HLTNw/)\n",
    "\n",
    "`Outcome & Puporse`:\n",
    "\n",
    "+ Connect to MySQL from Python\n",
    "\n",
    "+ Send `.CSV()` to MySQL\n",
    "\n",
    "+ Send `Dataframe` to MySQL\n",
    "\n",
    "+ Send Dump `.CSV( )` from MySQL\n",
    "\n",
    "+ Lastly, show basic useful commands"
   ]
  },
  {
   "cell_type": "code",
   "execution_count": 4,
   "metadata": {},
   "outputs": [],
   "source": [
    "import mysql.connector as mysql # establish connection to mysql \n",
    "\n",
    "from mysql.connector import MySQLConnection # using Class for function call\n",
    "\n",
    "import pandas as pd  # Create Dataframe\n",
    "\n",
    "from python_to_myql_config import read_db_config # calling config files, \n",
    "# that stored user credentials\n",
    "\n",
    "import csv"
   ]
  },
  {
   "cell_type": "markdown",
   "metadata": {},
   "source": [
    "`-----------------------------------`\n",
    "\n",
    "# Alternate Connection: `If you are NOT concerned about credentials`\n",
    "\n",
    "`cnx = mysql.connector.connect(user='bambam', password='password',\n",
    "                              host='127.0.0.1',\n",
    "                              database='cowboy_doodah')\n",
    "cnx.close()`"
   ]
  },
  {
   "cell_type": "markdown",
   "metadata": {},
   "source": [
    "# Starting MySql from command Line:\n",
    "\n",
    "*I have Mac, Not sure about Windows*: `mysql.server start` to stop `replace start`\n",
    "\n",
    "*Shutdown server*: `mysqld`\n",
    "\n",
    "\n",
    "*login as root*: `mysql -uroot -p`\n",
    "\n",
    "\n",
    "*Checking all Users*: ` SELECT User FROM mysql.user;`"
   ]
  },
  {
   "cell_type": "code",
   "execution_count": 5,
   "metadata": {},
   "outputs": [],
   "source": [
    "db_config = read_db_config() # user credentials\n",
    "\n",
    "conn = MySQLConnection(**read_db_config()) # establish connection\n",
    "\n",
    "mycursor = conn.cursor() # cursor, allows us to do queries,send/retrieve data\n"
   ]
  },
  {
   "cell_type": "code",
   "execution_count": 6,
   "metadata": {},
   "outputs": [
    {
     "data": {
      "text/html": [
       "<div>\n",
       "<style scoped>\n",
       "    .dataframe tbody tr th:only-of-type {\n",
       "        vertical-align: middle;\n",
       "    }\n",
       "\n",
       "    .dataframe tbody tr th {\n",
       "        vertical-align: top;\n",
       "    }\n",
       "\n",
       "    .dataframe thead th {\n",
       "        text-align: right;\n",
       "    }\n",
       "</style>\n",
       "<table border=\"1\" class=\"dataframe\">\n",
       "  <thead>\n",
       "    <tr style=\"text-align: right;\">\n",
       "      <th></th>\n",
       "      <th>credit_card</th>\n",
       "      <th>cpu</th>\n",
       "      <th>purchase_date</th>\n",
       "    </tr>\n",
       "  </thead>\n",
       "  <tbody>\n",
       "    <tr>\n",
       "      <th>0</th>\n",
       "      <td>5399-3484-4724-7187</td>\n",
       "      <td>Intel Core i1-7554K</td>\n",
       "      <td>2019-10-31</td>\n",
       "    </tr>\n",
       "    <tr>\n",
       "      <th>1</th>\n",
       "      <td>1630-5261-6108-7631</td>\n",
       "      <td>AMD Ryzen 1 5827X</td>\n",
       "      <td>2017-07-16</td>\n",
       "    </tr>\n",
       "    <tr>\n",
       "      <th>2</th>\n",
       "      <td>4435-3866-1076-3595</td>\n",
       "      <td>Intel Core i5-9457K</td>\n",
       "      <td>2019-03-24</td>\n",
       "    </tr>\n",
       "    <tr>\n",
       "      <th>3</th>\n",
       "      <td>3489-7099-9906-8660</td>\n",
       "      <td>AMD Ryzen 4 3401X</td>\n",
       "      <td>2019-06-15</td>\n",
       "    </tr>\n",
       "    <tr>\n",
       "      <th>4</th>\n",
       "      <td>8631-4500-5666-1510</td>\n",
       "      <td>Intel Core i6-7283K</td>\n",
       "      <td>2019-11-11</td>\n",
       "    </tr>\n",
       "  </tbody>\n",
       "</table>\n",
       "</div>"
      ],
      "text/plain": [
       "           credit_card                  cpu purchase_date\n",
       "0  5399-3484-4724-7187  Intel Core i1-7554K    2019-10-31\n",
       "1  1630-5261-6108-7631    AMD Ryzen 1 5827X    2017-07-16\n",
       "2  4435-3866-1076-3595  Intel Core i5-9457K    2019-03-24\n",
       "3  3489-7099-9906-8660    AMD Ryzen 4 3401X    2019-06-15\n",
       "4  8631-4500-5666-1510  Intel Core i6-7283K    2019-11-11"
      ]
     },
     "execution_count": 6,
     "metadata": {},
     "output_type": "execute_result"
    }
   ],
   "source": [
    "# CPU Purchases data:\n",
    "pd.read_csv('cpu_purchase.csv').head()"
   ]
  },
  {
   "cell_type": "code",
   "execution_count": 7,
   "metadata": {},
   "outputs": [],
   "source": [
    "#Creating table as per requirement\n",
    "\n",
    "\n",
    "sql =\"\"\"\n",
    "CREATE TABLE cpu_purchase(credit_card VARCHAR(255) NOT NULL, cpu VARCHAR(255) NOT NULL,\n",
    "purchase_date DATE)\n",
    "\"\"\"\n",
    "\n",
    "mycursor.execute(sql)"
   ]
  },
  {
   "cell_type": "code",
   "execution_count": 8,
   "metadata": {},
   "outputs": [
    {
     "data": {
      "text/plain": [
       "[('cpu_purchase',),\n",
       " ('user_info',),\n",
       " ('user_o',),\n",
       " ('users_inf',),\n",
       " ('users_info',)]"
      ]
     },
     "execution_count": 8,
     "metadata": {},
     "output_type": "execute_result"
    }
   ],
   "source": [
    "# Show tables in current database:\n",
    "\n",
    "mycursor.execute(\"SHOW TABLES\")\n",
    "mycursor.fetchall()"
   ]
  },
  {
   "cell_type": "code",
   "execution_count": null,
   "metadata": {},
   "outputs": [],
   "source": []
  },
  {
   "cell_type": "code",
   "execution_count": 42,
   "metadata": {},
   "outputs": [
    {
     "data": {
      "text/plain": [
       "[('secure_file_priv', '')]"
      ]
     },
     "execution_count": 42,
     "metadata": {},
     "output_type": "execute_result"
    }
   ],
   "source": [
    "# Turn this on, if you have issues sending data\n",
    "\n",
    "mycursor.execute('SET GLOBAL local_infile=1')\n",
    "\n",
    "# This checks if you have issues with exporting later due to security:\n",
    "mycursor.execute('SHOW VARIABLES LIKE \"secure_file_priv\"')\n",
    "mycursor.fetchall()"
   ]
  },
  {
   "cell_type": "code",
   "execution_count": 24,
   "metadata": {},
   "outputs": [
    {
     "data": {
      "text/plain": [
       "[('local_infile', 'ON')]"
      ]
     },
     "execution_count": 24,
     "metadata": {},
     "output_type": "execute_result"
    }
   ],
   "source": [
    "# Want this ON, so we can transfer data depending on how you setup Import to MySQL\n",
    "mycursor.execute(\"SHOW GLOBAL VARIABLES LIKE 'local_infile'\")\n",
    "mycursor.fetchall()"
   ]
  },
  {
   "cell_type": "markdown",
   "metadata": {},
   "source": [
    "# Send .CSV( )  to MySQL:"
   ]
  },
  {
   "cell_type": "code",
   "execution_count": 12,
   "metadata": {},
   "outputs": [],
   "source": [
    "# import csv\n",
    "\n",
    "with open('cpu_purchase.csv') as c:\n",
    "    reader= csv.reader(c,delimiter=',')\n",
    "    data_list=list(reader)\n",
    "# data_list[1:]\n",
    "\n",
    "mycursor.executemany(\"\"\"\n",
    "INSERT INTO cpu_purchase(credit_card,cpu, purchase_date) VALUES(%s,%s,%s)\n",
    "\"\"\",data_list[1:])"
   ]
  },
  {
   "cell_type": "code",
   "execution_count": 14,
   "metadata": {},
   "outputs": [
    {
     "data": {
      "text/plain": [
       "[('5399-3484-4724-7187', 'Intel Core i1-7554K', datetime.date(2019, 10, 31)),\n",
       " ('1630-5261-6108-7631', 'AMD Ryzen 1 5827X', datetime.date(2017, 7, 16)),\n",
       " ('4435-3866-1076-3595', 'Intel Core i5-9457K', datetime.date(2019, 3, 24)),\n",
       " ('3489-7099-9906-8660', 'AMD Ryzen 4 3401X', datetime.date(2019, 6, 15))]"
      ]
     },
     "execution_count": 14,
     "metadata": {},
     "output_type": "execute_result"
    }
   ],
   "source": [
    "\n",
    "mycursor.execute(\"SELECT count(*) from cpu_purchase \")\n",
    "mycursor.fetchall()\n",
    "\n",
    "\n",
    "mycursor.execute(\"SELECT * from cpu_purchase LIMIT 4\")\n",
    "mycursor.fetchall()"
   ]
  },
  {
   "cell_type": "markdown",
   "metadata": {},
   "source": [
    "# Send Datafrane to MySQL:"
   ]
  },
  {
   "cell_type": "code",
   "execution_count": 16,
   "metadata": {},
   "outputs": [],
   "source": [
    "cpu_sales= pd.read_csv('cpu_purchase.csv')\n",
    "\n",
    "mycursor.executemany(\"\"\"\n",
    "INSERT INTO cpu_purchase(credit_card,cpu, purchase_date) VALUES(%s,%s,%s)\n",
    "\"\"\",list(cpu_sales.values))\n"
   ]
  },
  {
   "cell_type": "code",
   "execution_count": 17,
   "metadata": {},
   "outputs": [
    {
     "data": {
      "text/plain": [
       "11652"
      ]
     },
     "execution_count": 17,
     "metadata": {},
     "output_type": "execute_result"
    }
   ],
   "source": [
    "mycursor.execute('select * from cpu_purchase ')\n",
    "len(mycursor.fetchall())"
   ]
  },
  {
   "cell_type": "markdown",
   "metadata": {},
   "source": [
    "# Export File from MySQL as .CSV()\n",
    "\n",
    "+ There will be an error that will occur when you try to send this file.\n",
    "\n",
    "Since, there is a `--secure-file-priv` error that will show up. This is because mysql setup it up this way. You need to do a work around.\n",
    "\n"
   ]
  },
  {
   "cell_type": "code",
   "execution_count": 32,
   "metadata": {},
   "outputs": [
    {
     "data": {
      "text/plain": [
       "[('secure_file_priv', '')]"
      ]
     },
     "execution_count": 32,
     "metadata": {},
     "output_type": "execute_result"
    }
   ],
   "source": [
    "'''\n",
    "Run this command to see what is going on with secure-file-priv\n",
    "\n",
    "If the printout says NULL, then you need to create a file to bypass this\n",
    "\n",
    "Otherwise it is an empty string.\n",
    "'''\n",
    "\n",
    "\n",
    "mycursor.execute('SHOW VARIABLES LIKE \"secure_file_priv\"')\n",
    "mycursor.fetchall()"
   ]
  },
  {
   "cell_type": "markdown",
   "metadata": {},
   "source": [
    "**Create this file in the terminal it will be very short and sweet**:\n",
    "If using VIM: otherwise use your editor of choice and see if it works\n",
    "\n",
    "`vi ~/.my.cnf`\n",
    "\n",
    "Then do: \n",
    "\n",
    "\n",
    "`[mysqld]`\n",
    "\n",
    "`secure_file_priv               = ''`\n",
    "\n",
    "\n",
    "\n",
    "save this file by doing \n",
    "\n",
    "`esc`\n",
    "\n",
    "then\n",
    "\n",
    "`:wq`\n",
    "\n",
    "\n",
    "*check out the link in the citations for this!*"
   ]
  },
  {
   "cell_type": "code",
   "execution_count": null,
   "metadata": {},
   "outputs": [],
   "source": [
    "# mycursor.execute(\"SHOW PROCESSLIST\")\n",
    "# mycursor.fetchall()"
   ]
  },
  {
   "cell_type": "code",
   "execution_count": 18,
   "metadata": {},
   "outputs": [],
   "source": [
    "# OutFILE:\n",
    "\n",
    "outfile=\"\"\"\n",
    "SELECT * FROM cpu_purchase INTO OUTFILE '~/Desktop/mysql_python/cpu_outfile_sales.csv'\n",
    "\"\"\"\n",
    "\n",
    "mycursor.execute(outfile)"
   ]
  },
  {
   "cell_type": "code",
   "execution_count": 19,
   "metadata": {},
   "outputs": [
    {
     "data": {
      "text/plain": [
       "[('5399-3484-4724-7187', 'Intel Core i1-7554K', datetime.date(2019, 10, 31)),\n",
       " ('1630-5261-6108-7631', 'AMD Ryzen 1 5827X', datetime.date(2017, 7, 16)),\n",
       " ('4435-3866-1076-3595', 'Intel Core i5-9457K', datetime.date(2019, 3, 24)),\n",
       " ('3489-7099-9906-8660', 'AMD Ryzen 4 3401X', datetime.date(2019, 6, 15)),\n",
       " ('8631-4500-5666-1510', 'Intel Core i6-7283K', datetime.date(2019, 11, 11))]"
      ]
     },
     "execution_count": 19,
     "metadata": {},
     "output_type": "execute_result"
    }
   ],
   "source": [
    "# Check if data is still there!\n",
    "mycursor.execute('select * from cpu_purchase limit 5')\n",
    "mycursor.fetchall()"
   ]
  },
  {
   "cell_type": "markdown",
   "metadata": {},
   "source": [
    "# Basic Useful Commands:"
   ]
  },
  {
   "cell_type": "code",
   "execution_count": 20,
   "metadata": {},
   "outputs": [
    {
     "data": {
      "text/plain": [
       "[('MrFugu',),\n",
       " ('mysql.infoschema',),\n",
       " ('mysql.session',),\n",
       " ('mysql.sys',),\n",
       " ('root',)]"
      ]
     },
     "execution_count": 20,
     "metadata": {},
     "output_type": "execute_result"
    }
   ],
   "source": [
    "# Find all Users:\n",
    "mycursor.execute(\"SELECT User FROM mysql.user\")\n",
    "mycursor.fetchall()"
   ]
  },
  {
   "cell_type": "code",
   "execution_count": 29,
   "metadata": {},
   "outputs": [
    {
     "data": {
      "text/plain": [
       "[('information_schema',),\n",
       " ('mysql',),\n",
       " ('performance_schema',),\n",
       " ('project_practice',),\n",
       " ('sys',)]"
      ]
     },
     "execution_count": 29,
     "metadata": {},
     "output_type": "execute_result"
    }
   ],
   "source": [
    "# Show Databases:\n",
    "mycursor.execute(\"SHOW databases\")\n",
    "mycursor.fetchall()"
   ]
  },
  {
   "cell_type": "code",
   "execution_count": 30,
   "metadata": {},
   "outputs": [
    {
     "data": {
      "text/plain": [
       "[('project_practice',)]"
      ]
     },
     "execution_count": 30,
     "metadata": {},
     "output_type": "execute_result"
    }
   ],
   "source": [
    "# show what database we are currently using:\n",
    "mycursor.execute(\"SELECT DATABASE()\")\n",
    "mycursor.fetchall()"
   ]
  },
  {
   "cell_type": "code",
   "execution_count": 31,
   "metadata": {},
   "outputs": [
    {
     "data": {
      "text/plain": [
       "[('cpu_purchase',),\n",
       " ('user_info',),\n",
       " ('user_o',),\n",
       " ('users_inf',),\n",
       " ('users_info',)]"
      ]
     },
     "execution_count": 31,
     "metadata": {},
     "output_type": "execute_result"
    }
   ],
   "source": [
    "# Show tables in current database:\n",
    "mycursor.execute(\"SHOW TABLES\")\n",
    "mycursor.fetchall()"
   ]
  },
  {
   "cell_type": "markdown",
   "metadata": {},
   "source": [
    "# Citations and Help:\n",
    "\n",
    "# ◔̯◔\n",
    "\n",
    "https://dev.mysql.com/doc/mysql-shell/8.0/en/mysql-shell-commands.html (mysql shell commands)\n",
    "\n",
    "https://www.mysqltutorial.org/import-csv-file-mysql-table/\n",
    "\n",
    "https://medium.com/@AviGoom/how-to-import-a-csv-file-into-a-mysql-database-ef8860878a68\n",
    "\n",
    "https://dev.mysql.com/doc/connector-python/en/connector-python-example-ddl.html\n",
    "\n",
    "https://www.real-world-systems.com/docs/date.1.html\n",
    "\n",
    "https://michaelrigart.be/export-directly-mysql-csv/\n",
    "\n",
    "https://medium.com/@andrewpongco/solving-the-mysql-server-is-running-with-the-secure-file-priv-option-so-it-cannot-execute-this-d319de864285 (FIX the problem exporting in MySQL)"
   ]
  }
 ],
 "metadata": {
  "kernelspec": {
   "display_name": "Python 3",
   "language": "python",
   "name": "python3"
  },
  "language_info": {
   "codemirror_mode": {
    "name": "ipython",
    "version": 3
   },
   "file_extension": ".py",
   "mimetype": "text/x-python",
   "name": "python",
   "nbconvert_exporter": "python",
   "pygments_lexer": "ipython3",
   "version": "3.7.3"
  }
 },
 "nbformat": 4,
 "nbformat_minor": 4
}
