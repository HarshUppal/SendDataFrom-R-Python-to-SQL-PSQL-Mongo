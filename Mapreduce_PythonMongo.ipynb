{
 "cells": [
  {
   "cell_type": "markdown",
   "metadata": {},
   "source": [
    "# `Map-Reduce Again: Python to MongoDB`\n",
    "\n",
    "**<font color=red>Mr Fugu Data Science</font>**\n",
    "\n",
    "\n",
    "# (◕‿◕✿)\n",
    "\n",
    "[Github](https://github.com/MrFuguDataScience) | [Youtube](https://www.youtube.com/channel/UCbni-TDI-Ub8VlGaP8HLTNw?view_as=subscriber)\n",
    "\n",
    "`------------------`\n",
    "\n",
    "`Purpose & Outcome`:\n",
    "\n",
    "+ Create a connection to MongoDB from Python\n",
    "\n",
    "+ Do a basic examples of Map-Reduce example\n",
    "    + Show same example with a query attached\n",
    "+ export csv/json from MongoDB\n",
    "\n",
    "\n",
    "`----------------------------------`"
   ]
  },
  {
   "cell_type": "markdown",
   "metadata": {},
   "source": [
    "# General Idea:\n",
    "\n",
    "1.) Map : takes local data, relative to that node, writes to a temp file. A master node then makes a sure only a single copy of the data is stored.\n",
    "\n",
    "2.) Shuffle : redistribute the data, where the same data will be with same node.\n",
    "\n",
    "3.) Reduce : procecess data by key, in parallel.\n",
    "\n",
    "4.) There can be a `finalize` step: this can be used to modify output after the reduce step"
   ]
  },
  {
   "cell_type": "markdown",
   "metadata": {},
   "source": [
    "# When to use Map-Reduce?\n",
    "+ If you have large datasetsthat that do not fit into main memory of one machine, that is a good time.\n",
    "+ Graph analysis\n",
    "+ Classification, Inverted Index, Machine Learning, document clustering are some of the use cases.\n",
    "\n",
    "[Mongo Doc](https://docs.mongodb.com/manual/reference/method/db.collection.mapReduce/)"
   ]
  },
  {
   "cell_type": "markdown",
   "metadata": {},
   "source": [
    "# Install Pymongo:\n",
    "\n",
    "`\n",
    "conda install -c anaconda pymongo` | `pip install pymongo` | `pip3 install pymongo`\n",
    "\n",
    "\n",
    "[anaconda](https://anaconda.org/anaconda/pymongo) | [offical doc install](https://pypi.org/project/pymongo/)"
   ]
  },
  {
   "cell_type": "code",
   "execution_count": 110,
   "metadata": {},
   "outputs": [],
   "source": [
    "import pymongo as pym      # Interface with Python <--> MongoDB \n",
    "import pandas as pd        # Create Dataframe\n",
    "import os                  # find files on system\n",
    "import csv                 # to dump as a csv file       \n",
    "import json                # convert file to json format\n",
    "from bson.code import Code  # helps with map-reduce\n",
    "\n",
    "import pandas as pd"
   ]
  },
  {
   "cell_type": "code",
   "execution_count": 6,
   "metadata": {},
   "outputs": [],
   "source": [
    "# Making a Connection to MongoClient\n",
    "client = pym.MongoClient('mongodb://localhost:27017/')\n",
    "\n",
    "# DATABASE connection:\n",
    "db = client[\"berkeley\"]\n",
    "\n",
    "# CREATING A COLLECTION (*AKA* TABLE):\n",
    "recruiter_candidates= db[\"recruiter_clients\"]"
   ]
  },
  {
   "cell_type": "markdown",
   "metadata": {},
   "source": [
    "# What Our Data Looks Like:\n",
    "\n",
    "`db.recruiter_clients.findOne()\n",
    "{\n",
    "\t\"_id\" : ObjectId(\"5eb5cc5b47c72ccce7539c1b\"),\n",
    "\t\"candidate\" : {\n",
    "\t\t\"first_name\" : \"Margaret\",\n",
    "\t\t\"last_name\" : \"Mcdonald\",\n",
    "\t\t\"skills\" : [\n",
    "\t\t\t\"skLearn\",\n",
    "\t\t\t\"Java\",\n",
    "\t\t\t\"R\",\n",
    "\t\t\t\"SQL\",\n",
    "\t\t\t\"Spark\",\n",
    "\t\t\t\"C++\"\n",
    "\t\t],\n",
    "\t\t\"state\" : \"AL\",\n",
    "\t\t\"specialty\" : \"Database\",\n",
    "\t\t\"experience\" : \"Junior\",\n",
    "\t\t\"relocation\" : \"no\"\n",
    "\t}\n",
    "}`"
   ]
  },
  {
   "cell_type": "markdown",
   "metadata": {},
   "source": [
    "# Map-Reduce basic example:\n",
    "\n",
    "+ Two ways of output:\n",
    "\n",
    "1.) Iterate through variable name\n",
    "\n",
    "2.) Call the Output file stored as a new collection ('ppl_skillCount')"
   ]
  },
  {
   "cell_type": "code",
   "execution_count": 396,
   "metadata": {},
   "outputs": [
    {
     "data": {
      "text/plain": [
       "[{'_id': {'name': 'Aaron Ferguson', 'skill': ['TensorFlow', 'SQL', 'MongoDB']},\n",
       "  'value': 3.0},\n",
       " {'_id': {'name': 'Aaron Williams',\n",
       "   'skill': ['MongoDB', 'TensorFlow', 'Python']},\n",
       "  'value': 3.0},\n",
       " {'_id': {'name': 'Adam Anderson', 'skill': ['R']}, 'value': 1.0},\n",
       " {'_id': {'name': 'Adam Middleton',\n",
       "   'skill': ['SQL', 'Python', 'MongoDB', 'Java', 'skLearn']},\n",
       "  'value': 5.0},\n",
       " {'_id': {'name': 'Adrian Solis',\n",
       "   'skill': ['skLearn', 'MongoDB', 'C++', 'TensorFlow']},\n",
       "  'value': 4.0}]"
      ]
     },
     "execution_count": 396,
     "metadata": {},
     "output_type": "execute_result"
    }
   ],
   "source": [
    "# Map Function:\n",
    "mapFunc = Code(\"function(){ var skill =\\\n",
    "this.candidate.skills;for(i in skill){emit({name:this.candidate.first_name+' '\\\n",
    "+this.candidate.last_name,skill,skill:this.candidate.skills},\\\n",
    "1);}}\")\n",
    "\n",
    "\n",
    "# Reduce:\n",
    "redFunc = Code(\"function(keyName,valSkillCount){return Array.sum(valSkillCount);}\")\n",
    "\n",
    "\n",
    "# Bringing it all together, creating an output file: 'ppl_skillCount'\n",
    "map_red=recruiter_candidates.map_reduce(mapFunc,redFunc,'ppl_skillCount')\n",
    "\n",
    "# Printing it all out as dictionary format stored in a list:\n",
    "ppl_skills=[]\n",
    "for skills in map_red.find():\n",
    "    ppl_skills.append(skills)\n",
    "ppl_skills[:5]    \n",
    "\n"
   ]
  },
  {
   "cell_type": "code",
   "execution_count": 397,
   "metadata": {},
   "outputs": [
    {
     "data": {
      "text/plain": [
       "[{'_id': {'name': 'Aaron Ferguson', 'skill': ['TensorFlow', 'SQL', 'MongoDB']},\n",
       "  'value': 3.0},\n",
       " {'_id': {'name': 'Aaron Williams',\n",
       "   'skill': ['MongoDB', 'TensorFlow', 'Python']},\n",
       "  'value': 3.0},\n",
       " {'_id': {'name': 'Adam Anderson', 'skill': ['R']}, 'value': 1.0},\n",
       " {'_id': {'name': 'Adam Middleton',\n",
       "   'skill': ['SQL', 'Python', 'MongoDB', 'Java', 'skLearn']},\n",
       "  'value': 5.0}]"
      ]
     },
     "execution_count": 397,
     "metadata": {},
     "output_type": "execute_result"
    }
   ],
   "source": [
    "# Alternate Way: Calling the Output file\n",
    "mydoc=db.ppl_skillCount.find({})\n",
    "\n",
    "ppl_=[]\n",
    "for x in mydoc:\n",
    "    ppl_.append(x)\n",
    "ppl_[:4]"
   ]
  },
  {
   "cell_type": "code",
   "execution_count": 399,
   "metadata": {},
   "outputs": [
    {
     "data": {
      "text/html": [
       "<div>\n",
       "<style scoped>\n",
       "    .dataframe tbody tr th:only-of-type {\n",
       "        vertical-align: middle;\n",
       "    }\n",
       "\n",
       "    .dataframe tbody tr th {\n",
       "        vertical-align: top;\n",
       "    }\n",
       "\n",
       "    .dataframe thead th {\n",
       "        text-align: right;\n",
       "    }\n",
       "</style>\n",
       "<table border=\"1\" class=\"dataframe\">\n",
       "  <thead>\n",
       "    <tr style=\"text-align: right;\">\n",
       "      <th></th>\n",
       "      <th>name</th>\n",
       "      <th>skill</th>\n",
       "      <th>skill_count</th>\n",
       "    </tr>\n",
       "  </thead>\n",
       "  <tbody>\n",
       "    <tr>\n",
       "      <th>0</th>\n",
       "      <td>Aaron Ferguson</td>\n",
       "      <td>[TensorFlow, SQL, MongoDB]</td>\n",
       "      <td>3.0</td>\n",
       "    </tr>\n",
       "    <tr>\n",
       "      <th>1</th>\n",
       "      <td>Aaron Williams</td>\n",
       "      <td>[MongoDB, TensorFlow, Python]</td>\n",
       "      <td>3.0</td>\n",
       "    </tr>\n",
       "    <tr>\n",
       "      <th>2</th>\n",
       "      <td>Adam Anderson</td>\n",
       "      <td>[R]</td>\n",
       "      <td>1.0</td>\n",
       "    </tr>\n",
       "    <tr>\n",
       "      <th>3</th>\n",
       "      <td>Adam Middleton</td>\n",
       "      <td>[SQL, Python, MongoDB, Java, skLearn]</td>\n",
       "      <td>5.0</td>\n",
       "    </tr>\n",
       "    <tr>\n",
       "      <th>4</th>\n",
       "      <td>Adrian Solis</td>\n",
       "      <td>[skLearn, MongoDB, C++, TensorFlow]</td>\n",
       "      <td>4.0</td>\n",
       "    </tr>\n",
       "  </tbody>\n",
       "</table>\n",
       "</div>"
      ],
      "text/plain": [
       "             name                                  skill  skill_count\n",
       "0  Aaron Ferguson             [TensorFlow, SQL, MongoDB]          3.0\n",
       "1  Aaron Williams          [MongoDB, TensorFlow, Python]          3.0\n",
       "2   Adam Anderson                                    [R]          1.0\n",
       "3  Adam Middleton  [SQL, Python, MongoDB, Java, skLearn]          5.0\n",
       "4    Adrian Solis    [skLearn, MongoDB, C++, TensorFlow]          4.0"
      ]
     },
     "execution_count": 399,
     "metadata": {},
     "output_type": "execute_result"
    }
   ],
   "source": [
    "# Store the Output as a Dataframe:\n",
    "\n",
    "row =[]\n",
    "ro=[]\n",
    "for data in ppl_skills: \n",
    "    name_skills = data['_id'] \n",
    "    skill_count = data['value'] \n",
    "    ro.append(skill_count)  \n",
    "    row.append(name_skills)\n",
    "    \n",
    "ppl_skills_count=pd.DataFrame(row)\n",
    "ppl_skills_count['skill_count']=ro\n",
    "ppl_skills_count.head()"
   ]
  },
  {
   "cell_type": "markdown",
   "metadata": {},
   "source": [
    "# Map-Reduce with `Query`:\n",
    "\n",
    "+ Arbitrary Query: find people with less than or equal to 2 skills. "
   ]
  },
  {
   "cell_type": "code",
   "execution_count": 331,
   "metadata": {},
   "outputs": [
    {
     "data": {
      "text/plain": [
       "[{'_id': {'name': 'Adam Anderson', 'skill': ['R']}, 'value': 1.0},\n",
       " {'_id': {'name': 'Alexandra Glover', 'skill': ['Spark', 'TensorFlow']},\n",
       "  'value': 2.0},\n",
       " {'_id': {'name': 'Alexis Stewart', 'skill': ['Java']}, 'value': 1.0},\n",
       " {'_id': {'name': 'Amy Campbell', 'skill': ['C++']}, 'value': 1.0},\n",
       " {'_id': {'name': 'Amy Crawford', 'skill': ['C++']}, 'value': 1.0}]"
      ]
     },
     "execution_count": 331,
     "metadata": {},
     "output_type": "execute_result"
    }
   ],
   "source": [
    "\n",
    "# Map Function:\n",
    "mapFunc = Code(\"function(){ var skill =\\\n",
    "this.candidate.skills;for(i in skill){emit({name:this.candidate.first_name+' '\\\n",
    "+this.candidate.last_name,skill,skill:this.candidate.skills},\\\n",
    "1);}}\")\n",
    "\n",
    "\n",
    "# Reduce:\n",
    "redFunc = Code(\"function(keyName,valSkillCount){return Array.sum(valSkillCount);}\")\n",
    "\n",
    "\n",
    "# Bringing it all together, creating an output file: 'ppl_skillCount'\n",
    "map_red=recruiter_candidates.map_reduce(mapFunc,redFunc,'ppl_skillCount',\\\n",
    "query={'$expr':{'$lte':[{'$size':\"$candidate.skills\"}, 2]}})\n",
    "\n",
    "# Printing it all out as dictionary format stored in a list:\n",
    "ppl_skills=[]\n",
    "for skills in map_red.find():\n",
    "    ppl_skills.append(skills)\n",
    "ppl_skills[:5]    \n"
   ]
  },
  {
   "cell_type": "markdown",
   "metadata": {},
   "source": [
    "# Save Query as CSV:  (NON-NESTED FORM)\n",
    "+ **<font color=red>pay attention</font>**"
   ]
  },
  {
   "cell_type": "code",
   "execution_count": 367,
   "metadata": {},
   "outputs": [],
   "source": [
    "abbrev_ppl=list(recruiter_candidates.find({},{'_id':0,'candidate.first_name':1,\\\n",
    "'candidate.last_name':1,'candidate.skills':1,'candidate.state':1}))\n",
    "\n",
    "abbrev_ppl[:2]\n",
    "\n",
    "# import csv\n",
    "\n",
    "fields = ['first_name', 'last_name', 'skills','state']\n",
    "with open('candidate_ppl.csv','w') as outfile:\n",
    "    write=csv.DictWriter(outfile, fieldnames=fields)\n",
    "    write.writeheader()\n",
    "    for x in abbrev_ppl:\n",
    "#         print(x)\n",
    "        for y, v in x.items():\n",
    "#             print(v)\n",
    "            if y == 'candidate':\n",
    "#                 print (y, v)\n",
    "                write.writerow(v)\n",
    "\n",
    "\n",
    "#                 write.writerow(x)\n"
   ]
  },
  {
   "cell_type": "code",
   "execution_count": 385,
   "metadata": {},
   "outputs": [
    {
     "data": {
      "text/html": [
       "<div>\n",
       "<style scoped>\n",
       "    .dataframe tbody tr th:only-of-type {\n",
       "        vertical-align: middle;\n",
       "    }\n",
       "\n",
       "    .dataframe tbody tr th {\n",
       "        vertical-align: top;\n",
       "    }\n",
       "\n",
       "    .dataframe thead th {\n",
       "        text-align: right;\n",
       "    }\n",
       "</style>\n",
       "<table border=\"1\" class=\"dataframe\">\n",
       "  <thead>\n",
       "    <tr style=\"text-align: right;\">\n",
       "      <th></th>\n",
       "      <th>first_name</th>\n",
       "      <th>last_name</th>\n",
       "      <th>skills</th>\n",
       "      <th>state</th>\n",
       "    </tr>\n",
       "  </thead>\n",
       "  <tbody>\n",
       "    <tr>\n",
       "      <th>0</th>\n",
       "      <td>Margaret</td>\n",
       "      <td>Mcdonald</td>\n",
       "      <td>['skLearn', 'Java', 'R', 'SQL', 'Spark', 'C++']</td>\n",
       "      <td>AL</td>\n",
       "    </tr>\n",
       "    <tr>\n",
       "      <th>1</th>\n",
       "      <td>Michael</td>\n",
       "      <td>Carter</td>\n",
       "      <td>['TensorFlow', 'R', 'Spark', 'MongoDB', 'C++',...</td>\n",
       "      <td>AR</td>\n",
       "    </tr>\n",
       "    <tr>\n",
       "      <th>2</th>\n",
       "      <td>Brenda</td>\n",
       "      <td>Tyler</td>\n",
       "      <td>['Spark']</td>\n",
       "      <td>UT</td>\n",
       "    </tr>\n",
       "    <tr>\n",
       "      <th>3</th>\n",
       "      <td>Joseph</td>\n",
       "      <td>King</td>\n",
       "      <td>['skLearn', 'SQL', 'R', 'Spark', 'Java', 'C++'...</td>\n",
       "      <td>FL</td>\n",
       "    </tr>\n",
       "    <tr>\n",
       "      <th>4</th>\n",
       "      <td>Laura</td>\n",
       "      <td>Webb</td>\n",
       "      <td>['TensorFlow', 'C++', 'SQL', 'Java', 'R', 'Mon...</td>\n",
       "      <td>WY</td>\n",
       "    </tr>\n",
       "    <tr>\n",
       "      <th>5</th>\n",
       "      <td>Cheryl</td>\n",
       "      <td>Ramirez</td>\n",
       "      <td>['C++', 'Python', 'R', 'Java', 'skLearn', 'SQL...</td>\n",
       "      <td>OK</td>\n",
       "    </tr>\n",
       "    <tr>\n",
       "      <th>6</th>\n",
       "      <td>Charles</td>\n",
       "      <td>Stewart</td>\n",
       "      <td>['MongoDB', 'C++', 'Java', 'SQL', 'R', 'Python...</td>\n",
       "      <td>NM</td>\n",
       "    </tr>\n",
       "  </tbody>\n",
       "</table>\n",
       "</div>"
      ],
      "text/plain": [
       "  first_name last_name                                             skills  \\\n",
       "0   Margaret  Mcdonald    ['skLearn', 'Java', 'R', 'SQL', 'Spark', 'C++']   \n",
       "1    Michael    Carter  ['TensorFlow', 'R', 'Spark', 'MongoDB', 'C++',...   \n",
       "2     Brenda     Tyler                                          ['Spark']   \n",
       "3     Joseph      King  ['skLearn', 'SQL', 'R', 'Spark', 'Java', 'C++'...   \n",
       "4      Laura      Webb  ['TensorFlow', 'C++', 'SQL', 'Java', 'R', 'Mon...   \n",
       "5     Cheryl   Ramirez  ['C++', 'Python', 'R', 'Java', 'skLearn', 'SQL...   \n",
       "6    Charles   Stewart  ['MongoDB', 'C++', 'Java', 'SQL', 'R', 'Python...   \n",
       "\n",
       "  state  \n",
       "0    AL  \n",
       "1    AR  \n",
       "2    UT  \n",
       "3    FL  \n",
       "4    WY  \n",
       "5    OK  \n",
       "6    NM  "
      ]
     },
     "execution_count": 385,
     "metadata": {},
     "output_type": "execute_result"
    }
   ],
   "source": [
    "\n",
    "pd.read_csv('candidate_ppl.csv').head(7)"
   ]
  },
  {
   "cell_type": "markdown",
   "metadata": {},
   "source": [
    "# Retain Original Format: Nested JSON"
   ]
  },
  {
   "cell_type": "code",
   "execution_count": 381,
   "metadata": {},
   "outputs": [],
   "source": [
    "abbrev_ppl=list(recruiter_candidates.find({},{'_id':0,'candidate.first_name':1,\\\n",
    "'candidate.last_name':1,'candidate.skills':1,'candidate.state':1}))\n",
    "\n",
    "\n",
    "# import json\n",
    "\n",
    "with open('candidate_abbrev.json', 'w') as fp:\n",
    "    json.dump(abbrev_ppl, fp)\n",
    "\n"
   ]
  },
  {
   "cell_type": "markdown",
   "metadata": {},
   "source": [
    "# `Citations & Help`:\n",
    "    \n",
    "# ◔̯◔\n",
    "\n",
    "https://appdividend.com/2018/10/26/mongodb-mapreduce-example-tutorial/\n",
    "\n",
    "https://api.mongodb.com/python/current/examples/aggregation.html#map-reduce\n",
    "\n",
    "https://stackoverflow.com/questions/7811163/query-for-documents-where-array-size-is-greater-than-1\n",
    "\n",
    "\n",
    "https://stackoverflow.com/questions/40245873/export-data-to-csv-from-mongodb-by-using-python\n",
    "\n",
    "https://datashoptalk.com/mapreduce-in-mongodb/\n",
    "\n",
    "https://runnable.com/blog/pipelines-vs-map-reduce-to-speed-up-data-aggregation-in-mongodb"
   ]
  }
 ],
 "metadata": {
  "kernelspec": {
   "display_name": "Python 3",
   "language": "python",
   "name": "python3"
  },
  "language_info": {
   "codemirror_mode": {
    "name": "ipython",
    "version": 3
   },
   "file_extension": ".py",
   "mimetype": "text/x-python",
   "name": "python",
   "nbconvert_exporter": "python",
   "pygments_lexer": "ipython3",
   "version": "3.7.3"
  }
 },
 "nbformat": 4,
 "nbformat_minor": 4
}
