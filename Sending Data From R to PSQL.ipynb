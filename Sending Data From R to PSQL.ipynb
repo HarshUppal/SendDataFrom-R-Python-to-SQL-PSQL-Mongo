{
 "cells": [
  {
   "cell_type": "markdown",
   "metadata": {},
   "source": [
    "# HOW TO TUTORIAL: Send Data From `R` to `PostgreSQL` \n",
    "\n",
    "`with Mr Fugu Data Science`\n",
    "\n",
    "# *(◕‿◕✿)*    \n",
    "\n",
    "[Github](https://github.com/MrFuguDataScience) | [Youtube](https://www.youtube.com/channel/UCbni-TDI-Ub8VlGaP8HLTNw?view_as=subscriber)\n",
    "\n",
    "`_____________________________________`\n",
    "\n",
    "\n",
    "# Purpose & Outcome:     \n",
    "    \n",
    "\n",
    "    1.) Send Dataframe --> PostgreSQL\n",
    "\n",
    "    2.) Send .CSV() --> PostgreSQL\n",
    "\n",
    "\n",
    "*then*\n",
    "+ we will Query PostgreSQL \n",
    "    + export data from PostgreSQL into R\n",
    "    \n",
    "    \n",
    " We will emplement a `DSN Credential` to mask our `USER` inputs such as *Password, User_Name, etc*: there will be many ways of doing this I will show a few variations. This file will be written in `YAML` formatting. \n",
    "    \n",
    "`_________________________`\n",
    "\n",
    "\n",
    "[RpostgreSQL](https://cran.r-project.org/web/packages/RPostgreSQL/RPostgreSQL.pdf) | [DSN setup](https://db.rstudio.com/best-practices/portable-code/)"
   ]
  },
  {
   "cell_type": "code",
   "execution_count": null,
   "metadata": {},
   "outputs": [],
   "source": [
    "# install.packages(\"randomNames\")  # install if you don't already have\n",
    "# install.packages(\"config\")"
   ]
  },
  {
   "cell_type": "code",
   "execution_count": 1,
   "metadata": {},
   "outputs": [
    {
     "name": "stderr",
     "output_type": "stream",
     "text": [
      "Warning message:\n",
      "“package ‘config’ was built under R version 3.4.4”\n",
      "\n",
      "Attaching package: ‘config’\n",
      "\n",
      "\n",
      "The following objects are masked from ‘package:base’:\n",
      "\n",
      "    get, merge\n",
      "\n",
      "\n",
      "Warning message:\n",
      "“package ‘randomNames’ was built under R version 3.4.4”\n",
      "Loading required package: DBI\n",
      "\n",
      "── \u001b[1mAttaching packages\u001b[22m ─────────────────────────────────────── tidyverse 1.3.0 ──\n",
      "\n",
      "\u001b[32m✔\u001b[39m \u001b[34mggplot2\u001b[39m 3.3.0     \u001b[32m✔\u001b[39m \u001b[34mpurrr  \u001b[39m 0.3.3\n",
      "\u001b[32m✔\u001b[39m \u001b[34mtibble \u001b[39m 3.0.0     \u001b[32m✔\u001b[39m \u001b[34mdplyr  \u001b[39m 0.8.5\n",
      "\u001b[32m✔\u001b[39m \u001b[34mtidyr  \u001b[39m 1.0.2     \u001b[32m✔\u001b[39m \u001b[34mstringr\u001b[39m 1.4.0\n",
      "\u001b[32m✔\u001b[39m \u001b[34mreadr  \u001b[39m 1.3.1     \u001b[32m✔\u001b[39m \u001b[34mforcats\u001b[39m 0.5.0\n",
      "\n",
      "Warning message:\n",
      "“package ‘readr’ was built under R version 3.4.4”\n",
      "Warning message:\n",
      "“package ‘stringr’ was built under R version 3.4.4”\n",
      "── \u001b[1mConflicts\u001b[22m ────────────────────────────────────────── tidyverse_conflicts() ──\n",
      "\u001b[31m✖\u001b[39m \u001b[34mdplyr\u001b[39m::\u001b[32mfilter()\u001b[39m masks \u001b[34mstats\u001b[39m::filter()\n",
      "\u001b[31m✖\u001b[39m \u001b[34mdplyr\u001b[39m::\u001b[32mlag()\u001b[39m    masks \u001b[34mstats\u001b[39m::lag()\n",
      "\n"
     ]
    }
   ],
   "source": [
    "library(config)      # Access external files defining our credentials\n",
    "\n",
    "library(randomNames) # Random name generation\n",
    "library(generator)   # Fake personal information\n",
    "\n",
    "library(RPostgreSQL) # Run psql instance\n",
    "library(DBI)\n",
    "\n",
    "# library(generator)   # Fake personal information\n",
    "library(knitr)       # Help run code\n",
    "library(markdown)    # Create markdown files i.e. pdf\n",
    "# library(DBI)\n",
    "library(tidyverse)   # If you parse files\n",
    "library(dplyr)\n",
    "#library(rPython)#"
   ]
  },
  {
   "cell_type": "markdown",
   "metadata": {},
   "source": [
    "# From randomNames():\n",
    "\n",
    "\n",
    "| Race                                  \t| Gender     \t|\n",
    "|---------------------------------------\t|------------\t|\n",
    "| 1 = American Indian or Native Alaskan \t| 1 = Female \t|\n",
    "| 2 = Asian or Pacific Islander         \t| 0 = Male   \t|\n",
    "| 3 = Black (not Hispanic)              \t|            \t|\n",
    "| 4 = Hispanic                          \t|            \t|\n",
    "| 5 = White (not Hispanic)              \t|            \t|\n",
    "| 6 = Middle-Eastern, Arabic            \t|            \t|"
   ]
  },
  {
   "cell_type": "code",
   "execution_count": 2,
   "metadata": {},
   "outputs": [
    {
     "data": {
      "text/html": [
       "<table>\n",
       "<caption>A data.frame: 6 × 4</caption>\n",
       "<thead>\n",
       "\t<tr><th></th><th scope=col>V1</th><th scope=col>V2</th><th scope=col>V3</th><th scope=col>V4</th></tr>\n",
       "\t<tr><th></th><th scope=col>&lt;fct&gt;</th><th scope=col>&lt;fct&gt;</th><th scope=col>&lt;fct&gt;</th><th scope=col>&lt;fct&gt;</th></tr>\n",
       "</thead>\n",
       "<tbody>\n",
       "\t<tr><th scope=row>1</th><td>1</td><td>5</td><td>Breanna</td><td>Archambault</td></tr>\n",
       "\t<tr><th scope=row>2</th><td>1</td><td>2</td><td>Emily  </td><td>Sauve      </td></tr>\n",
       "\t<tr><th scope=row>3</th><td>1</td><td>4</td><td>Jocelyn</td><td>Valencia   </td></tr>\n",
       "\t<tr><th scope=row>4</th><td>1</td><td>3</td><td>Helena </td><td>Revello    </td></tr>\n",
       "\t<tr><th scope=row>5</th><td>0</td><td>5</td><td>Maxx   </td><td>Mangels    </td></tr>\n",
       "\t<tr><th scope=row>6</th><td>1</td><td>6</td><td>Saamyya</td><td>Mcbride    </td></tr>\n",
       "</tbody>\n",
       "</table>\n"
      ],
      "text/latex": [
       "A data.frame: 6 × 4\n",
       "\\begin{tabular}{r|llll}\n",
       "  & V1 & V2 & V3 & V4\\\\\n",
       "  & <fct> & <fct> & <fct> & <fct>\\\\\n",
       "\\hline\n",
       "\t1 & 1 & 5 & Breanna & Archambault\\\\\n",
       "\t2 & 1 & 2 & Emily   & Sauve      \\\\\n",
       "\t3 & 1 & 4 & Jocelyn & Valencia   \\\\\n",
       "\t4 & 1 & 3 & Helena  & Revello    \\\\\n",
       "\t5 & 0 & 5 & Maxx    & Mangels    \\\\\n",
       "\t6 & 1 & 6 & Saamyya & Mcbride    \\\\\n",
       "\\end{tabular}\n"
      ],
      "text/markdown": [
       "\n",
       "A data.frame: 6 × 4\n",
       "\n",
       "| <!--/--> | V1 &lt;fct&gt; | V2 &lt;fct&gt; | V3 &lt;fct&gt; | V4 &lt;fct&gt; |\n",
       "|---|---|---|---|---|\n",
       "| 1 | 1 | 5 | Breanna | Archambault |\n",
       "| 2 | 1 | 2 | Emily   | Sauve       |\n",
       "| 3 | 1 | 4 | Jocelyn | Valencia    |\n",
       "| 4 | 1 | 3 | Helena  | Revello     |\n",
       "| 5 | 0 | 5 | Maxx    | Mangels     |\n",
       "| 6 | 1 | 6 | Saamyya | Mcbride     |\n",
       "\n"
      ],
      "text/plain": [
       "  V1 V2 V3      V4         \n",
       "1 1  5  Breanna Archambault\n",
       "2 1  2  Emily   Sauve      \n",
       "3 1  4  Jocelyn Valencia   \n",
       "4 1  3  Helena  Revello    \n",
       "5 0  5  Maxx    Mangels    \n",
       "6 1  6  Saamyya Mcbride    "
      ]
     },
     "metadata": {},
     "output_type": "display_data"
    }
   ],
   "source": [
    "first_name <- randomNames(n=6000,return.complete.data = TRUE,which.names = \"first\",)\n",
    "last_name <- list(randomNames(n=6000,return.complete.data = FALSE,which.names = \"last\",\n",
    "                            sample.with.replacement=FALSE))\n",
    "\n",
    "\n",
    "user_info <- list(c(first_name,last_name))\n",
    "#data.frame(matrix((user_info),nrow=length(user_info)))\n",
    "\n",
    "\n",
    "usr <- as.data.frame(matrix(unlist(cbind(user_info)),ncol = 4),as.factor=FALSE)\n",
    "\n",
    "head(usr)"
   ]
  },
  {
   "cell_type": "code",
   "execution_count": 3,
   "metadata": {},
   "outputs": [
    {
     "data": {
      "text/html": [
       "<table>\n",
       "<caption>A data.frame: 6 × 4</caption>\n",
       "<thead>\n",
       "\t<tr><th></th><th scope=col>gender</th><th scope=col>race</th><th scope=col>first_name</th><th scope=col>last_name</th></tr>\n",
       "\t<tr><th></th><th scope=col>&lt;fct&gt;</th><th scope=col>&lt;fct&gt;</th><th scope=col>&lt;fct&gt;</th><th scope=col>&lt;fct&gt;</th></tr>\n",
       "</thead>\n",
       "<tbody>\n",
       "\t<tr><th scope=row>1</th><td>1</td><td>5</td><td>Breanna</td><td>Archambault</td></tr>\n",
       "\t<tr><th scope=row>2</th><td>1</td><td>2</td><td>Emily  </td><td>Sauve      </td></tr>\n",
       "\t<tr><th scope=row>3</th><td>1</td><td>4</td><td>Jocelyn</td><td>Valencia   </td></tr>\n",
       "\t<tr><th scope=row>4</th><td>1</td><td>3</td><td>Helena </td><td>Revello    </td></tr>\n",
       "\t<tr><th scope=row>5</th><td>0</td><td>5</td><td>Maxx   </td><td>Mangels    </td></tr>\n",
       "\t<tr><th scope=row>6</th><td>1</td><td>6</td><td>Saamyya</td><td>Mcbride    </td></tr>\n",
       "</tbody>\n",
       "</table>\n"
      ],
      "text/latex": [
       "A data.frame: 6 × 4\n",
       "\\begin{tabular}{r|llll}\n",
       "  & gender & race & first\\_name & last\\_name\\\\\n",
       "  & <fct> & <fct> & <fct> & <fct>\\\\\n",
       "\\hline\n",
       "\t1 & 1 & 5 & Breanna & Archambault\\\\\n",
       "\t2 & 1 & 2 & Emily   & Sauve      \\\\\n",
       "\t3 & 1 & 4 & Jocelyn & Valencia   \\\\\n",
       "\t4 & 1 & 3 & Helena  & Revello    \\\\\n",
       "\t5 & 0 & 5 & Maxx    & Mangels    \\\\\n",
       "\t6 & 1 & 6 & Saamyya & Mcbride    \\\\\n",
       "\\end{tabular}\n"
      ],
      "text/markdown": [
       "\n",
       "A data.frame: 6 × 4\n",
       "\n",
       "| <!--/--> | gender &lt;fct&gt; | race &lt;fct&gt; | first_name &lt;fct&gt; | last_name &lt;fct&gt; |\n",
       "|---|---|---|---|---|\n",
       "| 1 | 1 | 5 | Breanna | Archambault |\n",
       "| 2 | 1 | 2 | Emily   | Sauve       |\n",
       "| 3 | 1 | 4 | Jocelyn | Valencia    |\n",
       "| 4 | 1 | 3 | Helena  | Revello     |\n",
       "| 5 | 0 | 5 | Maxx    | Mangels     |\n",
       "| 6 | 1 | 6 | Saamyya | Mcbride     |\n",
       "\n"
      ],
      "text/plain": [
       "  gender race first_name last_name  \n",
       "1 1      5    Breanna    Archambault\n",
       "2 1      2    Emily      Sauve      \n",
       "3 1      4    Jocelyn    Valencia   \n",
       "4 1      3    Helena     Revello    \n",
       "5 0      5    Maxx       Mangels    \n",
       "6 1      6    Saamyya    Mcbride    "
      ]
     },
     "metadata": {},
     "output_type": "display_data"
    }
   ],
   "source": [
    "# Create Column Names:\n",
    "\n",
    "names(usr)[1]<-paste(\"gender\")\n",
    "names(usr)[2]<-paste(\"race\")\n",
    "names(usr)[3]<-paste(\"first_name\")\n",
    "names(usr)[4]<-paste(\"last_name\")\n",
    "\n",
    "head(usr)"
   ]
  },
  {
   "cell_type": "code",
   "execution_count": 4,
   "metadata": {},
   "outputs": [
    {
     "data": {
      "text/html": [
       "<table>\n",
       "<caption>A data.frame: 6 × 4</caption>\n",
       "<thead>\n",
       "\t<tr><th></th><th scope=col>gender</th><th scope=col>race</th><th scope=col>first_name</th><th scope=col>last_name</th></tr>\n",
       "\t<tr><th></th><th scope=col>&lt;chr&gt;</th><th scope=col>&lt;chr&gt;</th><th scope=col>&lt;chr&gt;</th><th scope=col>&lt;chr&gt;</th></tr>\n",
       "</thead>\n",
       "<tbody>\n",
       "\t<tr><th scope=row>1</th><td>Female</td><td>White          </td><td>Breanna</td><td>Archambault</td></tr>\n",
       "\t<tr><th scope=row>2</th><td>Female</td><td>American Indian</td><td>Emily  </td><td>Sauve      </td></tr>\n",
       "\t<tr><th scope=row>3</th><td>Female</td><td>Hispanic       </td><td>Jocelyn</td><td>Valencia   </td></tr>\n",
       "\t<tr><th scope=row>4</th><td>Female</td><td>Black          </td><td>Helena </td><td>Revello    </td></tr>\n",
       "\t<tr><th scope=row>5</th><td>Male  </td><td>White          </td><td>Maxx   </td><td>Mangels    </td></tr>\n",
       "\t<tr><th scope=row>6</th><td>Female</td><td>Asian          </td><td>Saamyya</td><td>Mcbride    </td></tr>\n",
       "</tbody>\n",
       "</table>\n"
      ],
      "text/latex": [
       "A data.frame: 6 × 4\n",
       "\\begin{tabular}{r|llll}\n",
       "  & gender & race & first\\_name & last\\_name\\\\\n",
       "  & <chr> & <chr> & <chr> & <chr>\\\\\n",
       "\\hline\n",
       "\t1 & Female & White           & Breanna & Archambault\\\\\n",
       "\t2 & Female & American Indian & Emily   & Sauve      \\\\\n",
       "\t3 & Female & Hispanic        & Jocelyn & Valencia   \\\\\n",
       "\t4 & Female & Black           & Helena  & Revello    \\\\\n",
       "\t5 & Male   & White           & Maxx    & Mangels    \\\\\n",
       "\t6 & Female & Asian           & Saamyya & Mcbride    \\\\\n",
       "\\end{tabular}\n"
      ],
      "text/markdown": [
       "\n",
       "A data.frame: 6 × 4\n",
       "\n",
       "| <!--/--> | gender &lt;chr&gt; | race &lt;chr&gt; | first_name &lt;chr&gt; | last_name &lt;chr&gt; |\n",
       "|---|---|---|---|---|\n",
       "| 1 | Female | White           | Breanna | Archambault |\n",
       "| 2 | Female | American Indian | Emily   | Sauve       |\n",
       "| 3 | Female | Hispanic        | Jocelyn | Valencia    |\n",
       "| 4 | Female | Black           | Helena  | Revello     |\n",
       "| 5 | Male   | White           | Maxx    | Mangels     |\n",
       "| 6 | Female | Asian           | Saamyya | Mcbride     |\n",
       "\n"
      ],
      "text/plain": [
       "  gender race            first_name last_name  \n",
       "1 Female White           Breanna    Archambault\n",
       "2 Female American Indian Emily      Sauve      \n",
       "3 Female Hispanic        Jocelyn    Valencia   \n",
       "4 Female Black           Helena     Revello    \n",
       "5 Male   White           Maxx       Mangels    \n",
       "6 Female Asian           Saamyya    Mcbride    "
      ]
     },
     "metadata": {},
     "output_type": "display_data"
    }
   ],
   "source": [
    "# Convert Factor -> Labels:\n",
    "\n",
    "levels(usr$gender) <- c('Male','Female')\n",
    "\n",
    "levels(usr$race) <- c('Middle Eastern','American Indian','Black',\n",
    "                      'Hispanic','White','Asian')\n",
    "\n",
    "usr<-data.frame(lapply(usr, as.character), stringsAsFactors=FALSE)\n",
    "\n",
    "head(usr)"
   ]
  },
  {
   "cell_type": "markdown",
   "metadata": {},
   "source": [
    "# Securing Credentials:\n",
    "\n",
    "+ This is very useful in order to avoid publishing them in *plain text*. We can do this savely in `R` in a few ways. \n",
    "\n",
    "    **Referenced from R Documentation:**\n",
    "\n",
    "    * Integrated security without DSN\n",
    "\n",
    "    * Encrypt credentials with the keyring package\n",
    "\n",
    "    * Use a configuration file with the config package\n",
    "\n",
    "    * Environment variables using the .Renviron file\n",
    "\n",
    "    * Using the options base R command\n",
    "\n",
    "    * Prompt for credentials using the RStudio IDE\n",
    "\n",
    "\n",
    "[R doc maintaining credentials](https://db.rstudio.com/best-practices/managing-credentials/)"
   ]
  },
  {
   "cell_type": "markdown",
   "metadata": {},
   "source": [
    "# Put the config file create/call here: SECURING CREDENTIALS\n",
    "\n",
    "Here I will make a `config.yml` file: and call it using the name (*dsn*):\n",
    "\n",
    "use your editor: I used 2 space indentations, you can *increase this stay consostent*!\n",
    "\n",
    "(**TYPE WHAT IS BETWEEN THE DIVIDERS AND SAVE FILE**)\n",
    "\n",
    "`____________________`\n",
    "\n",
    "default:\n",
    "\n",
    "  datawarehouse:\n",
    "  \n",
    "    driver: 'Postgresql'\n",
    "    user: 'Your_User_name'\n",
    "    password: 'your_password'\n",
    "    host: 'localhost'\n",
    "    dbname: 'your_database'\n",
    "    port: 5432\n",
    "\n",
    "\n",
    "`___________________________`\n",
    "\n",
    "1.) you need to check if `post:5432` is used or not you may need to change\n",
    "\n",
    "2.) `datawarehouse is what I made up`\n",
    "\n",
    "3.) Keep this file near the working directory, if not you will need to do something like:\n",
    " `config <- config::get(file = \"conf/config.yml\",use_parent = TRUE)`"
   ]
  },
  {
   "cell_type": "code",
   "execution_count": 5,
   "metadata": {},
   "outputs": [],
   "source": [
    "# SETTING UP A CONNECTION TO PostgreSQL:\n",
    "\n",
    "require(\"RPostgreSQL\")\n",
    "\n",
    "drvr<- dbDriver(\"PostgreSQL\") #create psql connection\n",
    "\n",
    "dsn <- config::get('datawarehouse') # look into name and see what it is calling\n",
    "\n",
    "conn <- dbConnect(drvr,dsn)\n"
   ]
  },
  {
   "cell_type": "markdown",
   "metadata": {},
   "source": [
    "# Create a `Table` to use *unless* you have something already to use and formatted."
   ]
  },
  {
   "cell_type": "code",
   "execution_count": 6,
   "metadata": {},
   "outputs": [
    {
     "data": {
      "text/html": [
       "'fake_r_users'"
      ],
      "text/latex": [
       "'fake\\_r\\_users'"
      ],
      "text/markdown": [
       "'fake_r_users'"
      ],
      "text/plain": [
       "[1] \"fake_r_users\""
      ]
     },
     "metadata": {},
     "output_type": "display_data"
    }
   ],
   "source": [
    "# List Current Tables:\n",
    "\n",
    "dbListTables(conn)"
   ]
  },
  {
   "cell_type": "code",
   "execution_count": 8,
   "metadata": {},
   "outputs": [
    {
     "data": {
      "text/html": [
       "TRUE"
      ],
      "text/latex": [
       "TRUE"
      ],
      "text/markdown": [
       "TRUE"
      ],
      "text/plain": [
       "[1] TRUE"
      ]
     },
     "metadata": {},
     "output_type": "display_data"
    }
   ],
   "source": [
    "# Write the data frame to the database\n",
    "dbWriteTable(conn, name = \"fake_r_users\",\n",
    "             value = usr, row.names = FALSE,append=TRUE)\n"
   ]
  },
  {
   "cell_type": "code",
   "execution_count": 9,
   "metadata": {},
   "outputs": [
    {
     "data": {
      "text/html": [
       "TRUE"
      ],
      "text/latex": [
       "TRUE"
      ],
      "text/markdown": [
       "TRUE"
      ],
      "text/plain": [
       "[1] TRUE"
      ]
     },
     "metadata": {},
     "output_type": "display_data"
    }
   ],
   "source": [
    "# dbListTables(conn)\n",
    "dbRemoveTable(conn, \"fake_r_users\")\n"
   ]
  },
  {
   "cell_type": "code",
   "execution_count": 10,
   "metadata": {},
   "outputs": [
    {
     "data": {
      "text/html": [],
      "text/latex": [],
      "text/markdown": [],
      "text/plain": [
       "character(0)"
      ]
     },
     "metadata": {},
     "output_type": "display_data"
    }
   ],
   "source": [
    "dbListTables(conn)"
   ]
  },
  {
   "cell_type": "code",
   "execution_count": 11,
   "metadata": {},
   "outputs": [],
   "source": [
    "# Table SCHEMA:\n",
    "\n",
    "res_ <-dbSendQuery(conn, statement=paste(\"CREATE TABLE fake_R_users(\n",
    "Gender TEXT, \n",
    "Race TEXT,\n",
    "first_name TEXT,\n",
    "last_name TEXT)\"))\n",
    "\n"
   ]
  },
  {
   "cell_type": "code",
   "execution_count": 12,
   "metadata": {},
   "outputs": [
    {
     "data": {
      "text/html": [
       "<table>\n",
       "<caption>A data.frame: 1 × 1</caption>\n",
       "<thead>\n",
       "\t<tr><th></th><th scope=col>count</th></tr>\n",
       "\t<tr><th></th><th scope=col>&lt;dbl&gt;</th></tr>\n",
       "</thead>\n",
       "<tbody>\n",
       "\t<tr><th scope=row>1</th><td>0</td></tr>\n",
       "</tbody>\n",
       "</table>\n"
      ],
      "text/latex": [
       "A data.frame: 1 × 1\n",
       "\\begin{tabular}{r|l}\n",
       "  & count\\\\\n",
       "  & <dbl>\\\\\n",
       "\\hline\n",
       "\t1 & 0\\\\\n",
       "\\end{tabular}\n"
      ],
      "text/markdown": [
       "\n",
       "A data.frame: 1 × 1\n",
       "\n",
       "| <!--/--> | count &lt;dbl&gt; |\n",
       "|---|---|\n",
       "| 1 | 0 |\n",
       "\n"
      ],
      "text/plain": [
       "  count\n",
       "1 0    "
      ]
     },
     "metadata": {},
     "output_type": "display_data"
    }
   ],
   "source": [
    "res <-dbSendQuery(conn, \"SELECT COUNT(*) FROM fake_r_users\")\n",
    "dbFetch(res)"
   ]
  },
  {
   "cell_type": "markdown",
   "metadata": {},
   "source": [
    "# IMPORTANT NOTE: `if the column names are capitalized you need to take care of that!`\n",
    "\n",
    "`_____________________________________________`\n",
    "\n",
    "\n",
    "# _______SENDING `DF` --> `PostgreSQL`______"
   ]
  },
  {
   "cell_type": "code",
   "execution_count": 13,
   "metadata": {},
   "outputs": [
    {
     "data": {
      "text/html": [
       "TRUE"
      ],
      "text/latex": [
       "TRUE"
      ],
      "text/markdown": [
       "TRUE"
      ],
      "text/plain": [
       "[1] TRUE"
      ]
     },
     "metadata": {},
     "output_type": "display_data"
    }
   ],
   "source": [
    "# Take Data Frame and send to PostgreSQL:\n",
    "\n",
    "dbWriteTable(conn, name = \"fake_r_users\",\n",
    "             value = usr, row.names = FALSE,append=TRUE)\n"
   ]
  },
  {
   "cell_type": "markdown",
   "metadata": {},
   "source": [
    "# Check what is in our database now: \n",
    "\n",
    "+ We are doing a `QUERY` and `EXPORTING DATA from PSQL --> R` \n",
    "    + The data is `IMPORTED` as a `DF`"
   ]
  },
  {
   "cell_type": "code",
   "execution_count": 17,
   "metadata": {},
   "outputs": [
    {
     "data": {
      "text/html": [
       "<table>\n",
       "<caption>A data.frame: 6 × 4</caption>\n",
       "<thead>\n",
       "\t<tr><th></th><th scope=col>gender</th><th scope=col>race</th><th scope=col>first_name</th><th scope=col>last_name</th></tr>\n",
       "\t<tr><th></th><th scope=col>&lt;chr&gt;</th><th scope=col>&lt;chr&gt;</th><th scope=col>&lt;chr&gt;</th><th scope=col>&lt;chr&gt;</th></tr>\n",
       "</thead>\n",
       "<tbody>\n",
       "\t<tr><th scope=row>1</th><td>Female</td><td>White          </td><td>Breanna</td><td>Archambault</td></tr>\n",
       "\t<tr><th scope=row>2</th><td>Female</td><td>American Indian</td><td>Emily  </td><td>Sauve      </td></tr>\n",
       "\t<tr><th scope=row>3</th><td>Female</td><td>Hispanic       </td><td>Jocelyn</td><td>Valencia   </td></tr>\n",
       "\t<tr><th scope=row>4</th><td>Female</td><td>Black          </td><td>Helena </td><td>Revello    </td></tr>\n",
       "\t<tr><th scope=row>5</th><td>Male  </td><td>White          </td><td>Maxx   </td><td>Mangels    </td></tr>\n",
       "\t<tr><th scope=row>6</th><td>Female</td><td>Asian          </td><td>Saamyya</td><td>Mcbride    </td></tr>\n",
       "</tbody>\n",
       "</table>\n"
      ],
      "text/latex": [
       "A data.frame: 6 × 4\n",
       "\\begin{tabular}{r|llll}\n",
       "  & gender & race & first\\_name & last\\_name\\\\\n",
       "  & <chr> & <chr> & <chr> & <chr>\\\\\n",
       "\\hline\n",
       "\t1 & Female & White           & Breanna & Archambault\\\\\n",
       "\t2 & Female & American Indian & Emily   & Sauve      \\\\\n",
       "\t3 & Female & Hispanic        & Jocelyn & Valencia   \\\\\n",
       "\t4 & Female & Black           & Helena  & Revello    \\\\\n",
       "\t5 & Male   & White           & Maxx    & Mangels    \\\\\n",
       "\t6 & Female & Asian           & Saamyya & Mcbride    \\\\\n",
       "\\end{tabular}\n"
      ],
      "text/markdown": [
       "\n",
       "A data.frame: 6 × 4\n",
       "\n",
       "| <!--/--> | gender &lt;chr&gt; | race &lt;chr&gt; | first_name &lt;chr&gt; | last_name &lt;chr&gt; |\n",
       "|---|---|---|---|---|\n",
       "| 1 | Female | White           | Breanna | Archambault |\n",
       "| 2 | Female | American Indian | Emily   | Sauve       |\n",
       "| 3 | Female | Hispanic        | Jocelyn | Valencia    |\n",
       "| 4 | Female | Black           | Helena  | Revello     |\n",
       "| 5 | Male   | White           | Maxx    | Mangels     |\n",
       "| 6 | Female | Asian           | Saamyya | Mcbride     |\n",
       "\n"
      ],
      "text/plain": [
       "  gender race            first_name last_name  \n",
       "1 Female White           Breanna    Archambault\n",
       "2 Female American Indian Emily      Sauve      \n",
       "3 Female Hispanic        Jocelyn    Valencia   \n",
       "4 Female Black           Helena     Revello    \n",
       "5 Male   White           Maxx       Mangels    \n",
       "6 Female Asian           Saamyya    Mcbride    "
      ]
     },
     "metadata": {},
     "output_type": "display_data"
    }
   ],
   "source": [
    "# Today's NEW TABLE:\n",
    "\n",
    "res_o <- dbSendQuery(conn, \"SELECT * FROM fake_r_users\")\n",
    "# get all remaining records\n",
    "data_ <- fetch(res_o, n = -1)\n",
    "# dbDisconnect(conn)\n",
    "head(data_)\n",
    "\n",
    "# dbClearResult(res_o)"
   ]
  },
  {
   "cell_type": "markdown",
   "metadata": {},
   "source": [
    "# Alternate way to send a DF --> PostgreSQL:\n",
    "\n",
    "https://www.rdocumentation.org/packages/sqldf/versions/0.4-11\n",
    "\n",
    "\n",
    "`_________________________________________`"
   ]
  },
  {
   "cell_type": "markdown",
   "metadata": {},
   "source": [
    "# Send  `.CSV --> PostgreSQL` :"
   ]
  },
  {
   "cell_type": "code",
   "execution_count": 18,
   "metadata": {},
   "outputs": [
    {
     "data": {
      "text/html": [
       "<style>\n",
       ".list-inline {list-style: none; margin:0; padding: 0}\n",
       ".list-inline>li {display: inline-block}\n",
       ".list-inline>li:not(:last-child)::after {content: \"\\00b7\"; padding: 0 .5ex}\n",
       "</style>\n",
       "<ol class=list-inline><li>'attachments'</li><li>'config.yml'</li><li>'CS_DtaSci'</li><li>'Dummy_Data_Generators-master 2'</li><li>'Dummy_Data_Generators-master 3'</li><li>'First_few_videos'</li><li>'neo4j-community-3.4.5'</li><li>'PCA_P_Python'</li><li>'Projects'</li><li>'psql_2'</li><li>'psql_prob1'</li><li>'r_psql.csv'</li><li>'send_python_to_psql_again.mov'</li><li>'Sending Data From R to PSQL.ipynb'</li><li>'Stats Refresher Notes.docx'</li><li>'Videos_youtube'</li><li>'virt_env_py'</li><li>'youtube_vid_code'</li></ol>\n"
      ],
      "text/latex": [
       "\\begin{enumerate*}\n",
       "\\item 'attachments'\n",
       "\\item 'config.yml'\n",
       "\\item 'CS\\_DtaSci'\n",
       "\\item 'Dummy\\_Data\\_Generators-master 2'\n",
       "\\item 'Dummy\\_Data\\_Generators-master 3'\n",
       "\\item 'First\\_few\\_videos'\n",
       "\\item 'neo4j-community-3.4.5'\n",
       "\\item 'PCA\\_P\\_Python'\n",
       "\\item 'Projects'\n",
       "\\item 'psql\\_2'\n",
       "\\item 'psql\\_prob1'\n",
       "\\item 'r\\_psql.csv'\n",
       "\\item 'send\\_python\\_to\\_psql\\_again.mov'\n",
       "\\item 'Sending Data From R to PSQL.ipynb'\n",
       "\\item 'Stats Refresher Notes.docx'\n",
       "\\item 'Videos\\_youtube'\n",
       "\\item 'virt\\_env\\_py'\n",
       "\\item 'youtube\\_vid\\_code'\n",
       "\\end{enumerate*}\n"
      ],
      "text/markdown": [
       "1. 'attachments'\n",
       "2. 'config.yml'\n",
       "3. 'CS_DtaSci'\n",
       "4. 'Dummy_Data_Generators-master 2'\n",
       "5. 'Dummy_Data_Generators-master 3'\n",
       "6. 'First_few_videos'\n",
       "7. 'neo4j-community-3.4.5'\n",
       "8. 'PCA_P_Python'\n",
       "9. 'Projects'\n",
       "10. 'psql_2'\n",
       "11. 'psql_prob1'\n",
       "12. 'r_psql.csv'\n",
       "13. 'send_python_to_psql_again.mov'\n",
       "14. 'Sending Data From R to PSQL.ipynb'\n",
       "15. 'Stats Refresher Notes.docx'\n",
       "16. 'Videos_youtube'\n",
       "17. 'virt_env_py'\n",
       "18. 'youtube_vid_code'\n",
       "\n",
       "\n"
      ],
      "text/plain": [
       " [1] \"attachments\"                       \"config.yml\"                       \n",
       " [3] \"CS_DtaSci\"                         \"Dummy_Data_Generators-master 2\"   \n",
       " [5] \"Dummy_Data_Generators-master 3\"    \"First_few_videos\"                 \n",
       " [7] \"neo4j-community-3.4.5\"             \"PCA_P_Python\"                     \n",
       " [9] \"Projects\"                          \"psql_2\"                           \n",
       "[11] \"psql_prob1\"                        \"r_psql.csv\"                       \n",
       "[13] \"send_python_to_psql_again.mov\"     \"Sending Data From R to PSQL.ipynb\"\n",
       "[15] \"Stats Refresher Notes.docx\"        \"Videos_youtube\"                   \n",
       "[17] \"virt_env_py\"                       \"youtube_vid_code\"                 "
      ]
     },
     "metadata": {},
     "output_type": "display_data"
    }
   ],
   "source": [
    "# Send .CSV to PSQL:\n",
    "\n",
    "my_csv <- write.csv(usr,'r_psql.csv', row.names = FALSE)\n",
    "\n",
    "#checking if the file is in current directory:\n",
    "list.files(path = \".\")\n"
   ]
  },
  {
   "cell_type": "code",
   "execution_count": 19,
   "metadata": {},
   "outputs": [
    {
     "data": {
      "text/html": [
       "'/Users/zatoichi59/Desktop/r_psql.csv'"
      ],
      "text/latex": [
       "'/Users/zatoichi59/Desktop/r\\_psql.csv'"
      ],
      "text/markdown": [
       "'/Users/zatoichi59/Desktop/r_psql.csv'"
      ],
      "text/plain": [
       "[1] \"/Users/zatoichi59/Desktop/r_psql.csv\""
      ]
     },
     "metadata": {},
     "output_type": "display_data"
    }
   ],
   "source": [
    "#getting the ABSOLUTE PATH of the .CSV I need:\n",
    "\n",
    "library(tools)\n",
    "r_psql_csv_path <-file_path_as_absolute('r_psql.csv')\n",
    "#then paste the address into query\n",
    "r_psql_csv_path"
   ]
  },
  {
   "cell_type": "code",
   "execution_count": 20,
   "metadata": {},
   "outputs": [],
   "source": [
    "rs_ <-dbSendQuery(conn, \n",
    "                   statement=paste(\"COPY fake_r_users \n",
    "                                   FROM '/Users/zatoichi59/Desktop/r_psql.csv' \n",
    "                                    DELIMITER ',' CSV HEADER\"))\n",
    "\n",
    "\n",
    "# dbClearResult(rs)"
   ]
  },
  {
   "cell_type": "code",
   "execution_count": null,
   "metadata": {},
   "outputs": [],
   "source": [
    "# dbClearResult(res = res)\n",
    "# dbClearResult(res=res_)\n",
    "# dbDisconnect(conn)\n",
    "# dbUnloadDriver(drvr)\n",
    "# postgresqlCloseConnection(con = conn)"
   ]
  },
  {
   "cell_type": "code",
   "execution_count": 21,
   "metadata": {},
   "outputs": [
    {
     "data": {
      "text/html": [
       "<table>\n",
       "<caption>A data.frame: 1 × 1</caption>\n",
       "<thead>\n",
       "\t<tr><th></th><th scope=col>count</th></tr>\n",
       "\t<tr><th></th><th scope=col>&lt;dbl&gt;</th></tr>\n",
       "</thead>\n",
       "<tbody>\n",
       "\t<tr><th scope=row>1</th><td>12000</td></tr>\n",
       "</tbody>\n",
       "</table>\n"
      ],
      "text/latex": [
       "A data.frame: 1 × 1\n",
       "\\begin{tabular}{r|l}\n",
       "  & count\\\\\n",
       "  & <dbl>\\\\\n",
       "\\hline\n",
       "\t1 & 12000\\\\\n",
       "\\end{tabular}\n"
      ],
      "text/markdown": [
       "\n",
       "A data.frame: 1 × 1\n",
       "\n",
       "| <!--/--> | count &lt;dbl&gt; |\n",
       "|---|---|\n",
       "| 1 | 12000 |\n",
       "\n"
      ],
      "text/plain": [
       "  count\n",
       "1 12000"
      ]
     },
     "metadata": {},
     "output_type": "display_data"
    }
   ],
   "source": [
    "s <-dbSendQuery(conn, \"SELECT COUNT(*) FROM fake_r_users\")\n",
    "dbFetch(s)"
   ]
  },
  {
   "cell_type": "code",
   "execution_count": 23,
   "metadata": {},
   "outputs": [
    {
     "ename": "ERROR",
     "evalue": "Error in postgresqlCloseDriver(drv, ...): RS-DBI driver: (There are opened connections -- close them first)\n",
     "output_type": "error",
     "traceback": [
      "Error in postgresqlCloseDriver(drv, ...): RS-DBI driver: (There are opened connections -- close them first)\nTraceback:\n",
      "1. dbUnloadDriver(drvr)",
      "2. dbUnloadDriver(drvr)",
      "3. postgresqlCloseDriver(drv, ...)"
     ]
    }
   ],
   "source": [
    "# dbSendQuery(conn, statement=paste(\"CREATE ROLE mrfugu WITH SUPERUSER\"))\n",
    "\n",
    "dbUnloadDriver(drvr)\n",
    "dbDisconnect(conn)\n",
    "# dbUnloadDriver(drvr)\n",
    "\n",
    "dbClearResult(res = res)\n",
    "dbClearResult(res=res_)"
   ]
  },
  {
   "cell_type": "markdown",
   "metadata": {},
   "source": [
    "# Citations  ◔̯◔\n",
    "\n",
    "https://cran.r-project.org/web/packages/randomNames/randomNames.pdf\n",
    "\n",
    "https://github.com/rstudio/config (config_files)\n",
    "\n",
    "https://db.rstudio.com/best-practices/managing-credentials/ (safely send data DSN setup)\n",
    "\n",
    "https://cran.r-project.org/web/packages/RPostgreSQL/RPostgreSQL.pdf\n",
    "\n",
    "https://rollout.io/blog/yaml-tutorial-everything-you-need-get-started/ (YAML formating)\n",
    "\n",
    "https://stackoverflow.com/questions/33634713/rpostgresql-import-dataframe-into-a-table\n",
    "\n",
    "https://db.rstudio.com/best-practices/portable-code/\n",
    "\n",
    "https://cran.r-project.org/web/packages/config/vignettes/introduction.html (cinfig setup)"
   ]
  }
 ],
 "metadata": {
  "kernelspec": {
   "display_name": "R",
   "language": "R",
   "name": "ir"
  },
  "language_info": {
   "codemirror_mode": "r",
   "file_extension": ".r",
   "mimetype": "text/x-r-source",
   "name": "R",
   "pygments_lexer": "r",
   "version": "3.4.3"
  }
 },
 "nbformat": 4,
 "nbformat_minor": 4
}
