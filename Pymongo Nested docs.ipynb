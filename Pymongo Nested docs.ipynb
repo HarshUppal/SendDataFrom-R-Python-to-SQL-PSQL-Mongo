{
 "cells": [
  {
   "cell_type": "markdown",
   "metadata": {},
   "source": [
    "# <font color='red'>PyMongo</font>: *(Nested Data)*: Query | Aggregate | Map-Reduce\n",
    "\n",
    "**Mr Fugu Data Science**\n",
    "\n",
    "# (◕‿◕✿)\n",
    "\n",
    "[youtube](https://www.youtube.com/channel/UCbni-TDI-Ub8VlGaP8HLTNw?view_as=subscriber) | [Gihub](https://github.com/MrFuguDataScience)\n",
    "\n",
    "\n",
    "# Outcome & Expectations:\n",
    "\n",
    "+ Create `Aggregate` function\n",
    "    + Create Map-Reduce functions\n",
    "        + Describe use cases for both\n",
    "        "
   ]
  },
  {
   "cell_type": "code",
   "execution_count": null,
   "metadata": {},
   "outputs": [],
   "source": [
    "''' SIDE NOTE: IF YOU ARE SETTING UP A CONNECTION EVERYTIME, LIKE I AM. \n",
    "Then you will need to turn on (mongod) so you can send data and do queries'''"
   ]
  },
  {
   "cell_type": "code",
   "execution_count": 6,
   "metadata": {},
   "outputs": [],
   "source": [
    "import pymongo as pym      # Interface with Python <--> MongoDB \n",
    "import pandas as pd        # Create Dataframe\n",
    "import pprint as pp        # readibility for our data\n",
    "from bson.code import Code # Help with Map-Reduce"
   ]
  },
  {
   "cell_type": "code",
   "execution_count": 12,
   "metadata": {},
   "outputs": [],
   "source": [
    "# Making a Connection to MongoClient\n",
    "client = pym.MongoClient('mongodb://localhost:27017/')\n",
    "\n",
    "# CREATING A DATABASE:\n",
    "db = client[\"berkeley\"]\n",
    "\n",
    "# CREATING A COLLECTION (*AKA* TABLE):\n",
    "candidate_user_info= db[\"recruiter_clients\"]"
   ]
  },
  {
   "cell_type": "markdown",
   "metadata": {},
   "source": [
    "# Our Data: first 2 entries\n",
    "\n",
    "`{[{'candidate': {'first_name': 'Margaret',\n",
    "   'last_name': 'Mcdonald',\n",
    "   'skills': ['skLearn', 'Java', 'R', 'SQL', 'Spark', 'C++'],\n",
    "   'state': 'AL',\n",
    "   'specialty': 'Machine Learning',\n",
    "   'experience': 'Mid',\n",
    "   'relocation': 'no'}},\n",
    " {'candidate': {'first_name': 'Michael',\n",
    "   'last_name': 'Carter',\n",
    "   'skills': ['TensorFlow', 'R', 'Spark', 'MongoDB', 'C++', 'SQL'],\n",
    "   'state': 'AR',\n",
    "   'specialty': 'Machine Learning',\n",
    "   'experience': 'Junior',\n",
    "   'relocation': 'yes'}}]`"
   ]
  },
  {
   "cell_type": "code",
   "execution_count": 13,
   "metadata": {},
   "outputs": [
    {
     "name": "stdout",
     "output_type": "stream",
     "text": [
      "{'_id': ObjectId('5eb5cc5b47c72ccce7539c1d'),\n",
      " 'candidate': {'experience': 'Mid',\n",
      "               'first_name': 'Brenda',\n",
      "               'last_name': 'Tyler',\n",
      "               'relocation': 'no',\n",
      "               'skills': ['Spark'],\n",
      "               'specialty': 'Database',\n",
      "               'state': 'UT'}}\n",
      "{'_id': ObjectId('5eb5cc5b47c72ccce7539d13'),\n",
      " 'candidate': {'experience': 'Senior',\n",
      "               'first_name': 'Brenda',\n",
      "               'last_name': 'Kennedy',\n",
      "               'relocation': 'no',\n",
      "               'skills': ['TensorFlow'],\n",
      "               'specialty': 'Data Visualization',\n",
      "               'state': 'NM'}}\n"
     ]
    }
   ],
   "source": [
    "# Basics Query of Nested Doc:\n",
    "\n",
    "for i in candidate_user_info.find({'candidate.first_name':'Brenda'}):\n",
    "    pp.pprint(i)"
   ]
  },
  {
   "cell_type": "code",
   "execution_count": 16,
   "metadata": {},
   "outputs": [
    {
     "data": {
      "text/plain": [
       "[{'candidate': {'first_name': 'Brenda',\n",
       "   'last_name': 'Tyler',\n",
       "   'skills': ['Spark'],\n",
       "   'state': 'UT',\n",
       "   'specialty': 'Database',\n",
       "   'experience': 'Mid',\n",
       "   'relocation': 'no'}},\n",
       " {'candidate': {'first_name': 'Tiffany',\n",
       "   'last_name': 'Olson',\n",
       "   'skills': ['Spark'],\n",
       "   'state': 'MO',\n",
       "   'specialty': 'Statistics',\n",
       "   'experience': 'Mid',\n",
       "   'relocation': 'maybe'}},\n",
       " {'candidate': {'first_name': 'Travis',\n",
       "   'last_name': 'Hawkins',\n",
       "   'skills': ['Spark'],\n",
       "   'state': 'CO',\n",
       "   'specialty': 'Statistics',\n",
       "   'experience': 'Senior',\n",
       "   'relocation': 'yes'}}]"
      ]
     },
     "execution_count": 16,
     "metadata": {},
     "output_type": "execute_result"
    }
   ],
   "source": [
    "# Find only people with the skills of Spark:\n",
    "\n",
    "only_spark=[]\n",
    "for i in candidate_user_info.find({'candidate.skills':['Spark']},{'_id':0}):\n",
    "#     pp.pprint(i)\n",
    "    only_spark.append(i)\n",
    "only_spark[:3]"
   ]
  },
  {
   "cell_type": "markdown",
   "metadata": {},
   "source": [
    "# Create Dataframe from nested data, and query with `$or` :"
   ]
  },
  {
   "cell_type": "code",
   "execution_count": 17,
   "metadata": {},
   "outputs": [
    {
     "data": {
      "text/html": [
       "<div>\n",
       "<style scoped>\n",
       "    .dataframe tbody tr th:only-of-type {\n",
       "        vertical-align: middle;\n",
       "    }\n",
       "\n",
       "    .dataframe tbody tr th {\n",
       "        vertical-align: top;\n",
       "    }\n",
       "\n",
       "    .dataframe thead th {\n",
       "        text-align: right;\n",
       "    }\n",
       "</style>\n",
       "<table border=\"1\" class=\"dataframe\">\n",
       "  <thead>\n",
       "    <tr style=\"text-align: right;\">\n",
       "      <th></th>\n",
       "      <th>first_name</th>\n",
       "      <th>last_name</th>\n",
       "      <th>skills</th>\n",
       "      <th>state</th>\n",
       "      <th>specialty</th>\n",
       "      <th>experience</th>\n",
       "      <th>relocation</th>\n",
       "      <th>_id</th>\n",
       "    </tr>\n",
       "  </thead>\n",
       "  <tbody>\n",
       "    <tr>\n",
       "      <th>0</th>\n",
       "      <td>Joseph</td>\n",
       "      <td>King</td>\n",
       "      <td>[skLearn, SQL, R, Spark, Java, C++, Python, Te...</td>\n",
       "      <td>FL</td>\n",
       "      <td>Statistics</td>\n",
       "      <td>Senior</td>\n",
       "      <td>maybe</td>\n",
       "      <td>5eb5cc5b47c72ccce7539c1e</td>\n",
       "    </tr>\n",
       "    <tr>\n",
       "      <th>1</th>\n",
       "      <td>Tammy</td>\n",
       "      <td>Miller</td>\n",
       "      <td>[skLearn, R, TensorFlow, MongoDB, C++, Java]</td>\n",
       "      <td>FL</td>\n",
       "      <td>Data Visualization</td>\n",
       "      <td>Mid</td>\n",
       "      <td>maybe</td>\n",
       "      <td>5eb5cc5b47c72ccce7539c5d</td>\n",
       "    </tr>\n",
       "    <tr>\n",
       "      <th>2</th>\n",
       "      <td>Michael</td>\n",
       "      <td>Carter</td>\n",
       "      <td>[Java, C++]</td>\n",
       "      <td>FL</td>\n",
       "      <td>Database</td>\n",
       "      <td>Senior</td>\n",
       "      <td>maybe</td>\n",
       "      <td>5eb5cc5b47c72ccce7539c67</td>\n",
       "    </tr>\n",
       "    <tr>\n",
       "      <th>3</th>\n",
       "      <td>Sharon</td>\n",
       "      <td>Taylor</td>\n",
       "      <td>[MongoDB, R]</td>\n",
       "      <td>CA</td>\n",
       "      <td>Data Visualization</td>\n",
       "      <td>Senior</td>\n",
       "      <td>no</td>\n",
       "      <td>5eb5cc5b47c72ccce7539c73</td>\n",
       "    </tr>\n",
       "    <tr>\n",
       "      <th>4</th>\n",
       "      <td>Gloria</td>\n",
       "      <td>Rivera</td>\n",
       "      <td>[R, SQL, Java, MongoDB, skLearn, Python, Tenso...</td>\n",
       "      <td>CA</td>\n",
       "      <td>Statistics</td>\n",
       "      <td>Senior</td>\n",
       "      <td>maybe</td>\n",
       "      <td>5eb5cc5b47c72ccce7539c82</td>\n",
       "    </tr>\n",
       "  </tbody>\n",
       "</table>\n",
       "</div>"
      ],
      "text/plain": [
       "  first_name last_name                                             skills  \\\n",
       "0     Joseph      King  [skLearn, SQL, R, Spark, Java, C++, Python, Te...   \n",
       "1      Tammy    Miller       [skLearn, R, TensorFlow, MongoDB, C++, Java]   \n",
       "2    Michael    Carter                                        [Java, C++]   \n",
       "3     Sharon    Taylor                                       [MongoDB, R]   \n",
       "4     Gloria    Rivera  [R, SQL, Java, MongoDB, skLearn, Python, Tenso...   \n",
       "\n",
       "  state           specialty experience relocation                       _id  \n",
       "0    FL          Statistics     Senior      maybe  5eb5cc5b47c72ccce7539c1e  \n",
       "1    FL  Data Visualization        Mid      maybe  5eb5cc5b47c72ccce7539c5d  \n",
       "2    FL            Database     Senior      maybe  5eb5cc5b47c72ccce7539c67  \n",
       "3    CA  Data Visualization     Senior         no  5eb5cc5b47c72ccce7539c73  \n",
       "4    CA          Statistics     Senior      maybe  5eb5cc5b47c72ccce7539c82  "
      ]
     },
     "execution_count": 17,
     "metadata": {},
     "output_type": "execute_result"
    }
   ],
   "source": [
    "# Find people who live in either: California or Florida\n",
    "\n",
    "store_CA_FL=[]\n",
    "for i in candidate_user_info.find({'$or' :[{'candidate.state':'CA'},\n",
    "                                           {'candidate.state':'FL'}]}):\n",
    "    store_CA_FL.append(i)\n",
    "\n",
    "# pd.DataFrame.from_dict(g['candidate'],orient='columns')\n",
    "nested_candidates=[]\n",
    "only_ids=[]\n",
    "for i in store_CA_FL:\n",
    "    nested_candidates.append(i['candidate'])\n",
    "    only_ids.append(i['_id'])\n",
    "\n",
    "\n",
    "recruiter_candidates=pd.DataFrame(nested_candidates) \n",
    "\n",
    "recruiter_candidates['_id']=only_ids\n",
    "recruiter_candidates.head()\n",
    "# store_CA_FL"
   ]
  },
  {
   "cell_type": "code",
   "execution_count": 18,
   "metadata": {},
   "outputs": [
    {
     "data": {
      "text/plain": [
       "[{'candidate': {'first_name': 'Margaret', 'last_name': 'Mcdonald'},\n",
       "  'numberOfSkills': 6},\n",
       " {'candidate': {'first_name': 'Michael', 'last_name': 'Carter'},\n",
       "  'numberOfSkills': 6},\n",
       " {'candidate': {'first_name': 'Brenda', 'last_name': 'Tyler'},\n",
       "  'numberOfSkills': 1},\n",
       " {'candidate': {'first_name': 'Joseph', 'last_name': 'King'},\n",
       "  'numberOfSkills': 8},\n",
       " {'candidate': {'first_name': 'Laura', 'last_name': 'Webb'},\n",
       "  'numberOfSkills': 6},\n",
       " {'candidate': {'first_name': 'Cheryl', 'last_name': 'Ramirez'},\n",
       "  'numberOfSkills': 9}]"
      ]
     },
     "execution_count": 18,
     "metadata": {},
     "output_type": "execute_result"
    }
   ],
   "source": [
    "num_skills_by_person= candidate_user_info.aggregate([{'$project':{'candidate.first_name':1,'candidate.last_name':1,\n",
    "                                                    'numberOfSkills':{'$cond':{'if':{'$isArray':'$candidate.skills'},\n",
    "                                                    'then':{'$size':'$candidate.skills'},'else':'NA'}},'_id':0}}])\n",
    "num_skills_each=[]\n",
    "for i in num_skills_by_person:\n",
    "    num_skills_each.append(i)\n",
    "num_skills_each[:6]"
   ]
  },
  {
   "cell_type": "code",
   "execution_count": 25,
   "metadata": {},
   "outputs": [
    {
     "data": {
      "text/plain": [
       "[{'_id': ObjectId('5eb5cc5b47c72ccce7539c1f'),\n",
       "  'candidate': {'first_name': 'Laura',\n",
       "   'last_name': 'Webb',\n",
       "   'skills': ['TensorFlow', 'C++', 'SQL', 'Java', 'R', 'MongoDB'],\n",
       "   'state': 'WY',\n",
       "   'specialty': 'Machine Learning',\n",
       "   'experience': 'Junior',\n",
       "   'relocation': 'maybe'}},\n",
       " {'_id': ObjectId('5eb5cc5b47c72ccce7539c21'),\n",
       "  'candidate': {'first_name': 'Charles',\n",
       "   'last_name': 'Stewart',\n",
       "   'skills': ['MongoDB', 'C++', 'Java', 'SQL', 'R', 'Python', 'skLearn'],\n",
       "   'state': 'NM',\n",
       "   'specialty': 'Machine Learning',\n",
       "   'experience': 'Mid',\n",
       "   'relocation': 'maybe'}}]"
      ]
     },
     "execution_count": 25,
     "metadata": {},
     "output_type": "execute_result"
    }
   ],
   "source": [
    "import pprint as pp\n",
    "b=[]\n",
    "for i in candidate_user_info.aggregate( [{'$match': {'candidate.specialty':'Machine Learning'}}]):\n",
    "#     pp.pprint(i)\n",
    "    b.append(i)\n",
    "b[:2]"
   ]
  },
  {
   "cell_type": "code",
   "execution_count": 26,
   "metadata": {},
   "outputs": [
    {
     "data": {
      "text/plain": [
       "[{'_id': 'AK', 'value': {'count': 10.0}},\n",
       " {'_id': 'AL', 'value': {'count': 12.0}},\n",
       " {'_id': 'AR', 'value': {'count': 8.0}},\n",
       " {'_id': 'AZ', 'value': {'count': 8.0}},\n",
       " {'_id': 'CA', 'value': {'count': 11.0}},\n",
       " {'_id': 'CO', 'value': {'count': 10.0}}]"
      ]
     },
     "execution_count": 26,
     "metadata": {},
     "output_type": "execute_result"
    }
   ],
   "source": [
    "\n",
    "\n",
    "from bson.code import Code\n",
    "\n",
    "mapFunc = Code(\"function(){emit(this.candidate.state,{count:1});}\")\n",
    "\n",
    "redFunc = Code(\"function(state,val){var value = {count:0};for(i=0; i<val.length;i++){value.count += val[i].count;}return value;}\")\n",
    "\n",
    "map_red=candidate_user_info.map_reduce(mapFunc,redFunc,'skills_byState') \n",
    "#skills_byState is stored as a collection in MongoDB\n",
    "\n",
    "state_counts=[]\n",
    "for i in map_red.find():\n",
    "    state_counts.append(i)\n",
    "state_counts[:6]          "
   ]
  },
  {
   "cell_type": "code",
   "execution_count": 27,
   "metadata": {},
   "outputs": [
    {
     "data": {
      "text/plain": [
       "[{'_id': 'VT', 'value': {'count': 2.0}},\n",
       " {'_id': 'SD', 'value': {'count': 3.0}},\n",
       " {'_id': 'VA', 'value': {'count': 5.0}},\n",
       " {'_id': 'NH', 'value': {'count': 6.0}},\n",
       " {'_id': 'IN', 'value': {'count': 7.0}},\n",
       " {'_id': 'KY', 'value': {'count': 7.0}},\n",
       " {'_id': 'NJ', 'value': {'count': 7.0}},\n",
       " {'_id': 'TN', 'value': {'count': 7.0}}]"
      ]
     },
     "execution_count": 27,
     "metadata": {},
     "output_type": "execute_result"
    }
   ],
   "source": [
    "# Showing the alternate way of obtaining the data from Map-Reduce:(BY value count)\n",
    "alt_state=[]\n",
    "for i in db.skills_byState.find().sort('value.count'):\n",
    "    alt_state.append(i)\n",
    "alt_state[:8]"
   ]
  },
  {
   "cell_type": "markdown",
   "metadata": {},
   "source": [
    "# Citations & Help:\n",
    "\n",
    "https://api.mongodb.com/python/2.0/examples/map_reduce.html\n",
    "\n",
    "https://pymongo.readthedocs.io/en/stable/examples/aggregation.html\n"
   ]
  }
 ],
 "metadata": {
  "kernelspec": {
   "display_name": "Python 3",
   "language": "python",
   "name": "python3"
  },
  "language_info": {
   "codemirror_mode": {
    "name": "ipython",
    "version": 3
   },
   "file_extension": ".py",
   "mimetype": "text/x-python",
   "name": "python",
   "nbconvert_exporter": "python",
   "pygments_lexer": "ipython3",
   "version": "3.7.3"
  }
 },
 "nbformat": 4,
 "nbformat_minor": 4
}
