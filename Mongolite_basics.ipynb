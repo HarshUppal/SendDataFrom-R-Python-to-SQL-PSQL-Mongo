{
 "cells": [
  {
   "cell_type": "markdown",
   "metadata": {},
   "source": [
    "# Mongolite 3<sup>rd</sup> video: \n",
    "\n",
    "# `Basic commands with Shell commands`\n",
    "\n",
    "# <font color=red> Mr Fugu Data Science</font>\n",
    "\n",
    "# (◕‿◕✿)"
   ]
  },
  {
   "cell_type": "code",
   "execution_count": 6,
   "metadata": {},
   "outputs": [],
   "source": [
    "# install.packages('mongolite')"
   ]
  },
  {
   "cell_type": "code",
   "execution_count": 7,
   "metadata": {},
   "outputs": [
    {
     "name": "stderr",
     "output_type": "stream",
     "text": [
      "Warning message:\n",
      "“package ‘mongolite’ was built under R version 4.0.2”\n"
     ]
    }
   ],
   "source": [
    "library(tidyverse)\n",
    "library(knitr)     # help run code\n",
    "library(markdown)  # create markdown files i.e. pdf\n",
    "library(mongolite) # Create connection/Interface R<-> Mongodb"
   ]
  },
  {
   "cell_type": "code",
   "execution_count": 13,
   "metadata": {},
   "outputs": [],
   "source": [
    "# Create Connection: 'localhost'\n",
    "\n",
    "mng_conn<-mongo(collection = 'vidPrac',db='video_practice')\n",
    "\n",
    "#''' Pay attention, you may get an error: `No suitable server`, I got it to work by\n",
    "# opening the terminal and making a mongod connection\n",
    "#'''"
   ]
  },
  {
   "cell_type": "code",
   "execution_count": 11,
   "metadata": {},
   "outputs": [],
   "source": [
    "# mng_conn$info()\n"
   ]
  },
  {
   "cell_type": "markdown",
   "metadata": {},
   "source": [
    "# `Insert`: (side note), when you are doing this insert there is a difference ('') vs (\"\")"
   ]
  },
  {
   "cell_type": "code",
   "execution_count": 285,
   "metadata": {},
   "outputs": [
    {
     "data": {
      "text/plain": [
       "List of 6\n",
       " $ nInserted  : int 2\n",
       " $ nMatched   : int 0\n",
       " $ nModified  : int 0\n",
       " $ nRemoved   : int 0\n",
       " $ nUpserted  : int 0\n",
       " $ writeErrors: list()"
      ]
     },
     "metadata": {},
     "output_type": "display_data"
    }
   ],
   "source": [
    "\n",
    "fun_dta <- c('{\"first_name\":\"Mr Bilbo\",\"last_name\": \"Baggins\",\"hobbies\":[\"find rings\",\n",
    "\"adventure\",\"magic\"]}','{\"first_name\":\"Golumn\",\"hobbies\":[\"steal rings\",\"bite people\",\n",
    "\"talk to myself\"]}')\n",
    "\n",
    "mng_conn$insert(fun_dta)"
   ]
  },
  {
   "cell_type": "markdown",
   "metadata": {},
   "source": [
    "# Check Out Current Data:"
   ]
  },
  {
   "cell_type": "code",
   "execution_count": 286,
   "metadata": {},
   "outputs": [
    {
     "data": {
      "text/html": [
       "<table>\n",
       "<caption>A data.frame: 2 × 3</caption>\n",
       "<thead>\n",
       "\t<tr><th></th><th scope=col>first_name</th><th scope=col>last_name</th><th scope=col>hobbies</th></tr>\n",
       "\t<tr><th></th><th scope=col>&lt;chr&gt;</th><th scope=col>&lt;chr&gt;</th><th scope=col>&lt;list&gt;</th></tr>\n",
       "</thead>\n",
       "<tbody>\n",
       "\t<tr><th scope=row>1</th><td>Mr Bilbo</td><td>Baggins</td><td>find rings, adventure , magic     </td></tr>\n",
       "\t<tr><th scope=row>2</th><td>Golumn  </td><td>NA     </td><td>steal rings   , bite people   , talk to myself</td></tr>\n",
       "</tbody>\n",
       "</table>\n"
      ],
      "text/latex": [
       "A data.frame: 2 × 3\n",
       "\\begin{tabular}{r|lll}\n",
       "  & first\\_name & last\\_name & hobbies\\\\\n",
       "  & <chr> & <chr> & <list>\\\\\n",
       "\\hline\n",
       "\t1 & Mr Bilbo & Baggins & find rings, adventure , magic     \\\\\n",
       "\t2 & Golumn   & NA      & steal rings   , bite people   , talk to myself\\\\\n",
       "\\end{tabular}\n"
      ],
      "text/markdown": [
       "\n",
       "A data.frame: 2 × 3\n",
       "\n",
       "| <!--/--> | first_name &lt;chr&gt; | last_name &lt;chr&gt; | hobbies &lt;list&gt; |\n",
       "|---|---|---|---|\n",
       "| 1 | Mr Bilbo | Baggins | find rings, adventure , magic      |\n",
       "| 2 | Golumn   | NA      | steal rings   , bite people   , talk to myself |\n",
       "\n"
      ],
      "text/plain": [
       "  first_name last_name hobbies                                       \n",
       "1 Mr Bilbo   Baggins   find rings, adventure , magic                 \n",
       "2 Golumn     NA        steal rings   , bite people   , talk to myself"
      ]
     },
     "metadata": {},
     "output_type": "display_data"
    }
   ],
   "source": [
    "\n",
    "mng_conn$find('{}')"
   ]
  },
  {
   "cell_type": "markdown",
   "metadata": {},
   "source": [
    "# `Update` 'Golumn' and add a Last Name:"
   ]
  },
  {
   "cell_type": "code",
   "execution_count": 287,
   "metadata": {},
   "outputs": [
    {
     "data": {
      "text/plain": [
       "List of 3\n",
       " $ modifiedCount: int 1\n",
       " $ matchedCount : int 1\n",
       " $ upsertedCount: int 0"
      ]
     },
     "metadata": {},
     "output_type": "display_data"
    }
   ],
   "source": [
    "mng_conn$update('{\"first_name\":\"Golumn\"}', \n",
    "                '{\"$set\":{\"last_name\": \"The Lonely\"}}',upsert=TRUE)\n",
    " "
   ]
  },
  {
   "cell_type": "code",
   "execution_count": 288,
   "metadata": {},
   "outputs": [
    {
     "data": {
      "text/html": [
       "<table>\n",
       "<caption>A data.frame: 2 × 3</caption>\n",
       "<thead>\n",
       "\t<tr><th></th><th scope=col>first_name</th><th scope=col>last_name</th><th scope=col>hobbies</th></tr>\n",
       "\t<tr><th></th><th scope=col>&lt;chr&gt;</th><th scope=col>&lt;chr&gt;</th><th scope=col>&lt;list&gt;</th></tr>\n",
       "</thead>\n",
       "<tbody>\n",
       "\t<tr><th scope=row>1</th><td>Mr Bilbo</td><td>Baggins   </td><td>find rings, adventure , magic     </td></tr>\n",
       "\t<tr><th scope=row>2</th><td>Golumn  </td><td>The Lonely</td><td>steal rings   , bite people   , talk to myself</td></tr>\n",
       "</tbody>\n",
       "</table>\n"
      ],
      "text/latex": [
       "A data.frame: 2 × 3\n",
       "\\begin{tabular}{r|lll}\n",
       "  & first\\_name & last\\_name & hobbies\\\\\n",
       "  & <chr> & <chr> & <list>\\\\\n",
       "\\hline\n",
       "\t1 & Mr Bilbo & Baggins    & find rings, adventure , magic     \\\\\n",
       "\t2 & Golumn   & The Lonely & steal rings   , bite people   , talk to myself\\\\\n",
       "\\end{tabular}\n"
      ],
      "text/markdown": [
       "\n",
       "A data.frame: 2 × 3\n",
       "\n",
       "| <!--/--> | first_name &lt;chr&gt; | last_name &lt;chr&gt; | hobbies &lt;list&gt; |\n",
       "|---|---|---|---|\n",
       "| 1 | Mr Bilbo | Baggins    | find rings, adventure , magic      |\n",
       "| 2 | Golumn   | The Lonely | steal rings   , bite people   , talk to myself |\n",
       "\n"
      ],
      "text/plain": [
       "  first_name last_name  hobbies                                       \n",
       "1 Mr Bilbo   Baggins    find rings, adventure , magic                 \n",
       "2 Golumn     The Lonely steal rings   , bite people   , talk to myself"
      ]
     },
     "metadata": {},
     "output_type": "display_data"
    }
   ],
   "source": [
    "mng_conn$find('{}')"
   ]
  },
  {
   "cell_type": "markdown",
   "metadata": {},
   "source": [
    "# Add Element to specific document array:\n",
    "\n",
    "+ `Cut and paste your unique OID Number!`\n",
    "\n",
    "`TO FIND USE QUERY DIRECTLY BELOW:`"
   ]
  },
  {
   "cell_type": "code",
   "execution_count": 289,
   "metadata": {},
   "outputs": [
    {
     "data": {
      "text/html": [
       "<table>\n",
       "<caption>A data.frame: 2 × 1</caption>\n",
       "<thead>\n",
       "\t<tr><th></th><th scope=col>_id</th></tr>\n",
       "\t<tr><th></th><th scope=col>&lt;chr&gt;</th></tr>\n",
       "</thead>\n",
       "<tbody>\n",
       "\t<tr><th scope=row>1</th><td>5f1cfe17cd0f397a012339ea</td></tr>\n",
       "\t<tr><th scope=row>2</th><td>5f1cfe17cd0f397a012339eb</td></tr>\n",
       "</tbody>\n",
       "</table>\n"
      ],
      "text/latex": [
       "A data.frame: 2 × 1\n",
       "\\begin{tabular}{r|l}\n",
       "  & \\_id\\\\\n",
       "  & <chr>\\\\\n",
       "\\hline\n",
       "\t1 & 5f1cfe17cd0f397a012339ea\\\\\n",
       "\t2 & 5f1cfe17cd0f397a012339eb\\\\\n",
       "\\end{tabular}\n"
      ],
      "text/markdown": [
       "\n",
       "A data.frame: 2 × 1\n",
       "\n",
       "| <!--/--> | _id &lt;chr&gt; |\n",
       "|---|---|\n",
       "| 1 | 5f1cfe17cd0f397a012339ea |\n",
       "| 2 | 5f1cfe17cd0f397a012339eb |\n",
       "\n"
      ],
      "text/plain": [
       "  _id                     \n",
       "1 5f1cfe17cd0f397a012339ea\n",
       "2 5f1cfe17cd0f397a012339eb"
      ]
     },
     "metadata": {},
     "output_type": "display_data"
    }
   ],
   "source": [
    "mng_conn$find('{}',fields='{\"_id\":1}')"
   ]
  },
  {
   "cell_type": "code",
   "execution_count": 290,
   "metadata": {},
   "outputs": [
    {
     "data": {
      "text/html": [
       "<table>\n",
       "<caption>A data.frame: 1 × 4</caption>\n",
       "<thead>\n",
       "\t<tr><th></th><th scope=col>_id</th><th scope=col>first_name</th><th scope=col>hobbies</th><th scope=col>last_name</th></tr>\n",
       "\t<tr><th></th><th scope=col>&lt;chr&gt;</th><th scope=col>&lt;chr&gt;</th><th scope=col>&lt;list&gt;</th><th scope=col>&lt;chr&gt;</th></tr>\n",
       "</thead>\n",
       "<tbody>\n",
       "\t<tr><th scope=row>1</th><td>5f1cfe17cd0f397a012339eb</td><td>Golumn</td><td>steal rings   , bite people   , talk to myself, Eat Fish      </td><td>The Lonely</td></tr>\n",
       "</tbody>\n",
       "</table>\n"
      ],
      "text/latex": [
       "A data.frame: 1 × 4\n",
       "\\begin{tabular}{r|llll}\n",
       "  & \\_id & first\\_name & hobbies & last\\_name\\\\\n",
       "  & <chr> & <chr> & <list> & <chr>\\\\\n",
       "\\hline\n",
       "\t1 & 5f1cfe17cd0f397a012339eb & Golumn & steal rings   , bite people   , talk to myself, Eat Fish       & The Lonely\\\\\n",
       "\\end{tabular}\n"
      ],
      "text/markdown": [
       "\n",
       "A data.frame: 1 × 4\n",
       "\n",
       "| <!--/--> | _id &lt;chr&gt; | first_name &lt;chr&gt; | hobbies &lt;list&gt; | last_name &lt;chr&gt; |\n",
       "|---|---|---|---|---|\n",
       "| 1 | 5f1cfe17cd0f397a012339eb | Golumn | steal rings   , bite people   , talk to myself, Eat Fish       | The Lonely |\n",
       "\n"
      ],
      "text/plain": [
       "  _id                      first_name\n",
       "1 5f1cfe17cd0f397a012339eb Golumn    \n",
       "  hobbies                                                        last_name \n",
       "1 steal rings   , bite people   , talk to myself, Eat Fish       The Lonely"
      ]
     },
     "metadata": {},
     "output_type": "display_data"
    },
    {
     "data": {
      "text/html": [
       "<table>\n",
       "<caption>A data.frame: 2 × 3</caption>\n",
       "<thead>\n",
       "\t<tr><th></th><th scope=col>first_name</th><th scope=col>last_name</th><th scope=col>hobbies</th></tr>\n",
       "\t<tr><th></th><th scope=col>&lt;chr&gt;</th><th scope=col>&lt;chr&gt;</th><th scope=col>&lt;list&gt;</th></tr>\n",
       "</thead>\n",
       "<tbody>\n",
       "\t<tr><th scope=row>1</th><td>Mr Bilbo</td><td>Baggins   </td><td>find rings, adventure , magic     </td></tr>\n",
       "\t<tr><th scope=row>2</th><td>Golumn  </td><td>The Lonely</td><td>steal rings   , bite people   , talk to myself</td></tr>\n",
       "</tbody>\n",
       "</table>\n"
      ],
      "text/latex": [
       "A data.frame: 2 × 3\n",
       "\\begin{tabular}{r|lll}\n",
       "  & first\\_name & last\\_name & hobbies\\\\\n",
       "  & <chr> & <chr> & <list>\\\\\n",
       "\\hline\n",
       "\t1 & Mr Bilbo & Baggins    & find rings, adventure , magic     \\\\\n",
       "\t2 & Golumn   & The Lonely & steal rings   , bite people   , talk to myself\\\\\n",
       "\\end{tabular}\n"
      ],
      "text/markdown": [
       "\n",
       "A data.frame: 2 × 3\n",
       "\n",
       "| <!--/--> | first_name &lt;chr&gt; | last_name &lt;chr&gt; | hobbies &lt;list&gt; |\n",
       "|---|---|---|---|\n",
       "| 1 | Mr Bilbo | Baggins    | find rings, adventure , magic      |\n",
       "| 2 | Golumn   | The Lonely | steal rings   , bite people   , talk to myself |\n",
       "\n"
      ],
      "text/plain": [
       "  first_name last_name  hobbies                                       \n",
       "1 Mr Bilbo   Baggins    find rings, adventure , magic                 \n",
       "2 Golumn     The Lonely steal rings   , bite people   , talk to myself"
      ]
     },
     "metadata": {},
     "output_type": "display_data"
    }
   ],
   "source": [
    "mng_conn$aggregate('[{\"$match\":{\"_id\":{\"$oid\":\"5f1cfe17cd0f397a012339eb\"}}},\n",
    "{\"$addFields\":{\"hobbies\":{\"$concatArrays\":[\"$hobbies\",[\"Eat Fish\"]]}}}]')\n",
    "\n",
    "mng_conn$find('{}')\n"
   ]
  },
  {
   "cell_type": "markdown",
   "metadata": {},
   "source": [
    "# Add Element to List:\n",
    "\n",
    "+ Calling specific Document I want to update and add element to"
   ]
  },
  {
   "cell_type": "code",
   "execution_count": 291,
   "metadata": {},
   "outputs": [
    {
     "data": {
      "text/plain": [
       "List of 3\n",
       " $ modifiedCount: int 1\n",
       " $ matchedCount : int 1\n",
       " $ upsertedCount: int 0"
      ]
     },
     "metadata": {},
     "output_type": "display_data"
    }
   ],
   "source": [
    "\n",
    "mng_conn$update('{\"_id\":{\"$oid\":\"5f1cfe17cd0f397a012339eb\"}}',\n",
    "'{\"$push\":{\"hobbies\":\"Eat Fish\"}}',upsert=TRUE)"
   ]
  },
  {
   "cell_type": "code",
   "execution_count": 292,
   "metadata": {},
   "outputs": [
    {
     "data": {
      "text/html": [
       "<table>\n",
       "<caption>A data.frame: 2 × 3</caption>\n",
       "<thead>\n",
       "\t<tr><th></th><th scope=col>first_name</th><th scope=col>last_name</th><th scope=col>hobbies</th></tr>\n",
       "\t<tr><th></th><th scope=col>&lt;chr&gt;</th><th scope=col>&lt;chr&gt;</th><th scope=col>&lt;list&gt;</th></tr>\n",
       "</thead>\n",
       "<tbody>\n",
       "\t<tr><th scope=row>1</th><td>Mr Bilbo</td><td>Baggins   </td><td>find rings, adventure , magic     </td></tr>\n",
       "\t<tr><th scope=row>2</th><td>Golumn  </td><td>The Lonely</td><td>steal rings   , bite people   , talk to myself, Eat Fish      </td></tr>\n",
       "</tbody>\n",
       "</table>\n"
      ],
      "text/latex": [
       "A data.frame: 2 × 3\n",
       "\\begin{tabular}{r|lll}\n",
       "  & first\\_name & last\\_name & hobbies\\\\\n",
       "  & <chr> & <chr> & <list>\\\\\n",
       "\\hline\n",
       "\t1 & Mr Bilbo & Baggins    & find rings, adventure , magic     \\\\\n",
       "\t2 & Golumn   & The Lonely & steal rings   , bite people   , talk to myself, Eat Fish      \\\\\n",
       "\\end{tabular}\n"
      ],
      "text/markdown": [
       "\n",
       "A data.frame: 2 × 3\n",
       "\n",
       "| <!--/--> | first_name &lt;chr&gt; | last_name &lt;chr&gt; | hobbies &lt;list&gt; |\n",
       "|---|---|---|---|\n",
       "| 1 | Mr Bilbo | Baggins    | find rings, adventure , magic      |\n",
       "| 2 | Golumn   | The Lonely | steal rings   , bite people   , talk to myself, Eat Fish       |\n",
       "\n"
      ],
      "text/plain": [
       "  first_name last_name \n",
       "1 Mr Bilbo   Baggins   \n",
       "2 Golumn     The Lonely\n",
       "  hobbies                                                       \n",
       "1 find rings, adventure , magic                                 \n",
       "2 steal rings   , bite people   , talk to myself, Eat Fish      "
      ]
     },
     "metadata": {},
     "output_type": "display_data"
    }
   ],
   "source": [
    "mng_conn$find('{}')"
   ]
  },
  {
   "cell_type": "markdown",
   "metadata": {},
   "source": [
    "# Sorting:\n",
    "\n",
    "+ Unless you specify, the result will not show order of fields ['think columns'] \n",
    "\n",
    "+ There is a memory size limit, around 32 megabytes, large dataset will not be sorted\n",
    "    + to get around this create an index\n",
    "    "
   ]
  },
  {
   "cell_type": "code",
   "execution_count": 293,
   "metadata": {},
   "outputs": [
    {
     "data": {
      "text/html": [
       "<table>\n",
       "<caption>A data.frame: 2 × 3</caption>\n",
       "<thead>\n",
       "\t<tr><th></th><th scope=col>first_name</th><th scope=col>hobbies</th><th scope=col>last_name</th></tr>\n",
       "\t<tr><th></th><th scope=col>&lt;chr&gt;</th><th scope=col>&lt;list&gt;</th><th scope=col>&lt;chr&gt;</th></tr>\n",
       "</thead>\n",
       "<tbody>\n",
       "\t<tr><th scope=row>1</th><td>Golumn  </td><td>steal rings   , bite people   , talk to myself, Eat Fish      </td><td>The Lonely</td></tr>\n",
       "\t<tr><th scope=row>2</th><td>Mr Bilbo</td><td>find rings, adventure , magic     </td><td>Baggins   </td></tr>\n",
       "</tbody>\n",
       "</table>\n"
      ],
      "text/latex": [
       "A data.frame: 2 × 3\n",
       "\\begin{tabular}{r|lll}\n",
       "  & first\\_name & hobbies & last\\_name\\\\\n",
       "  & <chr> & <list> & <chr>\\\\\n",
       "\\hline\n",
       "\t1 & Golumn   & steal rings   , bite people   , talk to myself, Eat Fish       & The Lonely\\\\\n",
       "\t2 & Mr Bilbo & find rings, adventure , magic      & Baggins   \\\\\n",
       "\\end{tabular}\n"
      ],
      "text/markdown": [
       "\n",
       "A data.frame: 2 × 3\n",
       "\n",
       "| <!--/--> | first_name &lt;chr&gt; | hobbies &lt;list&gt; | last_name &lt;chr&gt; |\n",
       "|---|---|---|---|\n",
       "| 1 | Golumn   | steal rings   , bite people   , talk to myself, Eat Fish       | The Lonely |\n",
       "| 2 | Mr Bilbo | find rings, adventure , magic      | Baggins    |\n",
       "\n"
      ],
      "text/plain": [
       "  first_name hobbies                                                       \n",
       "1 Golumn     steal rings   , bite people   , talk to myself, Eat Fish      \n",
       "2 Mr Bilbo   find rings, adventure , magic                                 \n",
       "  last_name \n",
       "1 The Lonely\n",
       "2 Baggins   "
      ]
     },
     "metadata": {},
     "output_type": "display_data"
    }
   ],
   "source": [
    "mng_conn$find(sort='{\"first_name\":1,\"latst_name\":1}')\n"
   ]
  },
  {
   "cell_type": "markdown",
   "metadata": {},
   "source": [
    "# Select by ID:\n"
   ]
  },
  {
   "cell_type": "code",
   "execution_count": 295,
   "metadata": {},
   "outputs": [
    {
     "data": {
      "text/html": [
       "<table>\n",
       "<caption>A data.frame: 1 × 3</caption>\n",
       "<thead>\n",
       "\t<tr><th></th><th scope=col>first_name</th><th scope=col>hobbies</th><th scope=col>last_name</th></tr>\n",
       "\t<tr><th></th><th scope=col>&lt;chr&gt;</th><th scope=col>&lt;list&gt;</th><th scope=col>&lt;chr&gt;</th></tr>\n",
       "</thead>\n",
       "<tbody>\n",
       "\t<tr><th scope=row>1</th><td>Golumn</td><td>steal rings   , bite people   , talk to myself, Eat Fish      </td><td>The Lonely</td></tr>\n",
       "</tbody>\n",
       "</table>\n"
      ],
      "text/latex": [
       "A data.frame: 1 × 3\n",
       "\\begin{tabular}{r|lll}\n",
       "  & first\\_name & hobbies & last\\_name\\\\\n",
       "  & <chr> & <list> & <chr>\\\\\n",
       "\\hline\n",
       "\t1 & Golumn & steal rings   , bite people   , talk to myself, Eat Fish       & The Lonely\\\\\n",
       "\\end{tabular}\n"
      ],
      "text/markdown": [
       "\n",
       "A data.frame: 1 × 3\n",
       "\n",
       "| <!--/--> | first_name &lt;chr&gt; | hobbies &lt;list&gt; | last_name &lt;chr&gt; |\n",
       "|---|---|---|---|\n",
       "| 1 | Golumn | steal rings   , bite people   , talk to myself, Eat Fish       | The Lonely |\n",
       "\n"
      ],
      "text/plain": [
       "  first_name hobbies                                                       \n",
       "1 Golumn     steal rings   , bite people   , talk to myself, Eat Fish      \n",
       "  last_name \n",
       "1 The Lonely"
      ]
     },
     "metadata": {},
     "output_type": "display_data"
    }
   ],
   "source": [
    "mng_conn$find('{\"_id\":{\"$oid\":\"5f1cfe17cd0f397a012339eb\"}}')"
   ]
  },
  {
   "cell_type": "markdown",
   "metadata": {},
   "source": [
    "# Download files:"
   ]
  },
  {
   "cell_type": "code",
   "execution_count": 259,
   "metadata": {},
   "outputs": [],
   "source": [
    "# file_toSave<-mng_conn$find()\n",
    "\n",
    "# create directory, within our CWD to store output file\n",
    "dir.create('output_files_practice')\n",
    "\n",
    "# send file to our directory:\n",
    "mng_conn$export(file(\"output_files_practice/hobbits.json\"))\n"
   ]
  },
  {
   "cell_type": "markdown",
   "metadata": {},
   "source": [
    "# Delete:\n",
    " \n",
    " + We can drop a single record: `mng_conn$remove('what_toRemove',just_one=TRUE)`\n",
    " \n",
    " + All records in a collection but Not the collection itself: `mng_conn$remove('{}')`\n",
    " \n",
    " + Remove Collection: `mng_conn$drop()`"
   ]
  },
  {
   "cell_type": "code",
   "execution_count": 261,
   "metadata": {},
   "outputs": [],
   "source": [
    "mng_conn$remove('{\"_id\":{\"$oid\":\"5f1cbbf5cd0f397a012339e7\"}}')"
   ]
  },
  {
   "cell_type": "code",
   "execution_count": 282,
   "metadata": {},
   "outputs": [
    {
     "data": {
      "text/html": [
       "<table>\n",
       "<caption>A data.frame: 3 × 3</caption>\n",
       "<thead>\n",
       "\t<tr><th></th><th scope=col>first_name</th><th scope=col>last_name</th><th scope=col>hobbies</th></tr>\n",
       "\t<tr><th></th><th scope=col>&lt;chr&gt;</th><th scope=col>&lt;chr&gt;</th><th scope=col>&lt;list&gt;</th></tr>\n",
       "</thead>\n",
       "<tbody>\n",
       "\t<tr><th scope=row>1</th><td>Mr Bilbo</td><td>Baggins   </td><td>find rings, adventure , magic     </td></tr>\n",
       "\t<tr><th scope=row>2</th><td>Golumn  </td><td>The Lonely</td><td>steal rings   , bite people   , talk to myself</td></tr>\n",
       "\t<tr><th scope=row>3</th><td>NA      </td><td>NA        </td><td>Eat Fish</td></tr>\n",
       "</tbody>\n",
       "</table>\n"
      ],
      "text/latex": [
       "A data.frame: 3 × 3\n",
       "\\begin{tabular}{r|lll}\n",
       "  & first\\_name & last\\_name & hobbies\\\\\n",
       "  & <chr> & <chr> & <list>\\\\\n",
       "\\hline\n",
       "\t1 & Mr Bilbo & Baggins    & find rings, adventure , magic     \\\\\n",
       "\t2 & Golumn   & The Lonely & steal rings   , bite people   , talk to myself\\\\\n",
       "\t3 & NA       & NA         & Eat Fish\\\\\n",
       "\\end{tabular}\n"
      ],
      "text/markdown": [
       "\n",
       "A data.frame: 3 × 3\n",
       "\n",
       "| <!--/--> | first_name &lt;chr&gt; | last_name &lt;chr&gt; | hobbies &lt;list&gt; |\n",
       "|---|---|---|---|\n",
       "| 1 | Mr Bilbo | Baggins    | find rings, adventure , magic      |\n",
       "| 2 | Golumn   | The Lonely | steal rings   , bite people   , talk to myself |\n",
       "| 3 | NA       | NA         | Eat Fish |\n",
       "\n"
      ],
      "text/plain": [
       "  first_name last_name  hobbies                                       \n",
       "1 Mr Bilbo   Baggins    find rings, adventure , magic                 \n",
       "2 Golumn     The Lonely steal rings   , bite people   , talk to myself\n",
       "3 NA         NA         Eat Fish                                      "
      ]
     },
     "metadata": {},
     "output_type": "display_data"
    }
   ],
   "source": [
    "mng_conn$find('{}')"
   ]
  },
  {
   "cell_type": "code",
   "execution_count": 283,
   "metadata": {},
   "outputs": [],
   "source": [
    "#Drop All Records But NOT collection\n",
    "mng_conn$remove('{}')"
   ]
  },
  {
   "cell_type": "code",
   "execution_count": 284,
   "metadata": {},
   "outputs": [
    {
     "data": {
      "text/html": [],
      "text/latex": [],
      "text/markdown": [],
      "text/plain": [
       "<0 x 0 matrix>"
      ]
     },
     "metadata": {},
     "output_type": "display_data"
    }
   ],
   "source": [
    "mng_conn$find('{}')"
   ]
  },
  {
   "cell_type": "code",
   "execution_count": 267,
   "metadata": {},
   "outputs": [],
   "source": [
    "# Drop Collection:\n",
    "mng_conn$drop()"
   ]
  },
  {
   "cell_type": "code",
   "execution_count": 268,
   "metadata": {},
   "outputs": [
    {
     "data": {
      "text/html": [],
      "text/latex": [],
      "text/markdown": [],
      "text/plain": [
       "<0 x 0 matrix>"
      ]
     },
     "metadata": {},
     "output_type": "display_data"
    }
   ],
   "source": [
    "mng_conn$find('{}')"
   ]
  },
  {
   "cell_type": "markdown",
   "metadata": {},
   "source": [
    "# `Shell Commands`:\n",
    "\n",
    "`------------------------`\n",
    "\n",
    "**Show Databases**: `show dbs`\n",
    "\n",
    "**Check What Database You're Currently In**: `db`\n",
    "\n",
    "**Enter/Use a Database**: `use dbnamehere`\n",
    "+ If this database is not currently used, it will be created otherwise it will just connect\n",
    "\n",
    "**Show Collections**: `show collections`\n",
    "\n",
    "**If your Collection Name has a Weird Name like spaces or hypens**: `db.getCollection(\" your weird name\").find()`\n",
    "\n",
    "**Switch Database without Leaving Current Database**: `db.getSiblingDB('fromCurrentDB')`\n",
    "+ This is particularly useful when writing a script and you cannot access a database using the `use db` method.\n",
    "\n",
    "**Exit MongoDB**: `quit()`\n",
    "\n",
    "**Help**: `db.help`\n",
    "+ This will show all of the functions/methods available to you"
   ]
  },
  {
   "cell_type": "markdown",
   "metadata": {},
   "source": [
    "`---------------------------`\n",
    "\n",
    "# <font color=red>Like</font>, Share &\n",
    "\n",
    "# <font color=red>SUB</font>scribe\n",
    "\n",
    "# TURN ON  Notification 🔔 \n",
    "`---------------------------`"
   ]
  },
  {
   "cell_type": "markdown",
   "metadata": {},
   "source": [
    "# Citations & Help:\n",
    "\n",
    "# ◔̯◔\n",
    "\n",
    "https://jeroen.github.io/mongolite/import-export.html\n",
    "\n",
    "https://jeroen.github.io/mongolite/gridfs.html#vectorized-uploaddownload\n",
    "\n",
    "https://docs.mongodb.com/manual/mongo/ (shell commands)\n",
    "\n",
    "https://docs.mongodb.com/manual/reference/method/db.getSiblingDB/#db.getSiblingDB\n",
    "\n",
    "https://jeroen.github.io/mongolite/manipulate-data.html\n",
    "\n",
    "https://docs.mongodb.com/manual/reference/operator/aggregation/addFields/\n",
    "\n",
    "https://kb.objectrocket.com/mongo-db/add-new-field-in-mongodb-document-array-582#:~:text=So%2C%20Adding%20a%20new%20field,use%20%24each%20inside%20%24push\n",
    "\n",
    "https://jeroen.github.io/mongolite/import-export.html\n",
    "\n",
    "https://medium.com/@paulrohan/aggregation-in-mongodb-8195c8624337"
   ]
  }
 ],
 "metadata": {
  "kernelspec": {
   "display_name": "R",
   "language": "R",
   "name": "ir"
  },
  "language_info": {
   "codemirror_mode": "r",
   "file_extension": ".r",
   "mimetype": "text/x-r-source",
   "name": "R",
   "pygments_lexer": "r",
   "version": "4.0.0"
  }
 },
 "nbformat": 4,
 "nbformat_minor": 4
}
